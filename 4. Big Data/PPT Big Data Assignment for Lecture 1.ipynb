{
 "cells": [
  {
   "cell_type": "markdown",
   "id": "fa3fa567",
   "metadata": {},
   "source": [
    "![image](https://user-images.githubusercontent.com/57321948/196933065-4b16c235-f3b9-4391-9cfe-4affcec87c35.png)\n",
    "\n",
    "# Submitted by: Mohammad Wasiq\n",
    "\n",
    "## Email: `gl0427@myamu.ac.in`\n",
    "\n",
    "# Pre-Placement Training Assignment - `Big Data` \n",
    "\n",
    "## `Python`"
   ]
  },
  {
   "cell_type": "markdown",
   "id": "0fef4477",
   "metadata": {},
   "source": [
    "**Q1. Write a Python program to check if a given string is an anagram.**\n",
    "**Ans :** "
   ]
  },
  {
   "cell_type": "code",
   "execution_count": 1,
   "id": "ee3ca545",
   "metadata": {
    "ExecuteTime": {
     "end_time": "2023-07-16T09:03:05.185104Z",
     "start_time": "2023-07-16T09:02:54.625338Z"
    }
   },
   "outputs": [
    {
     "name": "stdout",
     "output_type": "stream",
     "text": [
      "Enter the first string: Wasiq\n",
      "Enter the second string: Zainul\n",
      "The strings are not anagrams.\n"
     ]
    }
   ],
   "source": [
    "def is_anagram(str1, str2):\n",
    "    # Remove spaces and convert strings to lowercase\n",
    "    str1 = str1.replace(\" \", \"\").lower()\n",
    "    str2 = str2.replace(\" \", \"\").lower()\n",
    "\n",
    "    # Check if the lengths of the strings are equal\n",
    "    if len(str1) != len(str2):\n",
    "        return False\n",
    "\n",
    "    # Convert strings to lists and sort them\n",
    "    str1_list = sorted(list(str1))\n",
    "    str2_list = sorted(list(str2))\n",
    "\n",
    "    # Check if the sorted lists are equal\n",
    "    if str1_list == str2_list:\n",
    "        return True\n",
    "    else:\n",
    "        return False\n",
    "\n",
    "# Test the function\n",
    "string1 = input(\"Enter the first string: \")\n",
    "string2 = input(\"Enter the second string: \")\n",
    "\n",
    "if is_anagram(string1, string2):\n",
    "    print(\"The strings are anagrams.\")\n",
    "else:\n",
    "    print(\"The strings are not anagrams.\")"
   ]
  },
  {
   "cell_type": "markdown",
   "id": "c6f4040a",
   "metadata": {},
   "source": [
    "**Q2. Write a Python program to find the maximum and minimum values in a\n",
    "dictionary.**\n",
    "\n",
    "**Ans :**"
   ]
  },
  {
   "cell_type": "code",
   "execution_count": 2,
   "id": "1c17db67",
   "metadata": {
    "ExecuteTime": {
     "end_time": "2023-07-16T09:04:11.311308Z",
     "start_time": "2023-07-16T09:04:11.299338Z"
    }
   },
   "outputs": [
    {
     "name": "stdout",
     "output_type": "stream",
     "text": [
      "Maximum value: 20\n",
      "Minimum value: 5\n"
     ]
    }
   ],
   "source": [
    "def find_max_min_values(dictionary):\n",
    "    # Check if the dictionary is empty\n",
    "    if len(dictionary) == 0:\n",
    "        return None, None\n",
    "\n",
    "    # Find the maximum and minimum values in the dictionary\n",
    "    max_value = max(dictionary.values())\n",
    "    min_value = min(dictionary.values())\n",
    "\n",
    "    return max_value, min_value\n",
    "\n",
    "# Test the function\n",
    "my_dict = {'a': 10, 'b': 5, 'c': 20, 'd': 15}\n",
    "\n",
    "max_value, min_value = find_max_min_values(my_dict)\n",
    "\n",
    "print(\"Maximum value:\", max_value)\n",
    "print(\"Minimum value:\", min_value)"
   ]
  },
  {
   "cell_type": "markdown",
   "id": "cc1a870c",
   "metadata": {},
   "source": [
    "**Q3. Write a Python program to find the average of a list of numbers**\n",
    "\n",
    "**Ans :** "
   ]
  },
  {
   "cell_type": "code",
   "execution_count": 3,
   "id": "ba7c51c4",
   "metadata": {
    "ExecuteTime": {
     "end_time": "2023-07-16T09:05:19.473513Z",
     "start_time": "2023-07-16T09:05:19.462544Z"
    }
   },
   "outputs": [
    {
     "name": "stdout",
     "output_type": "stream",
     "text": [
      "Average: 3.0\n"
     ]
    }
   ],
   "source": [
    "def find_average(numbers):\n",
    "    # Check if the list is empty\n",
    "    if len(numbers) == 0:\n",
    "        return None\n",
    "\n",
    "    # Calculate the average\n",
    "    total = sum(numbers)\n",
    "    average = total / len(numbers)\n",
    "\n",
    "    return average\n",
    "\n",
    "# Test the function\n",
    "my_list = [1, 2, 3, 4, 5]\n",
    "\n",
    "average = find_average(my_list)\n",
    "\n",
    "print(\"Average:\", average)"
   ]
  },
  {
   "cell_type": "markdown",
   "id": "02b3c429",
   "metadata": {},
   "source": [
    "**Q4. Write a Python program to remove all vowels from a string.**\n",
    "\n",
    "**Ans :** "
   ]
  },
  {
   "cell_type": "code",
   "execution_count": 4,
   "id": "4ef56e62",
   "metadata": {
    "ExecuteTime": {
     "end_time": "2023-07-16T09:06:15.237910Z",
     "start_time": "2023-07-16T09:06:15.223946Z"
    }
   },
   "outputs": [
    {
     "name": "stdout",
     "output_type": "stream",
     "text": [
      "Original string: Hello World\n",
      "String with vowels removed: Hll Wrld\n"
     ]
    }
   ],
   "source": [
    "def remove_vowels(string):\n",
    "    vowels = 'aeiouAEIOU'\n",
    "    # Create a new string with the vowels removed\n",
    "    new_string = ''.join(char for char in string if char not in vowels)\n",
    "    return new_string\n",
    "\n",
    "# Test the function\n",
    "my_string = \"Hello World\"\n",
    "\n",
    "result = remove_vowels(my_string)\n",
    "\n",
    "print(\"Original string:\", my_string)\n",
    "print(\"String with vowels removed:\", result)"
   ]
  },
  {
   "cell_type": "markdown",
   "id": "b39242f8",
   "metadata": {},
   "source": [
    "**Q5. Write a Python function to calculate the factorial of a number using recursion.**\n",
    "\n",
    "**Ans :** "
   ]
  },
  {
   "cell_type": "code",
   "execution_count": 5,
   "id": "6867ae21",
   "metadata": {
    "ExecuteTime": {
     "end_time": "2023-07-16T09:07:03.954662Z",
     "start_time": "2023-07-16T09:07:03.932722Z"
    }
   },
   "outputs": [
    {
     "name": "stdout",
     "output_type": "stream",
     "text": [
      "Factorial of 5 is 120\n"
     ]
    }
   ],
   "source": [
    "def factorial(n):\n",
    "    # Base case: factorial of 0 is 1\n",
    "    if n == 0:\n",
    "        return 1\n",
    "    # Recursive case: factorial of n is n multiplied by factorial of (n-1)\n",
    "    else:\n",
    "        return n * factorial(n-1)\n",
    "\n",
    "# Test the function\n",
    "num = 5\n",
    "result = factorial(num)\n",
    "print(\"Factorial of\", num, \"is\", result)"
   ]
  },
  {
   "cell_type": "markdown",
   "id": "b45b8090",
   "metadata": {},
   "source": [
    "**Q6. Write a Python program to merge two unsorted lists into a single sorted list using the merge sort algorithm.**\n",
    "\n",
    "**Ans :**"
   ]
  },
  {
   "cell_type": "code",
   "execution_count": 6,
   "id": "8082dbb8",
   "metadata": {
    "ExecuteTime": {
     "end_time": "2023-07-16T09:07:46.720323Z",
     "start_time": "2023-07-16T09:07:46.697387Z"
    }
   },
   "outputs": [
    {
     "name": "stdout",
     "output_type": "stream",
     "text": [
      "Merged and sorted list: [0, 1, 2, 3, 4, 5, 6, 7, 8, 9]\n"
     ]
    }
   ],
   "source": [
    "def merge_sort(arr):\n",
    "    if len(arr) <= 1:\n",
    "        return arr\n",
    "\n",
    "    # Split the list into two halves\n",
    "    mid = len(arr) // 2\n",
    "    left_half = arr[:mid]\n",
    "    right_half = arr[mid:]\n",
    "\n",
    "    # Recursively sort the two halves\n",
    "    left_sorted = merge_sort(left_half)\n",
    "    right_sorted = merge_sort(right_half)\n",
    "\n",
    "    # Merge the sorted halves\n",
    "    return merge(left_sorted, right_sorted)\n",
    "\n",
    "\n",
    "def merge(left, right):\n",
    "    merged = []\n",
    "    left_index = 0\n",
    "    right_index = 0\n",
    "\n",
    "    # Compare elements from both lists and append to the merged list\n",
    "    while left_index < len(left) and right_index < len(right):\n",
    "        if left[left_index] <= right[right_index]:\n",
    "            merged.append(left[left_index])\n",
    "            left_index += 1\n",
    "        else:\n",
    "            merged.append(right[right_index])\n",
    "            right_index += 1\n",
    "\n",
    "    # Append remaining elements from the left list, if any\n",
    "    while left_index < len(left):\n",
    "        merged.append(left[left_index])\n",
    "        left_index += 1\n",
    "\n",
    "    # Append remaining elements from the right list, if any\n",
    "    while right_index < len(right):\n",
    "        merged.append(right[right_index])\n",
    "        right_index += 1\n",
    "\n",
    "    return merged\n",
    "\n",
    "\n",
    "# Test the program\n",
    "list1 = [7, 2, 5, 1, 9]\n",
    "list2 = [3, 6, 4, 8, 0]\n",
    "\n",
    "merged_list = merge_sort(list1 + list2)\n",
    "print(\"Merged and sorted list:\", merged_list)"
   ]
  },
  {
   "cell_type": "markdown",
   "id": "e21b659f",
   "metadata": {},
   "source": [
    "**Q7. Write a Python program to find the GCD (Greatest Common Divisor) of two numbers.**\n",
    "\n",
    "**Ans :**"
   ]
  },
  {
   "cell_type": "code",
   "execution_count": 7,
   "id": "9d3ee70b",
   "metadata": {
    "ExecuteTime": {
     "end_time": "2023-07-16T09:08:20.798127Z",
     "start_time": "2023-07-16T09:08:20.778181Z"
    }
   },
   "outputs": [
    {
     "name": "stdout",
     "output_type": "stream",
     "text": [
      "GCD of 48 and 60 is: 12\n"
     ]
    }
   ],
   "source": [
    "import math\n",
    "\n",
    "def find_gcd(a, b):\n",
    "    return math.gcd(a, b)\n",
    "\n",
    "# Test the program\n",
    "num1 = 48\n",
    "num2 = 60\n",
    "\n",
    "gcd = find_gcd(num1, num2)\n",
    "print(\"GCD of\", num1, \"and\", num2, \"is:\", gcd)"
   ]
  },
  {
   "cell_type": "markdown",
   "id": "afa38979",
   "metadata": {},
   "source": [
    "**Q8. Write a Python program to find the second-largest element in a list.**\n",
    "\n",
    "**Ans :** "
   ]
  },
  {
   "cell_type": "code",
   "execution_count": 8,
   "id": "dd0ae72b",
   "metadata": {
    "ExecuteTime": {
     "end_time": "2023-07-16T09:09:21.511800Z",
     "start_time": "2023-07-16T09:09:21.494846Z"
    }
   },
   "outputs": [
    {
     "name": "stdout",
     "output_type": "stream",
     "text": [
      "The second-largest element is: 20\n"
     ]
    }
   ],
   "source": [
    "def find_second_largest(numbers):\n",
    "    largest = float('-inf')\n",
    "    second_largest = float('-inf')\n",
    "\n",
    "    for num in numbers:\n",
    "        if num > largest:\n",
    "            second_largest = largest\n",
    "            largest = num\n",
    "        elif num > second_largest:\n",
    "            second_largest = num\n",
    "\n",
    "    return second_largest\n",
    "\n",
    "# Test the program\n",
    "num_list = [10, 5, 8, 20, 15, 12, 25, 18]\n",
    "second_largest = find_second_largest(num_list)\n",
    "print(\"The second-largest element is:\", second_largest)"
   ]
  },
  {
   "cell_type": "markdown",
   "id": "026fbb41",
   "metadata": {},
   "source": [
    "**Q9. Write a Python program to find the longest common subsequence between two strings using dynamic programming.**\n",
    "\n",
    "**Ans :**"
   ]
  },
  {
   "cell_type": "code",
   "execution_count": 9,
   "id": "6dc404dd",
   "metadata": {
    "ExecuteTime": {
     "end_time": "2023-07-16T09:09:33.877739Z",
     "start_time": "2023-07-16T09:09:33.854800Z"
    }
   },
   "outputs": [
    {
     "name": "stdout",
     "output_type": "stream",
     "text": [
      "Longest Common Subsequence: ADH\n"
     ]
    }
   ],
   "source": [
    "def longest_common_subsequence(str1, str2):\n",
    "    m = len(str1)\n",
    "    n = len(str2)\n",
    "\n",
    "    # Create a table to store the lengths of LCS\n",
    "    lcs_table = [[0] * (n + 1) for _ in range(m + 1)]\n",
    "\n",
    "    # Fill the table in a bottom-up manner\n",
    "    for i in range(1, m + 1):\n",
    "        for j in range(1, n + 1):\n",
    "            if str1[i - 1] == str2[j - 1]:\n",
    "                lcs_table[i][j] = lcs_table[i - 1][j - 1] + 1\n",
    "            else:\n",
    "                lcs_table[i][j] = max(lcs_table[i - 1][j], lcs_table[i][j - 1])\n",
    "\n",
    "    # Retrieve the LCS by backtracking the table\n",
    "    lcs = \"\"\n",
    "    i = m\n",
    "    j = n\n",
    "    while i > 0 and j > 0:\n",
    "        if str1[i - 1] == str2[j - 1]:\n",
    "            lcs = str1[i - 1] + lcs\n",
    "            i -= 1\n",
    "            j -= 1\n",
    "        elif lcs_table[i - 1][j] > lcs_table[i][j - 1]:\n",
    "            i -= 1\n",
    "        else:\n",
    "            j -= 1\n",
    "\n",
    "    return lcs\n",
    "\n",
    "# Test the program\n",
    "string1 = \"ABCDGH\"\n",
    "string2 = \"AEDFHR\"\n",
    "lcs = longest_common_subsequence(string1, string2)\n",
    "print(\"Longest Common Subsequence:\", lcs)"
   ]
  }
 ],
 "metadata": {
  "kernelspec": {
   "display_name": "Python 3 (ipykernel)",
   "language": "python",
   "name": "python3"
  },
  "language_info": {
   "codemirror_mode": {
    "name": "ipython",
    "version": 3
   },
   "file_extension": ".py",
   "mimetype": "text/x-python",
   "name": "python",
   "nbconvert_exporter": "python",
   "pygments_lexer": "ipython3",
   "version": "3.9.12"
  },
  "latex_envs": {
   "LaTeX_envs_menu_present": true,
   "autoclose": false,
   "autocomplete": true,
   "bibliofile": "biblio.bib",
   "cite_by": "apalike",
   "current_citInitial": 1,
   "eqLabelWithNumbers": true,
   "eqNumInitial": 1,
   "hotkeys": {
    "equation": "Ctrl-E",
    "itemize": "Ctrl-I"
   },
   "labels_anchors": false,
   "latex_user_defs": false,
   "report_style_numbering": false,
   "user_envs_cfg": false
  },
  "nbTranslate": {
   "displayLangs": [
    "*"
   ],
   "hotkey": "alt-t",
   "langInMainMenu": true,
   "sourceLang": "en",
   "targetLang": "fr",
   "useGoogleTranslate": true
  },
  "toc": {
   "base_numbering": 1,
   "nav_menu": {},
   "number_sections": true,
   "sideBar": true,
   "skip_h1_title": false,
   "title_cell": "Table of Contents",
   "title_sidebar": "Contents",
   "toc_cell": false,
   "toc_position": {},
   "toc_section_display": true,
   "toc_window_display": false
  },
  "varInspector": {
   "cols": {
    "lenName": 16,
    "lenType": 16,
    "lenVar": 40
   },
   "kernels_config": {
    "python": {
     "delete_cmd_postfix": "",
     "delete_cmd_prefix": "del ",
     "library": "var_list.py",
     "varRefreshCmd": "print(var_dic_list())"
    },
    "r": {
     "delete_cmd_postfix": ") ",
     "delete_cmd_prefix": "rm(",
     "library": "var_list.r",
     "varRefreshCmd": "cat(var_dic_list()) "
    }
   },
   "types_to_exclude": [
    "module",
    "function",
    "builtin_function_or_method",
    "instance",
    "_Feature"
   ],
   "window_display": false
  }
 },
 "nbformat": 4,
 "nbformat_minor": 5
}
