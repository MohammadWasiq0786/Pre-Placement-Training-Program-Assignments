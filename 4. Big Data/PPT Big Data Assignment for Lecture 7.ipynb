{
 "cells": [
  {
   "cell_type": "markdown",
   "id": "fa3fa567",
   "metadata": {},
   "source": [
    "![image](https://user-images.githubusercontent.com/57321948/196933065-4b16c235-f3b9-4391-9cfe-4affcec87c35.png)\n",
    "\n",
    "# Submitted by: Mohammad Wasiq\n",
    "\n",
    "## Email: `gl0427@myamu.ac.in`\n",
    "\n",
    "# Pre-Placement Training Assignment - `Big Data` \n",
    "\n",
    "## NOSQL"
   ]
  },
  {
   "cell_type": "markdown",
   "id": "0fef4477",
   "metadata": {},
   "source": [
    "**Q1. NoSQL Databases:**\n",
    "\n",
    "**a. Write a Python program that connects to a MongoDB database and inserts a new document into a collection named \"students\". The document should include fields such as \"name\", \"age\", and \"grade\". Print a success message after the insertion.**"
   ]
  },
  {
   "cell_type": "code",
   "execution_count": null,
   "id": "829949f7",
   "metadata": {},
   "outputs": [],
   "source": [
    "from cassandra.cluster import Cluster\n",
    "from cassandra.auth import PlainTextAuthProvider\n",
    "\n",
    "def insert_product_record(id, name, price):\n",
    "    try:\n",
    "        # Configure the Cassandra cluster and authentication\n",
    "        auth_provider = PlainTextAuthProvider(username='your_username', password='your_password')\n",
    "        cluster = Cluster(['your_host'], auth_provider=auth_provider)\n",
    "\n",
    "        # Connect to the Cassandra cluster and create a session\n",
    "        session = cluster.connect('your_keyspace')\n",
    "\n",
    "        # Prepare the INSERT query\n",
    "        insert_query = session.prepare(\"INSERT INTO products (id, name, price) VALUES (?, ?, ?)\")\n",
    "\n",
    "        # Execute the INSERT query with the provided data\n",
    "        session.execute(insert_query, (id, name, price))\n",
    "\n",
    "        # Close the Cassandra session and cluster connection\n",
    "        session.shutdown()\n",
    "        cluster.shutdown()\n",
    "\n",
    "        print(\"Record inserted successfully!\")\n",
    "    except Exception as e:\n",
    "        print(f\"Error inserting record: {str(e)}\")\n",
    "\n",
    "# Usage example\n",
    "insert_product_record(1, 'Product A', 9.99)"
   ]
  },
  {
   "cell_type": "markdown",
   "id": "c6f4040a",
   "metadata": {},
   "source": [
    "**b. Implement a Python function that connects to a Cassandra database and inserts a new record into a table named \"products\". The record should contain fields like \"id\", \"name\", and \"price\". Handle any potential errors that may occur during the insertion.**"
   ]
  },
  {
   "cell_type": "code",
   "execution_count": null,
   "id": "6a6ca09d",
   "metadata": {},
   "outputs": [],
   "source": [
    "from cassandra.cluster import Cluster\n",
    "from cassandra.auth import PlainTextAuthProvider\n",
    "\n",
    "def insert_product_record(id, name, price):\n",
    "    try:\n",
    "        # Connect to Cassandra cluster\n",
    "        auth_provider = PlainTextAuthProvider(username='your_username', password='your_password')\n",
    "        cluster = Cluster(['your_host'], auth_provider=auth_provider)\n",
    "        session = cluster.connect('your_keyspace')\n",
    "\n",
    "        # Prepare the INSERT statement\n",
    "        insert_query = f\"INSERT INTO products (id, name, price) VALUES ({id}, '{name}', {price})\"\n",
    "\n",
    "        # Execute the INSERT statement\n",
    "        session.execute(insert_query)\n",
    "\n",
    "        # Close the session and cluster connection\n",
    "        session.shutdown()\n",
    "        cluster.shutdown()\n",
    "\n",
    "        print(\"Record inserted successfully!\")\n",
    "    except Exception as e:\n",
    "        print(f\"Error inserting record: {str(e)}\")\n",
    "\n",
    "# Usage example\n",
    "insert_product_record(1, 'Product A', 9.99)"
   ]
  },
  {
   "cell_type": "markdown",
   "id": "cc1a870c",
   "metadata": {},
   "source": [
    "**Q2. Document-oriented NoSQL Databases:**\n",
    "\n",
    "**a. Given a MongoDB collection named \"books\", write a Python function that fetches all the books published in the last year and prints their titles and authors.**"
   ]
  },
  {
   "cell_type": "code",
   "execution_count": null,
   "id": "45b09d17",
   "metadata": {},
   "outputs": [],
   "source": [
    "from pymongo import MongoClient\n",
    "from datetime import datetime, timedelta\n",
    "\n",
    "def fetch_recent_books():\n",
    "    try:\n",
    "        # Connect to MongoDB\n",
    "        client = MongoClient('mongodb://localhost:27017')\n",
    "        db = client['your_database']\n",
    "        collection = db['books']\n",
    "\n",
    "        # Calculate the date one year ago from the current date\n",
    "        one_year_ago = datetime.now() - timedelta(days=365)\n",
    "\n",
    "        # Construct the query to fetch books published in the last year\n",
    "        query = {\"publish_date\": {\"$gte\": one_year_ago}}\n",
    "\n",
    "        # Fetch the books matching the query\n",
    "        books = collection.find(query)\n",
    "\n",
    "        # Print the titles and authors of the fetched books\n",
    "        for book in books:\n",
    "            print(f\"Title: {book['title']}\")\n",
    "            print(f\"Author: {book['author']}\")\n",
    "            print(\"-------------------\")\n",
    "\n",
    "        # Close the MongoDB connection\n",
    "        client.close()\n",
    "    except Exception as e:\n",
    "        print(f\"Error fetching recent books: {str(e)}\")\n",
    "\n",
    "# Usage example\n",
    "fetch_recent_books()"
   ]
  },
  {
   "cell_type": "markdown",
   "id": "02b3c429",
   "metadata": {},
   "source": [
    "**b. Design a schema for a document-oriented NoSQL database to store customer information for an e-commerce platform. Write a Python program to insert a new customer document into the database and handle any necessary validations.**"
   ]
  },
  {
   "cell_type": "code",
   "execution_count": null,
   "id": "3c89c551",
   "metadata": {},
   "outputs": [],
   "source": [
    "from pymongo import MongoClient\n",
    "\n",
    "def insert_customer(customer_data):\n",
    "    try:\n",
    "        # Connect to MongoDB\n",
    "        client = MongoClient('mongodb://localhost:27017')\n",
    "        db = client['your_database']\n",
    "        collection = db['customers']\n",
    "\n",
    "        # Validate customer data\n",
    "        if 'customer_id' not in customer_data:\n",
    "            raise ValueError(\"Customer ID is required.\")\n",
    "        if 'name' not in customer_data:\n",
    "            raise ValueError(\"Name is required.\")\n",
    "        # Add more validations as per your requirements\n",
    "\n",
    "        # Insert the customer document into the database\n",
    "        collection.insert_one(customer_data)\n",
    "        print(\"Customer inserted successfully.\")\n",
    "\n",
    "        # Close the MongoDB connection\n",
    "        client.close()\n",
    "    except Exception as e:\n",
    "        print(f\"Error inserting customer: {str(e)}\")\n",
    "\n",
    "# Usage example\n",
    "customer = {\n",
    "    'customer_id': '123',\n",
    "    'name': 'John Doe',\n",
    "    'email': 'john@example.com',\n",
    "    'address': '123 Main St',\n",
    "    'phone': '123-456-7890'\n",
    "}\n",
    "insert_customer(customer)"
   ]
  },
  {
   "cell_type": "markdown",
   "id": "b39242f8",
   "metadata": {},
   "source": [
    "**Q3. High Availability and Fault Tolerance:**\n",
    "\n",
    "**a. Explain the concept of replica sets in MongoDB. Write a Python program that connects to a MongoDB replica set and retrieves the status of the primary and secondary nodes.**"
   ]
  },
  {
   "cell_type": "code",
   "execution_count": null,
   "id": "ab7e58c5",
   "metadata": {},
   "outputs": [],
   "source": [
    "from pymongo import MongoClient\n",
    "\n",
    "def get_replica_set_status():\n",
    "    try:\n",
    "        # Connect to MongoDB replica set\n",
    "        client = MongoClient('mongodb://localhost:27017,localhost:27018,localhost:27019/?replicaSet=my_replica_set')\n",
    "\n",
    "        # Get the replica set status\n",
    "        rs_status = client.admin.command('replSetGetStatus')\n",
    "\n",
    "        # Print the status of each member\n",
    "        for member in rs_status['members']:\n",
    "            print(f\"Member ID: {member['_id']}\")\n",
    "            print(f\"Member Host: {member['name']}\")\n",
    "            print(f\"Member State: {member['stateStr']}\")\n",
    "            print(\"\")\n",
    "\n",
    "        # Close the MongoDB connection\n",
    "        client.close()\n",
    "    except Exception as e:\n",
    "        print(f\"Error retrieving replica set status: {str(e)}\")\n",
    "\n",
    "# Usage example\n",
    "get_replica_set_status()"
   ]
  },
  {
   "cell_type": "markdown",
   "id": "b45b8090",
   "metadata": {},
   "source": [
    "**b. Describe how Cassandra ensures high availability and fault tolerance in a distributed database system. Write a Python program that connects to a Cassandra cluster and fetches the status of the nodes.**"
   ]
  },
  {
   "cell_type": "code",
   "execution_count": null,
   "id": "21a0a32d",
   "metadata": {},
   "outputs": [],
   "source": [
    "from cassandra.cluster import Cluster\n",
    "\n",
    "def get_cluster_status():\n",
    "    try:\n",
    "        # Connect to Cassandra cluster\n",
    "        cluster = Cluster(['localhost'])  # Replace with the appropriate contact points\n",
    "\n",
    "        # Retrieve the cluster metadata\n",
    "        metadata = cluster.metadata\n",
    "        all_hosts = metadata.all_hosts()\n",
    "\n",
    "        # Print the status of each node\n",
    "        for host in all_hosts:\n",
    "            print(f\"Host: {host.address}\")\n",
    "            print(f\"Datacenter: {host.datacenter}\")\n",
    "            print(f\"Rack: {host.rack}\")\n",
    "            print(f\"Status: {host.is_up}\")\n",
    "            print(\"\")\n",
    "\n",
    "        # Close the Cassandra cluster connection\n",
    "        cluster.shutdown()\n",
    "    except Exception as e:\n",
    "        print(f\"Error retrieving cluster status: {str(e)}\")\n",
    "\n",
    "# Usage example\n",
    "get_cluster_status()"
   ]
  },
  {
   "cell_type": "markdown",
   "id": "e21b659f",
   "metadata": {},
   "source": [
    "**Q4. Sharding in MongoDB:**\n",
    "\n",
    "**a. Explain the concept of sharding in MongoDB and how it improves performance and scalability. Write a Python program that sets up sharding for a MongoDB cluster and inserts multiple documents into a sharded collection.**"
   ]
  },
  {
   "cell_type": "code",
   "execution_count": null,
   "id": "e21460b1",
   "metadata": {},
   "outputs": [],
   "source": [
    "from pymongo import MongoClient\n",
    "\n",
    "# Connect to the MongoDB instance\n",
    "client = MongoClient('mongodb://localhost:27017')\n",
    "\n",
    "# Enable sharding for a database\n",
    "admin_db = client.admin\n",
    "admin_db.command('enableSharding', 'mydatabase')\n",
    "\n",
    "# Create a sharded collection with a shard key\n",
    "sharded_collection = client['mydatabase']['mycollection']\n",
    "sharded_collection.create_index('shard_key')\n",
    "\n",
    "# Insert multiple documents into the sharded collection\n",
    "documents = [\n",
    "    {'shard_key': 'A', 'data': 'Document 1'},\n",
    "    {'shard_key': 'B', 'data': 'Document 2'},\n",
    "    {'shard_key': 'C', 'data': 'Document 3'},\n",
    "    # Add more documents as needed\n",
    "]\n",
    "sharded_collection.insert_many(documents)\n",
    "\n",
    "# Print the documents in the sharded collection\n",
    "for doc in sharded_collection.find():\n",
    "    print(doc)\n",
    "\n",
    "# Close the MongoDB connection\n",
    "client.close()"
   ]
  },
  {
   "cell_type": "markdown",
   "id": "afa38979",
   "metadata": {},
   "source": [
    "**b. Design a sharding strategy for a social media application where user data needs to be distributed across multiple shards. Write a Python program to demonstrate how data is distributed and retrieved from the sharded cluster.**\n"
   ]
  },
  {
   "cell_type": "code",
   "execution_count": null,
   "id": "05bcba16",
   "metadata": {},
   "outputs": [],
   "source": [
    "from pymongo import MongoClient\n",
    "\n",
    "# Connect to the MongoDB instance\n",
    "client = MongoClient('mongodb://localhost:27017')\n",
    "\n",
    "# Get a reference to the sharded collection\n",
    "sharded_collection = client['mydatabase']['users']\n",
    "\n",
    "# Insert user data into the sharded collection\n",
    "def insert_user(user_id, username, email):\n",
    "    user = {\n",
    "        '_id': user_id,\n",
    "        'username': username,\n",
    "        'email': email,\n",
    "        # Other user data fields\n",
    "    }\n",
    "    sharded_collection.insert_one(user)\n",
    "\n",
    "# Query user data from the sharded collection\n",
    "def get_user(user_id):\n",
    "    user = sharded_collection.find_one({'_id': user_id})\n",
    "    return user\n",
    "\n",
    "# Perform data distribution and retrieval operations\n",
    "insert_user(1, 'user1', 'user1@example.com')\n",
    "insert_user(2, 'user2', 'user2@example.com')\n",
    "insert_user(3, 'user3', 'user3@example.com')\n",
    "\n",
    "user1 = get_user(1)\n",
    "user2 = get_user(2)\n",
    "user3 = get_user(3)\n",
    "\n",
    "# Print the retrieved user data\n",
    "print(user1)\n",
    "print(user2)\n",
    "print(user3)\n",
    "\n",
    "# Close the MongoDB connection\n",
    "client.close()"
   ]
  },
  {
   "cell_type": "markdown",
   "id": "026fbb41",
   "metadata": {},
   "source": [
    "**Q5. Indexing in MongoDB:**\n",
    "\n",
    "**a. Describe the concept of indexing in MongoDB and its importance in query optimization. Write a Python program that creates an index on a specific field in a MongoDB collection and executes a query using that index.**"
   ]
  },
  {
   "cell_type": "code",
   "execution_count": null,
   "id": "3d25cee1",
   "metadata": {},
   "outputs": [],
   "source": [
    "from pymongo import MongoClient\n",
    "from pymongo import DESCENDING\n",
    "\n",
    "# Connect to the MongoDB instance\n",
    "client = MongoClient('mongodb://localhost:27017')\n",
    "\n",
    "# Get a reference to the MongoDB database and collection\n",
    "db = client['mydatabase']\n",
    "collection = db['mycollection']\n",
    "\n",
    "# Create an index on the 'name' field\n",
    "collection.create_index([('name', DESCENDING)])\n",
    "\n",
    "# Execute a query using the created index\n",
    "query = {'name': 'John'}\n",
    "result = collection.find(query).sort('name', DESCENDING)\n",
    "\n",
    "# Print the query results\n",
    "for doc in result:\n",
    "    print(doc)\n",
    "\n",
    "# Close the MongoDB connection\n",
    "client.close()"
   ]
  },
  {
   "cell_type": "markdown",
   "id": "5cfd1142",
   "metadata": {},
   "source": [
    "**b. Given a MongoDB collection named \"products\", write a Python function that searches for products with a specific keyword in the name or description. Optimize the query by adding appropriate indexes.**\n"
   ]
  },
  {
   "cell_type": "code",
   "execution_count": null,
   "id": "65f918de",
   "metadata": {},
   "outputs": [],
   "source": [
    "from pymongo import MongoClient\n",
    "from pymongo import TEXT\n",
    "\n",
    "def search_products(keyword):\n",
    "    # Connect to the MongoDB instance\n",
    "    client = MongoClient('mongodb://localhost:27017')\n",
    "\n",
    "    # Get a reference to the MongoDB database and collection\n",
    "    db = client['mydatabase']\n",
    "    collection = db['products']\n",
    "\n",
    "    # Create indexes on the 'name' and 'description' fields for text search\n",
    "    collection.create_index([('name', TEXT), ('description', TEXT)])\n",
    "\n",
    "    # Execute the search query using the created indexes\n",
    "    query = {'$text': {'$search': keyword}}\n",
    "    result = collection.find(query)\n",
    "\n",
    "    # Print the query results\n",
    "    for doc in result:\n",
    "        print(doc)\n",
    "\n",
    "    # Close the MongoDB connection\n",
    "    client.close()"
   ]
  }
 ],
 "metadata": {
  "kernelspec": {
   "display_name": "Python 3 (ipykernel)",
   "language": "python",
   "name": "python3"
  },
  "language_info": {
   "codemirror_mode": {
    "name": "ipython",
    "version": 3
   },
   "file_extension": ".py",
   "mimetype": "text/x-python",
   "name": "python",
   "nbconvert_exporter": "python",
   "pygments_lexer": "ipython3",
   "version": "3.9.12"
  },
  "latex_envs": {
   "LaTeX_envs_menu_present": true,
   "autoclose": false,
   "autocomplete": true,
   "bibliofile": "biblio.bib",
   "cite_by": "apalike",
   "current_citInitial": 1,
   "eqLabelWithNumbers": true,
   "eqNumInitial": 1,
   "hotkeys": {
    "equation": "Ctrl-E",
    "itemize": "Ctrl-I"
   },
   "labels_anchors": false,
   "latex_user_defs": false,
   "report_style_numbering": false,
   "user_envs_cfg": false
  },
  "nbTranslate": {
   "displayLangs": [
    "*"
   ],
   "hotkey": "alt-t",
   "langInMainMenu": true,
   "sourceLang": "en",
   "targetLang": "fr",
   "useGoogleTranslate": true
  },
  "toc": {
   "base_numbering": 1,
   "nav_menu": {},
   "number_sections": true,
   "sideBar": true,
   "skip_h1_title": false,
   "title_cell": "Table of Contents",
   "title_sidebar": "Contents",
   "toc_cell": false,
   "toc_position": {},
   "toc_section_display": true,
   "toc_window_display": false
  },
  "varInspector": {
   "cols": {
    "lenName": 16,
    "lenType": 16,
    "lenVar": 40
   },
   "kernels_config": {
    "python": {
     "delete_cmd_postfix": "",
     "delete_cmd_prefix": "del ",
     "library": "var_list.py",
     "varRefreshCmd": "print(var_dic_list())"
    },
    "r": {
     "delete_cmd_postfix": ") ",
     "delete_cmd_prefix": "rm(",
     "library": "var_list.r",
     "varRefreshCmd": "cat(var_dic_list()) "
    }
   },
   "types_to_exclude": [
    "module",
    "function",
    "builtin_function_or_method",
    "instance",
    "_Feature"
   ],
   "window_display": false
  }
 },
 "nbformat": 4,
 "nbformat_minor": 5
}
