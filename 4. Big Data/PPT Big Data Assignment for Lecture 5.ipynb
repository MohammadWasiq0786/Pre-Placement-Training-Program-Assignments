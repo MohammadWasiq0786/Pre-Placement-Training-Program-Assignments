{
 "cells": [
  {
   "cell_type": "markdown",
   "id": "fa3fa567",
   "metadata": {},
   "source": [
    "![image](https://user-images.githubusercontent.com/57321948/196933065-4b16c235-f3b9-4391-9cfe-4affcec87c35.png)\n",
    "\n",
    "# Submitted by: Mohammad Wasiq\n",
    "\n",
    "## Email: `gl0427@myamu.ac.in`\n",
    "\n",
    "# Pre-Placement Training Assignment - `Big Data` \n",
    "\n",
    "## Apache Kafka"
   ]
  },
  {
   "cell_type": "markdown",
   "id": "0fef4477",
   "metadata": {},
   "source": [
    "**Q1. Setting up a Kafka Producer:**\n",
    "\n",
    "**a) Write a Python program to create a Kafka producer.**"
   ]
  },
  {
   "cell_type": "code",
   "execution_count": null,
   "id": "c6f62e5f",
   "metadata": {},
   "outputs": [],
   "source": [
    "from confluent_kafka import Producer\n",
    "\n",
    "def produce_messages(producer, topic):\n",
    "    # Produce messages to Kafka topic\n",
    "    for i in range(10):\n",
    "        message = f\"Message {i + 1}\"\n",
    "        producer.produce(topic, value=message.encode('utf-8'))\n",
    "        producer.flush()\n",
    "\n",
    "def create_kafka_producer():\n",
    "    # Configure Kafka producer\n",
    "    conf = {\n",
    "        \"bootstrap.servers\": \"localhost:9092\"  # Kafka broker address\n",
    "    }\n",
    "\n",
    "    # Create Kafka producer instance\n",
    "    producer = Producer(conf)\n",
    "\n",
    "    return producer\n",
    "\n",
    "# Usage example\n",
    "if __name__ == \"__main__\":\n",
    "    topic = \"my_topic\"\n",
    "\n",
    "    # Create Kafka producer\n",
    "    producer = create_kafka_producer()\n",
    "\n",
    "    # Produce messages to Kafka topic\n",
    "    produce_messages(producer, topic)"
   ]
  },
  {
   "cell_type": "markdown",
   "id": "c6f4040a",
   "metadata": {},
   "source": [
    "**b) Configure the producer to connect to a Kafka cluster.**"
   ]
  },
  {
   "cell_type": "code",
   "execution_count": null,
   "id": "1e4a6f42",
   "metadata": {},
   "outputs": [],
   "source": [
    "from confluent_kafka import Producer\n",
    "\n",
    "def produce_messages(producer, topic):\n",
    "    # Produce messages to Kafka topic\n",
    "    for i in range(10):\n",
    "        message = f\"Message {i + 1}\"\n",
    "        producer.produce(topic, value=message.encode('utf-8'))\n",
    "        producer.flush()\n",
    "\n",
    "def create_kafka_producer():\n",
    "    # Configure Kafka producer\n",
    "    conf = {\n",
    "        \"bootstrap.servers\": \"kafka1:9092,kafka2:9092,kafka3:9092\",  # Kafka broker addresses\n",
    "        \"group.id\": \"my_group_id\",  # Consumer group ID (optional)\n",
    "        \"client.id\": \"my_client_id\"  # Client ID (optional)\n",
    "    }\n",
    "\n",
    "    # Create Kafka producer instance\n",
    "    producer = Producer(conf)\n",
    "\n",
    "    return producer\n",
    "\n",
    "# Usage example\n",
    "if __name__ == \"__main__\":\n",
    "    topic = \"my_topic\"\n",
    "\n",
    "    # Create Kafka producer\n",
    "    producer = create_kafka_producer()\n",
    "\n",
    "    # Produce messages to Kafka topic\n",
    "    produce_messages(producer, topic)"
   ]
  },
  {
   "cell_type": "markdown",
   "id": "cc1a870c",
   "metadata": {},
   "source": [
    "**c) Implement logic to send messages to a Kafka topic.**"
   ]
  },
  {
   "cell_type": "code",
   "execution_count": null,
   "id": "9fd16847",
   "metadata": {},
   "outputs": [],
   "source": [
    "from confluent_kafka import Producer\n",
    "\n",
    "def produce_messages(producer, topic):\n",
    "    # Produce messages to Kafka topic\n",
    "    for i in range(10):\n",
    "        message = f\"Message {i + 1}\"\n",
    "        producer.produce(topic, value=message.encode('utf-8'))\n",
    "        producer.flush()\n",
    "\n",
    "def create_kafka_producer(bootstrap_servers):\n",
    "    # Configure Kafka producer\n",
    "    conf = {\n",
    "        \"bootstrap.servers\": bootstrap_servers,\n",
    "        \"group.id\": \"my_group_id\",  # Consumer group ID (optional)\n",
    "        \"client.id\": \"my_client_id\"  # Client ID (optional)\n",
    "    }\n",
    "\n",
    "    # Create Kafka producer instance\n",
    "    producer = Producer(conf)\n",
    "\n",
    "    return producer\n",
    "\n",
    "# Usage example\n",
    "if __name__ == \"__main__\":\n",
    "    bootstrap_servers = \"kafka1:9092,kafka2:9092,kafka3:9092\"  # Kafka broker addresses\n",
    "    topic = \"my_topic\"\n",
    "\n",
    "    # Create Kafka producer\n",
    "    producer = create_kafka_producer(bootstrap_servers)\n",
    "\n",
    "    # Produce messages to Kafka topic\n",
    "    produce_messages(producer, topic)"
   ]
  },
  {
   "cell_type": "markdown",
   "id": "02b3c429",
   "metadata": {},
   "source": [
    "**Q2. Setting up a Kafka Consumer:**\n",
    "\n",
    "**a) Write a Python program to create a Kafka consumer.**"
   ]
  },
  {
   "cell_type": "code",
   "execution_count": null,
   "id": "434b0e2f",
   "metadata": {},
   "outputs": [],
   "source": [
    "from confluent_kafka import Consumer\n",
    "\n",
    "def consume_messages(consumer, topic):\n",
    "    # Subscribe to Kafka topic\n",
    "    consumer.subscribe([topic])\n",
    "\n",
    "    # Consume messages from Kafka topic\n",
    "    while True:\n",
    "        msg = consumer.poll(1.0)\n",
    "\n",
    "        if msg is None:\n",
    "            continue\n",
    "        if msg.error():\n",
    "            print(f\"Consumer error: {msg.error()}\")\n",
    "            continue\n",
    "\n",
    "        # Process the received message\n",
    "        print(f\"Received message: {msg.value().decode('utf-8')}\")\n",
    "\n",
    "def create_kafka_consumer(bootstrap_servers, group_id):\n",
    "    # Configure Kafka consumer\n",
    "    conf = {\n",
    "        \"bootstrap.servers\": bootstrap_servers,\n",
    "        \"group.id\": group_id,\n",
    "        \"auto.offset.reset\": \"earliest\",  # Start consuming from the beginning of the topic (optional)\n",
    "        \"client.id\": \"my_client_id\"  # Client ID (optional)\n",
    "    }\n",
    "\n",
    "    # Create Kafka consumer instance\n",
    "    consumer = Consumer(conf)\n",
    "\n",
    "    return consumer\n",
    "\n",
    "# Usage example\n",
    "if __name__ == \"__main__\":\n",
    "    bootstrap_servers = \"kafka1:9092,kafka2:9092,kafka3:9092\"  # Kafka broker addresses\n",
    "    group_id = \"my_consumer_group\"  # Consumer group ID\n",
    "    topic = \"my_topic\"\n",
    "\n",
    "    # Create Kafka consumer\n",
    "    consumer = create_kafka_consumer(bootstrap_servers, group_id)\n",
    "\n",
    "    # Consume messages from Kafka topic\n",
    "    consume_messages(consumer, topic)"
   ]
  },
  {
   "cell_type": "markdown",
   "id": "b39242f8",
   "metadata": {},
   "source": [
    "**b) Configure the consumer to connect to a Kafka cluster.**  "
   ]
  },
  {
   "cell_type": "code",
   "execution_count": null,
   "id": "bfe5e073",
   "metadata": {},
   "outputs": [],
   "source": [
    "from kafka import KafkaConsumer\n",
    "\n",
    "# Configure Kafka consumer\n",
    "bootstrap_servers = 'localhost:9092'  # Kafka broker addresses\n",
    "group_id = 'my_consumer_group'  # Consumer group ID\n",
    "\n",
    "# Create Kafka consumer instance\n",
    "consumer = KafkaConsumer(\n",
    "    bootstrap_servers=bootstrap_servers,\n",
    "    group_id=group_id,\n",
    "    auto_offset_reset='earliest',  # Start consuming from the beginning of the topic (optional)\n",
    "    enable_auto_commit=True,  # Commit offsets automatically (optional)\n",
    "    value_deserializer=lambda x: x.decode('utf-8')  # Deserializer for message values (optional)\n",
    ")\n",
    "\n",
    "# Example usage: Consume messages from a Kafka topic\n",
    "topic = 'my_topic'\n",
    "consumer.subscribe([topic])\n",
    "\n",
    "for message in consumer:\n",
    "    print(f'Received message: {message.value}')"
   ]
  },
  {
   "cell_type": "markdown",
   "id": "b45b8090",
   "metadata": {},
   "source": [
    "**c) Implement logic to consume messages from a Kafka topic**"
   ]
  },
  {
   "cell_type": "code",
   "execution_count": null,
   "id": "e9f70f9c",
   "metadata": {},
   "outputs": [],
   "source": [
    "from kafka import KafkaConsumer\n",
    "\n",
    "# Configure Kafka consumer\n",
    "bootstrap_servers = 'localhost:9092'  # Kafka broker addresses\n",
    "group_id = 'my_consumer_group'  # Consumer group ID\n",
    "\n",
    "# Create Kafka consumer instance\n",
    "consumer = KafkaConsumer(\n",
    "    bootstrap_servers=bootstrap_servers,\n",
    "    group_id=group_id,\n",
    "    auto_offset_reset='earliest',  # Start consuming from the beginning of the topic (optional)\n",
    "    enable_auto_commit=True,  # Commit offsets automatically (optional)\n",
    "    value_deserializer=lambda x: x.decode('utf-8')  # Deserializer for message values (optional)\n",
    ")\n",
    "\n",
    "# Example usage: Consume messages from a Kafka topic\n",
    "topic = 'my_topic'\n",
    "consumer.subscribe([topic])\n",
    "\n",
    "for message in consumer:\n",
    "    print(f'Received message: {message.value}')\n",
    "    # Add your custom logic here to process the message"
   ]
  },
  {
   "cell_type": "markdown",
   "id": "e21b659f",
   "metadata": {},
   "source": [
    "**Q3. Creating and Managing Kafka Topics:**\n",
    "\n",
    "**a) Write a Python program to create a new Kafka topic.**"
   ]
  },
  {
   "cell_type": "code",
   "execution_count": null,
   "id": "09254184",
   "metadata": {},
   "outputs": [],
   "source": [
    "from kafka import KafkaAdminClient\n",
    "from kafka.admin import NewTopic\n",
    "\n",
    "# Configure Kafka admin client\n",
    "bootstrap_servers = 'localhost:9092'  # Kafka broker addresses\n",
    "\n",
    "# Create Kafka admin client instance\n",
    "admin_client = KafkaAdminClient(bootstrap_servers=bootstrap_servers)\n",
    "\n",
    "# Example usage: Create a new Kafka topic\n",
    "topic_name = 'my_topic'\n",
    "partitions = 3  # Number of partitions for the topic\n",
    "replication_factor = 1  # Replication factor for the topic\n",
    "\n",
    "new_topic = NewTopic(topic_name, num_partitions=partitions, replication_factor=replication_factor)\n",
    "\n",
    "admin_client.create_topics([new_topic])\n",
    "print(f'Topic {topic_name} created successfully.')"
   ]
  },
  {
   "cell_type": "markdown",
   "id": "afa38979",
   "metadata": {},
   "source": [
    "**b) Implement functionality to list existing topics.**"
   ]
  },
  {
   "cell_type": "code",
   "execution_count": null,
   "id": "88b48a6d",
   "metadata": {},
   "outputs": [],
   "source": [
    "from kafka import KafkaAdminClient\n",
    "\n",
    "# Configure Kafka admin client\n",
    "bootstrap_servers = 'localhost:9092'  # Kafka broker addresses\n",
    "\n",
    "# Create Kafka admin client instance\n",
    "admin_client = KafkaAdminClient(bootstrap_servers=bootstrap_servers)\n",
    "\n",
    "# Example usage: List existing topics\n",
    "topics = admin_client.list_topics()\n",
    "\n",
    "# Retrieve the topic names\n",
    "topic_names = [topic for topic in topics]\n",
    "\n",
    "print(f'Existing topics: {topic_names}')"
   ]
  },
  {
   "cell_type": "markdown",
   "id": "026fbb41",
   "metadata": {},
   "source": [
    "**c) Develop logic to delete an existing Kafka topic.**"
   ]
  },
  {
   "cell_type": "code",
   "execution_count": null,
   "id": "1795dc84",
   "metadata": {},
   "outputs": [],
   "source": [
    "from kafka import KafkaAdminClient, NewTopic\n",
    "\n",
    "# Configure Kafka admin client\n",
    "bootstrap_servers = 'localhost:9092'  # Kafka broker addresses\n",
    "\n",
    "# Create Kafka admin client instance\n",
    "admin_client = KafkaAdminClient(bootstrap_servers=bootstrap_servers)\n",
    "\n",
    "# Example usage: Delete a topic\n",
    "topic_name = 'my_topic'  # Name of the topic to delete\n",
    "\n",
    "# Delete the topic\n",
    "admin_client.delete_topics(topics=[topic_name])\n",
    "\n",
    "print(f'Topic \"{topic_name}\" deleted successfully')"
   ]
  },
  {
   "cell_type": "markdown",
   "id": "509e050b",
   "metadata": {},
   "source": [
    "**Q4. Producing and Consuming Messages:**\n",
    "\n",
    "**a) Write a Python program to produce messages to a Kafka topic.**"
   ]
  },
  {
   "cell_type": "code",
   "execution_count": null,
   "id": "3ca1bc87",
   "metadata": {},
   "outputs": [],
   "source": [
    "from kafka import KafkaProducer\n",
    "\n",
    "# Configure Kafka producer\n",
    "bootstrap_servers = 'localhost:9092'  # Kafka broker addresses\n",
    "topic_name = 'my_topic'  # Name of the Kafka topic\n",
    "\n",
    "# Create Kafka producer instance\n",
    "producer = KafkaProducer(bootstrap_servers=bootstrap_servers)\n",
    "\n",
    "# Example usage: Produce messages\n",
    "messages = [\n",
    "    'Hello, Kafka!',\n",
    "    'This is a test message.',\n",
    "    'Another message to Kafka topic.'\n",
    "]\n",
    "\n",
    "# Produce messages to the Kafka topic\n",
    "for message in messages:\n",
    "    producer.send(topic_name, message.encode('utf-8'))\n",
    "\n",
    "print('Messages produced successfully')"
   ]
  },
  {
   "cell_type": "markdown",
   "id": "aa7a2b7c",
   "metadata": {},
   "source": [
    "**b) Implement logic to consume messages from the same Kafka topic.**"
   ]
  },
  {
   "cell_type": "code",
   "execution_count": null,
   "id": "d4a7d7d4",
   "metadata": {},
   "outputs": [],
   "source": [
    "from kafka import KafkaConsumer\n",
    "\n",
    "# Configure Kafka consumer\n",
    "bootstrap_servers = 'localhost:9092'  # Kafka broker addresses\n",
    "topic_name = 'my_topic'  # Name of the Kafka topic\n",
    "\n",
    "# Create Kafka consumer instance\n",
    "consumer = KafkaConsumer(topic_name, bootstrap_servers=bootstrap_servers)\n",
    "\n",
    "# Example usage: Consume messages\n",
    "for message in consumer:\n",
    "    print(message.value.decode('utf-8'))\n",
    "\n",
    "# Close the consumer connection\n",
    "consumer.close()"
   ]
  },
  {
   "cell_type": "markdown",
   "id": "6e583f30",
   "metadata": {},
   "source": [
    "**c) Test the end-to-end flow of message production and consumption.**"
   ]
  },
  {
   "cell_type": "code",
   "execution_count": null,
   "id": "5c4cd69e",
   "metadata": {},
   "outputs": [],
   "source": [
    "# kafka_producer.py\n",
    "\n",
    "from kafka import KafkaProducer\n",
    "\n",
    "# Configure the Kafka producer\n",
    "producer = KafkaProducer(bootstrap_servers='localhost:9092')\n",
    "\n",
    "# Send messages to the Kafka topic\n",
    "topic = 'test-topic'\n",
    "for i in range(10):\n",
    "    message = f'Message {i}'\n",
    "    producer.send(topic, message.encode('utf-8'))\n",
    "    print(f'Sent: {message}')\n",
    "\n",
    "# Close the producer\n",
    "producer.close()"
   ]
  },
  {
   "cell_type": "code",
   "execution_count": null,
   "id": "4c12729c",
   "metadata": {},
   "outputs": [],
   "source": [
    "# kafka_consumer.py\n",
    "\n",
    "from kafka import KafkaConsumer\n",
    "\n",
    "# Configure the Kafka consumer\n",
    "consumer = KafkaConsumer('test-topic', bootstrap_servers='localhost:9092')\n",
    "\n",
    "# Consume messages from the Kafka topic\n",
    "for message in consumer:\n",
    "    print(f'Received: {message.value.decode(\"utf-8\")}')\n",
    "\n",
    "# Close the consumer\n",
    "consumer.close()"
   ]
  },
  {
   "cell_type": "markdown",
   "id": "bb0d0fc6",
   "metadata": {},
   "source": [
    "**Q5. Working with Kafka Consumer Groups:**\n",
    "\n",
    "**a) Write a Python program to create a Kafka consumer within a consumer group.**"
   ]
  },
  {
   "cell_type": "code",
   "execution_count": null,
   "id": "70a54d65",
   "metadata": {},
   "outputs": [],
   "source": [
    "from kafka import KafkaConsumer\n",
    "\n",
    "# Configure the Kafka consumer with a consumer group\n",
    "consumer_group = 'my-consumer-group'\n",
    "consumer = KafkaConsumer(\n",
    "    'test-topic',\n",
    "    bootstrap_servers='localhost:9092',\n",
    "    group_id=consumer_group\n",
    ")\n",
    "\n",
    "# Consume messages from the Kafka topic within the consumer group\n",
    "for message in consumer:\n",
    "    print(f'Received: {message.value.decode(\"utf-8\")}')\n",
    "\n",
    "# Close the consumer\n",
    "consumer.close()"
   ]
  },
  {
   "cell_type": "markdown",
   "id": "79f3ef09",
   "metadata": {},
   "source": [
    "**b) Implement logic to handle messages consumed by different consumers within the same group.**\n"
   ]
  },
  {
   "cell_type": "code",
   "execution_count": null,
   "id": "82ea40a1",
   "metadata": {},
   "outputs": [],
   "source": [
    "from kafka import KafkaConsumer\n",
    "from concurrent.futures import ThreadPoolExecutor\n",
    "\n",
    "def consume_messages():\n",
    "    consumer = KafkaConsumer(\n",
    "        'test-topic',\n",
    "        bootstrap_servers='localhost:9092',\n",
    "        group_id='my-consumer-group'\n",
    "    )\n",
    "    \n",
    "    for message in consumer:\n",
    "        print(f'Consumer {consumer_id}: Received: {message.value.decode(\"utf-8\")}')\n",
    "\n",
    "    consumer.close()\n",
    "\n",
    "# Number of consumers\n",
    "num_consumers = 3\n",
    "\n",
    "# Create a ThreadPoolExecutor with the desired number of threads\n",
    "executor = ThreadPoolExecutor(max_workers=num_consumers)\n",
    "\n",
    "# Submit consumer tasks to the executor\n",
    "for consumer_id in range(num_consumers):\n",
    "    executor.submit(consume_messages)\n",
    "\n",
    "# Shutdown the executor once all tasks are complete\n",
    "executor.shutdown()"
   ]
  },
  {
   "cell_type": "markdown",
   "id": "4a309ca0",
   "metadata": {},
   "source": [
    "**c) Observe the behavior of consumer group rebalancing when adding or removing consumers.**"
   ]
  },
  {
   "cell_type": "code",
   "execution_count": null,
   "id": "0fbd6584",
   "metadata": {},
   "outputs": [],
   "source": [
    "from confluent_kafka import Consumer, KafkaException\n",
    "\n",
    "# Kafka consumer configuration\n",
    "consumer_config = {\n",
    "    'bootstrap.servers': 'localhost:9092',\n",
    "    'group.id': 'my_consumer_group',\n",
    "    'auto.offset.reset': 'earliest',\n",
    "}\n",
    "\n",
    "# Create a Kafka consumer within a consumer group\n",
    "consumer = Consumer(consumer_config)\n",
    "\n",
    "# Subscribe to the Kafka topic\n",
    "consumer.subscribe(['my_topic'])\n",
    "\n",
    "# Consume messages from the Kafka topic\n",
    "try:\n",
    "    while True:\n",
    "        msg = consumer.poll(1.0)\n",
    "        if msg is None:\n",
    "            continue\n",
    "        if msg.error():\n",
    "            if msg.error().code() == KafkaException._PARTITION_EOF:\n",
    "                # End of partition, continue consuming\n",
    "                continue\n",
    "            else:\n",
    "                # Handle error\n",
    "                print(f\"Error: {msg.error()}\")\n",
    "                break\n",
    "        # Process the consumed message\n",
    "        print(f\"Consumed message: {msg.value().decode('utf-8')}\")\n",
    "except KeyboardInterrupt:\n",
    "    pass\n",
    "finally:\n",
    "    # Close the consumer\n",
    "    consumer.close()"
   ]
  }
 ],
 "metadata": {
  "kernelspec": {
   "display_name": "Python 3 (ipykernel)",
   "language": "python",
   "name": "python3"
  },
  "language_info": {
   "codemirror_mode": {
    "name": "ipython",
    "version": 3
   },
   "file_extension": ".py",
   "mimetype": "text/x-python",
   "name": "python",
   "nbconvert_exporter": "python",
   "pygments_lexer": "ipython3",
   "version": "3.9.12"
  },
  "latex_envs": {
   "LaTeX_envs_menu_present": true,
   "autoclose": false,
   "autocomplete": true,
   "bibliofile": "biblio.bib",
   "cite_by": "apalike",
   "current_citInitial": 1,
   "eqLabelWithNumbers": true,
   "eqNumInitial": 1,
   "hotkeys": {
    "equation": "Ctrl-E",
    "itemize": "Ctrl-I"
   },
   "labels_anchors": false,
   "latex_user_defs": false,
   "report_style_numbering": false,
   "user_envs_cfg": false
  },
  "nbTranslate": {
   "displayLangs": [
    "*"
   ],
   "hotkey": "alt-t",
   "langInMainMenu": true,
   "sourceLang": "en",
   "targetLang": "fr",
   "useGoogleTranslate": true
  },
  "toc": {
   "base_numbering": 1,
   "nav_menu": {},
   "number_sections": true,
   "sideBar": true,
   "skip_h1_title": false,
   "title_cell": "Table of Contents",
   "title_sidebar": "Contents",
   "toc_cell": false,
   "toc_position": {},
   "toc_section_display": true,
   "toc_window_display": false
  },
  "varInspector": {
   "cols": {
    "lenName": 16,
    "lenType": 16,
    "lenVar": 40
   },
   "kernels_config": {
    "python": {
     "delete_cmd_postfix": "",
     "delete_cmd_prefix": "del ",
     "library": "var_list.py",
     "varRefreshCmd": "print(var_dic_list())"
    },
    "r": {
     "delete_cmd_postfix": ") ",
     "delete_cmd_prefix": "rm(",
     "library": "var_list.r",
     "varRefreshCmd": "cat(var_dic_list()) "
    }
   },
   "types_to_exclude": [
    "module",
    "function",
    "builtin_function_or_method",
    "instance",
    "_Feature"
   ],
   "window_display": false
  }
 },
 "nbformat": 4,
 "nbformat_minor": 5
}
