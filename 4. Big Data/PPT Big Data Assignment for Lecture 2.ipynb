{
 "cells": [
  {
   "cell_type": "markdown",
   "id": "fa3fa567",
   "metadata": {},
   "source": [
    "![image](https://user-images.githubusercontent.com/57321948/196933065-4b16c235-f3b9-4391-9cfe-4affcec87c35.png)\n",
    "\n",
    "# Submitted by: Mohammad Wasiq\n",
    "\n",
    "## Email: `gl0427@myamu.ac.in`\n",
    "\n",
    "# Pre-Placement Training Assignment - `Big Data` \n",
    "\n",
    "## `SQL`"
   ]
  },
  {
   "cell_type": "markdown",
   "id": "0fef4477",
   "metadata": {},
   "source": [
    "**Q1. Write an SQL query to retrieve the names and email addresses of all employees from a table named \"Employees\".**\n",
    "\n",
    "**Ans :**"
   ]
  },
  {
   "cell_type": "code",
   "execution_count": null,
   "id": "34efbc15",
   "metadata": {},
   "outputs": [],
   "source": [
    "SELECT name, email FROM Employees;"
   ]
  },
  {
   "cell_type": "markdown",
   "id": "c6f4040a",
   "metadata": {},
   "source": [
    "**Q2. Write an SQL query to filter records from a table named \"Customers\" where the \"City\" column is 'New York'.**\n",
    "\n",
    "**Ans :** "
   ]
  },
  {
   "cell_type": "code",
   "execution_count": null,
   "id": "28c21c0c",
   "metadata": {},
   "outputs": [],
   "source": [
    "SELECT * FROM Customers WHERE City = 'New York';"
   ]
  },
  {
   "cell_type": "markdown",
   "id": "cc1a870c",
   "metadata": {},
   "source": [
    "**Q3. Write an SQL query to sort records in descending order based on the \"DateOfBirth\" column in a table named \"Users\".**\n",
    "\n",
    "**Ans :** "
   ]
  },
  {
   "cell_type": "code",
   "execution_count": null,
   "id": "67f42cb3",
   "metadata": {},
   "outputs": [],
   "source": [
    "SELECT * FROM Users ORDER BY DateOfBirth DESC;"
   ]
  },
  {
   "cell_type": "markdown",
   "id": "02b3c429",
   "metadata": {},
   "source": [
    "**Q4. Write an SQL query to sort records in ascending order based on the \"RegistrationDate\" column in a table named \"Users\".**\n",
    "\n",
    "**Ans :** "
   ]
  },
  {
   "cell_type": "code",
   "execution_count": null,
   "id": "82a54e25",
   "metadata": {},
   "outputs": [],
   "source": [
    "SELECT * FROM Users ORDER BY RegistrationDate ASC;"
   ]
  },
  {
   "cell_type": "markdown",
   "id": "b39242f8",
   "metadata": {},
   "source": [
    "**Q5. Write an SQL query to find the employee with the highest salary from a table named \"Employees\" and display their name, position, and salary.**\n",
    "\n",
    "**Ans :** "
   ]
  },
  {
   "cell_type": "code",
   "execution_count": null,
   "id": "94767bcc",
   "metadata": {},
   "outputs": [],
   "source": [
    "SELECT name, position, salary\n",
    "FROM Employees\n",
    "WHERE salary = (SELECT MAX(salary) FROM Employees);"
   ]
  },
  {
   "cell_type": "markdown",
   "id": "b45b8090",
   "metadata": {},
   "source": [
    "**Q6. Write an SQL query to retrieve records from a table named \"Customers\" where the \"Phone\" column matches the pattern '+1-XXX-XXX-XXXX'.**\n",
    "\n",
    "**Ans :** "
   ]
  },
  {
   "cell_type": "code",
   "execution_count": null,
   "id": "f4904bc3",
   "metadata": {},
   "outputs": [],
   "source": [
    "SELECT *\n",
    "FROM Customers\n",
    "WHERE Phone LIKE '+1-___-___-____';"
   ]
  },
  {
   "cell_type": "markdown",
   "id": "e21b659f",
   "metadata": {},
   "source": [
    "**Q7. Write an SQL query to retrieve the top 5 customers with the highest total purchase amount from a table named \"Orders\" and display their names and total purchase amounts.**\n",
    "\n",
    "**Ans :** "
   ]
  },
  {
   "cell_type": "code",
   "execution_count": null,
   "id": "2e67a3c5",
   "metadata": {},
   "outputs": [],
   "source": [
    "SELECT Customers.Name, SUM(Orders.Amount) AS TotalPurchaseAmount\n",
    "FROM Orders\n",
    "JOIN Customers ON Orders.CustomerID = Customers.ID\n",
    "GROUP BY Customers.Name\n",
    "ORDER BY TotalPurchaseAmount DESC\n",
    "LIMIT 5;"
   ]
  },
  {
   "cell_type": "markdown",
   "id": "afa38979",
   "metadata": {},
   "source": [
    "**Q8. Write an SQL query to calculate the percentage of sales for each product category in a table named \"Sales\" and display the category name, total sales amount, and the percentage of total sales.**\n",
    "\n",
    "**Ans :**"
   ]
  },
  {
   "cell_type": "code",
   "execution_count": null,
   "id": "1a91d21a",
   "metadata": {},
   "outputs": [],
   "source": [
    "SELECT Category, SUM(Amount) AS TotalSales,\n",
    "       (SUM(Amount) / (SELECT SUM(Amount) FROM Sales)) * 100 AS PercentageOfTotalSales\n",
    "FROM Sales\n",
    "GROUP BY Category;"
   ]
  },
  {
   "cell_type": "markdown",
   "id": "026fbb41",
   "metadata": {},
   "source": [
    "**Q9. Write an SQL query to find the customers who have made the highest total purchases across all years from a table named \"Orders\" and display their names, email addresses, and the total purchase amount.**\n",
    "\n",
    "**Ans :**"
   ]
  },
  {
   "cell_type": "code",
   "execution_count": null,
   "id": "e2038c10",
   "metadata": {},
   "outputs": [],
   "source": [
    "SELECT Customers.Name, Customers.Email, SUM(Orders.Amount) AS TotalPurchaseAmount\n",
    "FROM Orders\n",
    "JOIN Customers ON Orders.CustomerID = Customers.ID\n",
    "GROUP BY Customers.Name, Customers.Email\n",
    "HAVING SUM(Orders.Amount) = (\n",
    "    SELECT MAX(TotalAmount)\n",
    "    FROM (\n",
    "        SELECT SUM(Amount) AS TotalAmount\n",
    "        FROM Orders\n",
    "        GROUP BY CustomerID\n",
    "    ) AS Subquery\n",
    ");"
   ]
  }
 ],
 "metadata": {
  "kernelspec": {
   "display_name": "Python 3 (ipykernel)",
   "language": "python",
   "name": "python3"
  },
  "language_info": {
   "codemirror_mode": {
    "name": "ipython",
    "version": 3
   },
   "file_extension": ".py",
   "mimetype": "text/x-python",
   "name": "python",
   "nbconvert_exporter": "python",
   "pygments_lexer": "ipython3",
   "version": "3.9.12"
  },
  "latex_envs": {
   "LaTeX_envs_menu_present": true,
   "autoclose": false,
   "autocomplete": true,
   "bibliofile": "biblio.bib",
   "cite_by": "apalike",
   "current_citInitial": 1,
   "eqLabelWithNumbers": true,
   "eqNumInitial": 1,
   "hotkeys": {
    "equation": "Ctrl-E",
    "itemize": "Ctrl-I"
   },
   "labels_anchors": false,
   "latex_user_defs": false,
   "report_style_numbering": false,
   "user_envs_cfg": false
  },
  "nbTranslate": {
   "displayLangs": [
    "*"
   ],
   "hotkey": "alt-t",
   "langInMainMenu": true,
   "sourceLang": "en",
   "targetLang": "fr",
   "useGoogleTranslate": true
  },
  "toc": {
   "base_numbering": 1,
   "nav_menu": {},
   "number_sections": true,
   "sideBar": true,
   "skip_h1_title": false,
   "title_cell": "Table of Contents",
   "title_sidebar": "Contents",
   "toc_cell": false,
   "toc_position": {},
   "toc_section_display": true,
   "toc_window_display": false
  },
  "varInspector": {
   "cols": {
    "lenName": 16,
    "lenType": 16,
    "lenVar": 40
   },
   "kernels_config": {
    "python": {
     "delete_cmd_postfix": "",
     "delete_cmd_prefix": "del ",
     "library": "var_list.py",
     "varRefreshCmd": "print(var_dic_list())"
    },
    "r": {
     "delete_cmd_postfix": ") ",
     "delete_cmd_prefix": "rm(",
     "library": "var_list.r",
     "varRefreshCmd": "cat(var_dic_list()) "
    }
   },
   "types_to_exclude": [
    "module",
    "function",
    "builtin_function_or_method",
    "instance",
    "_Feature"
   ],
   "window_display": false
  }
 },
 "nbformat": 4,
 "nbformat_minor": 5
}
