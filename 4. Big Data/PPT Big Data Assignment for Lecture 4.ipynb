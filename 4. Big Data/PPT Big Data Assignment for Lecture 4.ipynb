{
 "cells": [
  {
   "cell_type": "markdown",
   "id": "fa3fa567",
   "metadata": {},
   "source": [
    "![image](https://user-images.githubusercontent.com/57321948/196933065-4b16c235-f3b9-4391-9cfe-4affcec87c35.png)\n",
    "\n",
    "# Submitted by: Mohammad Wasiq\n",
    "\n",
    "## Email: `gl0427@myamu.ac.in`\n",
    "\n",
    "# Pre-Placement Training Assignment - `Big Data` \n",
    "\n",
    "## Hive"
   ]
  },
  {
   "cell_type": "markdown",
   "id": "0fef4477",
   "metadata": {},
   "source": [
    "**Q1.  Write a Python program that uses the HiveQL language to create a table named \"Employees\" with columns for \"id,\" \"name,\" and \"salary.\"**\n",
    "\n",
    "**Ans :**"
   ]
  },
  {
   "cell_type": "code",
   "execution_count": null,
   "id": "9becef60",
   "metadata": {},
   "outputs": [],
   "source": [
    "from pyhive import hive\n",
    "\n",
    "# Connect to Hive\n",
    "conn = hive.Connection(host='localhost', port=10000, username='your_username')\n",
    "\n",
    "# Create the table\n",
    "with conn.cursor() as cursor:\n",
    "    create_table_query = '''\n",
    "        CREATE TABLE Employees (\n",
    "            id INT,\n",
    "            name STRING,\n",
    "            salary FLOAT\n",
    "        )\n",
    "    '''\n",
    "    cursor.execute(create_table_query)\n",
    "\n",
    "# Close the connection\n",
    "conn.close()"
   ]
  },
  {
   "cell_type": "markdown",
   "id": "c6f4040a",
   "metadata": {},
   "source": [
    "**Q2.  Create a Python program that retrieves records from a Hive table named \"Customers\" where the age is greater than 30.**\n",
    "\n",
    "**Ans :**"
   ]
  },
  {
   "cell_type": "code",
   "execution_count": null,
   "id": "0c98ed15",
   "metadata": {},
   "outputs": [],
   "source": [
    "from pyhive import hive\n",
    "\n",
    "# Connect to Hive\n",
    "conn = hive.Connection(host='localhost', port=10000, username='your_username')\n",
    "\n",
    "# Retrieve records\n",
    "with conn.cursor() as cursor:\n",
    "    select_query = \"SELECT * FROM Customers WHERE age > 30\"\n",
    "    cursor.execute(select_query)\n",
    "    records = cursor.fetchall()\n",
    "\n",
    "# Process retrieved records\n",
    "for record in records:\n",
    "    print(record)\n",
    "\n",
    "# Close the connection\n",
    "conn.close()"
   ]
  },
  {
   "cell_type": "markdown",
   "id": "cc1a870c",
   "metadata": {},
   "source": [
    "**Q3.  Write a Python script that sorts records in descending order based on the \"timestamp\" column in a Hive table named \"Logs.\"**\n",
    "\n",
    "**Ans :**"
   ]
  },
  {
   "cell_type": "code",
   "execution_count": null,
   "id": "0d3c1a6a",
   "metadata": {},
   "outputs": [],
   "source": [
    "from pyhive import hive\n",
    "\n",
    "# Connect to Hive\n",
    "conn = hive.Connection(host='localhost', port=10000, username='your_username')\n",
    "\n",
    "# Sort records\n",
    "with conn.cursor() as cursor:\n",
    "    sort_query = \"SELECT * FROM Logs ORDER BY timestamp DESC\"\n",
    "    cursor.execute(sort_query)\n",
    "    sorted_records = cursor.fetchall()\n",
    "\n",
    "# Process sorted records\n",
    "for record in sorted_records:\n",
    "    print(record)\n",
    "\n",
    "# Close the connection\n",
    "conn.close()"
   ]
  },
  {
   "cell_type": "markdown",
   "id": "02b3c429",
   "metadata": {},
   "source": [
    "**Q4.  Write a Python program that connects to a Hive server using PyHive library and retrieves all records from a table named \"Products\".**\n",
    "\n",
    "**Ans :**"
   ]
  },
  {
   "cell_type": "code",
   "execution_count": null,
   "id": "fe84acb0",
   "metadata": {},
   "outputs": [],
   "source": [
    "from pyhive import hive\n",
    "\n",
    "# Connect to Hive\n",
    "conn = hive.Connection(host='localhost', port=10000, username='your_username')\n",
    "\n",
    "# Retrieve records\n",
    "with conn.cursor() as cursor:\n",
    "    select_query = \"SELECT * FROM Products\"\n",
    "    cursor.execute(select_query)\n",
    "    records = cursor.fetchall()\n",
    "\n",
    "# Process the records\n",
    "for record in records:\n",
    "    print(record)\n",
    "\n",
    "# Close the connection\n",
    "conn.close()"
   ]
  },
  {
   "cell_type": "markdown",
   "id": "b39242f8",
   "metadata": {},
   "source": [
    "**Q5.  Write a Python script that calculates the average salary of employees from a Hive table named \"Employees\".**\n",
    "\n",
    "**Ans :**"
   ]
  },
  {
   "cell_type": "code",
   "execution_count": null,
   "id": "be2e9439",
   "metadata": {},
   "outputs": [],
   "source": [
    "from pyhive import hive\n",
    "\n",
    "# Connect to Hive\n",
    "conn = hive.Connection(host='localhost', port=10000, username='your_username')\n",
    "\n",
    "# Calculate average salary\n",
    "with conn.cursor() as cursor:\n",
    "    select_query = \"SELECT AVG(salary) FROM Employees\"\n",
    "    cursor.execute(select_query)\n",
    "    average_salary = cursor.fetchone()[0]\n",
    "\n",
    "# Print the average salary\n",
    "print(\"Average Salary:\", average_salary)\n",
    "\n",
    "# Close the connection\n",
    "conn.close()"
   ]
  },
  {
   "cell_type": "markdown",
   "id": "b45b8090",
   "metadata": {},
   "source": [
    "**Q6.  Implement a Python program that uses Hive partitioning to create a partitioned table named \"Sales_Data\" based on the \"year\" and \"month\" columns.**\n",
    "\n",
    "**Ans :**"
   ]
  },
  {
   "cell_type": "code",
   "execution_count": null,
   "id": "6bbeecda",
   "metadata": {},
   "outputs": [],
   "source": [
    "from pyhive import hive\n",
    "\n",
    "# Connect to Hive\n",
    "conn = hive.Connection(host='localhost', port=10000, username='your_username')\n",
    "\n",
    "# Create the partitioned table\n",
    "with conn.cursor() as cursor:\n",
    "    create_table_query = \"\"\"\n",
    "    CREATE TABLE Sales_Data (\n",
    "        id INT,\n",
    "        product_name STRING,\n",
    "        sales_amount DOUBLE\n",
    "    )\n",
    "    PARTITIONED BY (year INT, month INT)\n",
    "    \"\"\"\n",
    "    cursor.execute(create_table_query)\n",
    "\n",
    "# Add partitions to the table\n",
    "with conn.cursor() as cursor:\n",
    "    add_partition_query = \"\"\"\n",
    "    ALTER TABLE Sales_Data ADD PARTITION (year=2022, month=1)\n",
    "    \"\"\"\n",
    "    cursor.execute(add_partition_query)\n",
    "\n",
    "# Close the connection\n",
    "conn.close()"
   ]
  },
  {
   "cell_type": "markdown",
   "id": "e21b659f",
   "metadata": {},
   "source": [
    "**Q7.  Develop a Python script that adds a new column named \"email\" of type string to an existing Hive table named \"Employees.\"**\n",
    "\n",
    "**Ans :**"
   ]
  },
  {
   "cell_type": "code",
   "execution_count": null,
   "id": "ec548ef7",
   "metadata": {},
   "outputs": [],
   "source": [
    "from pyhive import hive\n",
    "\n",
    "# Connect to Hive\n",
    "conn = hive.Connection(host='localhost', port=10000, username='your_username')\n",
    "\n",
    "# Add the email column to the table\n",
    "with conn.cursor() as cursor:\n",
    "    alter_table_query = \"\"\"\n",
    "    ALTER TABLE Employees\n",
    "    ADD COLUMNS (email STRING)\n",
    "    \"\"\"\n",
    "    cursor.execute(alter_table_query)\n",
    "\n",
    "# Close the connection\n",
    "conn.close()"
   ]
  },
  {
   "cell_type": "markdown",
   "id": "afa38979",
   "metadata": {},
   "source": [
    "**Q8.  Create a Python program that performs an inner join between two Hive tables, \"Orders\" and \"Customers,\" based on a common column.**\n",
    "\n",
    "**Ans :**"
   ]
  },
  {
   "cell_type": "code",
   "execution_count": null,
   "id": "ef2b6864",
   "metadata": {},
   "outputs": [],
   "source": [
    "from pyhive import hive\n",
    "\n",
    "# Connect to Hive\n",
    "conn = hive.Connection(host='localhost', port=10000, username='your_username')\n",
    "\n",
    "# Perform inner join between Orders and Customers tables\n",
    "with conn.cursor() as cursor:\n",
    "    join_query = \"\"\"\n",
    "    SELECT *\n",
    "    FROM Orders\n",
    "    INNER JOIN Customers ON Orders.customer_id = Customers.customer_id\n",
    "    \"\"\"\n",
    "    cursor.execute(join_query)\n",
    "\n",
    "    # Fetch the result\n",
    "    result = cursor.fetchall()\n",
    "    for row in result:\n",
    "        print(row)\n",
    "\n",
    "# Close the connection\n",
    "conn.close()"
   ]
  },
  {
   "cell_type": "markdown",
   "id": "026fbb41",
   "metadata": {},
   "source": [
    "**Q9.  Implement a Python program that uses the Hive SerDe library to process JSON data stored in a Hive table named \"User_Activity_Logs.\"**\n",
    "\n",
    "**Ans :**"
   ]
  },
  {
   "cell_type": "code",
   "execution_count": null,
   "id": "54db3865",
   "metadata": {},
   "outputs": [],
   "source": [
    "from pyhive import hive\n",
    "\n",
    "# Connect to Hive\n",
    "conn = hive.Connection(host='localhost', port=10000, username='your_username')\n",
    "\n",
    "# Enable the Hive SerDe library for JSON processing\n",
    "with conn.cursor() as cursor:\n",
    "    enable_json_serde_query = \"ADD JAR hdfs:///path/to/hive-serdes-x.x.x.jar\"\n",
    "    cursor.execute(enable_json_serde_query)\n",
    "\n",
    "    # Create a Hive table using the JSON SerDe\n",
    "    create_table_query = \"\"\"\n",
    "    CREATE TABLE IF NOT EXISTS User_Activity_Logs (\n",
    "        user_id INT,\n",
    "        activity STRING\n",
    "    )\n",
    "    ROW FORMAT SERDE 'org.apache.hive.hcatalog.data.JsonSerDe'\n",
    "    \"\"\"\n",
    "    cursor.execute(create_table_query)\n",
    "\n",
    "    # Query the JSON data\n",
    "    query = \"SELECT * FROM User_Activity_Logs\"\n",
    "    cursor.execute(query)\n",
    "\n",
    "    # Fetch the result\n",
    "    result = cursor.fetchall()\n",
    "    for row in result:\n",
    "        print(row)\n",
    "\n",
    "# Close the connection\n",
    "conn.close()"
   ]
  }
 ],
 "metadata": {
  "kernelspec": {
   "display_name": "Python 3 (ipykernel)",
   "language": "python",
   "name": "python3"
  },
  "language_info": {
   "codemirror_mode": {
    "name": "ipython",
    "version": 3
   },
   "file_extension": ".py",
   "mimetype": "text/x-python",
   "name": "python",
   "nbconvert_exporter": "python",
   "pygments_lexer": "ipython3",
   "version": "3.9.12"
  },
  "latex_envs": {
   "LaTeX_envs_menu_present": true,
   "autoclose": false,
   "autocomplete": true,
   "bibliofile": "biblio.bib",
   "cite_by": "apalike",
   "current_citInitial": 1,
   "eqLabelWithNumbers": true,
   "eqNumInitial": 1,
   "hotkeys": {
    "equation": "Ctrl-E",
    "itemize": "Ctrl-I"
   },
   "labels_anchors": false,
   "latex_user_defs": false,
   "report_style_numbering": false,
   "user_envs_cfg": false
  },
  "nbTranslate": {
   "displayLangs": [
    "*"
   ],
   "hotkey": "alt-t",
   "langInMainMenu": true,
   "sourceLang": "en",
   "targetLang": "fr",
   "useGoogleTranslate": true
  },
  "toc": {
   "base_numbering": 1,
   "nav_menu": {},
   "number_sections": true,
   "sideBar": true,
   "skip_h1_title": false,
   "title_cell": "Table of Contents",
   "title_sidebar": "Contents",
   "toc_cell": false,
   "toc_position": {},
   "toc_section_display": true,
   "toc_window_display": false
  },
  "varInspector": {
   "cols": {
    "lenName": 16,
    "lenType": 16,
    "lenVar": 40
   },
   "kernels_config": {
    "python": {
     "delete_cmd_postfix": "",
     "delete_cmd_prefix": "del ",
     "library": "var_list.py",
     "varRefreshCmd": "print(var_dic_list())"
    },
    "r": {
     "delete_cmd_postfix": ") ",
     "delete_cmd_prefix": "rm(",
     "library": "var_list.r",
     "varRefreshCmd": "cat(var_dic_list()) "
    }
   },
   "types_to_exclude": [
    "module",
    "function",
    "builtin_function_or_method",
    "instance",
    "_Feature"
   ],
   "window_display": false
  }
 },
 "nbformat": 4,
 "nbformat_minor": 5
}
