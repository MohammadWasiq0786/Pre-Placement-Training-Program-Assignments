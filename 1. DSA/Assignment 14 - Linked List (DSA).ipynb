{
 "cells": [
  {
   "cell_type": "markdown",
   "id": "a57f40a1",
   "metadata": {},
   "source": [
    "![image](https://user-images.githubusercontent.com/57321948/196933065-4b16c235-f3b9-4391-9cfe-4affcec87c35.png)\n",
    "\n",
    "# Submitted by: Mohammad Wasiq\n",
    "\n",
    "## Email: `gl0427@myamu.ac.in`\n",
    "\n",
    "# DSA (Data Structures and Algorithms) Assignment 14 - Linked List"
   ]
  },
  {
   "cell_type": "markdown",
   "id": "5d6fb39c",
   "metadata": {},
   "source": [
    "**Question 1**\n",
    "- Given a linked list of N nodes such that it may contain a loop.\n",
    "A loop here means that the last node of the link list is\n",
    "connected to the node at position X(1-based index). If the link\n",
    "list does not have any loop, X=0.\n",
    "Remove the loop from the linked list, if it is present, i.e. unlink\n",
    "the last node which is forming the loop.\n",
    "- Example 1:\n",
    "Input: N = 3 value[] = {1,3,4} X = 2 Output:1 \n",
    "- Explanation:The link list looks like 1 -> 3 -> 4 to 3. A loop is present. If you remove it successfully, the answer will be 1.\n",
    "- Example 2:\n",
    "Input: N = 4 value[] = {1,8,3,4} X = 0 Output:1\n",
    "- Explanation:The Linked list does not contains any loop.\n",
    "- Example 3:\n",
    "Input: N = 4 value[] = {1,2,3,4} X = 1 Output:1\n",
    "- Explanation:The link list looks like 1 -> 2 -> 3-> 4 to 1. A loop is present. If you remove it successfully, the answer will be 1."
   ]
  },
  {
   "cell_type": "code",
   "execution_count": 1,
   "id": "bd6a7639",
   "metadata": {},
   "outputs": [],
   "source": [
    "class Node:\n",
    "    def __init__(self, data):\n",
    "        self.data = data\n",
    "        self.next = None\n",
    "\n",
    "def remove_loop(head):\n",
    "    if head is None or head.next is None:\n",
    "        return 0\n",
    "\n",
    "    slow_ptr = head\n",
    "    fast_ptr = head\n",
    "\n",
    "    # Move the pointers until they meet or reach the end of the linked list\n",
    "    while fast_ptr and fast_ptr.next:\n",
    "        slow_ptr = slow_ptr.next\n",
    "        fast_ptr = fast_ptr.next.next\n",
    "\n",
    "        if slow_ptr == fast_ptr:\n",
    "            # Loop detected, break the loop by setting the next pointer of the meeting point to None\n",
    "            slow_ptr = head\n",
    "            while slow_ptr.next != fast_ptr.next:\n",
    "                slow_ptr = slow_ptr.next\n",
    "                fast_ptr = fast_ptr.next\n",
    "            fast_ptr.next = None\n",
    "            return 1\n",
    "\n",
    "    return 0"
   ]
  },
  {
   "cell_type": "code",
   "execution_count": 2,
   "id": "22ee3340",
   "metadata": {},
   "outputs": [
    {
     "name": "stdout",
     "output_type": "stream",
     "text": [
      "1\n"
     ]
    }
   ],
   "source": [
    "# Example: 01\n",
    "head1 = Node(1)\n",
    "head1.next = Node(3)\n",
    "head1.next.next = Node(4)\n",
    "head1.next.next.next = head1.next  # Creating a loop\n",
    "\n",
    "print(remove_loop(head1))  # Output: 1"
   ]
  },
  {
   "cell_type": "code",
   "execution_count": 3,
   "id": "244dde64",
   "metadata": {},
   "outputs": [
    {
     "name": "stdout",
     "output_type": "stream",
     "text": [
      "0\n"
     ]
    }
   ],
   "source": [
    "# Example: 02\n",
    "head2 = Node(1)\n",
    "head2.next = Node(8)\n",
    "head2.next.next = Node(3)\n",
    "head2.next.next.next = Node(4)\n",
    "\n",
    "print(remove_loop(head2))  # Output: 0"
   ]
  },
  {
   "cell_type": "code",
   "execution_count": 4,
   "id": "f1f7f2e8",
   "metadata": {},
   "outputs": [
    {
     "name": "stdout",
     "output_type": "stream",
     "text": [
      "1\n"
     ]
    }
   ],
   "source": [
    "# Example: 03\n",
    "head3 = Node(1)\n",
    "head3.next = Node(2)\n",
    "head3.next.next = Node(3)\n",
    "head3.next.next.next = Node(4)\n",
    "head3.next.next.next.next = head3  # Creating a loop\n",
    "\n",
    "print(remove_loop(head3))  # Output: 1"
   ]
  },
  {
   "cell_type": "markdown",
   "id": "c791bac9",
   "metadata": {},
   "source": [
    "**Question 2**\n",
    "- A number N is represented in Linked List such that each digit corresponds to a node in linked list. You need to add 1 to it.\n",
    "- Example 1:\n",
    "Input: LinkedList: 4->5->6 Output:457\n",
    "- Example 2:\n",
    "Input: LinkedList: 1->2->3 Output:124"
   ]
  },
  {
   "cell_type": "code",
   "execution_count": 5,
   "id": "eca3ce83",
   "metadata": {},
   "outputs": [],
   "source": [
    "class list_node:\n",
    "    def __init__(self, val=0, next=None):\n",
    "        self.val = val\n",
    "        self.next = next\n",
    "\n",
    "def add_one(head):\n",
    "    # Step 1: Reverse the linked list\n",
    "    prev = None\n",
    "    current = head\n",
    "    while current:\n",
    "        next_node = current.next\n",
    "        current.next = prev\n",
    "        prev = current\n",
    "        current = next_node\n",
    "    head = prev\n",
    "\n",
    "    # Step 2: Traverse the reversed linked list and add 1\n",
    "    carry = 1\n",
    "    current = head\n",
    "    while current:\n",
    "        total = current.val + carry\n",
    "        current.val = total % 10\n",
    "        carry = total // 10\n",
    "        if not carry:\n",
    "            break\n",
    "        current = current.next\n",
    "\n",
    "    # Step 3: Reverse the modified linked list\n",
    "    prev = None\n",
    "    current = head\n",
    "    while current:\n",
    "        next_node = current.next\n",
    "        current.next = prev\n",
    "        prev = current\n",
    "        current = next_node\n",
    "    head = prev\n",
    "\n",
    "    return head"
   ]
  },
  {
   "cell_type": "code",
   "execution_count": 6,
   "id": "59015dae",
   "metadata": {},
   "outputs": [
    {
     "name": "stdout",
     "output_type": "stream",
     "text": [
      "4 5 7 "
     ]
    }
   ],
   "source": [
    "# Given Use Case:\n",
    "\n",
    "# Create the linked list: 4 -> 5 -> 6\n",
    "head = list_node(4)\n",
    "head.next = list_node(5)\n",
    "head.next.next = list_node(6)\n",
    "\n",
    "# Add 1 to the linked list\n",
    "result = add_one(head)\n",
    "\n",
    "# Print the result: 4 -> 5 -> 7\n",
    "while result:\n",
    "    print(result.val, end=\" \")\n",
    "    result = result.next"
   ]
  },
  {
   "cell_type": "code",
   "execution_count": 7,
   "id": "351ebfa6",
   "metadata": {},
   "outputs": [
    {
     "name": "stdout",
     "output_type": "stream",
     "text": [
      "1 2 4 "
     ]
    }
   ],
   "source": [
    "# Create the linked list: 1 -> 2 -> 3\n",
    "head = list_node(1)\n",
    "head.next = list_node(2)\n",
    "head.next.next = list_node(3)\n",
    "\n",
    "# Add 1 to the linked list\n",
    "result = add_one(head)\n",
    "\n",
    "# Print the result: 1 -> 2 -> 4\n",
    "while result:\n",
    "    print(result.val, end=\" \")\n",
    "    result = result.next"
   ]
  },
  {
   "cell_type": "markdown",
   "id": "fe14ee64",
   "metadata": {},
   "source": [
    "**Question 3**\n",
    "- Given a Linked List of size N, where every node represents a\n",
    "sub-linked-list and contains two pointers:(i) a next pointer to\n",
    "the next node,(ii) a bottom pointer to a linked list where this\n",
    "node is head.Each of the sub-linked-list is in sorted\n",
    "order.Flatten the Link List such that all the nodes appear in a\n",
    "single level while maintaining the sorted order. Note: The\n",
    "flattened list will be printed using the bottom pointer instead of\n",
    "next pointer.\n",
    "- Example 1:\n",
    "Input: 5 -> 10 -> 19 -> 28 | | | | 7 20 22 35 |\n",
    "| | 8 50 40 | | 30 45 Output: 5-> 7-> 8- > 10 ->\n",
    "19-> 20-> 22-> 28-> 30-> 35-> 40-> 45-> 50. Expl\n",
    "anation: The resultant linked lists has every no\n",
    "de in a single level.(Note:| represents the bott\n",
    "om pointer.)\n",
    "- Example 2:\n",
    "Input: 5 -> 10 -> 19 -> 28 | | 7 22 | | 8 50 | 3\n",
    "0 Output: 5->7->8->10->19->22->28->30->50 Explan\n",
    "ation: The resultant linked lists has every node\n",
    "in a single level. (Note:| represents the bottom\n",
    "pointer.)"
   ]
  },
  {
   "cell_type": "code",
   "execution_count": 8,
   "id": "2965835e",
   "metadata": {},
   "outputs": [],
   "source": [
    "class ListNode:\n",
    "    def __init__(self, val=0, next=None, bottom=None):\n",
    "        self.val = val\n",
    "        self.next = next\n",
    "        self.bottom = bottom\n",
    "\n",
    "def merge_lists(list1, list2):\n",
    "    dummy = ListNode(0)\n",
    "    tail = dummy\n",
    "\n",
    "    while list1 and list2:\n",
    "        if list1.val < list2.val:\n",
    "            tail.bottom = list1\n",
    "            list1 = list1.bottom\n",
    "        else:\n",
    "            tail.bottom = list2\n",
    "            list2 = list2.bottom\n",
    "        tail = tail.bottom\n",
    "\n",
    "    if list1:\n",
    "        tail.bottom = list1\n",
    "    else:\n",
    "        tail.bottom = list2\n",
    "\n",
    "    return dummy.bottom\n",
    "\n",
    "def flatten(head):\n",
    "    if not head or not head.next:\n",
    "        return head\n",
    "\n",
    "    head.next = flatten(head.next)\n",
    "\n",
    "    head = merge_lists(head, head.next)\n",
    "\n",
    "    return head"
   ]
  },
  {
   "cell_type": "code",
   "execution_count": 9,
   "id": "18740712",
   "metadata": {},
   "outputs": [
    {
     "name": "stdout",
     "output_type": "stream",
     "text": [
      "5 -> 7 -> 8 -> 10 -> 19 -> 20 -> 22 -> 28 -> 30 -> 35 -> 40 -> 45 -> 50 -> "
     ]
    }
   ],
   "source": [
    "# Example 1\n",
    "head1 = ListNode(5)\n",
    "head1.next = ListNode(10)\n",
    "head1.next.next = ListNode(19)\n",
    "head1.next.next.next = ListNode(28)\n",
    "\n",
    "head1.bottom = ListNode(7)\n",
    "head1.bottom.bottom = ListNode(8)\n",
    "head1.bottom.bottom.bottom = ListNode(30)\n",
    "\n",
    "head1.next.bottom = ListNode(20)\n",
    "\n",
    "head1.next.next.bottom = ListNode(22)\n",
    "head1.next.next.bottom.bottom = ListNode(50)\n",
    "\n",
    "head1.next.next.next.bottom = ListNode(35)\n",
    "head1.next.next.next.bottom.bottom = ListNode(40)\n",
    "head1.next.next.next.bottom.bottom.bottom = ListNode(45)\n",
    "\n",
    "result1 = flatten(head1)\n",
    "while result1:\n",
    "    print(result1.val, end=\" -> \")\n",
    "    result1 = result1.bottom   # Output: 5-> 7-> 8- > 10 -> 19-> 20-> 22-> 28-> 30-> 35-> 40-> 45-> 50."
   ]
  },
  {
   "cell_type": "code",
   "execution_count": 10,
   "id": "eb622ea6",
   "metadata": {},
   "outputs": [
    {
     "name": "stdout",
     "output_type": "stream",
     "text": [
      "5 -> 7 -> 8 -> 10 -> 19 -> 22 -> 28 -> 30 -> 50 -> "
     ]
    }
   ],
   "source": [
    "# Example 2\n",
    "head2 = ListNode(5)\n",
    "head2.next = ListNode(10)\n",
    "head2.next.next = ListNode(19)\n",
    "head2.next.next.next = ListNode(28)\n",
    "\n",
    "head2.bottom = ListNode(7)\n",
    "head2.bottom.bottom = ListNode(8)\n",
    "head2.bottom.bottom.bottom = ListNode(30)\n",
    "\n",
    "head2.next.next.bottom = ListNode(22)\n",
    "head2.next.next.bottom.bottom = ListNode(50)\n",
    "\n",
    "result2 = flatten(head2)\n",
    "while result2:\n",
    "    print(result2.val, end=\" -> \")\n",
    "    result2 = result2.bottom  # Output: 5-> 7-> 8-> 10-> 19-> 22-> 28-> 30-> 50"
   ]
  },
  {
   "cell_type": "markdown",
   "id": "c3791e5a",
   "metadata": {},
   "source": [
    "**Question 4**\n",
    "- You are given a special linked list with N nodes where each\n",
    "node has a next pointer pointing to its next node. You are also\n",
    "given M random pointers, where you will be given M number\n",
    "of pairs denoting two nodes a and b i.e. a->arb = b (arb is\n",
    "pointer to random node).\n",
    "- Construct a copy of the given list. The copy should consist of\n",
    "exactly N new nodes, where each new node has its value set\n",
    "to the value of its corresponding original node. Both the next\n",
    "and random pointer of the new nodes should point to new\n",
    "nodes in the copied list such that the pointers in the original\n",
    "list and copied list represent the same list state. None of the\n",
    "pointers in the new list should point to nodes in the original\n",
    "list.\n",
    "- For example, if there are two nodes X and Y in the original list,\n",
    "where X.arb --> Y, then for the corresponding two\n",
    "nodes x and y in the copied list, x.arb --> y.\n",
    "Return the head of the copied linked list.\n",
    "\n",
    "- Note :- The diagram isn't part of any example, it just depicts an example of how the linked list may look like.\n",
    "\n",
    "- Example 1:\n",
    "Input: N = 4, M = 2 value = {1,2,3,4} pairs =\n",
    "{{1,2},{2,4}} Output:1 \n",
    "- Explanation:In this test\n",
    "case, there are 4 nodes in linked list. Among t\n",
    "hese 4 nodes, 2 nodes have arbitrary pointer set, rest two nodes have arbitrary pointer as NULL. Second line tells us the value of four nodes.\n",
    "The third line gives the information about arbit\n",
    "rary pointers. The first node arbitrary pointer\n",
    "is set to node 2. The second node arbitrary poi\n",
    "nter is set to node 4.\n",
    "\n",
    "- Example 2:\n",
    "Input: N = 4, M = 2 value[] = {1,3,5,9} pairs[]\n",
    "= {{1,1},{3,4}} Output:1 \n",
    "- Explanation:In the give\n",
    "n testcase , applying the method as stated in th\n",
    "e above example, the output will be 1."
   ]
  },
  {
   "cell_type": "code",
   "execution_count": 11,
   "id": "7891cbcc",
   "metadata": {},
   "outputs": [],
   "source": [
    "class ListNode:\n",
    "    def __init__(self, x):\n",
    "        self.val = x\n",
    "        self.next = None\n",
    "        self.random = None\n",
    "\n",
    "def copy_random_list(N, M, values, pairs):\n",
    "    if N == 0:\n",
    "        return None\n",
    "\n",
    "    # Create the original list\n",
    "    head = ListNode(values[0])\n",
    "    current = head\n",
    "    nodes = [head]\n",
    "    for i in range(1, N):\n",
    "        new_node = ListNode(values[i])\n",
    "        current.next = new_node\n",
    "        current = current.next\n",
    "        nodes.append(current)\n",
    "\n",
    "    # Connect the random pointers of the original list\n",
    "    for src, dest in pairs:\n",
    "        nodes[src - 1].random = nodes[dest - 1]\n",
    "\n",
    "    # First pass: Create new nodes and connect them in the next direction\n",
    "    node_map = {}\n",
    "    current = head\n",
    "    new_head = ListNode(0)\n",
    "    new_current = new_head\n",
    "\n",
    "    while current:\n",
    "        new_node = ListNode(current.val)\n",
    "        node_map[current] = new_node\n",
    "        new_current.next = new_node\n",
    "\n",
    "        current = current.next\n",
    "        new_current = new_current.next\n",
    "\n",
    "    # Second pass: Connect the random pointers of the new nodes\n",
    "    current = head\n",
    "    new_current = new_head.next\n",
    "\n",
    "    while current:\n",
    "        if current.random:\n",
    "            new_current.random = node_map[current.random]\n",
    "\n",
    "        current = current.next\n",
    "        new_current = new_current.next\n",
    "\n",
    "    return node_map[head].val"
   ]
  },
  {
   "cell_type": "code",
   "execution_count": 12,
   "id": "c3d5060d",
   "metadata": {},
   "outputs": [
    {
     "name": "stdout",
     "output_type": "stream",
     "text": [
      "1\n"
     ]
    }
   ],
   "source": [
    "# Example: 01\n",
    "N = 4\n",
    "M = 2\n",
    "values = [1, 2, 3, 4]\n",
    "pairs = [[1, 2], [2, 4]]\n",
    "\n",
    "result = copy_random_list(N, M, values, pairs)\n",
    "print(result)  # Output: 1"
   ]
  },
  {
   "cell_type": "code",
   "execution_count": 13,
   "id": "1565680c",
   "metadata": {},
   "outputs": [
    {
     "name": "stdout",
     "output_type": "stream",
     "text": [
      "1\n"
     ]
    }
   ],
   "source": [
    "# Example: 02\n",
    "N = 4\n",
    "M = 2\n",
    "values = [1, 3, 5, 9]\n",
    "pairs = [[1, 1], [3, 4]]\n",
    "\n",
    "result = copy_random_list(N, M, values, pairs)\n",
    "print(result)  # Output: 1"
   ]
  },
  {
   "cell_type": "markdown",
   "id": "5c3a6544",
   "metadata": {},
   "source": [
    "**Question 5**\n",
    "- Given the head of a singly linked list, group all the nodes with\n",
    "odd indices together followed by the nodes with even indices,\n",
    "and return the reordered list.\n",
    "The first node is considered odd, and the second node\n",
    "is even, and so on.\n",
    "- Note that the relative order inside both the even and odd\n",
    "groups should remain as it was in the input.\n",
    "You must solve the problem in O(1) extra space complexity\n",
    "and O(n) time complexity.\n",
    "- Example 1:\n",
    "Input: head = [1,2,3,4,5] Output: [1,3,5,2,4]\n",
    "- Example 2:\n",
    "Input: head = [2,1,3,5,6,4,7] Output: [2,3,6,7,1,5,4]"
   ]
  },
  {
   "cell_type": "code",
   "execution_count": 14,
   "id": "4da2e58c",
   "metadata": {},
   "outputs": [],
   "source": [
    "class ListNode:\n",
    "    def __init__(self, val=0, next=None):\n",
    "        self.val = val\n",
    "        self.next = next\n",
    "\n",
    "def odd_even_list(head):\n",
    "    if not head or not head.next:\n",
    "        return head\n",
    "\n",
    "    oddHead = head\n",
    "    evenHead = head.next\n",
    "    evenStart = evenHead\n",
    "\n",
    "    current = head.next.next\n",
    "    index = 3\n",
    "\n",
    "    while current:\n",
    "        if index % 2 == 1:\n",
    "            oddHead.next = current\n",
    "            oddHead = oddHead.next\n",
    "        else:\n",
    "            evenHead.next = current\n",
    "            evenHead = evenHead.next\n",
    "\n",
    "        current = current.next\n",
    "        index += 1\n",
    "\n",
    "    oddHead.next = evenStart if evenStart else None\n",
    "    if evenHead:\n",
    "        evenHead.next = None\n",
    "\n",
    "    return head"
   ]
  },
  {
   "cell_type": "code",
   "execution_count": 15,
   "id": "c94915a8",
   "metadata": {},
   "outputs": [
    {
     "name": "stdout",
     "output_type": "stream",
     "text": [
      "1 3 5 2 4 "
     ]
    }
   ],
   "source": [
    "# Given Use Case:\n",
    "# Example 1\n",
    "head1 = ListNode(1)\n",
    "head1.next = ListNode(2)\n",
    "head1.next.next = ListNode(3)\n",
    "head1.next.next.next = ListNode(4)\n",
    "head1.next.next.next.next = ListNode(5)\n",
    "\n",
    "result1 = odd_even_list(head1)\n",
    "while result1:\n",
    "    print(result1.val, end=\" \")\n",
    "    result1 = result1.next  # Output: 1 3 5 2 4"
   ]
  },
  {
   "cell_type": "code",
   "execution_count": 16,
   "id": "8b94f633",
   "metadata": {
    "scrolled": false
   },
   "outputs": [
    {
     "name": "stdout",
     "output_type": "stream",
     "text": [
      "2 3 6 7 1 5 4 "
     ]
    }
   ],
   "source": [
    "# Example 2\n",
    "head2 = ListNode(2)\n",
    "head2.next = ListNode(1)\n",
    "head2.next.next = ListNode(3)\n",
    "head2.next.next.next = ListNode(5)\n",
    "head2.next.next.next.next = ListNode(6)\n",
    "head2.next.next.next.next.next = ListNode(4)\n",
    "head2.next.next.next.next.next.next = ListNode(7)\n",
    "\n",
    "result2 = odd_even_list(head2)\n",
    "while result2:\n",
    "    print(result2.val, end=\" \")\n",
    "    result2 = result2.next   # Output: 2 3 6 7 1 5 4"
   ]
  },
  {
   "cell_type": "markdown",
   "id": "a8b91bd5",
   "metadata": {},
   "source": [
    "**Question 6**\n",
    "- Given a singly linked list of size N. The task is to left-shift the\n",
    "linked list by k nodes, where k is a given positive integer\n",
    "smaller than or equal to length of the linked list.\n",
    "- Example 1:\n",
    "Input: N = 5 value[] = {2, 4, 7, 8, 9} k = 3 Out\n",
    "put:8 9 2 4 7 \n",
    "- Explanation:Rotate 1:4 -> 7 -> 8 -> 9 -> 2 Rotate 2: 7 -> 8 -> 9 -> 2 -> 4 Rotate\n",
    "3: 8 -> 9 -> 2 -> 4 -> 7\n",
    "- Example 2:\n",
    "Input: N = 8 value[] = {1, 2, 3, 4, 5, 6, 7, 8}\n",
    "k = 4 Output:5 6 7 8 1 2 3 4"
   ]
  },
  {
   "cell_type": "code",
   "execution_count": 17,
   "id": "454ace0e",
   "metadata": {},
   "outputs": [],
   "source": [
    "class ListNode:\n",
    "    def __init__(self, val=0, next=None):\n",
    "        self.val = val\n",
    "        self.next = next\n",
    "\n",
    "def rotate_left(head, k):\n",
    "    if not head or not head.next or k == 0:\n",
    "        return head\n",
    "\n",
    "    # Find the length of the linked list\n",
    "    length = 1\n",
    "    tail = head\n",
    "    while tail.next:\n",
    "        length += 1\n",
    "        tail = tail.next\n",
    "\n",
    "    # Adjust the value of k if it exceeds the length of the linked list\n",
    "    k = k % length\n",
    "\n",
    "    if k == 0:\n",
    "        return head\n",
    "\n",
    "    # Find the (k+1)th node from the beginning\n",
    "    newHeadPrev = head\n",
    "    for _ in range(k - 1):\n",
    "        newHeadPrev = newHeadPrev.next\n",
    "\n",
    "    # Update the pointers to rotate the linked list\n",
    "    newHead = newHeadPrev.next\n",
    "    newTail = head\n",
    "    newHeadPrev.next = None\n",
    "    tail.next = head\n",
    "\n",
    "    return newHead"
   ]
  },
  {
   "cell_type": "code",
   "execution_count": 18,
   "id": "e860b784",
   "metadata": {},
   "outputs": [
    {
     "name": "stdout",
     "output_type": "stream",
     "text": [
      "8 9 2 4 7 "
     ]
    }
   ],
   "source": [
    "# Example 1\n",
    "head1 = ListNode(2)\n",
    "head1.next = ListNode(4)\n",
    "head1.next.next = ListNode(7)\n",
    "head1.next.next.next = ListNode(8)\n",
    "head1.next.next.next.next = ListNode(9)\n",
    "k1 = 3\n",
    "\n",
    "result1 = rotate_left(head1, k1)\n",
    "while result1:\n",
    "    print(result1.val, end=\" \")\n",
    "    result1 = result1.next  # Output: 8 9 2 4 7"
   ]
  },
  {
   "cell_type": "code",
   "execution_count": 19,
   "id": "bfa6390a",
   "metadata": {},
   "outputs": [
    {
     "name": "stdout",
     "output_type": "stream",
     "text": [
      "5 6 7 8 1 2 3 4 "
     ]
    }
   ],
   "source": [
    "# Example 2\n",
    "head2 = ListNode(1)\n",
    "head2.next = ListNode(2)\n",
    "head2.next.next = ListNode(3)\n",
    "head2.next.next.next = ListNode(4)\n",
    "head2.next.next.next.next = ListNode(5)\n",
    "head2.next.next.next.next.next = ListNode(6)\n",
    "head2.next.next.next.next.next.next = ListNode(7)\n",
    "head2.next.next.next.next.next.next.next = ListNode(8)\n",
    "k2 = 4\n",
    "\n",
    "result2 = rotate_left(head2, k2)\n",
    "while result2:\n",
    "    print(result2.val, end=\" \")\n",
    "    result2 = result2.next  # Output: 5 6 7 8 1 2 3 4"
   ]
  },
  {
   "cell_type": "markdown",
   "id": "ebdd143a",
   "metadata": {},
   "source": [
    "**Question 7**\n",
    "- You are given the head of a linked list with n nodes.\n",
    "For each node in the list, find the value of the next greater\n",
    "node. That is, for each node, find the value of the first node\n",
    "that is next to it and has a strictly larger value than it.\n",
    "Return an integer array answer where answer[i] is the\n",
    "value of the next greater node of the ith node (1-indexed).\n",
    "If the ith node does not have a next greater node,\n",
    "set answer[i] = 0 .\n",
    "- Example 1:\n",
    "Input: head = [2,1,5] Output: [5,5,0]\n",
    "- Example 2:\n",
    "Input: head = [2,7,4,3,5] Output: [7,0,5,5,0]"
   ]
  },
  {
   "cell_type": "code",
   "execution_count": 20,
   "id": "717d830f",
   "metadata": {},
   "outputs": [],
   "source": [
    "class ListNode:\n",
    "    def __init__(self, val=0, next=None):\n",
    "        self.val = val\n",
    "        self.next = next\n",
    "\n",
    "def next_larger_nodes(head):\n",
    "    # Step 1: Store node values in an array\n",
    "    node_values = []\n",
    "    current = head\n",
    "    while current:\n",
    "        node_values.append(current.val)\n",
    "        current = current.next\n",
    "\n",
    "    stack = []\n",
    "    answer = [0] * len(node_values)\n",
    "\n",
    "    for i in range(len(node_values)):\n",
    "        while stack and node_values[i] > node_values[stack[-1]]:\n",
    "            prev_index = stack.pop()\n",
    "            answer[prev_index] = node_values[i]\n",
    "        stack.append(i)\n",
    "\n",
    "    return answer"
   ]
  },
  {
   "cell_type": "code",
   "execution_count": 21,
   "id": "0c62281e",
   "metadata": {},
   "outputs": [
    {
     "name": "stdout",
     "output_type": "stream",
     "text": [
      "[5, 5, 0]\n"
     ]
    }
   ],
   "source": [
    "# Example 1\n",
    "head1 = ListNode(2)\n",
    "head1.next = ListNode(1)\n",
    "head1.next.next = ListNode(5)\n",
    "\n",
    "result1 = next_larger_nodes(head1)\n",
    "print(result1)  # Output: [5, 5, 0]"
   ]
  },
  {
   "cell_type": "code",
   "execution_count": 22,
   "id": "cae7c979",
   "metadata": {},
   "outputs": [
    {
     "name": "stdout",
     "output_type": "stream",
     "text": [
      "[7, 0, 5, 5, 0]\n"
     ]
    }
   ],
   "source": [
    "# Example 2\n",
    "head2 = ListNode(2)\n",
    "head2.next = ListNode(7)\n",
    "head2.next.next = ListNode(4)\n",
    "head2.next.next.next = ListNode(3)\n",
    "head2.next.next.next.next = ListNode(5)\n",
    "\n",
    "result2 = next_larger_nodes(head2)\n",
    "print(result2)  # Output: [7, 0, 5, 5, 0]"
   ]
  },
  {
   "cell_type": "markdown",
   "id": "b30e86f8",
   "metadata": {},
   "source": [
    "**Question 8**\n",
    "- Given the head of a linked list, we repeatedly delete\n",
    "consecutive sequences of nodes that sum to 0 until there are\n",
    "no such sequences.\n",
    "After doing so, return the head of the final linked list. You may\n",
    "return any such answer.\n",
    "- (Note that in the examples below, all sequences are\n",
    "serializations of ListNode objects.)\n",
    "- Example 1:\n",
    "Input: head = [1,2,-3,3,1] Output: [3,1] \n",
    "- Note: The answer [1,2,1] would also be accepted.\n",
    "- Example 2:\n",
    "Input: head = [1,2,3,-3,4] Output: [1,2,4]\n",
    "- Example 3:\n",
    "Input: head = [1,2,3,-3,-2] Output: [1]"
   ]
  },
  {
   "cell_type": "code",
   "execution_count": 23,
   "id": "c600d7de",
   "metadata": {},
   "outputs": [],
   "source": [
    "class ListNode:\n",
    "    def __init__(self, val=0, next=None):\n",
    "        self.val = val\n",
    "        self.next = next\n",
    "\n",
    "def remove_zero_sum_sublists(head):\n",
    "    dummy = ListNode(0)\n",
    "    dummy.next = head\n",
    "\n",
    "    stack = [(0, dummy)]\n",
    "    current = head\n",
    "    running_sum = 0\n",
    "\n",
    "    while current:\n",
    "        running_sum += current.val\n",
    "\n",
    "        if running_sum in dict(stack):\n",
    "            # Remove nodes from the stack until the top node\n",
    "            # is the node just before the start of the sequence\n",
    "            while stack[-1][0] != running_sum:\n",
    "                stack.pop()\n",
    "\n",
    "            prev = stack[-1][1]\n",
    "            prev.next = current.next\n",
    "\n",
    "        else:\n",
    "            stack.append((running_sum, current))\n",
    "\n",
    "        current = current.next\n",
    "\n",
    "    return dummy.next"
   ]
  },
  {
   "cell_type": "code",
   "execution_count": 24,
   "id": "e06b2672",
   "metadata": {},
   "outputs": [
    {
     "name": "stdout",
     "output_type": "stream",
     "text": [
      "3 1 "
     ]
    }
   ],
   "source": [
    "# Example 1\n",
    "head1 = ListNode(1)\n",
    "head1.next = ListNode(2)\n",
    "head1.next.next = ListNode(-3)\n",
    "head1.next.next.next = ListNode(3)\n",
    "head1.next.next.next.next = ListNode(1)\n",
    "\n",
    "result1 = remove_zero_sum_sublists(head1)\n",
    "while result1:\n",
    "    print(result1.val, end=\" \")\n",
    "    result1 = result1.next  # Output: 3 1"
   ]
  },
  {
   "cell_type": "code",
   "execution_count": 25,
   "id": "47160556",
   "metadata": {},
   "outputs": [
    {
     "name": "stdout",
     "output_type": "stream",
     "text": [
      "1 2 4 "
     ]
    }
   ],
   "source": [
    "# Example 2\n",
    "head2 = ListNode(1)\n",
    "head2.next = ListNode(2)\n",
    "head2.next.next = ListNode(3)\n",
    "head2.next.next.next = ListNode(-3)\n",
    "head2.next.next.next.next = ListNode(4)\n",
    "\n",
    "result2 = remove_zero_sum_sublists(head2)\n",
    "while result2:\n",
    "    print(result2.val, end=\" \")\n",
    "    result2 = result2.next  # Output: 1 2 4"
   ]
  },
  {
   "cell_type": "code",
   "execution_count": 26,
   "id": "ddd54eef",
   "metadata": {},
   "outputs": [
    {
     "name": "stdout",
     "output_type": "stream",
     "text": [
      "1 "
     ]
    }
   ],
   "source": [
    "# Example 3\n",
    "head3 = ListNode(1)\n",
    "head3.next = ListNode(2)\n",
    "head3.next.next = ListNode(3)\n",
    "head3.next.next.next = ListNode(-3)\n",
    "head3.next.next.next.next = ListNode(-2)\n",
    "\n",
    "result3 = remove_zero_sum_sublists(head3)\n",
    "while result3:\n",
    "    print(result3.val, end=\" \")\n",
    "    result3 = result3.next  # Output: 1"
   ]
  }
 ],
 "metadata": {
  "kernelspec": {
   "display_name": "Python 3 (ipykernel)",
   "language": "python",
   "name": "python3"
  },
  "language_info": {
   "codemirror_mode": {
    "name": "ipython",
    "version": 3
   },
   "file_extension": ".py",
   "mimetype": "text/x-python",
   "name": "python",
   "nbconvert_exporter": "python",
   "pygments_lexer": "ipython3",
   "version": "3.9.12"
  },
  "latex_envs": {
   "LaTeX_envs_menu_present": true,
   "autoclose": false,
   "autocomplete": true,
   "bibliofile": "biblio.bib",
   "cite_by": "apalike",
   "current_citInitial": 1,
   "eqLabelWithNumbers": true,
   "eqNumInitial": 1,
   "hotkeys": {
    "equation": "Ctrl-E",
    "itemize": "Ctrl-I"
   },
   "labels_anchors": false,
   "latex_user_defs": false,
   "report_style_numbering": false,
   "user_envs_cfg": false
  },
  "nbTranslate": {
   "displayLangs": [
    "*"
   ],
   "hotkey": "alt-t",
   "langInMainMenu": true,
   "sourceLang": "en",
   "targetLang": "fr",
   "useGoogleTranslate": true
  },
  "toc": {
   "base_numbering": 1,
   "nav_menu": {},
   "number_sections": true,
   "sideBar": true,
   "skip_h1_title": false,
   "title_cell": "Table of Contents",
   "title_sidebar": "Contents",
   "toc_cell": false,
   "toc_position": {},
   "toc_section_display": true,
   "toc_window_display": false
  },
  "varInspector": {
   "cols": {
    "lenName": 16,
    "lenType": 16,
    "lenVar": 40
   },
   "kernels_config": {
    "python": {
     "delete_cmd_postfix": "",
     "delete_cmd_prefix": "del ",
     "library": "var_list.py",
     "varRefreshCmd": "print(var_dic_list())"
    },
    "r": {
     "delete_cmd_postfix": ") ",
     "delete_cmd_prefix": "rm(",
     "library": "var_list.r",
     "varRefreshCmd": "cat(var_dic_list()) "
    }
   },
   "types_to_exclude": [
    "module",
    "function",
    "builtin_function_or_method",
    "instance",
    "_Feature"
   ],
   "window_display": false
  }
 },
 "nbformat": 4,
 "nbformat_minor": 5
}
