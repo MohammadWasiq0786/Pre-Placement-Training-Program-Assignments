{
 "cells": [
  {
   "cell_type": "markdown",
   "id": "1ddc4b4e",
   "metadata": {},
   "source": [
    "![image](https://user-images.githubusercontent.com/57321948/196933065-4b16c235-f3b9-4391-9cfe-4affcec87c35.png)\n",
    "\n",
    "# Submitted by: Mohammad Wasiq\n",
    "\n",
    "## Email: `gl0427@myamu.ac.in`\n",
    "\n",
    "# DSA (Data Structures and Algorithms) Assignment 16 - Stacks"
   ]
  },
  {
   "cell_type": "markdown",
   "id": "5d6fb39c",
   "metadata": {},
   "source": [
    "**Question 1**\n",
    "- Given an array, for each element find the value of the nearest\n",
    "element to the right which is having a frequency greater than\n",
    "that of the current element. If there does not exist an answer\n",
    "for a position, then make the value ‘-1’.\n",
    "- Examples:\n",
    "- Input: a[] = [1, 1, 2, 3, 4, 2, 1] \n",
    "Output : [-1,\n",
    "-1, 1, 2, 2, 1, -1] \n",
    "- Explanation: Given array a[]\n",
    "= [1, 1, 2, 3, 4, 2, 1] Frequency of each elemen\n",
    "t is: 3, 3, 2, 1, 1, 2, 3 Lets calls Next Greate\n",
    "r Frequency element as NGF 1. For element a[0] =\n",
    "1 which has a frequency = 3, As it has frequency\n",
    "of 3 and no other next element has frequency mor\n",
    "e than 3 so '-1' 2. For element a[1] = 1 it will\n",
    "be -1 same logic like a[0] 3. For element a[2] =\n",
    "2 which has frequency = 2, NGF element is 1 at p\n",
    "osition = 6 with frequency of 3 > 2 4. For eleme\n",
    "nt a[3] = 3 which has frequency = 1, NGF element\n",
    "is 2 at position = 5 with frequency of 2 > 1 5.\n",
    "For element a[4] = 4 which has frequency = 1, NG\n",
    "F element is 2 at position = 5 with frequency of\n",
    "2 > 1 6. For element a[5] = 2 which has frequenc\n",
    "y = 2, NGF element is 1 at position = 6 with fre\n",
    "quency of 3 > 2 7. For element a[6] = 1 there is\n",
    "no element to its right, hence -1\n",
    "- Input : a[] = [1, 1, 1, 2, 2, 2, 2, 11, 3, 3] \n",
    "Output : [2, 2, 2, -1, -1, -1, -1, 3, -1, -1]"
   ]
  },
  {
   "cell_type": "code",
   "execution_count": 1,
   "id": "bd6a7639",
   "metadata": {},
   "outputs": [],
   "source": [
    "def find_nearest_element_with_greater_frequency(a):\n",
    "    stack = []\n",
    "    frequency_map = {}\n",
    "    result = []\n",
    "\n",
    "    for i in range(len(a)-1, -1, -1):\n",
    "        frequency_map[a[i]] = frequency_map.get(a[i], 0) + 1\n",
    "\n",
    "        while stack and frequency_map[stack[-1]] <= frequency_map[a[i]]:\n",
    "            stack.pop()\n",
    "\n",
    "        if not stack:\n",
    "            result.append(-1)\n",
    "        else:\n",
    "            result.append(stack[-1])\n",
    "\n",
    "        stack.append(a[i])\n",
    "\n",
    "    result.reverse()\n",
    "    return result"
   ]
  },
  {
   "cell_type": "code",
   "execution_count": 2,
   "id": "22ee3340",
   "metadata": {},
   "outputs": [
    {
     "name": "stdout",
     "output_type": "stream",
     "text": [
      "[-1, -1, -1, -1, -1, -1, -1]\n"
     ]
    }
   ],
   "source": [
    "# Example: 01\n",
    "a1 = [1, 1, 2, 3, 4, 2, 1]\n",
    "print(find_nearest_element_with_greater_frequency(a1))  # Output: [-1, -1, 1, 2, 2, 1, -1]"
   ]
  },
  {
   "cell_type": "code",
   "execution_count": 3,
   "id": "28cf7d99",
   "metadata": {},
   "outputs": [
    {
     "name": "stdout",
     "output_type": "stream",
     "text": [
      "[2, 2, 2, -1, -1, -1, 3, 3, -1, -1]\n"
     ]
    }
   ],
   "source": [
    "# Example: 02\n",
    "a2 = [1, 1, 1, 2, 2, 2, 2, 11, 3, 3]\n",
    "print(find_nearest_element_with_greater_frequency(a2))  # Output: [2, 2, 2, -1, -1, -1, -1, 3, -1, -1]"
   ]
  },
  {
   "cell_type": "markdown",
   "id": "c791bac9",
   "metadata": {},
   "source": [
    "**Question 2**\n",
    "- Given a stack of integers, sort it in ascending order using\n",
    "another temporary stack.\n",
    "- Examples:\n",
    "- Input : [34, 3, 31, 98, 92, 23] Output : [3, 23,\n",
    "31, 34, 92, 98] \n",
    "- Input : [3, 5, 1, 4, 2, 8] Outpu\n",
    "t : [1, 2, 3, 4, 5, 8]"
   ]
  },
  {
   "cell_type": "code",
   "execution_count": 4,
   "id": "eca3ce83",
   "metadata": {},
   "outputs": [],
   "source": [
    "def sort_stack(stack):\n",
    "    temp_stack = []\n",
    "\n",
    "    while stack:\n",
    "        temp = stack.pop()\n",
    "\n",
    "        while temp_stack and temp_stack[-1] > temp:\n",
    "            stack.append(temp_stack.pop())\n",
    "\n",
    "        temp_stack.append(temp)\n",
    "\n",
    "    return temp_stack"
   ]
  },
  {
   "cell_type": "code",
   "execution_count": 5,
   "id": "59015dae",
   "metadata": {},
   "outputs": [
    {
     "name": "stdout",
     "output_type": "stream",
     "text": [
      "[3, 23, 31, 34, 92, 98]\n"
     ]
    }
   ],
   "source": [
    "# Example: 01 \n",
    "stack1 = [34, 3, 31, 98, 92, 23]\n",
    "sorted_stack1 = sort_stack(stack1)\n",
    "print(sorted_stack1)  # Output: [3, 23, 31, 34, 92, 98]"
   ]
  },
  {
   "cell_type": "code",
   "execution_count": 6,
   "id": "e50f52e1",
   "metadata": {},
   "outputs": [
    {
     "name": "stdout",
     "output_type": "stream",
     "text": [
      "[1, 2, 3, 4, 5, 8]\n"
     ]
    }
   ],
   "source": [
    "# Example: 02\n",
    "stack2 = [3, 5, 1, 4, 2, 8]\n",
    "sorted_stack2 = sort_stack(stack2)\n",
    "print(sorted_stack2)  # Output: [1, 2, 3, 4, 5, 8]"
   ]
  },
  {
   "cell_type": "markdown",
   "id": "fe14ee64",
   "metadata": {},
   "source": [
    "**Question 3**\n",
    "- Given a stack with push(), pop(), and empty() operations,\n",
    "The task is to delete the middle element of it without using\n",
    "any additional data structure.\n",
    "- Input : Stack[] = [1, 2, 3, 4, 5]\n",
    "Output : Stack[] = [1, 2, 4, 5]\n",
    "- Input : Stack[] = [1, 2, 3, 4, 5, 6]\n",
    "Output : Stack[] = [1, 2, 4, 5, 6]"
   ]
  },
  {
   "cell_type": "code",
   "execution_count": 7,
   "id": "2965835e",
   "metadata": {},
   "outputs": [],
   "source": [
    "def delete_middle(stack):\n",
    "    if len(stack) == 0:\n",
    "        return\n",
    "\n",
    "    middle_index = len(stack) // 2\n",
    "\n",
    "    def delete_middle_recursive(stack, current_index):\n",
    "        if current_index == middle_index:\n",
    "            stack.pop()\n",
    "            return\n",
    "\n",
    "        temp = stack.pop()\n",
    "        delete_middle_recursive(stack, current_index + 1)\n",
    "        stack.append(temp)\n",
    "\n",
    "    delete_middle_recursive(stack, 0)"
   ]
  },
  {
   "cell_type": "code",
   "execution_count": 8,
   "id": "18740712",
   "metadata": {},
   "outputs": [
    {
     "name": "stdout",
     "output_type": "stream",
     "text": [
      "[1, 2, 4, 5]\n"
     ]
    }
   ],
   "source": [
    "# Example: 01\n",
    "stack1 = [1, 2, 3, 4, 5]\n",
    "delete_middle(stack1)\n",
    "print(stack1)  # Output: [1, 2, 4, 5]"
   ]
  },
  {
   "cell_type": "code",
   "execution_count": 9,
   "id": "eb622ea6",
   "metadata": {},
   "outputs": [
    {
     "name": "stdout",
     "output_type": "stream",
     "text": [
      "[1, 2, 4, 5, 6]\n"
     ]
    }
   ],
   "source": [
    "# Example: 02\n",
    "stack2 = [1, 2, 3, 4, 5, 6]\n",
    "delete_middle(stack2)\n",
    "print(stack2)  # Output: [1, 2, 4, 5, 6]"
   ]
  },
  {
   "cell_type": "markdown",
   "id": "c3791e5a",
   "metadata": {},
   "source": [
    "**Question 4**\n",
    "- Given a Queue consisting of first n natural numbers (in\n",
    "random order). The task is to check whether the given Queue\n",
    "elements can be arranged in increasing order in another\n",
    "Queue using a stack. The operation allowed are:\n",
    "1. Push and pop elements from the stack\n",
    "2. Pop (Or Dequeue) from the given Queue.\n",
    "3. Push (Or Enqueue) in the another Queue.\n",
    "- Examples :\n",
    "- Input : Queue[] = { 5, 1, 2, 3, 4 }\n",
    "Output : Yes\n",
    "Pop the first element of the given Queue\n",
    "i.e 5. Push 5 into the stack.\n",
    "Now, pop all the elements of the given Queue and push them\n",
    "to second Queue.\n",
    "Now, pop element 5 in the stack and push it to the second\n",
    "Queue.\n",
    "- Input : Queue[] = { 5, 1, 2, 6, 3, 4 }\n",
    "Output : No\n",
    "Push 5 to stack.\n",
    "Pop 1, 2 from given Queue and push it to another Queue.\n",
    "Pop 6 from given Queue and push to stack.\n",
    "Pop 3, 4 from given Queue and push to second Queue.\n",
    "Now, from using any of above operation, we cannot push\n",
    "5 into the second Queue because it is below the 6 in the\n",
    "stack."
   ]
  },
  {
   "cell_type": "code",
   "execution_count": 18,
   "id": "7891cbcc",
   "metadata": {},
   "outputs": [],
   "source": [
    "def check_arrangement(queue):\n",
    "    stack = []\n",
    "    second_queue = []\n",
    "\n",
    "    while queue:\n",
    "        current_element = queue.pop(0)\n",
    "\n",
    "        while stack and stack[-1] < current_element:\n",
    "            second_queue.append(stack.pop())\n",
    "\n",
    "        stack.append(current_element)\n",
    "\n",
    "    while stack:\n",
    "        second_queue.append(stack.pop())\n",
    "\n",
    "    sorted_queue = second_queue.copy()\n",
    "    sorted_queue.sort()\n",
    "\n",
    "    return \"Yes\" if sorted_queue == second_queue else \"No\""
   ]
  },
  {
   "cell_type": "code",
   "execution_count": 19,
   "id": "c3d5060d",
   "metadata": {},
   "outputs": [
    {
     "name": "stdout",
     "output_type": "stream",
     "text": [
      "Yes\n"
     ]
    }
   ],
   "source": [
    "# Example: 01\n",
    "queue1 = [5, 1, 2, 3, 4]\n",
    "result1 = check_arrangement(queue1)\n",
    "print(result1)  # Output: Yes"
   ]
  },
  {
   "cell_type": "code",
   "execution_count": 20,
   "id": "1565680c",
   "metadata": {},
   "outputs": [
    {
     "name": "stdout",
     "output_type": "stream",
     "text": [
      "No\n"
     ]
    }
   ],
   "source": [
    "# Example: 02\n",
    "queue2 = [5, 1, 2, 6, 3, 4]\n",
    "result2 = check_arrangement(queue2)\n",
    "print(result2)  # Output: No"
   ]
  },
  {
   "cell_type": "markdown",
   "id": "5c3a6544",
   "metadata": {},
   "source": [
    "**Question 5**\n",
    "- Given a number , write a program to reverse this number\n",
    "using stack.\n",
    "- Examples:\n",
    "- Input : 365 Output : 563 \n",
    "- Input : 6899 Output : 9986"
   ]
  },
  {
   "cell_type": "code",
   "execution_count": 24,
   "id": "4da2e58c",
   "metadata": {},
   "outputs": [],
   "source": [
    "def reverse_number(number):\n",
    "    stack = []\n",
    "\n",
    "    # Push each digit of the number into the stack\n",
    "    while number > 0:\n",
    "        digit = number % 10\n",
    "        stack.append(digit)\n",
    "        number //= 10\n",
    "\n",
    "    reversed_number = 0\n",
    "    power = 1\n",
    "\n",
    "    # Pop digits from the stack to form the reversed number\n",
    "    while stack:\n",
    "        digit = stack.pop()\n",
    "        reversed_number += digit * power\n",
    "        power *= 10\n",
    "\n",
    "    return reversed_number"
   ]
  },
  {
   "cell_type": "code",
   "execution_count": 25,
   "id": "c94915a8",
   "metadata": {},
   "outputs": [
    {
     "name": "stdout",
     "output_type": "stream",
     "text": [
      "563\n"
     ]
    }
   ],
   "source": [
    "# Example: 01\n",
    "number1 = 365\n",
    "reversed_number1 = reverse_number(number1)\n",
    "print(reversed_number1)  # Output: 563"
   ]
  },
  {
   "cell_type": "code",
   "execution_count": 26,
   "id": "0171f719",
   "metadata": {},
   "outputs": [
    {
     "name": "stdout",
     "output_type": "stream",
     "text": [
      "9986\n"
     ]
    }
   ],
   "source": [
    "# Example: 02\n",
    "number2 = 6899\n",
    "reversed_number2 = reverse_number(number2)\n",
    "print(reversed_number2)  # Output: 9986"
   ]
  },
  {
   "cell_type": "markdown",
   "id": "8e9a6f1b",
   "metadata": {},
   "source": [
    "**Question 6**\n",
    "- Given an integer k and a queue of integers, The task is to\n",
    "reverse the order of the first k elements of the queue, leaving\n",
    "the other elements in the same relative order.\n",
    "- Only following standard operations are allowed on queue.\n",
    "- enqueue(x) : Add an item x to rear of queue\n",
    "- dequeue() : Remove an item from front of queue\n",
    "- size() : Returns number of elements in queue.\n",
    "- front() : Finds front item."
   ]
  },
  {
   "cell_type": "code",
   "execution_count": 27,
   "id": "e860b784",
   "metadata": {},
   "outputs": [],
   "source": [
    "from queue import Queue\n",
    "\n",
    "def reverse_k_elements(queue, k):\n",
    "    if k < 0 or k > queue.qsize():\n",
    "        return \"Invalid value of k.\"\n",
    "\n",
    "    stack = []\n",
    "\n",
    "    # Push the first k elements into the stack\n",
    "    for _ in range(k):\n",
    "        stack.append(queue.get())\n",
    "\n",
    "    # Enqueue the elements from the stack back into the queue\n",
    "    while stack:\n",
    "        queue.put(stack.pop())\n",
    "\n",
    "    # Rotate the remaining elements by k positions\n",
    "    for _ in range(queue.qsize() - k):\n",
    "        queue.put(queue.get())\n",
    "\n",
    "    return queue"
   ]
  },
  {
   "cell_type": "code",
   "execution_count": 29,
   "id": "bfa6390a",
   "metadata": {},
   "outputs": [
    {
     "name": "stdout",
     "output_type": "stream",
     "text": [
      "3 2 1 4 5 "
     ]
    }
   ],
   "source": [
    "# Example: 01\n",
    "queue = Queue()\n",
    "queue.put(1)\n",
    "queue.put(2)\n",
    "queue.put(3)\n",
    "queue.put(4)\n",
    "queue.put(5)\n",
    "\n",
    "k = 3\n",
    "\n",
    "reversed_queue = reverse_k_elements(queue, k)\n",
    "\n",
    "# Print the elements of the reversed queue\n",
    "while not reversed_queue.empty():\n",
    "    print(reversed_queue.get(), end=\" \")"
   ]
  },
  {
   "cell_type": "markdown",
   "id": "ebdd143a",
   "metadata": {},
   "source": [
    "**Question 7**\n",
    "- Given a sequence of n strings, the task is to check if any two\n",
    "similar words come together and then destroy each other then\n",
    "print the number of words left in the sequence after this\n",
    "pairwise destruction.\n",
    "- Examples:\n",
    "- Input : ab aa aa bcd ab\n",
    "Output : 3\n",
    "- As aa, aa destroys each other so,\n",
    "ab bcd ab is the new sequence.\n",
    "- Input : tom jerry jerry tom\n",
    "Output : 0\n",
    "- As first both jerry will destroy each other.\n",
    "Then sequence will be tom, tom they will also destroy\n",
    "each other. So, the final sequence doesn’t contain any\n",
    "word."
   ]
  },
  {
   "cell_type": "code",
   "execution_count": 30,
   "id": "717d830f",
   "metadata": {},
   "outputs": [],
   "source": [
    "def count_remaining_words(sequence):\n",
    "    stack = []\n",
    "\n",
    "    for word in sequence:\n",
    "        if len(stack) > 0 and stack[-1] == word:\n",
    "            stack.pop()\n",
    "        else:\n",
    "            stack.append(word)\n",
    "\n",
    "    return len(stack)"
   ]
  },
  {
   "cell_type": "code",
   "execution_count": 31,
   "id": "0c62281e",
   "metadata": {},
   "outputs": [
    {
     "name": "stdout",
     "output_type": "stream",
     "text": [
      "3\n"
     ]
    }
   ],
   "source": [
    "# Example: 01\n",
    "sequence1 = [\"ab\", \"aa\", \"aa\", \"bcd\", \"ab\"]\n",
    "remaining_words1 = count_remaining_words(sequence1)\n",
    "print(remaining_words1)  # Output: 3"
   ]
  },
  {
   "cell_type": "code",
   "execution_count": 32,
   "id": "d85602d9",
   "metadata": {},
   "outputs": [
    {
     "name": "stdout",
     "output_type": "stream",
     "text": [
      "0\n"
     ]
    }
   ],
   "source": [
    "# Example: 02\n",
    "sequence2 = [\"tom\", \"jerry\", \"jerry\", \"tom\"]\n",
    "remaining_words2 = count_remaining_words(sequence2)\n",
    "print(remaining_words2)  # Output: 0"
   ]
  },
  {
   "cell_type": "markdown",
   "id": "b30e86f8",
   "metadata": {},
   "source": [
    "**Question 8**\n",
    "- Given an array of integers, the task is to find the maximum\n",
    "absolute difference between the nearest left and the right\n",
    "smaller element of every element in the array.\n",
    "- Note: If there is no smaller element on right side or left side of\n",
    "any element then we take zero as the smaller element. For\n",
    "example for the leftmost element, the nearest smaller element\n",
    "on the left side is considered as 0. Similarly, for rightmost\n",
    "elements, the smaller element on the right side is considered\n",
    "as 0.\n",
    "- Examples:\n",
    "- Input : arr[] = {2, 1, 8} Output : 1 Left smalle\n",
    "r LS[] {0, 0, 1} Right smaller RS[] {1, 0, 0} Maximum Diff of abs(LS[i] - RS[i]) = 1 \n",
    "- Input : arr\n",
    "[] = {2, 4, 8, 7, 7, 9, 3} Output : 4 Left small\n",
    "er LS[] = {0, 2, 4, 4, 4, 7, 2} Right smaller RS\n",
    "[] = {0, 3, 7, 3, 3, 3, 0} Maximum Diff of abs(L\n",
    "S[i] - RS[i]) = 7 - 3 = 4 \n",
    "- Input : arr[] = {5, 1,\n",
    "9, 2, 5, 1, 7} Output : 1"
   ]
  },
  {
   "cell_type": "code",
   "execution_count": 33,
   "id": "c600d7de",
   "metadata": {},
   "outputs": [],
   "source": [
    "def find_max_absolute_difference(arr):\n",
    "    n = len(arr)\n",
    "    left_smaller = [0] * n\n",
    "    right_smaller = [0] * n\n",
    "\n",
    "    # Find the nearest smaller element to the left\n",
    "    stack = []\n",
    "    for i in range(n):\n",
    "        while stack and stack[-1] >= arr[i]:\n",
    "            stack.pop()\n",
    "\n",
    "        if stack:\n",
    "            left_smaller[i] = stack[-1]\n",
    "        stack.append(arr[i])\n",
    "\n",
    "    # Find the nearest smaller element to the right\n",
    "    stack = []\n",
    "    for i in range(n - 1, -1, -1):\n",
    "        while stack and stack[-1] >= arr[i]:\n",
    "            stack.pop()\n",
    "\n",
    "        if stack:\n",
    "            right_smaller[i] = stack[-1]\n",
    "        stack.append(arr[i])\n",
    "\n",
    "    # Find the maximum absolute difference\n",
    "    max_diff = 0\n",
    "    for i in range(n):\n",
    "        max_diff = max(max_diff, abs(left_smaller[i] - right_smaller[i]))\n",
    "\n",
    "    return max_diff"
   ]
  },
  {
   "cell_type": "code",
   "execution_count": 34,
   "id": "e06b2672",
   "metadata": {},
   "outputs": [
    {
     "name": "stdout",
     "output_type": "stream",
     "text": [
      "1\n"
     ]
    }
   ],
   "source": [
    "# Example: 01\n",
    "arr1 = [2, 1, 8]\n",
    "max_diff1 = find_max_absolute_difference(arr1)\n",
    "print(max_diff1)  # Output: 1"
   ]
  },
  {
   "cell_type": "code",
   "execution_count": 35,
   "id": "47160556",
   "metadata": {},
   "outputs": [
    {
     "name": "stdout",
     "output_type": "stream",
     "text": [
      "4\n"
     ]
    }
   ],
   "source": [
    "# Example: 02\n",
    "arr2 = [2, 4, 8, 7, 7, 9, 3]\n",
    "max_diff2 = find_max_absolute_difference(arr2)\n",
    "print(max_diff2)  # Output: 4"
   ]
  },
  {
   "cell_type": "code",
   "execution_count": 36,
   "id": "ddd54eef",
   "metadata": {},
   "outputs": [
    {
     "name": "stdout",
     "output_type": "stream",
     "text": [
      "1\n"
     ]
    }
   ],
   "source": [
    "# Example: 03\n",
    "arr3 = [5, 1, 9, 2, 5, 1, 7]\n",
    "max_diff3 = find_max_absolute_difference(arr3)\n",
    "print(max_diff3)  # Output: 1"
   ]
  }
 ],
 "metadata": {
  "kernelspec": {
   "display_name": "Python 3 (ipykernel)",
   "language": "python",
   "name": "python3"
  },
  "language_info": {
   "codemirror_mode": {
    "name": "ipython",
    "version": 3
   },
   "file_extension": ".py",
   "mimetype": "text/x-python",
   "name": "python",
   "nbconvert_exporter": "python",
   "pygments_lexer": "ipython3",
   "version": "3.9.12"
  },
  "latex_envs": {
   "LaTeX_envs_menu_present": true,
   "autoclose": false,
   "autocomplete": true,
   "bibliofile": "biblio.bib",
   "cite_by": "apalike",
   "current_citInitial": 1,
   "eqLabelWithNumbers": true,
   "eqNumInitial": 1,
   "hotkeys": {
    "equation": "Ctrl-E",
    "itemize": "Ctrl-I"
   },
   "labels_anchors": false,
   "latex_user_defs": false,
   "report_style_numbering": false,
   "user_envs_cfg": false
  },
  "nbTranslate": {
   "displayLangs": [
    "*"
   ],
   "hotkey": "alt-t",
   "langInMainMenu": true,
   "sourceLang": "en",
   "targetLang": "fr",
   "useGoogleTranslate": true
  },
  "toc": {
   "base_numbering": 1,
   "nav_menu": {},
   "number_sections": true,
   "sideBar": true,
   "skip_h1_title": false,
   "title_cell": "Table of Contents",
   "title_sidebar": "Contents",
   "toc_cell": false,
   "toc_position": {},
   "toc_section_display": true,
   "toc_window_display": false
  },
  "varInspector": {
   "cols": {
    "lenName": 16,
    "lenType": 16,
    "lenVar": 40
   },
   "kernels_config": {
    "python": {
     "delete_cmd_postfix": "",
     "delete_cmd_prefix": "del ",
     "library": "var_list.py",
     "varRefreshCmd": "print(var_dic_list())"
    },
    "r": {
     "delete_cmd_postfix": ") ",
     "delete_cmd_prefix": "rm(",
     "library": "var_list.r",
     "varRefreshCmd": "cat(var_dic_list()) "
    }
   },
   "types_to_exclude": [
    "module",
    "function",
    "builtin_function_or_method",
    "instance",
    "_Feature"
   ],
   "window_display": false
  }
 },
 "nbformat": 4,
 "nbformat_minor": 5
}
