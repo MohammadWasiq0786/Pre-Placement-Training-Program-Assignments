{
 "cells": [
  {
   "cell_type": "markdown",
   "id": "6d438143",
   "metadata": {},
   "source": [
    "![image](https://user-images.githubusercontent.com/57321948/196933065-4b16c235-f3b9-4391-9cfe-4affcec87c35.png)\n",
    "\n",
    "# Submitted by: Mohammad Wasiq\n",
    "\n",
    "## Email: `gl0427@myamu.ac.in`\n",
    "\n",
    "# DSA (Data Structures and Algorithms) Assignment 21 - Tree"
   ]
  },
  {
   "cell_type": "markdown",
   "id": "1edaa288",
   "metadata": {},
   "source": [
    "**Q1. You are given a binary tree. The binary tree is represented using the TreeNode class. Each TreeNode has an integer value and left and right children, represented using the TreeNode class itself. Convert this binary tree into a binary search tree.**\n",
    "\n",
    "Input:\n",
    "\n",
    "```\n",
    "        10\n",
    "\n",
    "       /   \\\n",
    "\n",
    "     2      7\n",
    "\n",
    "   /   \\\n",
    "\n",
    " 8      4\n",
    "```\n",
    "\n",
    "Output:\n",
    "```\n",
    "        8\n",
    "\n",
    "      /   \\\n",
    "\n",
    "    4     10\n",
    "\n",
    "  /   \\\n",
    "\n",
    "2      7\n",
    "```\n",
    "\n",
    "**Ans :**"
   ]
  },
  {
   "cell_type": "code",
   "execution_count": 1,
   "id": "9289c978",
   "metadata": {
    "ExecuteTime": {
     "end_time": "2023-07-01T07:03:18.424629Z",
     "start_time": "2023-07-01T07:03:18.391718Z"
    }
   },
   "outputs": [
    {
     "name": "stdout",
     "output_type": "stream",
     "text": [
      "2 4 7 8 10 "
     ]
    }
   ],
   "source": [
    "class TreeNode:\n",
    "    def __init__(self, val=0, left=None, right=None):\n",
    "        self.val = val\n",
    "        self.left = left\n",
    "        self.right = right\n",
    "\n",
    "def convertToBST(root):\n",
    "    # Perform inorder traversal and store values in a list\n",
    "    def inorderTraversal(node, values):\n",
    "        if node is None:\n",
    "            return\n",
    "        inorderTraversal(node.left, values)\n",
    "        values.append(node.val)\n",
    "        inorderTraversal(node.right, values)\n",
    "\n",
    "    values = []\n",
    "    inorderTraversal(root, values)\n",
    "    values.sort()  # Sort the values\n",
    "\n",
    "    # Perform inorder traversal again and replace values with sorted values\n",
    "    def inorderReplace(node, values):\n",
    "        if node is None:\n",
    "            return\n",
    "        inorderReplace(node.left, values)\n",
    "        node.val = values.pop(0)\n",
    "        inorderReplace(node.right, values)\n",
    "\n",
    "    inorderReplace(root, values)\n",
    "    return root\n",
    "\n",
    "# Example\n",
    "root = TreeNode(10)\n",
    "root.left = TreeNode(2)\n",
    "root.right = TreeNode(7)\n",
    "root.left.left = TreeNode(8)\n",
    "root.left.right = TreeNode(4)\n",
    "\n",
    "converted_root = convertToBST(root)\n",
    "\n",
    "# Printing the converted BST using inorder traversal\n",
    "def inorderTraversal(node):\n",
    "    if node is None:\n",
    "        return\n",
    "    inorderTraversal(node.left)\n",
    "    print(node.val, end=' ')\n",
    "    inorderTraversal(node.right)\n",
    "\n",
    "inorderTraversal(converted_root)\n",
    "# Output: 2 4 7 8 10\n"
   ]
  },
  {
   "cell_type": "markdown",
   "id": "e2aedadc",
   "metadata": {},
   "source": [
    "**Q2. Given a Binary Search Tree with all unique values and two keys. Find the distance between two nodes in BST. The given keys always exist in BST.**\n",
    "\n",
    "Example:\n",
    "\n",
    "Consider the following BST:\n",
    "\n",
    "![img](https://s3-us-west-2.amazonaws.com/secure.notion-static.com/f2455039-7e12-43fc-a7d3-b5be24931c1c/1.png)\n",
    "\n",
    "**Input-1:**\n",
    "\n",
    "n = 9\n",
    "\n",
    "values = [8, 3, 1, 6, 4, 7, 10, 14,13]\n",
    "\n",
    "node-1 = 6\n",
    "\n",
    "node-2 = 14\n",
    "\n",
    "**Output-1:**\n",
    "\n",
    "The distance between the two keys = 4\n",
    "\n",
    "**Input-2:**\n",
    "\n",
    "n = 9\n",
    "\n",
    "values = [8, 3, 1, 6, 4, 7, 10, 14,13]\n",
    "\n",
    "node-1 = 3\n",
    "\n",
    "node-2 = 4\n",
    "\n",
    "**Output-2:**\n",
    "\n",
    "The distance between the two keys = 2  \n",
    "\n",
    "**Ans :**"
   ]
  },
  {
   "cell_type": "code",
   "execution_count": 2,
   "id": "fdc9dfaf",
   "metadata": {
    "ExecuteTime": {
     "end_time": "2023-07-01T07:05:09.827600Z",
     "start_time": "2023-07-01T07:05:09.801670Z"
    }
   },
   "outputs": [
    {
     "name": "stdout",
     "output_type": "stream",
     "text": [
      "The distance between the two keys: 4\n",
      "The distance between the two keys: 2\n"
     ]
    }
   ],
   "source": [
    "class TreeNode:\n",
    "    def __init__(self, val=0, left=None, right=None):\n",
    "        self.val = val\n",
    "        self.left = left\n",
    "        self.right = right\n",
    "\n",
    "def findDistance(root, node1, node2):\n",
    "    # Find the lowest common ancestor (LCA)\n",
    "    def findLCA(node, value1, value2):\n",
    "        if node is None:\n",
    "            return None\n",
    "        if value1 < node.val and value2 < node.val:\n",
    "            return findLCA(node.left, value1, value2)\n",
    "        if value1 > node.val and value2 > node.val:\n",
    "            return findLCA(node.right, value1, value2)\n",
    "        return node\n",
    "\n",
    "    # Find the distance between a node and a given value\n",
    "    def findDistanceFromNode(node, value):\n",
    "        if node is None:\n",
    "            return 0\n",
    "        if node.val == value:\n",
    "            return 0\n",
    "        if value < node.val:\n",
    "            return 1 + findDistanceFromNode(node.left, value)\n",
    "        return 1 + findDistanceFromNode(node.right, value)\n",
    "\n",
    "    lca = findLCA(root, node1, node2)\n",
    "    distance1 = findDistanceFromNode(lca, node1)\n",
    "    distance2 = findDistanceFromNode(lca, node2)\n",
    "\n",
    "    return distance1 + distance2\n",
    "\n",
    "# Example\n",
    "root = TreeNode(8)\n",
    "root.left = TreeNode(3)\n",
    "root.left.left = TreeNode(1)\n",
    "root.left.right = TreeNode(6)\n",
    "root.left.right.left = TreeNode(4)\n",
    "root.left.right.right = TreeNode(7)\n",
    "root.right = TreeNode(10)\n",
    "root.right.right = TreeNode(14)\n",
    "root.right.right.left = TreeNode(13)\n",
    "\n",
    "node1 = 6\n",
    "node2 = 14\n",
    "\n",
    "distance = findDistance(root, node1, node2)\n",
    "print(\"The distance between the two keys:\", distance)\n",
    "\n",
    "node1 = 3\n",
    "node2 = 4\n",
    "\n",
    "distance = findDistance(root, node1, node2)\n",
    "print(\"The distance between the two keys:\", distance)"
   ]
  },
  {
   "cell_type": "markdown",
   "id": "2af122b0",
   "metadata": {},
   "source": [
    "**Q3. Write a program to convert a binary tree to a doubly linked list.**\n",
    "\n",
    "Input:\n",
    "```\n",
    "        10\n",
    "\n",
    "       /   \\\n",
    "\n",
    "     5     20\n",
    "\n",
    "           /   \\\n",
    "\n",
    "        30     35\n",
    "```\n",
    "Output:\n",
    "\n",
    "5 10 30 20 35\n",
    "\n",
    "**Ans :**"
   ]
  },
  {
   "cell_type": "code",
   "execution_count": 3,
   "id": "77625e95",
   "metadata": {
    "ExecuteTime": {
     "end_time": "2023-07-01T07:06:35.753732Z",
     "start_time": "2023-07-01T07:06:35.734780Z"
    }
   },
   "outputs": [
    {
     "name": "stdout",
     "output_type": "stream",
     "text": [
      "5 10 30 20 35 "
     ]
    }
   ],
   "source": [
    "class TreeNode:\n",
    "    def __init__(self, val=0, left=None, right=None):\n",
    "        self.val = val\n",
    "        self.left = left\n",
    "        self.right = right\n",
    "\n",
    "class DoublyLinkedListNode:\n",
    "    def __init__(self, val=0, prev=None, next=None):\n",
    "        self.val = val\n",
    "        self.prev = prev\n",
    "        self.next = next\n",
    "\n",
    "def convertToDoublyLinkedList(root):\n",
    "    def inorderTraversal(node):\n",
    "        nonlocal prev, head\n",
    "\n",
    "        if node is None:\n",
    "            return\n",
    "\n",
    "        inorderTraversal(node.left)\n",
    "\n",
    "        if prev is None:\n",
    "            head = DoublyLinkedListNode(node.val)\n",
    "            prev = head\n",
    "        else:\n",
    "            new_node = DoublyLinkedListNode(node.val)\n",
    "            prev.next = new_node\n",
    "            new_node.prev = prev\n",
    "            prev = new_node\n",
    "\n",
    "        inorderTraversal(node.right)\n",
    "\n",
    "    head = None\n",
    "    prev = None\n",
    "    inorderTraversal(root)\n",
    "\n",
    "    return head\n",
    "\n",
    "# Example\n",
    "root = TreeNode(10)\n",
    "root.left = TreeNode(5)\n",
    "root.right = TreeNode(20)\n",
    "root.right.left = TreeNode(30)\n",
    "root.right.right = TreeNode(35)\n",
    "\n",
    "doubly_linked_list_head = convertToDoublyLinkedList(root)\n",
    "\n",
    "# Traverse the doubly linked list forward\n",
    "current = doubly_linked_list_head\n",
    "while current is not None:\n",
    "    print(current.val, end=' ')\n",
    "    current = current.next"
   ]
  },
  {
   "cell_type": "markdown",
   "id": "de388701",
   "metadata": {},
   "source": [
    "**Q4. Write a program to connect nodes at the same level.**\n",
    "\n",
    "Input:\n",
    "```\n",
    "        1\n",
    "\n",
    "      /   \\\n",
    "\n",
    "    2      3\n",
    "\n",
    "  /   \\   /   \\\n",
    "\n",
    "4     5 6    7\n",
    "```\n",
    "Output:\n",
    "\n",
    "1 → -1\n",
    "\n",
    "2 → 3\n",
    "\n",
    "3 → -1\n",
    "\n",
    "4 → 5\n",
    "\n",
    "5 → 6\n",
    "\n",
    "6 → 7\n",
    "\n",
    "7 → -1\n",
    "\n",
    "**Ans :**"
   ]
  },
  {
   "cell_type": "code",
   "execution_count": 4,
   "id": "07feb712",
   "metadata": {
    "ExecuteTime": {
     "end_time": "2023-07-01T07:07:45.280960Z",
     "start_time": "2023-07-01T07:07:45.262013Z"
    }
   },
   "outputs": [
    {
     "name": "stdout",
     "output_type": "stream",
     "text": [
      "1 → -1\n"
     ]
    }
   ],
   "source": [
    "class TreeNode:\n",
    "    def __init__(self, val=0, left=None, right=None, next=None):\n",
    "        self.val = val\n",
    "        self.left = left\n",
    "        self.right = right\n",
    "        self.next = next\n",
    "\n",
    "def connectNodesAtSameLevel(root):\n",
    "    if root is None:\n",
    "        return root\n",
    "\n",
    "    # Perform level order traversal\n",
    "    queue = [root]\n",
    "    while queue:\n",
    "        level_size = len(queue)\n",
    "        prev = None\n",
    "        for _ in range(level_size):\n",
    "            node = queue.pop(0)\n",
    "            if prev:\n",
    "                prev.next = node\n",
    "            prev = node\n",
    "\n",
    "            if node.left:\n",
    "                queue.append(node.left)\n",
    "            if node.right:\n",
    "                queue.append(node.right)\n",
    "\n",
    "        # Mark the end of the current level\n",
    "        prev.next = None\n",
    "\n",
    "    return root\n",
    "\n",
    "# Example\n",
    "root = TreeNode(1)\n",
    "root.left = TreeNode(2)\n",
    "root.right = TreeNode(3)\n",
    "root.left.left = TreeNode(4)\n",
    "root.left.right = TreeNode(5)\n",
    "root.right.left = TreeNode(6)\n",
    "root.right.right = TreeNode(7)\n",
    "\n",
    "connected_root = connectNodesAtSameLevel(root)\n",
    "\n",
    "# Print the connected nodes\n",
    "current = connected_root\n",
    "while current:\n",
    "    print(current.val, end=' → ')\n",
    "    current = current.next\n",
    "print(\"-1\")"
   ]
  }
 ],
 "metadata": {
  "kernelspec": {
   "display_name": "Python 3 (ipykernel)",
   "language": "python",
   "name": "python3"
  },
  "language_info": {
   "codemirror_mode": {
    "name": "ipython",
    "version": 3
   },
   "file_extension": ".py",
   "mimetype": "text/x-python",
   "name": "python",
   "nbconvert_exporter": "python",
   "pygments_lexer": "ipython3",
   "version": "3.9.12"
  },
  "latex_envs": {
   "LaTeX_envs_menu_present": true,
   "autoclose": false,
   "autocomplete": true,
   "bibliofile": "biblio.bib",
   "cite_by": "apalike",
   "current_citInitial": 1,
   "eqLabelWithNumbers": true,
   "eqNumInitial": 1,
   "hotkeys": {
    "equation": "Ctrl-E",
    "itemize": "Ctrl-I"
   },
   "labels_anchors": false,
   "latex_user_defs": false,
   "report_style_numbering": false,
   "user_envs_cfg": false
  },
  "nbTranslate": {
   "displayLangs": [
    "*"
   ],
   "hotkey": "alt-t",
   "langInMainMenu": true,
   "sourceLang": "en",
   "targetLang": "fr",
   "useGoogleTranslate": true
  },
  "toc": {
   "base_numbering": 1,
   "nav_menu": {},
   "number_sections": true,
   "sideBar": true,
   "skip_h1_title": false,
   "title_cell": "Table of Contents",
   "title_sidebar": "Contents",
   "toc_cell": false,
   "toc_position": {},
   "toc_section_display": true,
   "toc_window_display": false
  },
  "varInspector": {
   "cols": {
    "lenName": 16,
    "lenType": 16,
    "lenVar": 40
   },
   "kernels_config": {
    "python": {
     "delete_cmd_postfix": "",
     "delete_cmd_prefix": "del ",
     "library": "var_list.py",
     "varRefreshCmd": "print(var_dic_list())"
    },
    "r": {
     "delete_cmd_postfix": ") ",
     "delete_cmd_prefix": "rm(",
     "library": "var_list.r",
     "varRefreshCmd": "cat(var_dic_list()) "
    }
   },
   "types_to_exclude": [
    "module",
    "function",
    "builtin_function_or_method",
    "instance",
    "_Feature"
   ],
   "window_display": false
  }
 },
 "nbformat": 4,
 "nbformat_minor": 5
}
