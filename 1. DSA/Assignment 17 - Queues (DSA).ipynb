{
 "cells": [
  {
   "cell_type": "markdown",
   "id": "0e863c55",
   "metadata": {},
   "source": [
    "![image](https://user-images.githubusercontent.com/57321948/196933065-4b16c235-f3b9-4391-9cfe-4affcec87c35.png)\n",
    "\n",
    "# Submitted by: Mohammad Wasiq\n",
    "\n",
    "## Email: `gl0427@myamu.ac.in`\n",
    "\n",
    "# DSA (Data Structures and Algorithms) Assignment 15 - Queues"
   ]
  },
  {
   "cell_type": "markdown",
   "id": "5d6fb39c",
   "metadata": {},
   "source": [
    "**Question 1**\n",
    "- Given a string s , ﬁnd the ﬁrst non-repeating character in it\n",
    "and return its index. If it does not exist, return -1 .\n",
    "- Example 1:\n",
    "Input: s = \"leetcode\" Output: 0\n",
    "- Example 2:\n",
    "Input: s = \"loveleetcode\" Output: 2\n",
    "- Example 3:\n",
    "Input: s = \"aabb\" Output: -1"
   ]
  },
  {
   "cell_type": "code",
   "execution_count": 1,
   "id": "bd6a7639",
   "metadata": {},
   "outputs": [],
   "source": [
    "def first_non_repeating_character(s):\n",
    "    char_freq = {}  # Hash map to store character frequencies\n",
    "\n",
    "    # Count the frequency of each character\n",
    "    for char in s:\n",
    "        char_freq[char] = char_freq.get(char, 0) + 1\n",
    "\n",
    "    # Find the first non-repeating character and return its index\n",
    "    for i, char in enumerate(s):\n",
    "        if char_freq[char] == 1:\n",
    "            return i\n",
    "\n",
    "    return -1  # No non-repeating character found"
   ]
  },
  {
   "cell_type": "code",
   "execution_count": 2,
   "id": "22ee3340",
   "metadata": {},
   "outputs": [
    {
     "name": "stdout",
     "output_type": "stream",
     "text": [
      "0\n"
     ]
    }
   ],
   "source": [
    "# Example: 01\n",
    "s1 = \"leetcode\"\n",
    "index1 = first_non_repeating_character(s1)\n",
    "print(index1)  # Output: 0"
   ]
  },
  {
   "cell_type": "code",
   "execution_count": 3,
   "id": "28cf7d99",
   "metadata": {},
   "outputs": [
    {
     "name": "stdout",
     "output_type": "stream",
     "text": [
      "2\n"
     ]
    }
   ],
   "source": [
    "# Example: 02\n",
    "s2 = \"loveleetcode\"\n",
    "index2 = first_non_repeating_character(s2)\n",
    "print(index2)  # Output: 2"
   ]
  },
  {
   "cell_type": "code",
   "execution_count": 4,
   "id": "1d5e6be6",
   "metadata": {},
   "outputs": [
    {
     "name": "stdout",
     "output_type": "stream",
     "text": [
      "-1\n"
     ]
    }
   ],
   "source": [
    "# Example: 03\n",
    "s3 = \"aabb\"\n",
    "index3 = first_non_repeating_character(s3)\n",
    "print(index3)  # Output: -1"
   ]
  },
  {
   "cell_type": "markdown",
   "id": "c791bac9",
   "metadata": {},
   "source": [
    "**Question 2**\n",
    "- Given a circular integer array nums of length n , return the\n",
    "maximum possible sum of a non-empty subarray of nums .\n",
    "A circular array means the end of the array connects to the\n",
    "beginning of the array. Formally, the next element\n",
    "of nums[i] is nums[(i + 1) % n] and the previous element\n",
    "of nums[i] is nums[(i - 1 + n) % n] .\n",
    "A subarray may only include each element of the ﬁxed\n",
    "buﬀer nums at most once. Formally, for a subarray nums[i],\n",
    "nums[i + 1], ..., nums[j] , there does not exist i <=\n",
    "k1 , k2 <= j with k1 % n == k2 % n .\n",
    "- Example 1:\n",
    "Input: nums = [1,-2,3,-2] Output: 3 Explanation:\n",
    "Subarray [3] has maximum sum 3.\n",
    "- Example 2:\n",
    "Input: nums = [5,-3,5] Output: 10 Explanation: S\n",
    "ubarray [5,5] has maximum sum 5 + 5 = 10.\n",
    "- Example 3:\n",
    "Input: nums = [-3,-2,-3] Output: -2 Explanation:\n",
    "Subarray [-2] has maximum sum -2."
   ]
  },
  {
   "cell_type": "code",
   "execution_count": 5,
   "id": "eca3ce83",
   "metadata": {},
   "outputs": [],
   "source": [
    "def max_subarray_sum_circular(nums):\n",
    "    total_sum = 0\n",
    "    max_sum = float('-inf')\n",
    "    min_sum = float('inf')\n",
    "    curr_max = 0\n",
    "    curr_min = 0\n",
    "\n",
    "    # Kadane's algorithm to find maximum and minimum sum of subarrays in the original array\n",
    "    for num in nums:\n",
    "        total_sum += num\n",
    "        curr_max = max(curr_max + num, num)\n",
    "        curr_min = min(curr_min + num, num)\n",
    "        max_sum = max(max_sum, curr_max)\n",
    "        min_sum = min(min_sum, curr_min)\n",
    "\n",
    "    # If the maximum sum is negative, return the maximum sum itself\n",
    "    if max_sum < 0:\n",
    "        return max_sum\n",
    "\n",
    "    # Otherwise, return the maximum of the two cases\n",
    "    return max(max_sum, total_sum - min_sum)"
   ]
  },
  {
   "cell_type": "code",
   "execution_count": 6,
   "id": "59015dae",
   "metadata": {},
   "outputs": [
    {
     "name": "stdout",
     "output_type": "stream",
     "text": [
      "3\n"
     ]
    }
   ],
   "source": [
    "# Example: 01\n",
    "nums1 = [1, -2, 3, -2]\n",
    "max_sum1 = max_subarray_sum_circular(nums1)\n",
    "print(max_sum1)  # Output: 3"
   ]
  },
  {
   "cell_type": "code",
   "execution_count": 7,
   "id": "e50f52e1",
   "metadata": {},
   "outputs": [
    {
     "name": "stdout",
     "output_type": "stream",
     "text": [
      "10\n"
     ]
    }
   ],
   "source": [
    "# Example: 02\n",
    "nums2 = [5, -3, 5]\n",
    "max_sum2 = max_subarray_sum_circular(nums2)\n",
    "print(max_sum2)  # Output: 10"
   ]
  },
  {
   "cell_type": "code",
   "execution_count": 8,
   "id": "b8de90de",
   "metadata": {},
   "outputs": [
    {
     "name": "stdout",
     "output_type": "stream",
     "text": [
      "-2\n"
     ]
    }
   ],
   "source": [
    "# Example: 03\n",
    "nums3 = [-3, -2, -3]\n",
    "max_sum3 = max_subarray_sum_circular(nums3)\n",
    "print(max_sum3)  # Output: -2"
   ]
  },
  {
   "cell_type": "markdown",
   "id": "fe14ee64",
   "metadata": {},
   "source": [
    "**Question 3**\n",
    "- The school cafeteria oﬀers circular and square sandwiches at\n",
    "lunch break, referred to by numbers 0 and 1 respectively.\n",
    "All students stand in a queue. Each student either prefers\n",
    "square or circular sandwiches.\n",
    "The number of sandwiches in the cafeteria is equal to the\n",
    "number of students. The sandwiches are placed in a stack. At\n",
    "each step:\n",
    "- If the student at the front of the queue prefers the\n",
    "sandwich on the top of the stack, they will take it and\n",
    "leave the queue.\n",
    "- Otherwise, they will leave it and go to the queue's end.\n",
    "This continues until none of the queue students want to take\n",
    "the top sandwich and are thus unable to eat.\n",
    "You are given two integer\n",
    "arrays students and sandwiches where sandwiches[i] is\n",
    "the type of the ith sandwich in the stack ( i = 0 is the top\n",
    "of the stack) and students[j] is the preference of\n",
    "the jth student in the initial queue ( j = 0 is the front of the\n",
    "queue). Return the number of students that are unable to eat.\n",
    "\n",
    "- Example 1:\n",
    "Input: students = [1,1,0,0], sandwiches = [0,1,\n",
    "0,1] Output: 0 \n",
    "- Explanation: - Front student leav\n",
    "es the top sandwich and returns to the end of th\n",
    "e line making students = [1,0,0,1]. - Front stud\n",
    "ent leaves the top sandwich and returns to the e\n",
    "nd of the line making students = [0,0,1,1]. - Fr\n",
    "ont student takes the top sandwich and leaves th\n",
    "e line making students = [0,1,1] and sandwiches\n",
    "= [1,0,1]. - Front student leaves the top sandwi\n",
    "ch and returns to the end of the line making stu\n",
    "dents = [1,1,0]. - Front student takes the top s\n",
    "andwich and leaves the line making students =\n",
    "[1,0] and sandwiches = [0,1]. - Front student le\n",
    "aves the top sandwich and returns to the end of\n",
    "the line making students = [0,1]. - Front studen\n",
    "t takes the top sandwich and leaves the line mak\n",
    "ing students = [1] and sandwiches = [1]. - Front\n",
    "student takes the top sandwich and leaves the li\n",
    "ne making students = [] and sandwiches = []. Hen\n",
    "ce all students are able to eat.\n",
    "- Example 2:\n",
    "Input: students = [1,1,1,0,0,1], sandwiches =\n",
    "[1,0,0,0,1,1] Output: 3"
   ]
  },
  {
   "cell_type": "code",
   "execution_count": 9,
   "id": "2965835e",
   "metadata": {},
   "outputs": [],
   "source": [
    "def count_students_unable_to_eat(students, sandwiches):\n",
    "    queue = students.copy()\n",
    "    stack = sandwiches.copy()\n",
    "    n = len(queue)\n",
    "\n",
    "    # Keep track of the number of iterations to detect if any changes were made\n",
    "    iterations = 0\n",
    "\n",
    "    while queue and stack:\n",
    "        student = queue.pop(0)\n",
    "        sandwich = stack[0]\n",
    "\n",
    "        if student == sandwich:\n",
    "            stack.pop(0)\n",
    "            iterations = 0  # Reset iterations when a student is able to eat\n",
    "        else:\n",
    "            queue.append(student)\n",
    "\n",
    "            # Check if any changes were made during this iteration\n",
    "            if iterations == len(queue):\n",
    "                break\n",
    "\n",
    "        iterations += 1\n",
    "\n",
    "    return len(queue)"
   ]
  },
  {
   "cell_type": "code",
   "execution_count": 10,
   "id": "18740712",
   "metadata": {},
   "outputs": [
    {
     "name": "stdout",
     "output_type": "stream",
     "text": [
      "0\n"
     ]
    }
   ],
   "source": [
    "# Example: 01\n",
    "students1 = [1, 1, 0, 0]\n",
    "sandwiches1 = [0, 1, 0, 1]\n",
    "unable_to_eat1 = count_students_unable_to_eat(students1, sandwiches1)\n",
    "print(unable_to_eat1)  # Output: 0"
   ]
  },
  {
   "cell_type": "code",
   "execution_count": 11,
   "id": "eb622ea6",
   "metadata": {},
   "outputs": [
    {
     "name": "stdout",
     "output_type": "stream",
     "text": [
      "3\n"
     ]
    }
   ],
   "source": [
    "# Example: 02\n",
    "students2 = [1, 1, 1, 0, 0, 1]\n",
    "sandwiches2 = [1, 0, 0, 0, 1, 1]\n",
    "unable_to_eat2 = count_students_unable_to_eat(students2, sandwiches2)\n",
    "print(unable_to_eat2)  # Output: 3\n"
   ]
  },
  {
   "cell_type": "markdown",
   "id": "c3791e5a",
   "metadata": {},
   "source": [
    "**Question 4**\n",
    "- You have a RecentCounter class which counts the number of\n",
    "recent requests within a certain time frame.\n",
    "Implement the RecentCounter class:\n",
    "- RecentCounter() Initializes the counter with zero recent\n",
    "requests.\n",
    "- int ping(int t) Adds a new request at time t ,\n",
    "where t represents some time in milliseconds, and\n",
    "returns the number of requests that has happened in the\n",
    "past 3000 milliseconds (including the new request).\n",
    "- Speciﬁcally, return the number of requests that have\n",
    "happened in the inclusive range [t - 3000, t] .\n",
    "- It is guaranteed that every call to ping uses a strictly larger\n",
    "value of t than the previous call.\n",
    "- Example 1:\n",
    "Input [\"RecentCounter\", \"ping\", \"ping\", \"ping\",\n",
    "\"ping\"] [[], [1], [100], [3001], [3002]] Output\n",
    "[null, 1, 2, 3, 3] \n",
    "- Explanation RecentCounter rec\n",
    "entCounter = new RecentCounter(); recentCounter.\n",
    "ping(1); // requests = [1], range is [-2999,1],\n",
    "return 1 recentCounter.ping(100); // requests =\n",
    "[1,100], range is [-2900,100], return 2 recentCo\n",
    "unter.ping(3001); // requests = [1,100,3001], ra\n",
    "nge is [1,3001], return 3 recentCounter.ping(300\n",
    "2); // requests = [1,100,3001,3002], range is\n",
    "[2,3002], return 3"
   ]
  },
  {
   "cell_type": "code",
   "execution_count": 12,
   "id": "7891cbcc",
   "metadata": {},
   "outputs": [],
   "source": [
    "from collections import deque\n",
    "\n",
    "class RecentCounter:\n",
    "    def __init__(self):\n",
    "        self.requests = deque()\n",
    "\n",
    "    def ping(self, t: int) -> int:\n",
    "        self.requests.append(t)\n",
    "        while self.requests[0] < t - 3000:\n",
    "            self.requests.popleft()\n",
    "        return len(self.requests)"
   ]
  },
  {
   "cell_type": "code",
   "execution_count": 13,
   "id": "c3d5060d",
   "metadata": {},
   "outputs": [
    {
     "name": "stdout",
     "output_type": "stream",
     "text": [
      "1\n",
      "2\n",
      "3\n",
      "3\n"
     ]
    }
   ],
   "source": [
    "recentCounter = RecentCounter()\n",
    "print(recentCounter.ping(1))     # Output: 1\n",
    "print(recentCounter.ping(100))   # Output: 2\n",
    "print(recentCounter.ping(3001))  # Output: 3\n",
    "print(recentCounter.ping(3002))  # Output: 3"
   ]
  },
  {
   "cell_type": "markdown",
   "id": "5c3a6544",
   "metadata": {},
   "source": [
    "**Question 5**\n",
    "- There are n friends that are playing a game. The friends are\n",
    "sitting in a circle and are numbered\n",
    "from 1 to n in clockwise order. More formally, moving\n",
    "clockwise from the ith friend brings you to\n",
    "the (i+1)th friend for 1 <= i < n , and moving clockwise\n",
    "from the nth friend brings you to the 1st friend.\n",
    "The rules of the game are as follows:\n",
    "1. Start at the 1st friend.\n",
    "2. Count the next k friends in the clockwise\n",
    "direction including the friend you started at. The counting\n",
    "wraps around the circle and may count some friends more\n",
    "than once.\n",
    "3. The last friend you counted leaves the circle and loses the\n",
    "game.\n",
    "4. If there is still more than one friend in the circle, go back to\n",
    "step 2 starting from the friend immediately\n",
    "clockwise of the friend who just lost and repeat.\n",
    "5. Else, the last friend in the circle wins the game.\n",
    "Given the number of friends, n , and an integer k , return the\n",
    "winner of the game.\n",
    "\n",
    "- Example 1:\n",
    "- Input: n = 5, k = 2 Output: 3 \n",
    "- Explanation: Here\n",
    "are the steps of the game: 1) Start at friend 1.\n",
    "2) Count 2 friends clockwise, which are friends\n",
    "1 and 2. 3) Friend 2 leaves the circle. Next sta\n",
    "rt is friend 3. 4) Count 2 friends clockwise, wh\n",
    "ich are friends 3 and 4. 5) Friend 4 leaves the\n",
    "circle. Next start is friend 5. 6) Count 2 frien\n",
    "ds clockwise, which are friends 5 and 1. 7) Frie\n",
    "nd 1 leaves the circle. Next start is friend 3.\n",
    "8) Count 2 friends clockwise, which are friends\n",
    "3 and 5. 9) Friend 5 leaves the circle. Only fri\n",
    "end 3 is left, so they are the winner.\n",
    "\n",
    "- Input: n = 6, k = 5 Output: 1 \n",
    "- Explanation: The friends leave in this order: 5, 4, 6, 2, 3. The winner is friend 1."
   ]
  },
  {
   "cell_type": "code",
   "execution_count": 14,
   "id": "4da2e58c",
   "metadata": {},
   "outputs": [],
   "source": [
    "def find_the_winner(n: int, k: int) -> int:\n",
    "    friends = list(range(1, n + 1))\n",
    "    current = 0\n",
    "\n",
    "    while len(friends) > 1:\n",
    "        current = (current + k - 1) % len(friends)\n",
    "        friends.pop(current)\n",
    "\n",
    "    return friends[0]"
   ]
  },
  {
   "cell_type": "code",
   "execution_count": 16,
   "id": "c94915a8",
   "metadata": {},
   "outputs": [
    {
     "name": "stdout",
     "output_type": "stream",
     "text": [
      "3\n"
     ]
    }
   ],
   "source": [
    "# Example: 01\n",
    "print(find_the_winner(5, 2))  # Output: 3"
   ]
  },
  {
   "cell_type": "code",
   "execution_count": 17,
   "id": "0171f719",
   "metadata": {},
   "outputs": [
    {
     "name": "stdout",
     "output_type": "stream",
     "text": [
      "1\n"
     ]
    }
   ],
   "source": [
    "# Example: 02\n",
    "print(find_the_winner(6, 5))  # Output: 1"
   ]
  },
  {
   "cell_type": "markdown",
   "id": "8e9a6f1b",
   "metadata": {},
   "source": [
    "**Question 6**\n",
    "- You are given an integer array deck . There is a deck of cards\n",
    "where every card has a unique integer. The integer on\n",
    "the ith card is deck[i] .\n",
    "You can order the deck in any order you want. Initially, all the\n",
    "cards start face down (unrevealed) in one deck.\n",
    "You will do the following steps repeatedly until all cards are\n",
    "revealed:\n",
    "1. Take the top card of the deck, reveal it, and take it out of\n",
    "the deck.\n",
    "2. If there are still cards in the deck then put the next top\n",
    "card of the deck at the bottom of the deck.\n",
    "3. If there are still unrevealed cards, go back to step 1.\n",
    "Otherwise, stop.\n",
    "Return an ordering of the deck that would reveal the cards in\n",
    "increasing order.\n",
    "Note that the ﬁrst entry in the answer is considered to be the\n",
    "top of the deck.\n",
    "\n",
    "- Example 1:\n",
    "Input: deck = [17,13,11,2,3,5,7] Output: [2,13,\n",
    "3,11,5,17,7] \n",
    "- Explanation: We get the deck in the\n",
    "order [17,13,11,2,3,5,7] (this order does not ma\n",
    "tter), and reorder it. After reordering, the dec\n",
    "k starts as [2,13,3,11,5,17,7], where 2 is the t\n",
    "op of the deck. We reveal 2, and move 13 to the\n",
    "bottom. The deck is now [3,11,5,17,7,13]. We rev\n",
    "eal 3, and move 11 to the bottom. The deck is no\n",
    "w [5,17,7,13,11]. We reveal 5, and move 17 to th\n",
    "e bottom. The deck is now [7,13,11,17]. We revea\n",
    "l 7, and move 13 to the bottom. The deck is now\n",
    "[11,17,13]. We reveal 11, and move 17 to the bot\n",
    "tom. The deck is now [13,17]. We reveal 13, and\n",
    "move 17 to the bottom. The deck is now [17]. We\n",
    "reveal 17. Since all the cards revealed are in i\n",
    "ncreasing order, the answer is correct.\n",
    "\n",
    "- Example 2:\n",
    "Input: deck = [1,1000] Output: [1,1000]"
   ]
  },
  {
   "cell_type": "code",
   "execution_count": 24,
   "id": "e860b784",
   "metadata": {},
   "outputs": [],
   "source": [
    "from collections import deque\n",
    "\n",
    "def deck_revealed_increasing(deck):\n",
    "    deck.sort()  # Sort the deck in ascending order\n",
    "    result = deque()  # Result deque to store revealed cards\n",
    "\n",
    "    for card in reversed(deck):\n",
    "        if result:\n",
    "            result.appendleft(result.pop())  # Move the last card to the front\n",
    "        result.appendleft(card)  # Reveal the current card\n",
    "\n",
    "    return list(result)"
   ]
  },
  {
   "cell_type": "code",
   "execution_count": 25,
   "id": "bfa6390a",
   "metadata": {},
   "outputs": [
    {
     "name": "stdout",
     "output_type": "stream",
     "text": [
      "[2, 13, 3, 11, 5, 17, 7]\n"
     ]
    }
   ],
   "source": [
    "# Example: 01\n",
    "print(deck_revealed_increasing([17, 13, 11, 2, 3, 5, 7]))  # Output: [2, 13, 3, 11, 5, 17, 7]"
   ]
  },
  {
   "cell_type": "code",
   "execution_count": 26,
   "id": "50fc99f5",
   "metadata": {},
   "outputs": [
    {
     "name": "stdout",
     "output_type": "stream",
     "text": [
      "[1, 1000]\n"
     ]
    }
   ],
   "source": [
    "# Example: 02\n",
    "print(deck_revealed_increasing([1, 1000]))  # Output: [1, 1000]"
   ]
  },
  {
   "cell_type": "markdown",
   "id": "ebdd143a",
   "metadata": {},
   "source": [
    "**Question 7**\n",
    "- Design a queue that supports push and pop operations in\n",
    "the front, middle, and back.\n",
    "- Implement the FrontMiddleBack class:\n",
    "- FrontMiddleBack() Initializes the queue.\n",
    "- void pushFront(int val) Adds val to the front of the queue.\n",
    "- void pushMiddle(int val) Adds val to the middle of\n",
    "the queue.\n",
    "- void pushBack(int val) Adds val to the back of the\n",
    "queue.\n",
    "- int popFront() Removes the front element of the\n",
    "queue and returns it. If the queue is empty, return 1 .\n",
    "- int popMiddle() Removes the middle element of the\n",
    "queue and returns it. If the queue is empty, return 1 .\n",
    "- int popBack() Removes the back element of the queue\n",
    "and returns it. If the queue is empty, return 1 .\n",
    "- Notice that when there are two middle position choices, the\n",
    "operation is performed on the frontmost middle position\n",
    "choice. For example:\n",
    "- Pushing 6 into the middle of [1, 2, 3, 4, 5] results\n",
    "in [1, 2, 6, 3, 4, 5] .\n",
    "- Popping the middle from [1, 2, 3, 4, 5,\n",
    "6] returns 3 and results in [1, 2, 4, 5, 6] .\n",
    "- Example 1:\n",
    "- Input: [\"FrontMiddleBackQueue\", \"pushFront\", \"pushBack\", \"pushMiddle\", \"pushMiddle\", \"popFront\",\n",
    "\"popMiddle\", \"popMiddle\", \"popBack\", \"popFront\"]\n",
    "[[], [1], [2], [3], [4], [], [], [], [], []] Out\n",
    "put: [null, null, null, null, null, 1, 3, 4, 2,\n",
    "-1] \n",
    "- Explanation: FrontMiddleBackQueue q = new Fr\n",
    "ontMiddleBackQueue(); q.pushFront(1); // [1] q.p\n",
    "ushBack(2); // [1,2] q.pushMiddle(3); // [1,3,\n",
    "2] q.pushMiddle(4); // [1,4, 3, 2] q.popFront();\n",
    "// return 1 -> [4, 3, 2] q.popMiddle(); // retur\n",
    "n 3 -> [4, 2] q.popMiddle(); // return 4 -> [2]\n",
    "q.popBack(); // return 2 -> [] q.popFront(); //\n",
    "return -1 -> [] (The queue is empty)"
   ]
  },
  {
   "cell_type": "code",
   "execution_count": 31,
   "id": "717d830f",
   "metadata": {},
   "outputs": [],
   "source": [
    "class Node:\n",
    "    def __init__(self, val):\n",
    "        self.val = val\n",
    "        self.prev = None\n",
    "        self.next = None\n",
    "\n",
    "class FrontMiddleBackQueue:\n",
    "    def __init__(self):\n",
    "        self.head = None\n",
    "        self.middle = None\n",
    "        self.size = 0\n",
    "\n",
    "    def pushFront(self, val):\n",
    "        new_node = Node(val)\n",
    "        if not self.head:\n",
    "            self.head = new_node\n",
    "            self.middle = new_node\n",
    "        else:\n",
    "            new_node.next = self.head\n",
    "            self.head.prev = new_node\n",
    "            self.head = new_node\n",
    "            if self.size % 2 == 0:\n",
    "                self.middle = self.middle.prev\n",
    "        self.size += 1\n",
    "\n",
    "    def pushMiddle(self, val):\n",
    "        if not self.head:\n",
    "            self.pushFront(val)\n",
    "            return\n",
    "        new_node = Node(val)\n",
    "        if self.size % 2 == 0:\n",
    "            self.middle = self.middle.prev\n",
    "        if self.size == 1:\n",
    "            self.head.next = new_node\n",
    "            new_node.prev = self.head\n",
    "        else:\n",
    "            prev_middle = self.middle.prev\n",
    "            new_node.next = self.middle\n",
    "            new_node.prev = prev_middle\n",
    "            self.middle.prev = new_node\n",
    "            if prev_middle:\n",
    "                prev_middle.next = new_node\n",
    "        self.middle = new_node\n",
    "        self.size += 1\n",
    "\n",
    "    def pushBack(self, val):\n",
    "        new_node = Node(val)\n",
    "        if not self.head:\n",
    "            self.head = new_node\n",
    "            self.middle = new_node\n",
    "        else:\n",
    "            current = self.head\n",
    "            while current.next:\n",
    "                current = current.next\n",
    "            current.next = new_node\n",
    "            new_node.prev = current\n",
    "            if self.size % 2 == 1:\n",
    "                self.middle = self.middle.next\n",
    "        self.size += 1\n",
    "\n",
    "    def popFront(self):\n",
    "        if not self.head:\n",
    "            return -1\n",
    "        front_val = self.head.val\n",
    "        if self.head.next:\n",
    "            self.head = self.head.next\n",
    "            self.head.prev = None\n",
    "            if self.size % 2 == 0:\n",
    "                self.middle = self.middle.next\n",
    "        else:\n",
    "            self.head = None\n",
    "            self.middle = None\n",
    "        self.size -= 1\n",
    "        return front_val\n",
    "\n",
    "    def popMiddle(self):\n",
    "        if not self.head:\n",
    "            return -1\n",
    "        middle_val = self.middle.val\n",
    "        if self.size == 1:\n",
    "            self.head = None\n",
    "            self.middle = None\n",
    "        else:\n",
    "            prev_node = self.middle.prev\n",
    "            next_node = self.middle.next\n",
    "            if prev_node:\n",
    "                prev_node.next = next_node\n",
    "            if next_node:\n",
    "                next_node.prev = prev_node\n",
    "            if self.size % 2 == 0:\n",
    "                self.middle = next_node\n",
    "            else:\n",
    "                self.middle = prev_node\n",
    "        self.size -= 1\n",
    "        return middle_val\n",
    "\n",
    "    def popBack(self):\n",
    "        if not self.head:\n",
    "            return -1\n",
    "        back_val = None\n",
    "        if self.head.next:\n",
    "            current = self.head\n",
    "            while current.next.next:\n",
    "                current = current.next\n",
    "            back_val = current.next.val\n",
    "            current.next = None\n",
    "            if self.size % 2 == 1:\n",
    "                self.middle = self.middle.prev\n",
    "        else:\n",
    "            back_val = self.head.val\n",
    "            self.head = None\n",
    "            self.middle = None\n",
    "        self.size -= 1\n",
    "        return back_val"
   ]
  },
  {
   "cell_type": "code",
   "execution_count": 32,
   "id": "0c62281e",
   "metadata": {},
   "outputs": [
    {
     "name": "stdout",
     "output_type": "stream",
     "text": [
      "1\n",
      "3\n",
      "4\n",
      "2\n",
      "-1\n"
     ]
    }
   ],
   "source": [
    "# Testing the FrontMiddleBackQueue class\n",
    "\n",
    "q = FrontMiddleBackQueue()\n",
    "q.pushFront(1)\n",
    "q.pushBack(2)\n",
    "q.pushMiddle(3)\n",
    "q.pushMiddle(4)\n",
    "print(q.popFront())  # Output: 1\n",
    "print(q.popMiddle())  # Output: 3\n",
    "print(q.popMiddle())  # Output: 4\n",
    "print(q.popBack())  # Output: 2\n",
    "print(q.popFront())  # Output: -1 (The queue is empty)"
   ]
  },
  {
   "cell_type": "markdown",
   "id": "b30e86f8",
   "metadata": {},
   "source": [
    "**Question 8**\n",
    "- For a stream of integers, implement a data structure that\n",
    "checks if the last k integers parsed in the stream\n",
    "are equal to value .\n",
    "- Implement the DataStream class:\n",
    "- DataStream(int value, int k) Initializes the object\n",
    "with an empty integer stream and the two\n",
    "integers value and k .\n",
    "- boolean consec(int num) Adds num to the stream of\n",
    "integers. Returns true if the last k integers are equal\n",
    "to value , and false otherwise. If there are less\n",
    "than k integers, the condition does not hold true, so\n",
    "returns false.\n",
    "- Example 1:\n",
    "- Input [\"DataStream\", \"consec\", \"consec\", \"conse\n",
    "c\", \"consec\"] [[4, 3], [4], [4], [4], [3]] Outpu\n",
    "t [null, false, false, true, false] \n",
    "- Explanation\n",
    "DataStream dataStream = new DataStream(4, 3); //\n",
    "value = 4, k = 3 dataStream.consec(4); // Only 1\n",
    "integer is parsed, so returns False. dataStream.\n",
    "consec(4); // Only 2 integers are parsed. // Sin\n",
    "ce 2 is less than k, returns False. dataStream.c\n",
    "onsec(4); // The 3 integers parsed are all equal\n",
    "to value, so returns True. dataStream.consec(3);\n",
    "// The last k integers parsed in the stream are [4,4,3]. // Since 3 is not equal to value, it re\n",
    "turns False."
   ]
  },
  {
   "cell_type": "code",
   "execution_count": 33,
   "id": "c600d7de",
   "metadata": {},
   "outputs": [],
   "source": [
    "from collections import deque\n",
    "\n",
    "class DataStream:\n",
    "    def __init__(self, value, k):\n",
    "        self.value = value\n",
    "        self.k = k\n",
    "        self.stream = deque()\n",
    "\n",
    "    def consec(self, num):\n",
    "        self.stream.append(num)\n",
    "        if len(self.stream) < self.k:\n",
    "            return False\n",
    "        elif len(self.stream) > self.k:\n",
    "            self.stream.popleft()\n",
    "        return all(val == self.value for val in self.stream)"
   ]
  },
  {
   "cell_type": "code",
   "execution_count": 34,
   "id": "e06b2672",
   "metadata": {},
   "outputs": [
    {
     "name": "stdout",
     "output_type": "stream",
     "text": [
      "False\n",
      "False\n",
      "True\n",
      "False\n"
     ]
    }
   ],
   "source": [
    "# Given Use Case:\n",
    "dataStream = DataStream(4, 3)\n",
    "print(dataStream.consec(4))  # Output: False\n",
    "print(dataStream.consec(4))  # Output: False\n",
    "print(dataStream.consec(4))  # Output: True\n",
    "print(dataStream.consec(3))  # Output: False"
   ]
  }
 ],
 "metadata": {
  "kernelspec": {
   "display_name": "Python 3 (ipykernel)",
   "language": "python",
   "name": "python3"
  },
  "language_info": {
   "codemirror_mode": {
    "name": "ipython",
    "version": 3
   },
   "file_extension": ".py",
   "mimetype": "text/x-python",
   "name": "python",
   "nbconvert_exporter": "python",
   "pygments_lexer": "ipython3",
   "version": "3.9.12"
  },
  "latex_envs": {
   "LaTeX_envs_menu_present": true,
   "autoclose": false,
   "autocomplete": true,
   "bibliofile": "biblio.bib",
   "cite_by": "apalike",
   "current_citInitial": 1,
   "eqLabelWithNumbers": true,
   "eqNumInitial": 1,
   "hotkeys": {
    "equation": "Ctrl-E",
    "itemize": "Ctrl-I"
   },
   "labels_anchors": false,
   "latex_user_defs": false,
   "report_style_numbering": false,
   "user_envs_cfg": false
  },
  "nbTranslate": {
   "displayLangs": [
    "*"
   ],
   "hotkey": "alt-t",
   "langInMainMenu": true,
   "sourceLang": "en",
   "targetLang": "fr",
   "useGoogleTranslate": true
  },
  "toc": {
   "base_numbering": 1,
   "nav_menu": {},
   "number_sections": true,
   "sideBar": true,
   "skip_h1_title": false,
   "title_cell": "Table of Contents",
   "title_sidebar": "Contents",
   "toc_cell": false,
   "toc_position": {},
   "toc_section_display": true,
   "toc_window_display": false
  },
  "varInspector": {
   "cols": {
    "lenName": 16,
    "lenType": 16,
    "lenVar": 40
   },
   "kernels_config": {
    "python": {
     "delete_cmd_postfix": "",
     "delete_cmd_prefix": "del ",
     "library": "var_list.py",
     "varRefreshCmd": "print(var_dic_list())"
    },
    "r": {
     "delete_cmd_postfix": ") ",
     "delete_cmd_prefix": "rm(",
     "library": "var_list.r",
     "varRefreshCmd": "cat(var_dic_list()) "
    }
   },
   "types_to_exclude": [
    "module",
    "function",
    "builtin_function_or_method",
    "instance",
    "_Feature"
   ],
   "window_display": false
  }
 },
 "nbformat": 4,
 "nbformat_minor": 5
}
