{
 "cells": [
  {
   "cell_type": "markdown",
   "id": "8b6bbf08",
   "metadata": {},
   "source": [
    "![image](https://user-images.githubusercontent.com/57321948/196933065-4b16c235-f3b9-4391-9cfe-4affcec87c35.png)\n",
    "\n",
    "# Submitted by: Mohammad Wasiq\n",
    "\n",
    "## Email: `gl0427@myamu.ac.in`\n",
    "\n",
    "# DSA (Data Structures and Algorithms) Assignment 18 - Searching and Sorting"
   ]
  },
  {
   "cell_type": "markdown",
   "id": "81628709",
   "metadata": {},
   "source": [
    "**Question 1**\n",
    "\n",
    "**Merge Intervals**\n",
    "\n",
    "Given an array of `intervals` where `intervals[i] = [starti, endi]`, merge all overlapping intervals, and return *an array of the non-overlapping intervals that cover all the intervals in the input*.\n",
    "\n",
    "**Example 1:**\n",
    "\n",
    "```py\n",
    "Input: intervals = [[1,3],[2,6],[8,10],[15,18]]\n",
    "Output: [[1,6],[8,10],[15,18]]\n",
    "Explanation: Since intervals [1,3] and [2,6] overlap, merge them into [1,6].\n",
    "\n",
    "```\n",
    "\n",
    "**Example 2:**\n",
    "\n",
    "```py\n",
    "Input: intervals = [[1,4],[4,5]]\n",
    "Output: [[1,5]]\n",
    "Explanation: Intervals [1,4] and [4,5] are considered overlapping.\n",
    "\n",
    "```\n",
    "\n",
    "**Constraints:**\n",
    "\n",
    "- `1 <= intervals.length <= 10000`\n",
    "- `intervals[i].length == 2`\n",
    "- `0 <= starti <= endi <= 10000`"
   ]
  },
  {
   "cell_type": "code",
   "execution_count": 1,
   "id": "6738b742",
   "metadata": {
    "ExecuteTime": {
     "end_time": "2023-06-21T18:31:25.952446Z",
     "start_time": "2023-06-21T18:31:25.938483Z"
    }
   },
   "outputs": [],
   "source": [
    "def merge(intervals):\n",
    "    intervals.sort(key=lambda x: x[0])\n",
    "    merged = []\n",
    "    currentInterval = intervals[0]\n",
    "    \n",
    "    for interval in intervals[1:]:\n",
    "        # Check if the current interval overlaps with the next interval\n",
    "        if currentInterval[1] >= interval[0]:\n",
    "            # Merge the intervals by updating the end time of the currentInterval if needed\n",
    "            currentInterval[1] = max(currentInterval[1], interval[1])\n",
    "        else:\n",
    "            # Add the currentInterval to the result list\n",
    "            merged.append(currentInterval)\n",
    "            # Update currentInterval with the next interval\n",
    "            currentInterval = interval\n",
    "    \n",
    "    # Add the last interval to the result list\n",
    "    merged.append(currentInterval)\n",
    "    \n",
    "    return merged"
   ]
  },
  {
   "cell_type": "code",
   "execution_count": 3,
   "id": "f552e00e",
   "metadata": {
    "ExecuteTime": {
     "end_time": "2023-06-21T18:32:11.530438Z",
     "start_time": "2023-06-21T18:32:11.498518Z"
    }
   },
   "outputs": [
    {
     "data": {
      "text/plain": [
       "[[1, 6], [8, 10], [15, 18]]"
      ]
     },
     "execution_count": 3,
     "metadata": {},
     "output_type": "execute_result"
    }
   ],
   "source": [
    "intervals = [[1,3],[2,6],[8,10],[15,18]]\n",
    "merge(intervals)"
   ]
  },
  {
   "cell_type": "code",
   "execution_count": 4,
   "id": "757b42c8",
   "metadata": {
    "ExecuteTime": {
     "end_time": "2023-06-21T18:32:28.412873Z",
     "start_time": "2023-06-21T18:32:28.396916Z"
    }
   },
   "outputs": [
    {
     "data": {
      "text/plain": [
       "[[1, 5]]"
      ]
     },
     "execution_count": 4,
     "metadata": {},
     "output_type": "execute_result"
    }
   ],
   "source": [
    "intervals = [[1,4],[4,5]]\n",
    "merge(intervals)"
   ]
  },
  {
   "cell_type": "markdown",
   "id": "abc56c87",
   "metadata": {},
   "source": [
    "**Question 2**\n",
    "\n",
    "**Sort Colors**\n",
    "\n",
    "Given an array `nums` with `n` objects colored red, white, or blue, sort them **[in-place](https://en.wikipedia.org/wiki/In-place_algorithm)** so that objects of the same color are adjacent, with the colors in the order red, white, and blue.\n",
    "\n",
    "We will use the integers `0`, `1`, and `2` to represent the color red, white, and blue, respectively.\n",
    "\n",
    "You must solve this problem without using the library's sort function.\n",
    "\n",
    "**Example 1:**\n",
    "\n",
    "```py\n",
    "Input: nums = [2,0,2,1,1,0]\n",
    "Output: [0,0,1,1,2,2]\n",
    "\n",
    "```\n",
    "\n",
    "**Example 2:**\n",
    "\n",
    "```py\n",
    "Input: nums = [2,0,1]\n",
    "Output: [0,1,2]\n",
    "\n",
    "```\n",
    "\n",
    "**Constraints:**\n",
    "\n",
    "- `n == nums.length`\n",
    "- `1 <= n <= 300`\n",
    "- `nums[i]` is either `0`, `1`, or `2`."
   ]
  },
  {
   "cell_type": "code",
   "execution_count": 9,
   "id": "63c8ed92",
   "metadata": {
    "ExecuteTime": {
     "end_time": "2023-06-21T18:35:03.464486Z",
     "start_time": "2023-06-21T18:35:03.446526Z"
    }
   },
   "outputs": [],
   "source": [
    "def sortColors(nums):\n",
    "    n = len(nums)\n",
    "    low = mid = 0\n",
    "    high = n - 1\n",
    "\n",
    "    while mid <= high:\n",
    "        if nums[mid] == 0:\n",
    "            nums[low], nums[mid] = nums[mid], nums[low]\n",
    "            low += 1\n",
    "            mid += 1\n",
    "        elif nums[mid] == 1:\n",
    "            mid += 1\n",
    "        else:\n",
    "            nums[mid], nums[high] = nums[high], nums[mid]\n",
    "            high -= 1\n",
    "\n",
    "    return nums"
   ]
  },
  {
   "cell_type": "code",
   "execution_count": 10,
   "id": "3114e3d1",
   "metadata": {
    "ExecuteTime": {
     "end_time": "2023-06-21T18:35:21.834271Z",
     "start_time": "2023-06-21T18:35:21.823300Z"
    }
   },
   "outputs": [
    {
     "name": "stdout",
     "output_type": "stream",
     "text": [
      "[0, 0, 1, 1, 2, 2]\n"
     ]
    }
   ],
   "source": [
    "nums1 = [2, 0, 2, 1, 1, 0]\n",
    "print(sortColors(nums1))"
   ]
  },
  {
   "cell_type": "code",
   "execution_count": 11,
   "id": "9ed2269d",
   "metadata": {
    "ExecuteTime": {
     "end_time": "2023-06-21T18:35:35.335322Z",
     "start_time": "2023-06-21T18:35:35.326343Z"
    }
   },
   "outputs": [
    {
     "name": "stdout",
     "output_type": "stream",
     "text": [
      "[0, 1, 2]\n"
     ]
    }
   ],
   "source": [
    "nums2 = [2, 0, 1]\n",
    "print(sortColors(nums2))"
   ]
  },
  {
   "cell_type": "markdown",
   "id": "eefe465b",
   "metadata": {},
   "source": [
    "**Question 3**\n",
    "\n",
    "**First Bad Version Solution**\n",
    "\n",
    "You are a product manager and currently leading a team to develop a new product. Unfortunately, the latest version of your product fails the quality check. Since each version is developed based on the previous version, all the versions after a bad version are also bad.\n",
    "\n",
    "Suppose you have `n` versions `[1, 2, ..., n]` and you want to find out the first bad one, which causes all the following ones to be bad.\n",
    "\n",
    "You are given an API `bool isBadVersion(version)` which returns whether `version` is bad. Implement a function to find the first bad version. You should minimize the number of calls to the API.\n",
    "\n",
    "**Example 1:**\n",
    "\n",
    "```py\n",
    "Input: n = 5, bad = 4\n",
    "Output: 4\n",
    "Explanation:\n",
    "call isBadVersion(3) -> false\n",
    "call isBadVersion(5) -> true\n",
    "call isBadVersion(4) -> true\n",
    "Then 4 is the first bad version.\n",
    "```\n",
    "\n",
    "**Example 2:**\n",
    "\n",
    "```py\n",
    "Input: n = 1, bad = 1\n",
    "Output: 1\n",
    "```\n",
    "\n",
    "**Constraints:**\n",
    "\n",
    "- `1 <= bad <= n <= 2^31 - 1`"
   ]
  },
  {
   "cell_type": "code",
   "execution_count": 14,
   "id": "ef7ceb8c",
   "metadata": {
    "ExecuteTime": {
     "end_time": "2023-06-21T18:41:47.088102Z",
     "start_time": "2023-06-21T18:41:47.067158Z"
    }
   },
   "outputs": [],
   "source": [
    "def isBadVersion(version):\n",
    "    # Assuming versions greater than or equal to `bad` are bad\n",
    "    return version >= bad\n",
    "\n",
    "\n",
    "def firstBadVersion(n, bad):\n",
    "    left = 1\n",
    "    right = n\n",
    "\n",
    "    while left < right:\n",
    "        mid = left + (right - left) // 2\n",
    "        if isBadVersion(mid):\n",
    "            right = mid\n",
    "        else:\n",
    "            left = mid + 1\n",
    "\n",
    "    return left"
   ]
  },
  {
   "cell_type": "code",
   "execution_count": 16,
   "id": "88e124ea",
   "metadata": {
    "ExecuteTime": {
     "end_time": "2023-06-21T18:42:04.472184Z",
     "start_time": "2023-06-21T18:42:04.458221Z"
    }
   },
   "outputs": [
    {
     "name": "stdout",
     "output_type": "stream",
     "text": [
      "4\n"
     ]
    }
   ],
   "source": [
    "n = 5\n",
    "bad = 4\n",
    "print(firstBadVersion(n, bad))"
   ]
  },
  {
   "cell_type": "code",
   "execution_count": 17,
   "id": "2ce2848a",
   "metadata": {
    "ExecuteTime": {
     "end_time": "2023-06-21T18:42:17.515833Z",
     "start_time": "2023-06-21T18:42:17.498877Z"
    }
   },
   "outputs": [
    {
     "name": "stdout",
     "output_type": "stream",
     "text": [
      "1\n"
     ]
    }
   ],
   "source": [
    "n = 1\n",
    "bad = 1\n",
    "print(firstBadVersion(n, bad))"
   ]
  },
  {
   "cell_type": "markdown",
   "id": "85ceca82",
   "metadata": {},
   "source": [
    "**Question 4**\n",
    "\n",
    "**Maximum Gap**\n",
    "\n",
    "Given an integer array `nums`, return *the maximum difference between two successive elements in its sorted form*. If the array contains less than two elements, return `0`.\n",
    "\n",
    "You must write an algorithm that runs in linear time and uses linear extra space.\n",
    "\n",
    "**Example 1:**\n",
    "\n",
    "```py\n",
    "Input: nums = [3,6,9,1]\n",
    "Output: 3\n",
    "Explanation: The sorted form of the array is [1,3,6,9], either (3,6) or (6,9) has the maximum difference 3.\n",
    "```\n",
    "\n",
    "**Example 2:**\n",
    "\n",
    "```py\n",
    "Input: nums = [10]\n",
    "Output: 0\n",
    "Explanation: The array contains less than 2 elements, therefore return 0.\n",
    "```\n",
    "\n",
    "**Constraints:**\n",
    "\n",
    "- `1 <= nums.length <= 10^5`\n",
    "- `0 <= nums[i] <= 10^9`"
   ]
  },
  {
   "cell_type": "code",
   "execution_count": 27,
   "id": "aacc0727",
   "metadata": {
    "ExecuteTime": {
     "end_time": "2023-06-21T18:47:12.734526Z",
     "start_time": "2023-06-21T18:47:12.706629Z"
    }
   },
   "outputs": [],
   "source": [
    "def maximumGap(nums):\n",
    "    if len(nums) < 2:\n",
    "        return 0\n",
    "    \n",
    "    # Find the maximum element in the array\n",
    "    max_num = max(nums)\n",
    "    \n",
    "    # Perform Radix Sort\n",
    "    exp = 1\n",
    "    n = len(nums)\n",
    "    aux = [0] * n\n",
    "    \n",
    "    while max_num // exp > 0:\n",
    "        count = [0] * 10\n",
    "        \n",
    "        # Counting sort based on the current digit\n",
    "        for i in range(n):\n",
    "            count[(nums[i] // exp) % 10] += 1\n",
    "        \n",
    "        for i in range(1, 10):\n",
    "            count[i] += count[i - 1]\n",
    "        \n",
    "        for i in range(n - 1, -1, -1):\n",
    "            digit = (nums[i] // exp) % 10\n",
    "            aux[count[digit] - 1] = nums[i]\n",
    "            count[digit] -= 1\n",
    "        \n",
    "        nums = aux.copy()\n",
    "        exp *= 10\n",
    "    \n",
    "    # Find the maximum difference between successive elements\n",
    "    max_diff = 0\n",
    "    for i in range(1, n):\n",
    "        max_diff = max(max_diff, nums[i] - nums[i - 1])\n",
    "    \n",
    "    return max_diff"
   ]
  },
  {
   "cell_type": "code",
   "execution_count": 28,
   "id": "ec44d6a6",
   "metadata": {
    "ExecuteTime": {
     "end_time": "2023-06-21T18:47:24.111003Z",
     "start_time": "2023-06-21T18:47:24.098029Z"
    }
   },
   "outputs": [
    {
     "name": "stdout",
     "output_type": "stream",
     "text": [
      "3\n"
     ]
    }
   ],
   "source": [
    "nums = [3, 6, 9, 1]\n",
    "print(maximumGap(nums))"
   ]
  },
  {
   "cell_type": "code",
   "execution_count": 29,
   "id": "a2f106a7",
   "metadata": {
    "ExecuteTime": {
     "end_time": "2023-06-21T18:47:35.732106Z",
     "start_time": "2023-06-21T18:47:35.714138Z"
    }
   },
   "outputs": [
    {
     "name": "stdout",
     "output_type": "stream",
     "text": [
      "0\n"
     ]
    }
   ],
   "source": [
    "nums = [10]\n",
    "print(maximumGap(nums))"
   ]
  },
  {
   "cell_type": "markdown",
   "id": "d9b4d885",
   "metadata": {},
   "source": [
    "**Question 5**\n",
    "\n",
    "**Contains Duplicate**\n",
    "\n",
    "Given an integer array `nums`, return `true` if any value appears **at least twice** in the array, and return `false` if every element is distinct.\n",
    "\n",
    "**Example 1:**\n",
    "\n",
    "```py\n",
    "Input: nums = [1,2,3,1]\n",
    "Output: true\n",
    "```\n",
    "\n",
    "**Example 2:**\n",
    "\n",
    "```py\n",
    "Input: nums = [1,2,3,4]\n",
    "Output: false\n",
    "```\n",
    "\n",
    "**Example 3:**\n",
    "\n",
    "```py\n",
    "Input: nums = [1,1,1,3,3,4,3,2,4,2]\n",
    "Output: true\n",
    "```\n",
    "\n",
    "**Constraints:**\n",
    "\n",
    "- `1 <= nums.length <= 10^5`\n",
    "- `109 <= nums[i] <= 10^9`"
   ]
  },
  {
   "cell_type": "code",
   "execution_count": 30,
   "id": "54e9e456",
   "metadata": {
    "ExecuteTime": {
     "end_time": "2023-06-21T18:48:39.221461Z",
     "start_time": "2023-06-21T18:48:39.206500Z"
    }
   },
   "outputs": [],
   "source": [
    "def containsDuplicate(nums):\n",
    "    # Create an empty set\n",
    "    num_set = set()\n",
    "    \n",
    "    # Traverse the array\n",
    "    for num in nums:\n",
    "        # If the current number is already in the set, return True\n",
    "        if num in num_set:\n",
    "            return True\n",
    "        \n",
    "        # Otherwise, add the number to the set\n",
    "        num_set.add(num)\n",
    "    \n",
    "    # All elements are distinct, so return False\n",
    "    return False"
   ]
  },
  {
   "cell_type": "code",
   "execution_count": 31,
   "id": "7dc940bb",
   "metadata": {
    "ExecuteTime": {
     "end_time": "2023-06-21T18:49:05.538241Z",
     "start_time": "2023-06-21T18:49:05.525274Z"
    }
   },
   "outputs": [
    {
     "name": "stdout",
     "output_type": "stream",
     "text": [
      "True\n"
     ]
    }
   ],
   "source": [
    "nums = [1, 2, 3, 1]\n",
    "print(containsDuplicate(nums)) "
   ]
  },
  {
   "cell_type": "code",
   "execution_count": 32,
   "id": "30baf538",
   "metadata": {
    "ExecuteTime": {
     "end_time": "2023-06-21T18:49:13.383059Z",
     "start_time": "2023-06-21T18:49:13.372087Z"
    }
   },
   "outputs": [
    {
     "name": "stdout",
     "output_type": "stream",
     "text": [
      "False\n"
     ]
    }
   ],
   "source": [
    "nums = [1, 2, 3, 4]\n",
    "print(containsDuplicate(nums))  "
   ]
  },
  {
   "cell_type": "code",
   "execution_count": 33,
   "id": "f415150f",
   "metadata": {
    "ExecuteTime": {
     "end_time": "2023-06-21T18:49:16.437904Z",
     "start_time": "2023-06-21T18:49:16.424936Z"
    }
   },
   "outputs": [
    {
     "name": "stdout",
     "output_type": "stream",
     "text": [
      "True\n"
     ]
    }
   ],
   "source": [
    "nums = [1, 1, 1, 3, 3, 4, 3, 2, 4, 2]\n",
    "print(containsDuplicate(nums)) "
   ]
  },
  {
   "cell_type": "markdown",
   "id": "f92c0718",
   "metadata": {},
   "source": [
    "**Question 6**\n",
    "\n",
    "**Minimum Number of Arrows to Burst Balloons**\n",
    "\n",
    "There are some spherical balloons taped onto a flat wall that represents the XY-plane. The balloons are represented as a 2D integer array `points` where `points[i] = [xstart, xend]` denotes a balloon whose **horizontal diameter** stretches between `xstart` and `xend`. You do not know the exact y-coordinates of the balloons.\n",
    "\n",
    "Arrows can be shot up **directly vertically** (in the positive y-direction) from different points along the x-axis. A balloon with `xstart` and `xend` is **burst** by an arrow shot at `x` if `xstart <= x <= xend`. There is **no limit** to the number of arrows that can be shot. A shot arrow keeps traveling up infinitely, bursting any balloons in its path.\n",
    "\n",
    "Given the array `points`, return *the **minimum** number of arrows that must be shot to burst all balloons*.\n",
    "\n",
    "**Example 1:**\n",
    "\n",
    "```py\n",
    "Input: points = [[10,16],[2,8],[1,6],[7,12]]\n",
    "Output: 2\n",
    "Explanation: The balloons can be burst by 2 arrows:\n",
    "- Shoot an arrow at x = 6, bursting the balloons [2,8] and [1,6].\n",
    "- Shoot an arrow at x = 11, bursting the balloons [10,16] and [7,12].\n",
    "```\n",
    "\n",
    "**Example 2:**\n",
    "\n",
    "```py\n",
    "Input: points = [[1,2],[3,4],[5,6],[7,8]]\n",
    "Output: 4\n",
    "Explanation: One arrow needs to be shot for each balloon for a total of 4 arrows.\n",
    "```\n",
    "\n",
    "**Example 3:**\n",
    "\n",
    "```py\n",
    "Input: points = [[1,2],[2,3],[3,4],[4,5]]\n",
    "Output: 2\n",
    "Explanation: The balloons can be burst by 2 arrows:\n",
    "- Shoot an arrow at x = 2, bursting the balloons [1,2] and [2,3].\n",
    "- Shoot an arrow at x = 4, bursting the balloons [3,4] and [4,5].\n",
    "\n",
    "```\n",
    "\n",
    "**Constraints:**\n",
    "\n",
    "- `1 <= points.length <= 10^5`\n",
    "- `points[i].length == 2`\n",
    "- `231 <= xstart < xend <= 2^31 - 1`"
   ]
  },
  {
   "cell_type": "code",
   "execution_count": 34,
   "id": "033d0117",
   "metadata": {
    "ExecuteTime": {
     "end_time": "2023-06-21T18:50:29.129766Z",
     "start_time": "2023-06-21T18:50:29.108823Z"
    }
   },
   "outputs": [],
   "source": [
    "def findMinArrowShots(points):\n",
    "    if not points:\n",
    "        return 0\n",
    "    \n",
    "    # Sort the points based on the end coordinate in ascending order\n",
    "    points.sort(key=lambda x: x[1])\n",
    "    \n",
    "    arrows = 1  # At least one arrow is needed\n",
    "    end = points[0][1]\n",
    "    \n",
    "    # Check if subsequent balloons can be burst with the same arrow\n",
    "    for start, balloon_end in points:\n",
    "        if start > end:\n",
    "            # The balloon cannot be burst with the current arrow\n",
    "            arrows += 1\n",
    "            end = balloon_end\n",
    "    \n",
    "    return arrows"
   ]
  },
  {
   "cell_type": "code",
   "execution_count": 35,
   "id": "64753717",
   "metadata": {
    "ExecuteTime": {
     "end_time": "2023-06-21T18:50:44.480821Z",
     "start_time": "2023-06-21T18:50:44.462865Z"
    }
   },
   "outputs": [
    {
     "name": "stdout",
     "output_type": "stream",
     "text": [
      "2\n"
     ]
    }
   ],
   "source": [
    "points = [[10, 16], [2, 8], [1, 6], [7, 12]]\n",
    "print(findMinArrowShots(points)) "
   ]
  },
  {
   "cell_type": "code",
   "execution_count": 36,
   "id": "7233b3f3",
   "metadata": {
    "ExecuteTime": {
     "end_time": "2023-06-21T18:50:52.917792Z",
     "start_time": "2023-06-21T18:50:52.897841Z"
    }
   },
   "outputs": [
    {
     "name": "stdout",
     "output_type": "stream",
     "text": [
      "4\n"
     ]
    }
   ],
   "source": [
    "points = [[1, 2], [3, 4], [5, 6], [7, 8]]\n",
    "print(findMinArrowShots(points))"
   ]
  },
  {
   "cell_type": "code",
   "execution_count": 37,
   "id": "9ecb7201",
   "metadata": {
    "ExecuteTime": {
     "end_time": "2023-06-21T18:50:57.801980Z",
     "start_time": "2023-06-21T18:50:57.786023Z"
    }
   },
   "outputs": [
    {
     "name": "stdout",
     "output_type": "stream",
     "text": [
      "2\n"
     ]
    }
   ],
   "source": [
    "points = [[1, 2], [2, 3], [3, 4], [4, 5]]\n",
    "print(findMinArrowShots(points))"
   ]
  },
  {
   "cell_type": "markdown",
   "id": "db86d59c",
   "metadata": {},
   "source": [
    "**Question 7**\n",
    "\n",
    "**Longest Increasing Subsequence**\n",
    "\n",
    "Given an integer array `nums`, return *the length of the longest **strictly increasing***\n",
    "\n",
    "***subsequence***\n",
    "\n",
    "**Example 1:**\n",
    "\n",
    "```py\n",
    "Input: nums = [10,9,2,5,3,7,101,18]\n",
    "Output: 4\n",
    "Explanation: The longest increasing subsequence is [2,3,7,101], therefore the length is 4.\n",
    "```\n",
    "\n",
    "**Example 2:**\n",
    "\n",
    "```py\n",
    "Input: nums = [0,1,0,3,2,3]\n",
    "Output: 4\n",
    "```\n",
    "\n",
    "**Example 3:**\n",
    "\n",
    "```py\n",
    "Input: nums = [7,7,7,7,7,7,7]\n",
    "Output: 1\n",
    "```\n",
    "\n",
    "**Constraints:**\n",
    "\n",
    "- `1 <= nums.length <= 2500`\n",
    "- `-10^4 <= nums[i] <= 10^4`"
   ]
  },
  {
   "cell_type": "code",
   "execution_count": 5,
   "id": "50df9341",
   "metadata": {
    "ExecuteTime": {
     "end_time": "2023-06-21T18:33:09.695931Z",
     "start_time": "2023-06-21T18:33:09.674989Z"
    }
   },
   "outputs": [],
   "source": [
    "def lengthOfLIS(nums):\n",
    "    n = len(nums)\n",
    "    if n == 0:\n",
    "        return 0\n",
    "    \n",
    "    dp = [1] * n  # Initialize dp array with all 1's\n",
    "    \n",
    "    for i in range(1, n):\n",
    "        for j in range(i):\n",
    "            if nums[i] > nums[j]:\n",
    "                dp[i] = max(dp[i], dp[j] + 1)\n",
    "    \n",
    "    return max(dp)"
   ]
  },
  {
   "cell_type": "code",
   "execution_count": 6,
   "id": "d0081373",
   "metadata": {
    "ExecuteTime": {
     "end_time": "2023-06-21T18:33:43.226933Z",
     "start_time": "2023-06-21T18:33:43.215964Z"
    }
   },
   "outputs": [
    {
     "name": "stdout",
     "output_type": "stream",
     "text": [
      "4\n"
     ]
    }
   ],
   "source": [
    "nums1 = [10, 9, 2, 5, 3, 7, 101, 18]\n",
    "print(lengthOfLIS(nums1))"
   ]
  },
  {
   "cell_type": "code",
   "execution_count": 7,
   "id": "3bf94f3b",
   "metadata": {
    "ExecuteTime": {
     "end_time": "2023-06-21T18:33:52.407081Z",
     "start_time": "2023-06-21T18:33:52.389124Z"
    }
   },
   "outputs": [
    {
     "name": "stdout",
     "output_type": "stream",
     "text": [
      "4\n"
     ]
    }
   ],
   "source": [
    "nums2 = [0, 1, 0, 3, 2, 3]\n",
    "print(lengthOfLIS(nums2))"
   ]
  },
  {
   "cell_type": "code",
   "execution_count": 8,
   "id": "a3a213d8",
   "metadata": {
    "ExecuteTime": {
     "end_time": "2023-06-21T18:33:59.212048Z",
     "start_time": "2023-06-21T18:33:59.194098Z"
    }
   },
   "outputs": [
    {
     "name": "stdout",
     "output_type": "stream",
     "text": [
      "1\n"
     ]
    }
   ],
   "source": [
    "nums3 = [7, 7, 7, 7, 7, 7, 7]\n",
    "print(lengthOfLIS(nums3))"
   ]
  },
  {
   "cell_type": "markdown",
   "id": "8b88aa76",
   "metadata": {},
   "source": [
    "**Question 8**\n",
    "\n",
    "**132 Pattern**\n",
    "\n",
    "Given an array of `n` integers `nums`, a **132 pattern** is a subsequence of three integers `nums[i]`, `nums[j]` and `nums[k]` such that `i < j < k` and `nums[i] < nums[k] < nums[j]`.\n",
    "\n",
    "Return `true` *if there is a **132 pattern** in* `nums`*, otherwise, return* `false`*.*\n",
    "\n",
    "**Example 1:**\n",
    "\n",
    "```py\n",
    "Input: nums = [1,2,3,4]\n",
    "Output: false\n",
    "Explanation: There is no 132 pattern in the sequence.\n",
    "```\n",
    "\n",
    "**Example 2:**\n",
    "\n",
    "```py\n",
    "Input: nums = [3,1,4,2]\n",
    "Output: true\n",
    "Explanation: There is a 132 pattern in the sequence: [1, 4, 2].\n",
    "```\n",
    "\n",
    "**Example 3:**\n",
    "\n",
    "```py\n",
    "Input: nums = [-1,3,2,0]\n",
    "Output: true\n",
    "Explanation: There are three 132 patterns in the sequence: [-1, 3, 2], [-1, 3, 0] and [-1, 2, 0].\n",
    "```\n",
    "\n",
    "**Constraints:**\n",
    "\n",
    "- `n == nums.length`\n",
    "- `1 <= n <= 2 * 10^5`\n",
    "- `-10^9 <= nums[i] <= 10^9`"
   ]
  },
  {
   "cell_type": "code",
   "execution_count": 38,
   "id": "99cb1d0a",
   "metadata": {
    "ExecuteTime": {
     "end_time": "2023-06-21T18:51:53.521694Z",
     "start_time": "2023-06-21T18:51:53.500746Z"
    }
   },
   "outputs": [],
   "source": [
    "def find132pattern(nums):\n",
    "    n = len(nums)\n",
    "    stack = []\n",
    "    s3 = float('-inf')  # Initialize the potential \"3\" element to negative infinity\n",
    "    \n",
    "    # Traverse the array from right to left\n",
    "    for i in range(n - 1, -1, -1):\n",
    "        if nums[i] < s3:\n",
    "            # A valid \"1-3-2\" pattern is found\n",
    "            return True\n",
    "        \n",
    "        # Find the next potential \"2\" element\n",
    "        while stack and nums[i] > stack[-1]:\n",
    "            s3 = stack.pop()\n",
    "        \n",
    "        # Push the current number as a potential \"3\" element\n",
    "        stack.append(nums[i])\n",
    "    \n",
    "    return False"
   ]
  },
  {
   "cell_type": "code",
   "execution_count": 39,
   "id": "9fc8aac2",
   "metadata": {
    "ExecuteTime": {
     "end_time": "2023-06-21T18:52:03.552321Z",
     "start_time": "2023-06-21T18:52:03.536360Z"
    }
   },
   "outputs": [
    {
     "name": "stdout",
     "output_type": "stream",
     "text": [
      "False\n"
     ]
    }
   ],
   "source": [
    "nums = [1, 2, 3, 4]\n",
    "print(find132pattern(nums)) "
   ]
  },
  {
   "cell_type": "code",
   "execution_count": 40,
   "id": "8037a079",
   "metadata": {
    "ExecuteTime": {
     "end_time": "2023-06-21T18:52:09.151719Z",
     "start_time": "2023-06-21T18:52:09.131772Z"
    }
   },
   "outputs": [
    {
     "name": "stdout",
     "output_type": "stream",
     "text": [
      "True\n"
     ]
    }
   ],
   "source": [
    "nums = [3, 1, 4, 2]\n",
    "print(find132pattern(nums))  "
   ]
  },
  {
   "cell_type": "code",
   "execution_count": 41,
   "id": "154c8b45",
   "metadata": {
    "ExecuteTime": {
     "end_time": "2023-06-21T18:52:11.656464Z",
     "start_time": "2023-06-21T18:52:11.643498Z"
    }
   },
   "outputs": [
    {
     "name": "stdout",
     "output_type": "stream",
     "text": [
      "True\n"
     ]
    }
   ],
   "source": [
    "nums = [-1, 3, 2, 0]\n",
    "print(find132pattern(nums))  "
   ]
  }
 ],
 "metadata": {
  "kernelspec": {
   "display_name": "Python 3 (ipykernel)",
   "language": "python",
   "name": "python3"
  },
  "language_info": {
   "codemirror_mode": {
    "name": "ipython",
    "version": 3
   },
   "file_extension": ".py",
   "mimetype": "text/x-python",
   "name": "python",
   "nbconvert_exporter": "python",
   "pygments_lexer": "ipython3",
   "version": "3.9.12"
  },
  "latex_envs": {
   "LaTeX_envs_menu_present": true,
   "autoclose": false,
   "autocomplete": true,
   "bibliofile": "biblio.bib",
   "cite_by": "apalike",
   "current_citInitial": 1,
   "eqLabelWithNumbers": true,
   "eqNumInitial": 1,
   "hotkeys": {
    "equation": "Ctrl-E",
    "itemize": "Ctrl-I"
   },
   "labels_anchors": false,
   "latex_user_defs": false,
   "report_style_numbering": false,
   "user_envs_cfg": false
  },
  "nbTranslate": {
   "displayLangs": [
    "*"
   ],
   "hotkey": "alt-t",
   "langInMainMenu": true,
   "sourceLang": "en",
   "targetLang": "fr",
   "useGoogleTranslate": true
  },
  "toc": {
   "base_numbering": 1,
   "nav_menu": {},
   "number_sections": true,
   "sideBar": true,
   "skip_h1_title": false,
   "title_cell": "Table of Contents",
   "title_sidebar": "Contents",
   "toc_cell": false,
   "toc_position": {},
   "toc_section_display": true,
   "toc_window_display": false
  },
  "varInspector": {
   "cols": {
    "lenName": 16,
    "lenType": 16,
    "lenVar": 40
   },
   "kernels_config": {
    "python": {
     "delete_cmd_postfix": "",
     "delete_cmd_prefix": "del ",
     "library": "var_list.py",
     "varRefreshCmd": "print(var_dic_list())"
    },
    "r": {
     "delete_cmd_postfix": ") ",
     "delete_cmd_prefix": "rm(",
     "library": "var_list.r",
     "varRefreshCmd": "cat(var_dic_list()) "
    }
   },
   "types_to_exclude": [
    "module",
    "function",
    "builtin_function_or_method",
    "instance",
    "_Feature"
   ],
   "window_display": false
  }
 },
 "nbformat": 4,
 "nbformat_minor": 5
}
