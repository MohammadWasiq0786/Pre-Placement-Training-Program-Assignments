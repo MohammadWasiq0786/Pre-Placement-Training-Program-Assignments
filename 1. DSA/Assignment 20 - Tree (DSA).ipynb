{
 "cells": [
  {
   "cell_type": "markdown",
   "id": "daf88a9c",
   "metadata": {},
   "source": [
    "![image](https://user-images.githubusercontent.com/57321948/196933065-4b16c235-f3b9-4391-9cfe-4affcec87c35.png)\n",
    "\n",
    "# Submitted by: Mohammad Wasiq\n",
    "\n",
    "## Email: `gl0427@myamu.ac.in`\n",
    "\n",
    "# DSA (Data Structures and Algorithms) Assignment 20 - Tree"
   ]
  },
  {
   "cell_type": "markdown",
   "id": "c65b5d1d",
   "metadata": {},
   "source": [
    "**Q1. Given a binary tree, your task is to find subtree with maximum sum in tree.**\n",
    "\n",
    "**Examples :**\n",
    "\n",
    "Input1 :\n",
    "```\n",
    "\n",
    "       1\n",
    "\n",
    "     /   \\\n",
    "\n",
    "   2      3\n",
    "\n",
    "  / \\    / \\\n",
    "\n",
    "4   5  6   7\n",
    "\n",
    "```\n",
    "Output1 : 28\n",
    "\n",
    "**As all the tree elements are positive, the largest subtree sum is equal to sum of all tree elements.**\n",
    "\n",
    "Input2 :\n",
    "\n",
    "```\n",
    "       1\n",
    "\n",
    "     /    \\\n",
    "\n",
    "  -2      3\n",
    "\n",
    "  / \\    /  \\\n",
    "\n",
    "4   5  -6   2\n",
    "```\n",
    "\n",
    "Output2 : 7\n",
    "\n",
    "Subtree with largest sum is :\n",
    "\n",
    "```\n",
    " -2\n",
    "\n",
    " / \\\n",
    "\n",
    "4   5\n",
    "```\n",
    "Also, entire tree sum is also 7.\n",
    "\n",
    "**Ans :**"
   ]
  },
  {
   "cell_type": "code",
   "execution_count": 1,
   "id": "7cee0dbc",
   "metadata": {
    "ExecuteTime": {
     "end_time": "2023-07-01T06:57:14.896161Z",
     "start_time": "2023-07-01T06:57:14.876198Z"
    }
   },
   "outputs": [
    {
     "name": "stdout",
     "output_type": "stream",
     "text": [
      "28\n",
      "7\n"
     ]
    }
   ],
   "source": [
    "class TreeNode:\n",
    "    def __init__(self, val=0, left=None, right=None):\n",
    "        self.val = val\n",
    "        self.left = left\n",
    "        self.right = right\n",
    "\n",
    "def maxSubtreeSum(root):\n",
    "    if root is None:\n",
    "        return 0\n",
    "\n",
    "    max_sum = float('-inf')  # Initialize max_sum as negative infinity\n",
    "\n",
    "    def subtreeSum(node):\n",
    "        nonlocal max_sum\n",
    "        if node is None:\n",
    "            return 0\n",
    "        left_sum = subtreeSum(node.left)\n",
    "        right_sum = subtreeSum(node.right)\n",
    "        curr_sum = node.val + left_sum + right_sum\n",
    "        max_sum = max(max_sum, curr_sum)\n",
    "        return curr_sum\n",
    "\n",
    "    subtreeSum(root)\n",
    "    return max_sum\n",
    "\n",
    "# Example 1\n",
    "root1 = TreeNode(1)\n",
    "root1.left = TreeNode(2)\n",
    "root1.right = TreeNode(3)\n",
    "root1.left.left = TreeNode(4)\n",
    "root1.left.right = TreeNode(5)\n",
    "root1.right.left = TreeNode(6)\n",
    "root1.right.right = TreeNode(7)\n",
    "\n",
    "print(maxSubtreeSum(root1))  # Output: 28\n",
    "\n",
    "# Example 2\n",
    "root2 = TreeNode(1)\n",
    "root2.left = TreeNode(-2)\n",
    "root2.right = TreeNode(3)\n",
    "root2.left.left = TreeNode(4)\n",
    "root2.left.right = TreeNode(5)\n",
    "root2.right.left = TreeNode(-6)\n",
    "root2.right.right = TreeNode(2)\n",
    "\n",
    "print(maxSubtreeSum(root2))  # Output: 7"
   ]
  },
  {
   "cell_type": "markdown",
   "id": "b05b2967",
   "metadata": {},
   "source": [
    "**Q2. Construct the BST (Binary Search Tree) from its given level order traversal.**\n",
    "\n",
    "Example:\n",
    "\n",
    "Input: arr[] = {7, 4, 12, 3, 6, 8, 1, 5, 10}\n",
    "\n",
    "Output: BST:\n",
    "```\n",
    "\n",
    "            7\n",
    "\n",
    "         /    \\\n",
    "\n",
    "       4     12\n",
    "\n",
    "     /  \\     /\n",
    "\n",
    "    3   6  8\n",
    "\n",
    "   /    /     \\\n",
    "\n",
    " 1    5      10\n",
    "```\n",
    "\n",
    "**Ans :**"
   ]
  },
  {
   "cell_type": "code",
   "execution_count": 2,
   "id": "031a3889",
   "metadata": {
    "ExecuteTime": {
     "end_time": "2023-07-01T06:58:39.582826Z",
     "start_time": "2023-07-01T06:58:39.569864Z"
    }
   },
   "outputs": [
    {
     "name": "stdout",
     "output_type": "stream",
     "text": [
      "1 3 5 4 6 10 7 8 12 "
     ]
    }
   ],
   "source": [
    "class TreeNode:\n",
    "    def __init__(self, val=0, left=None, right=None):\n",
    "        self.val = val\n",
    "        self.left = left\n",
    "        self.right = right\n",
    "\n",
    "def constructBST(level_order):\n",
    "    if not level_order:\n",
    "        return None\n",
    "\n",
    "    root = TreeNode(level_order[0])\n",
    "    queue = [root]\n",
    "    i = 1\n",
    "\n",
    "    while i < len(level_order):\n",
    "        node = queue.pop(0)\n",
    "\n",
    "        if i < len(level_order) and level_order[i] < node.val:\n",
    "            node.left = TreeNode(level_order[i])\n",
    "            queue.append(node.left)\n",
    "            i += 1\n",
    "\n",
    "        if i < len(level_order) and level_order[i] > node.val:\n",
    "            node.right = TreeNode(level_order[i])\n",
    "            queue.append(node.right)\n",
    "            i += 1\n",
    "\n",
    "    return root\n",
    "\n",
    "# Example\n",
    "level_order = [7, 4, 12, 3, 6, 8, 1, 5, 10]\n",
    "bst_root = constructBST(level_order)\n",
    "\n",
    "# Printing the constructed BST using inorder traversal\n",
    "def inorderTraversal(node):\n",
    "    if node is None:\n",
    "        return\n",
    "    inorderTraversal(node.left)\n",
    "    print(node.val, end=' ')\n",
    "    inorderTraversal(node.right)\n",
    "\n",
    "inorderTraversal(bst_root)"
   ]
  },
  {
   "cell_type": "markdown",
   "id": "6a9e559b",
   "metadata": {},
   "source": [
    "**Q3. Given an array of size n. The problem is to check whether the given array can represent the level order traversal of a Binary Search Tree or not.**\n",
    "\n",
    "Examples:\n",
    "\n",
    "Input1 : arr[] = {7, 4, 12, 3, 6, 8, 1, 5, 10}\n",
    "\n",
    "Output1 : Yes\n",
    "\n",
    "For the given arr[], the Binary Search Tree is:\n",
    "```\n",
    "\n",
    "            7\n",
    "\n",
    "         /    \\\n",
    "\n",
    "       4     12\n",
    "\n",
    "     /  \\     /\n",
    "\n",
    "    3   6  8\n",
    "\n",
    "   /    /     \\\n",
    "\n",
    " 1    5      10\n",
    "````\n",
    "Input2 : arr[] = {11, 6, 13, 5, 12, 10}\n",
    "\n",
    "Output2 : No\n",
    "\n",
    "The given arr[] does not represent the level order traversal of a BST.\n",
    "\n",
    "**Ans :**"
   ]
  },
  {
   "cell_type": "code",
   "execution_count": 4,
   "id": "9c401345",
   "metadata": {
    "ExecuteTime": {
     "end_time": "2023-07-01T07:00:06.310518Z",
     "start_time": "2023-07-01T07:00:06.288576Z"
    }
   },
   "outputs": [
    {
     "name": "stdout",
     "output_type": "stream",
     "text": [
      "Yes\n"
     ]
    }
   ],
   "source": [
    "class TreeNode:\n",
    "    def __init__(self, val=0, left=None, right=None):\n",
    "        self.val = val\n",
    "        self.left = left\n",
    "        self.right = right\n",
    "\n",
    "def isLevelOrderBST(level_order):\n",
    "    if not level_order:\n",
    "        return \"No\"\n",
    "\n",
    "    stack = []\n",
    "    root = TreeNode(level_order[0])\n",
    "    stack.append(root)\n",
    "    i = 1\n",
    "\n",
    "    while i < len(level_order):\n",
    "        temp = None\n",
    "\n",
    "        while len(stack) > 0 and level_order[i] < stack[-1].val:\n",
    "            temp = stack.pop()\n",
    "\n",
    "        if temp is not None:\n",
    "            temp.left = TreeNode(level_order[i])\n",
    "            stack.append(temp.left)\n",
    "        else:\n",
    "            temp = stack[-1]\n",
    "            temp.right = TreeNode(level_order[i])\n",
    "            stack.append(temp.right)\n",
    "\n",
    "        i += 1\n",
    "\n",
    "    while len(stack) > 0:\n",
    "        temp = stack.pop()\n",
    "\n",
    "    return \"No\" if len(stack) > 0 else \"Yes\"\n",
    "\n",
    "# Examples\n",
    "arr1 = [7, 4, 12, 3, 6, 8, 1, 5, 10]\n",
    "arr2 = [11, 6, 13, 5, 12, 10]\n",
    "\n",
    "print(isLevelOrderBST(arr1)) "
   ]
  }
 ],
 "metadata": {
  "kernelspec": {
   "display_name": "Python 3 (ipykernel)",
   "language": "python",
   "name": "python3"
  },
  "language_info": {
   "codemirror_mode": {
    "name": "ipython",
    "version": 3
   },
   "file_extension": ".py",
   "mimetype": "text/x-python",
   "name": "python",
   "nbconvert_exporter": "python",
   "pygments_lexer": "ipython3",
   "version": "3.9.12"
  },
  "latex_envs": {
   "LaTeX_envs_menu_present": true,
   "autoclose": false,
   "autocomplete": true,
   "bibliofile": "biblio.bib",
   "cite_by": "apalike",
   "current_citInitial": 1,
   "eqLabelWithNumbers": true,
   "eqNumInitial": 1,
   "hotkeys": {
    "equation": "Ctrl-E",
    "itemize": "Ctrl-I"
   },
   "labels_anchors": false,
   "latex_user_defs": false,
   "report_style_numbering": false,
   "user_envs_cfg": false
  },
  "nbTranslate": {
   "displayLangs": [
    "*"
   ],
   "hotkey": "alt-t",
   "langInMainMenu": true,
   "sourceLang": "en",
   "targetLang": "fr",
   "useGoogleTranslate": true
  },
  "toc": {
   "base_numbering": 1,
   "nav_menu": {},
   "number_sections": true,
   "sideBar": true,
   "skip_h1_title": false,
   "title_cell": "Table of Contents",
   "title_sidebar": "Contents",
   "toc_cell": false,
   "toc_position": {},
   "toc_section_display": true,
   "toc_window_display": false
  },
  "varInspector": {
   "cols": {
    "lenName": 16,
    "lenType": 16,
    "lenVar": 40
   },
   "kernels_config": {
    "python": {
     "delete_cmd_postfix": "",
     "delete_cmd_prefix": "del ",
     "library": "var_list.py",
     "varRefreshCmd": "print(var_dic_list())"
    },
    "r": {
     "delete_cmd_postfix": ") ",
     "delete_cmd_prefix": "rm(",
     "library": "var_list.r",
     "varRefreshCmd": "cat(var_dic_list()) "
    }
   },
   "types_to_exclude": [
    "module",
    "function",
    "builtin_function_or_method",
    "instance",
    "_Feature"
   ],
   "window_display": false
  }
 },
 "nbformat": 4,
 "nbformat_minor": 5
}
