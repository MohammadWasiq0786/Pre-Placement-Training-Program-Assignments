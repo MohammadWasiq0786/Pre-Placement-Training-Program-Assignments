{
 "cells": [
  {
   "cell_type": "markdown",
   "id": "d632d357",
   "metadata": {},
   "source": [
    "![image](https://user-images.githubusercontent.com/57321948/196933065-4b16c235-f3b9-4391-9cfe-4affcec87c35.png)\n",
    "\n",
    "# Submitted by: Mohammad Wasiq\n",
    "\n",
    "## Email: `gl0427@myamu.ac.in`\n",
    "\n",
    "# DSA (Data Structures and Algorithms) Assignment 15 - Stacks"
   ]
  },
  {
   "cell_type": "markdown",
   "id": "5d6fb39c",
   "metadata": {},
   "source": [
    "**Question 1**\n",
    "- Given an array arr[ ] of size N having elements, the task is to\n",
    "find the next greater element for each element of the array in\n",
    "order of their appearance in the array.Next greater element of\n",
    "an element in the array is the nearest element on the right\n",
    "which is greater than the current element.If there does not\n",
    "exist next greater of current element, then next greater\n",
    "element for current element is -1. For example, next greater of\n",
    "the last element is always -1.\n",
    "- Example 1:\n",
    "Input: N = 4, arr[] = [1 3 2 4] Output: 3 4 4 -1\n",
    "Explanation: In the array, the next larger eleme\n",
    "nt to 1 is 3 , 3 is 4 , 2 is 4 and for 4 ? since\n",
    "it doesn't exist, it is -1.\n",
    "- Example 2:\n",
    "Input: N = 5, arr[] [6 8 0 1 3] Output: 8 -1 1 3\n",
    "-1 Explanation: In the array, the next larger el\n",
    "ement to 6 is 8, for 8 there is no larger elemen\n",
    "ts hence it is -1, for 0 it is 1 , for 1 it is 3\n",
    "and then for 3 there is no larger element on rig\n",
    "ht and hence -1."
   ]
  },
  {
   "cell_type": "code",
   "execution_count": 10,
   "id": "bd6a7639",
   "metadata": {},
   "outputs": [],
   "source": [
    "def find_next_greater_elements(arr):\n",
    "    stack = []\n",
    "    result = [-1] * len(arr)\n",
    "\n",
    "    for i in range(len(arr) - 1, -1, -1):\n",
    "        while stack and stack[-1] <= arr[i]:\n",
    "            stack.pop()\n",
    "\n",
    "        if stack:\n",
    "            result[i] = stack[-1]\n",
    "\n",
    "        stack.append(arr[i])\n",
    "\n",
    "    return result"
   ]
  },
  {
   "cell_type": "code",
   "execution_count": 11,
   "id": "22ee3340",
   "metadata": {},
   "outputs": [
    {
     "name": "stdout",
     "output_type": "stream",
     "text": [
      "[3, 4, 4, -1]\n",
      "[8, -1, 1, 3, -1]\n"
     ]
    }
   ],
   "source": [
    "# Given Use Case:\n",
    "\n",
    "arr1 = [1, 3, 2, 4]\n",
    "arr2 = [6, 8, 0, 1, 3]\n",
    "\n",
    "print(find_next_greater_elements(arr1))  # Output: [3, 4, 4, -1]\n",
    "print(find_next_greater_elements(arr2))  # Output: [8, -1, 1, 3, -1]"
   ]
  },
  {
   "cell_type": "markdown",
   "id": "c791bac9",
   "metadata": {},
   "source": [
    "**Question 2**\n",
    "- Given an array a of integers of length n, find the nearest\n",
    "smaller number for every element such that the smaller\n",
    "element is on left side.If no small element present on the left\n",
    "print -1.\n",
    "- Example 1:\n",
    "Input: n = 3 a = {1, 6, 2} Output: -1 1 1 Explai\n",
    "nation: There is no number at the left of 1. Sma\n",
    "ller number than 6 and 2 is 1.\n",
    "- Example 2:\n",
    "Input: n = 6 a = {1, 5, 0, 3, 4, 5} Output: -1 1\n",
    "-1 0 3 4 Explaination: Upto 3 it is easy to see\n",
    "the smaller numbers. But for 4 the smaller numbe\n",
    "rs are 1, 0 and 3. But among them 3 is closest.\n",
    "Similary for 5 it is 4."
   ]
  },
  {
   "cell_type": "code",
   "execution_count": 12,
   "id": "eca3ce83",
   "metadata": {},
   "outputs": [],
   "source": [
    "def find_nearest_smaller_elements(arr):\n",
    "    stack = []\n",
    "    result = [-1] * len(arr)\n",
    "\n",
    "    for i in range(len(arr)):\n",
    "        while stack and stack[-1] >= arr[i]:\n",
    "            stack.pop()\n",
    "\n",
    "        if stack:\n",
    "            result[i] = stack[-1]\n",
    "\n",
    "        stack.append(arr[i])\n",
    "\n",
    "    return result"
   ]
  },
  {
   "cell_type": "code",
   "execution_count": 13,
   "id": "59015dae",
   "metadata": {},
   "outputs": [
    {
     "name": "stdout",
     "output_type": "stream",
     "text": [
      "[-1, 1, 1]\n",
      "[-1, 1, -1, 0, 3, 4]\n"
     ]
    }
   ],
   "source": [
    "# Given Use Case:\n",
    "arr1 = [1, 6, 2]\n",
    "arr2 = [1, 5, 0, 3, 4, 5]\n",
    "\n",
    "print(find_nearest_smaller_elements(arr1))  # Output: [-1, 1, 1]\n",
    "print(find_nearest_smaller_elements(arr2))  # Output: [-1, 1, -1, 0, 3, 4]"
   ]
  },
  {
   "cell_type": "markdown",
   "id": "fe14ee64",
   "metadata": {},
   "source": [
    "**Question 3**\n",
    "- Implement a Stack using two queues q1 and q2.\n",
    "- Example 1:\n",
    "Input: push(2) push(3) pop() push(4) pop() Outpu\n",
    "t:3 4 Explanation: push(2) the stack will be {2}\n",
    "push(3) the stack will be {2 3} pop() poped element will be 3 the\n",
    "stack will be {2} push(4) the stack will be {2 4} pop()\n",
    "poped element will\n",
    "be 4\n",
    "- Example 2:\n",
    "Input: push(2) pop() pop() push(3) Output:2 -1"
   ]
  },
  {
   "cell_type": "code",
   "execution_count": 14,
   "id": "2965835e",
   "metadata": {},
   "outputs": [],
   "source": [
    "class Stack:\n",
    "    def __init__(self):\n",
    "        self.q1 = []\n",
    "        self.q2 = []\n",
    "\n",
    "    def push(self, x):\n",
    "        self.q2.append(x)\n",
    "        while self.q1:\n",
    "            self.q2.append(self.q1.pop(0))\n",
    "        self.q1, self.q2 = self.q2, self.q1\n",
    "\n",
    "    def pop(self):\n",
    "        if not self.q1:\n",
    "            return -1\n",
    "        return self.q1.pop(0)\n",
    "\n",
    "    def top(self):\n",
    "        if not self.q1:\n",
    "            return -1\n",
    "        return self.q1[0]"
   ]
  },
  {
   "cell_type": "code",
   "execution_count": 15,
   "id": "18740712",
   "metadata": {},
   "outputs": [
    {
     "name": "stdout",
     "output_type": "stream",
     "text": [
      "3\n",
      "4\n"
     ]
    }
   ],
   "source": [
    "# Example: 01\n",
    "stack = Stack()\n",
    "\n",
    "stack.push(2)\n",
    "stack.push(3)\n",
    "print(stack.pop())  # Output: 3\n",
    "stack.push(4)\n",
    "print(stack.pop())  # Output: 4"
   ]
  },
  {
   "cell_type": "code",
   "execution_count": 16,
   "id": "eb622ea6",
   "metadata": {},
   "outputs": [
    {
     "name": "stdout",
     "output_type": "stream",
     "text": [
      "2\n",
      "-1\n"
     ]
    }
   ],
   "source": [
    "# Example: 02\n",
    "stack2 = Stack()\n",
    "stack2.push(2)\n",
    "print(stack2.pop())  # Output: 2\n",
    "print(stack2.pop())  # Output: -1"
   ]
  },
  {
   "cell_type": "markdown",
   "id": "c3791e5a",
   "metadata": {},
   "source": [
    "**Question 4**\n",
    "- You are given a stack St. You have to reverse the stack using\n",
    "recursion.\n",
    "- Example 1:\n",
    "Input:St = {3,2,1,7,6} Output:{6,7,1,2,3}\n",
    "- Example 2:\n",
    "Input:St = {4,3,9,6} Output:{6,9,3,4}"
   ]
  },
  {
   "cell_type": "code",
   "execution_count": 17,
   "id": "7891cbcc",
   "metadata": {},
   "outputs": [],
   "source": [
    "def insert_at_bottom(stack, item):\n",
    "    if len(stack) == 0:\n",
    "        stack.append(item)\n",
    "    else:\n",
    "        temp = stack.pop()\n",
    "        insert_at_bottom(stack, item)\n",
    "        stack.append(temp)\n",
    "\n",
    "def reverse_stack(stack):\n",
    "    if len(stack) > 1:\n",
    "        temp = stack.pop()\n",
    "        reverse_stack(stack)\n",
    "        insert_at_bottom(stack, temp)\n",
    "    return stack"
   ]
  },
  {
   "cell_type": "code",
   "execution_count": 18,
   "id": "c3d5060d",
   "metadata": {},
   "outputs": [
    {
     "name": "stdout",
     "output_type": "stream",
     "text": [
      "[6, 7, 1, 2, 3]\n"
     ]
    }
   ],
   "source": [
    "# Example: 01\n",
    "stack1 = [3, 2, 1, 7, 6]\n",
    "print(reverse_stack(stack1))  # Output: [6, 7, 1, 2, 3]"
   ]
  },
  {
   "cell_type": "code",
   "execution_count": 19,
   "id": "1565680c",
   "metadata": {},
   "outputs": [
    {
     "name": "stdout",
     "output_type": "stream",
     "text": [
      "[6, 9, 3, 4]\n"
     ]
    }
   ],
   "source": [
    "# Example: 02\n",
    "stack2 = [4, 3, 9, 6]\n",
    "print(reverse_stack(stack2))  # Output: [6, 9, 3, 4]"
   ]
  },
  {
   "cell_type": "markdown",
   "id": "5c3a6544",
   "metadata": {},
   "source": [
    "**Question 5**\n",
    "- You are given a string S, the task is to reverse the string using\n",
    "stack.\n",
    "- Example 1:\n",
    "Input: S=\"GeeksforGeeks\" Output: skeeGrofskeeG"
   ]
  },
  {
   "cell_type": "code",
   "execution_count": 20,
   "id": "4da2e58c",
   "metadata": {},
   "outputs": [],
   "source": [
    "def reverse_string(string):\n",
    "    stack = []\n",
    "    for char in string:\n",
    "        stack.append(char)\n",
    "\n",
    "    reversed_string = \"\"\n",
    "    while stack:\n",
    "        reversed_string += stack.pop()\n",
    "\n",
    "    return reversed_string"
   ]
  },
  {
   "cell_type": "code",
   "execution_count": 21,
   "id": "c94915a8",
   "metadata": {},
   "outputs": [
    {
     "name": "stdout",
     "output_type": "stream",
     "text": [
      "skeeGrofskeeG\n"
     ]
    }
   ],
   "source": [
    "# Given Use Case:\n",
    "s = \"GeeksforGeeks\"\n",
    "print(reverse_string(s))  # Output: \"skeeGrofskeeG\""
   ]
  },
  {
   "cell_type": "markdown",
   "id": "8e9a6f1b",
   "metadata": {},
   "source": [
    "**Question 6**\n",
    "- Given string S representing a postfix expression, the task is to\n",
    "evaluate the expression and find the final value. Operators will\n",
    "only include the basic arithmetic operators like *, /, + and -.\n",
    "- Example 1:\n",
    "Input: S = \"231*+9-\" Output: -4 Explanation: Aft\n",
    "er solving the given expression, we have -4 as result.\n",
    "- Example 2:\n",
    "Input: S = \"123+*8-\" Output: -3 Explanation: Aft\n",
    "er solving the given postfix expression, we have\n",
    "-3 as result."
   ]
  },
  {
   "cell_type": "code",
   "execution_count": 22,
   "id": "e860b784",
   "metadata": {},
   "outputs": [],
   "source": [
    "def evaluate_postfix(expression):\n",
    "    stack = []\n",
    "    operators = set(['+', '-', '*', '/'])\n",
    "\n",
    "    for char in expression:\n",
    "        if char not in operators:\n",
    "            stack.append(int(char))\n",
    "        else:\n",
    "            operand2 = stack.pop()\n",
    "            operand1 = stack.pop()\n",
    "\n",
    "            if char == '+':\n",
    "                result = operand1 + operand2\n",
    "            elif char == '-':\n",
    "                result = operand1 - operand2\n",
    "            elif char == '*':\n",
    "                result = operand1 * operand2\n",
    "            elif char == '/':\n",
    "                result = operand1 / operand2\n",
    "\n",
    "            stack.append(result)\n",
    "\n",
    "    return stack.pop()"
   ]
  },
  {
   "cell_type": "code",
   "execution_count": 23,
   "id": "bfa6390a",
   "metadata": {},
   "outputs": [
    {
     "name": "stdout",
     "output_type": "stream",
     "text": [
      "-4\n"
     ]
    }
   ],
   "source": [
    "# Example:01 \n",
    "expression1 = \"231*+9-\"\n",
    "print(evaluate_postfix(expression1))  # Output: -4"
   ]
  },
  {
   "cell_type": "code",
   "execution_count": 24,
   "id": "1186652c",
   "metadata": {},
   "outputs": [
    {
     "name": "stdout",
     "output_type": "stream",
     "text": [
      "-3\n"
     ]
    }
   ],
   "source": [
    "# Example:02\n",
    "expression2 = \"123+*8-\"\n",
    "print(evaluate_postfix(expression2))  # Output: -3"
   ]
  },
  {
   "cell_type": "markdown",
   "id": "ebdd143a",
   "metadata": {},
   "source": [
    "**Question 7**\n",
    "- Design a stack that supports push, pop, top, and retrieving the\n",
    "minimum element in constant time.\n",
    "- Implement the MinStack class:\n",
    "- MinStack() initializes the stack object.\n",
    "- void push(int val) pushes the element val onto the stack.\n",
    "- void pop() removes the element on the top of the stack.\n",
    "- int top() gets the top element of the stack.\n",
    "- int getMin() retrieves the minimum element in the stack.\n",
    "- You must implement a solution with O(1) time complexity for\n",
    "each function.\n",
    "- Example 1:\n",
    "Input [\"MinStack\",\"push\",\"push\",\"push\",\"getMi\n",
    "n\",\"pop\",\"top\",\"getMin\"] [[],[-2],[0],[-3],[],\n",
    "[],[],[]] Output [null,null,null,null,-3,null,\n",
    "0,-2] \n",
    "- Explanation MinStack minStack = new MinSta\n",
    "ck(); minStack.push(-2); minStack.push(0); minSt\n",
    "ack.push(-3); minStack.getMin(); // return -3 mi\n",
    "nStack.pop(); minStack.top(); // return 0 minSta\n",
    "ck.getMin(); // return -2"
   ]
  },
  {
   "cell_type": "code",
   "execution_count": 25,
   "id": "717d830f",
   "metadata": {},
   "outputs": [],
   "source": [
    "class MinStack:\n",
    "    def __init__(self):\n",
    "        self.dataStack = []\n",
    "        self.minStack = []\n",
    "\n",
    "    def push(self, val):\n",
    "        self.dataStack.append(val)\n",
    "        if not self.minStack or val <= self.minStack[-1]:\n",
    "            self.minStack.append(val)\n",
    "\n",
    "    def pop(self):\n",
    "        if not self.dataStack:\n",
    "            return\n",
    "        if self.dataStack[-1] == self.minStack[-1]:\n",
    "            self.minStack.pop()\n",
    "        self.dataStack.pop()\n",
    "\n",
    "    def top(self):\n",
    "        if not self.dataStack:\n",
    "            return -1\n",
    "        return self.dataStack[-1]\n",
    "\n",
    "    def getMin(self):\n",
    "        if not self.minStack:\n",
    "            return -1\n",
    "        return self.minStack[-1]"
   ]
  },
  {
   "cell_type": "code",
   "execution_count": 26,
   "id": "0c62281e",
   "metadata": {},
   "outputs": [
    {
     "name": "stdout",
     "output_type": "stream",
     "text": [
      "-3\n",
      "0\n",
      "-2\n"
     ]
    }
   ],
   "source": [
    "# Given Use Case:\n",
    "minStack = MinStack()\n",
    "minStack.push(-2)\n",
    "minStack.push(0)\n",
    "minStack.push(-3)\n",
    "print(minStack.getMin())  # Output: -3\n",
    "minStack.pop()\n",
    "print(minStack.top())  # Output: 0\n",
    "print(minStack.getMin())  # Output: -2\n"
   ]
  },
  {
   "cell_type": "markdown",
   "id": "b30e86f8",
   "metadata": {},
   "source": [
    "**Question 8**\n",
    "- Given n non-negative integers representing an elevation\n",
    "map where the width of each bar is 1 , compute how much\n",
    "water it can trap after raining.\n",
    "- Example 1:\n",
    "Input: height = [0,1,0,2,1,0,1,3,2,1,2,1] Output: 6 Explanation: The above elevation map (black\n",
    "section) is represented by array [0,1,0,2,1,0,1,\n",
    "3,2,1,2,1]. In this case, 6 units of rain water\n",
    "(blue section) are being trapped.\n",
    "- Example 2:\n",
    "Input: height = [4,2,0,3,2,5] Output: 9"
   ]
  },
  {
   "cell_type": "code",
   "execution_count": 27,
   "id": "c600d7de",
   "metadata": {},
   "outputs": [],
   "source": [
    "def trap(height):\n",
    "    left = 0\n",
    "    right = len(height) - 1\n",
    "    left_max = right_max = water = 0\n",
    "\n",
    "    while left < right:\n",
    "        if height[left] <= height[right]:\n",
    "            left_max = max(left_max, height[left])\n",
    "            water += left_max - height[left]\n",
    "            left += 1\n",
    "        else:\n",
    "            right_max = max(right_max, height[right])\n",
    "            water += right_max - height[right]\n",
    "            right -= 1\n",
    "\n",
    "    return water"
   ]
  },
  {
   "cell_type": "code",
   "execution_count": 28,
   "id": "e06b2672",
   "metadata": {},
   "outputs": [
    {
     "name": "stdout",
     "output_type": "stream",
     "text": [
      "6\n"
     ]
    }
   ],
   "source": [
    "# Example: 01\n",
    "height1 = [0, 1, 0, 2, 1, 0, 1, 3, 2, 1, 2, 1]\n",
    "print(trap(height1))  # Output: 6"
   ]
  },
  {
   "cell_type": "code",
   "execution_count": 29,
   "id": "47160556",
   "metadata": {},
   "outputs": [
    {
     "name": "stdout",
     "output_type": "stream",
     "text": [
      "9\n"
     ]
    }
   ],
   "source": [
    "# Example: 02\n",
    "height2 = [4, 2, 0, 3, 2, 5]\n",
    "print(trap(height2))  # Output: 9"
   ]
  }
 ],
 "metadata": {
  "kernelspec": {
   "display_name": "Python 3 (ipykernel)",
   "language": "python",
   "name": "python3"
  },
  "language_info": {
   "codemirror_mode": {
    "name": "ipython",
    "version": 3
   },
   "file_extension": ".py",
   "mimetype": "text/x-python",
   "name": "python",
   "nbconvert_exporter": "python",
   "pygments_lexer": "ipython3",
   "version": "3.9.12"
  },
  "latex_envs": {
   "LaTeX_envs_menu_present": true,
   "autoclose": false,
   "autocomplete": true,
   "bibliofile": "biblio.bib",
   "cite_by": "apalike",
   "current_citInitial": 1,
   "eqLabelWithNumbers": true,
   "eqNumInitial": 1,
   "hotkeys": {
    "equation": "Ctrl-E",
    "itemize": "Ctrl-I"
   },
   "labels_anchors": false,
   "latex_user_defs": false,
   "report_style_numbering": false,
   "user_envs_cfg": false
  },
  "nbTranslate": {
   "displayLangs": [
    "*"
   ],
   "hotkey": "alt-t",
   "langInMainMenu": true,
   "sourceLang": "en",
   "targetLang": "fr",
   "useGoogleTranslate": true
  },
  "toc": {
   "base_numbering": 1,
   "nav_menu": {},
   "number_sections": true,
   "sideBar": true,
   "skip_h1_title": false,
   "title_cell": "Table of Contents",
   "title_sidebar": "Contents",
   "toc_cell": false,
   "toc_position": {},
   "toc_section_display": true,
   "toc_window_display": false
  },
  "varInspector": {
   "cols": {
    "lenName": 16,
    "lenType": 16,
    "lenVar": 40
   },
   "kernels_config": {
    "python": {
     "delete_cmd_postfix": "",
     "delete_cmd_prefix": "del ",
     "library": "var_list.py",
     "varRefreshCmd": "print(var_dic_list())"
    },
    "r": {
     "delete_cmd_postfix": ") ",
     "delete_cmd_prefix": "rm(",
     "library": "var_list.r",
     "varRefreshCmd": "cat(var_dic_list()) "
    }
   },
   "types_to_exclude": [
    "module",
    "function",
    "builtin_function_or_method",
    "instance",
    "_Feature"
   ],
   "window_display": false
  }
 },
 "nbformat": 4,
 "nbformat_minor": 5
}
