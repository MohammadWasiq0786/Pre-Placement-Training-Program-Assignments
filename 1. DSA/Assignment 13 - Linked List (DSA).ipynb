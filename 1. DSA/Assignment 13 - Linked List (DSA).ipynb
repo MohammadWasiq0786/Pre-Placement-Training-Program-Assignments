{
 "cells": [
  {
   "cell_type": "markdown",
   "id": "a6fdf5a8",
   "metadata": {},
   "source": [
    "![image](https://user-images.githubusercontent.com/57321948/196933065-4b16c235-f3b9-4391-9cfe-4affcec87c35.png)\n",
    "\n",
    "# Submitted by: Mohammad Wasiq\n",
    "\n",
    "## Email: `gl0427@myamu.ac.in`\n",
    "\n",
    "# DSA (Data Structures and Algorithms) Assignment 13 - Linked List"
   ]
  },
  {
   "cell_type": "markdown",
   "id": "5d6fb39c",
   "metadata": {},
   "source": [
    "**Question 1**\n",
    "- Given two linked list of the same size, the task is to create a\n",
    "new linked list using those linked lists. The condition is that\n",
    "the greater node among both linked list will be added to the\n",
    "new linked list.\n",
    "- Examples:\n",
    "- Input: list1 = 5->2->3->8 list2 = 1->7->4->5 Out\n",
    "put: New list = 5->7->4->8 \n",
    "- Input:list1 = 2->8->9\n",
    "->3 list2 = 5->3->6->4 Output: New list = 5->8->\n",
    "9->4"
   ]
  },
  {
   "cell_type": "code",
   "execution_count": 1,
   "id": "bd6a7639",
   "metadata": {},
   "outputs": [],
   "source": [
    "class Node:\n",
    "    def __init__(self, data=None):\n",
    "        self.data = data\n",
    "        self.next = None\n",
    "\n",
    "def create_new_list(list1, list2):\n",
    "    if not list1 or not list2:\n",
    "        return None\n",
    "    \n",
    "    newList = None\n",
    "    ptr1 = list1\n",
    "    ptr2 = list2\n",
    "\n",
    "    while ptr1 and ptr2:\n",
    "        if ptr1.data >= ptr2.data:\n",
    "            newNode = Node(ptr1.data)\n",
    "        else:\n",
    "            newNode = Node(ptr2.data)\n",
    "        \n",
    "        if newList is None:\n",
    "            newList = newNode\n",
    "            current = newList\n",
    "        else:\n",
    "            current.next = newNode\n",
    "            current = current.next\n",
    "        \n",
    "        ptr1 = ptr1.next\n",
    "        ptr2 = ptr2.next\n",
    "\n",
    "    return newList"
   ]
  },
  {
   "cell_type": "code",
   "execution_count": 2,
   "id": "b7548f2e",
   "metadata": {},
   "outputs": [
    {
     "name": "stdout",
     "output_type": "stream",
     "text": [
      "5 7 4 8 "
     ]
    }
   ],
   "source": [
    "# Example: 02\n",
    "# Creating the first linked list: 5->2->3->8\n",
    "list1 = Node(5)\n",
    "list1.next = Node(2)\n",
    "list1.next.next = Node(3)\n",
    "list1.next.next.next = Node(8)\n",
    "\n",
    "# Creating the second linked list: 1->7->4->5\n",
    "list2 = Node(1)\n",
    "list2.next = Node(7)\n",
    "list2.next.next = Node(4)\n",
    "list2.next.next.next = Node(5)\n",
    "\n",
    "newList = create_new_list(list1, list2)\n",
    "\n",
    "# Printing the new linked list: 5->7->4->8\n",
    "current = newList\n",
    "while current:\n",
    "    print(current.data, end=\" \")\n",
    "    current = current.next"
   ]
  },
  {
   "cell_type": "code",
   "execution_count": 3,
   "id": "dd472712",
   "metadata": {},
   "outputs": [
    {
     "name": "stdout",
     "output_type": "stream",
     "text": [
      "5 8 9 4 "
     ]
    }
   ],
   "source": [
    "# Example: 01\n",
    "# Creating the first linked list: 2->8->9->3\n",
    "list1 = Node(2)\n",
    "list1.next = Node(8)\n",
    "list1.next.next = Node(9)\n",
    "list1.next.next.next = Node(3)\n",
    "\n",
    "# Creating the second linked list: 5->3->6->4\n",
    "list2 = Node(5)\n",
    "list2.next = Node(3)\n",
    "list2.next.next = Node(6)\n",
    "list2.next.next.next = Node(4)\n",
    "\n",
    "newList = create_new_list(list1, list2)\n",
    "\n",
    "# Printing the new linked list: 5->8->9->4\n",
    "current = newList\n",
    "while current:\n",
    "    print(current.data, end=\" \")\n",
    "    current = current.next"
   ]
  },
  {
   "cell_type": "markdown",
   "id": "c791bac9",
   "metadata": {},
   "source": [
    "**Question 2**\n",
    "- Write a function that takes a list sorted in non-decreasing\n",
    "order and deletes any duplicate nodes from the list. The list\n",
    "should only be traversed once.\n",
    "- For example if the linked list is 11->11->11->21->43->43->60\n",
    "then removeDuplicates() should convert the list to\n",
    "11->21->43->60.\n",
    "- Example 1:\n",
    "Input: LinkedList: 11->11->11->21->43->43->60 Ou\n",
    "tput: 11->21->43->60\n",
    "- Example 2:\n",
    "Input: LinkedList: 10->12->12->25->25->25->34 Ou\n",
    "tput: 10->12->25->34"
   ]
  },
  {
   "cell_type": "code",
   "execution_count": 4,
   "id": "eca3ce83",
   "metadata": {},
   "outputs": [],
   "source": [
    "class Node:\n",
    "    def __init__(self, data=None):\n",
    "        self.data = data\n",
    "        self.next = None\n",
    "\n",
    "def remove_duplicates(head):\n",
    "    if not head or not head.next:\n",
    "        return head\n",
    "    \n",
    "    current = head\n",
    "\n",
    "    while current.next:\n",
    "        if current.data == current.next.data:\n",
    "            current.next = current.next.next\n",
    "        else:\n",
    "            current = current.next\n",
    "\n",
    "    return head"
   ]
  },
  {
   "cell_type": "code",
   "execution_count": 5,
   "id": "4c4a134b",
   "metadata": {},
   "outputs": [
    {
     "name": "stdout",
     "output_type": "stream",
     "text": [
      "11 21 43 60 "
     ]
    }
   ],
   "source": [
    "# Example: 01\n",
    "# Creating the linked list: 11->11->11->21->43->43->60\n",
    "head = Node(11)\n",
    "head.next = Node(11)\n",
    "head.next.next = Node(11)\n",
    "head.next.next.next = Node(21)\n",
    "head.next.next.next.next = Node(43)\n",
    "head.next.next.next.next.next = Node(43)\n",
    "head.next.next.next.next.next.next = Node(60)\n",
    "\n",
    "updated_list = remove_duplicates(head)\n",
    "\n",
    "# Printing the updated linked list: 11->21->43->60\n",
    "current = updated_list\n",
    "while current:\n",
    "    print(current.data, end=\" \")\n",
    "    current = current.next"
   ]
  },
  {
   "cell_type": "code",
   "execution_count": 6,
   "id": "1aad2140",
   "metadata": {},
   "outputs": [
    {
     "name": "stdout",
     "output_type": "stream",
     "text": [
      "10 12 25 34 "
     ]
    }
   ],
   "source": [
    "# Example: 02\n",
    "# Creating the linked list: 10->12->12->25->25->25->34\n",
    "head = Node(10)\n",
    "head.next = Node(12)\n",
    "head.next.next = Node(12)\n",
    "head.next.next.next = Node(25)\n",
    "head.next.next.next.next = Node(25)\n",
    "head.next.next.next.next.next = Node(25)\n",
    "head.next.next.next.next.next.next = Node(34)\n",
    "\n",
    "updated_list = remove_duplicates(head)\n",
    "\n",
    "# Printing the updated linked list: 10->12->25->34\n",
    "current = updated_list\n",
    "while current:\n",
    "    print(current.data, end=\" \")\n",
    "    current = current.next"
   ]
  },
  {
   "cell_type": "markdown",
   "id": "fe14ee64",
   "metadata": {},
   "source": [
    "**Question 3**\n",
    "- Given a linked list of size N. The task is to reverse\n",
    "every k nodes (where k is an input to the function) in the\n",
    "linked list. If the number of nodes is not a multiple of k then\n",
    "left-out nodes, in the end, should be considered as a group\n",
    "and must be reversed (See Example 2 for clarification).\n",
    "- Example 1:\n",
    "Input: LinkedList: 1->2->2->4->5->6->7->8 K = 4\n",
    "Output:4 2 2 1 8 7 6 5 \n",
    "- Explanation: The first 4\n",
    "elements 1,2,2,4 are reversed first and then the\n",
    "next 4 elements 5,6,7,8. Hence, the resultant li\n",
    "nked list is 4->2->2->1->8->7->6->5.\n",
    "- Example 2:\n",
    "Input: LinkedList: 1->2->3->4->5 K = 3 Output:3\n",
    "2 1 5 4 \n",
    "- Explanation: The first 3 elements are 1,\n",
    "2,3 are reversed first and then elements 4,5 are\n",
    "reversed.Hence, the resultant linked list is 3->\n",
    "2->1->5->4."
   ]
  },
  {
   "cell_type": "code",
   "execution_count": 7,
   "id": "2965835e",
   "metadata": {},
   "outputs": [],
   "source": [
    "class Node:\n",
    "    def __init__(self, data=None):\n",
    "        self.data = data\n",
    "        self.next = None\n",
    "\n",
    "def reverse_k_nodes(head, k):\n",
    "    if not head or not head.next or k == 1:\n",
    "        return head\n",
    "    \n",
    "    # Initialize pointers\n",
    "    current = head\n",
    "    prev = None\n",
    "    next_node = None\n",
    "\n",
    "    count = 0\n",
    "    # Reverse the first k nodes\n",
    "    while current and count < k:\n",
    "        next_node = current.next\n",
    "        current.next = prev\n",
    "        prev = current\n",
    "        current = next_node\n",
    "        count += 1\n",
    "    \n",
    "    # Connect the reversed group with the next group\n",
    "    if next_node:\n",
    "        head.next = reverse_k_nodes(next_node, k)\n",
    "    \n",
    "    return prev"
   ]
  },
  {
   "cell_type": "code",
   "execution_count": 8,
   "id": "b481fb31",
   "metadata": {},
   "outputs": [
    {
     "name": "stdout",
     "output_type": "stream",
     "text": [
      "4 2 2 1 8 7 6 5 "
     ]
    }
   ],
   "source": [
    "# Example: 01\n",
    "# Creating the linked list: 1->2->2->4->5->6->7->8\n",
    "head = Node(1)\n",
    "head.next = Node(2)\n",
    "head.next.next = Node(2)\n",
    "head.next.next.next = Node(4)\n",
    "head.next.next.next.next = Node(5)\n",
    "head.next.next.next.next.next = Node(6)\n",
    "head.next.next.next.next.next.next = Node(7)\n",
    "head.next.next.next.next.next.next.next = Node(8)\n",
    "\n",
    "k = 4\n",
    "\n",
    "updated_list = reverse_k_nodes(head, k)\n",
    "\n",
    "# Printing the updated linked list: 4->2->2->1->8->7->6->5\n",
    "current = updated_list\n",
    "while current:\n",
    "    print(current.data, end=\" \")\n",
    "    current = current.next"
   ]
  },
  {
   "cell_type": "code",
   "execution_count": 9,
   "id": "b8b808a2",
   "metadata": {},
   "outputs": [
    {
     "name": "stdout",
     "output_type": "stream",
     "text": [
      "3 2 1 5 4 "
     ]
    }
   ],
   "source": [
    "# Example: 02\n",
    "# Creating the linked list: 1->2->3->4->5\n",
    "head = Node(1)\n",
    "head.next = Node(2)\n",
    "head.next.next = Node(3)\n",
    "head.next.next.next = Node(4)\n",
    "head.next.next.next.next = Node(5)\n",
    "\n",
    "k = 3\n",
    "\n",
    "updated_list = reverse_k_nodes(head, k)\n",
    "\n",
    "# Printing the updated linked list: 3->2->1->5->4\n",
    "current = updated_list\n",
    "while current:\n",
    "    print(current.data, end=\" \")\n",
    "    current = current.next"
   ]
  },
  {
   "cell_type": "markdown",
   "id": "c3791e5a",
   "metadata": {},
   "source": [
    "**Question 4**\n",
    "- Given a linked list, write a function to reverse every alternate k\n",
    "nodes (where k is an input to the function) in an efficient way.\n",
    "Give the complexity of your algorithm.\n",
    "- Example:\n",
    "Inputs: 1->2->3->4->5->6->7->8->9->NULL and k =\n",
    "3 Output: 3->2->1->4->5->6->9->8->7->NULL."
   ]
  },
  {
   "cell_type": "code",
   "execution_count": 10,
   "id": "7891cbcc",
   "metadata": {},
   "outputs": [],
   "source": [
    "class Node:\n",
    "    def __init__(self, data=None):\n",
    "        self.data = data\n",
    "        self.next = None\n",
    "\n",
    "def reverse_alternate_k_nodes(head, k):\n",
    "    if not head or not head.next or k == 1:\n",
    "        return head\n",
    "    \n",
    "    # Initialize pointers\n",
    "    current = head\n",
    "    prev = None\n",
    "    next_node = None\n",
    "\n",
    "    count = 0\n",
    "    # Reverse the first k nodes\n",
    "    while current and count < k:\n",
    "        next_node = current.next\n",
    "        current.next = prev\n",
    "        prev = current\n",
    "        current = next_node\n",
    "        count += 1\n",
    "    \n",
    "    # Connect the last node of the reversed group to the first node of the next group\n",
    "    if current:\n",
    "        head.next = current\n",
    "    \n",
    "    # Skip the next k nodes\n",
    "    count = 0\n",
    "    while current and count < k-1:\n",
    "        current = current.next\n",
    "        count += 1\n",
    "    \n",
    "    # Recursively reverse the next k nodes\n",
    "    if current:\n",
    "        current.next = reverse_alternate_k_nodes(current.next, k)\n",
    "    \n",
    "    return prev"
   ]
  },
  {
   "cell_type": "code",
   "execution_count": 11,
   "id": "5a598e6b",
   "metadata": {},
   "outputs": [
    {
     "name": "stdout",
     "output_type": "stream",
     "text": [
      "3 2 1 4 5 6 9 8 7 "
     ]
    }
   ],
   "source": [
    "# Example: 01\n",
    "# Creating the linked list: 1->2->3->4->5->6->7->8->9\n",
    "head = Node(1)\n",
    "head.next = Node(2)\n",
    "head.next.next = Node(3)\n",
    "head.next.next.next = Node(4)\n",
    "head.next.next.next.next = Node(5)\n",
    "head.next.next.next.next.next = Node(6)\n",
    "head.next.next.next.next.next.next = Node(7)\n",
    "head.next.next.next.next.next.next.next = Node(8)\n",
    "head.next.next.next.next.next.next.next.next = Node(9)\n",
    "\n",
    "k = 3\n",
    "\n",
    "updated_list = reverse_alternate_k_nodes(head, k)\n",
    "\n",
    "# Printing the updated linked list: 3->2->1->4->5->6->9->8->7\n",
    "current = updated_list\n",
    "while current:\n",
    "    print(current.data, end=\" \")\n",
    "    current = current.next"
   ]
  },
  {
   "cell_type": "markdown",
   "id": "5c3a6544",
   "metadata": {},
   "source": [
    "**Question 5**\n",
    "- Given a linked list and a key to be deleted. Delete last\n",
    "occurrence of key from linked. The list may have duplicates.\n",
    "- Examples:\n",
    "Input: 1->2->3->5->2->10, key = 2 Output: 1->2->\n",
    "3->5->10"
   ]
  },
  {
   "cell_type": "code",
   "execution_count": 12,
   "id": "4da2e58c",
   "metadata": {},
   "outputs": [],
   "source": [
    "class Node:\n",
    "    def __init__(self, data=None):\n",
    "        self.data = data\n",
    "        self.next = None\n",
    "\n",
    "def delete_last_occurrence(head, key):\n",
    "    if not head:\n",
    "        return head\n",
    "    \n",
    "    # Initialize pointers\n",
    "    prev = None\n",
    "    current = head\n",
    "    last_occurrence = None\n",
    "    prev_last_occurrence = None\n",
    "    \n",
    "    # Traverse the linked list\n",
    "    while current:\n",
    "        if current.data == key:\n",
    "            last_occurrence = current\n",
    "            prev_last_occurrence = prev\n",
    "        prev = current\n",
    "        current = current.next\n",
    "    \n",
    "    # If last occurrence is found\n",
    "    if last_occurrence:\n",
    "        # If last occurrence is the head node itself\n",
    "        if last_occurrence == head:\n",
    "            head = head.next\n",
    "        else:\n",
    "            prev_last_occurrence.next = last_occurrence.next\n",
    "    \n",
    "    return head"
   ]
  },
  {
   "cell_type": "code",
   "execution_count": 13,
   "id": "9a041fbd",
   "metadata": {},
   "outputs": [
    {
     "name": "stdout",
     "output_type": "stream",
     "text": [
      "1 2 3 5 10 "
     ]
    }
   ],
   "source": [
    "# Example: 01\n",
    "# Creating the linked list: 1->2->3->5->2->10\n",
    "head = Node(1)\n",
    "head.next = Node(2)\n",
    "head.next.next = Node(3)\n",
    "head.next.next.next = Node(5)\n",
    "head.next.next.next.next = Node(2)\n",
    "head.next.next.next.next.next = Node(10)\n",
    "\n",
    "key = 2\n",
    "\n",
    "updated_list = delete_last_occurrence(head, key)\n",
    "\n",
    "# Printing the updated linked list: 1->2->3->5->10\n",
    "current = updated_list\n",
    "while current:\n",
    "    print(current.data, end=\" \")\n",
    "    current = current.next\n"
   ]
  },
  {
   "cell_type": "markdown",
   "id": "a8b91bd5",
   "metadata": {},
   "source": [
    "**Question 6**\n",
    "- Given two sorted linked lists consisting of N and M nodes\n",
    "respectively. The task is to merge both of the lists (in place)\n",
    "and return the head of the merged list.\n",
    "- Examples:\n",
    "- Input: a: 5->10->15, b: 2->3->20\n",
    "Output: 2->3->5->10->15->20\n",
    "- Input: a: 1->1, b: 2->4\n",
    "Output: 1->1->2->4"
   ]
  },
  {
   "cell_type": "code",
   "execution_count": 14,
   "id": "454ace0e",
   "metadata": {},
   "outputs": [],
   "source": [
    "class Node:\n",
    "    def __init__(self, data=None):\n",
    "        self.data = data\n",
    "        self.next = None\n",
    "\n",
    "def merge_sorted_lists(a, b):\n",
    "    # Create a dummy node as the head of the merged list\n",
    "    dummy = Node()\n",
    "    tail = dummy\n",
    "\n",
    "    # Traverse both linked lists simultaneously\n",
    "    while a and b:\n",
    "        if a.data <= b.data:\n",
    "            tail.next = a\n",
    "            a = a.next\n",
    "        else:\n",
    "            tail.next = b\n",
    "            b = b.next\n",
    "        tail = tail.next\n",
    "\n",
    "    # Append the remaining nodes of the other list\n",
    "    if a:\n",
    "        tail.next = a\n",
    "    else:\n",
    "        tail.next = b\n",
    "\n",
    "    return dummy.next"
   ]
  },
  {
   "cell_type": "code",
   "execution_count": 15,
   "id": "30797bbf",
   "metadata": {},
   "outputs": [
    {
     "name": "stdout",
     "output_type": "stream",
     "text": [
      "2 3 5 10 15 20 "
     ]
    }
   ],
   "source": [
    "# Example: 01\n",
    "# Creating the first linked list: 5->10->15\n",
    "a = Node(5)\n",
    "a.next = Node(10)\n",
    "a.next.next = Node(15)\n",
    "\n",
    "# Creating the second linked list: 2->3->20\n",
    "b = Node(2)\n",
    "b.next = Node(3)\n",
    "b.next.next = Node(20)\n",
    "\n",
    "merged_list = merge_sorted_lists(a, b)\n",
    "\n",
    "# Printing the merged linked list: 2->3->5->10->15->20\n",
    "current = merged_list\n",
    "while current:\n",
    "    print(current.data, end=\" \")\n",
    "    current = current.next"
   ]
  },
  {
   "cell_type": "code",
   "execution_count": 16,
   "id": "ebe3f730",
   "metadata": {},
   "outputs": [
    {
     "name": "stdout",
     "output_type": "stream",
     "text": [
      "1 1 2 4 "
     ]
    }
   ],
   "source": [
    "# Example: 02\n",
    "# Creating the first linked list: 1->1\n",
    "a = Node(1)\n",
    "a.next = Node(1)\n",
    "\n",
    "# Creating the second linked list: 2->4\n",
    "b = Node(2)\n",
    "b.next = Node(4)\n",
    "\n",
    "merged_list = merge_sorted_lists(a, b)\n",
    "\n",
    "# Printing the merged linked list: 1->1->2->4\n",
    "current = merged_list\n",
    "while current:\n",
    "    print(current.data, end=\" \")\n",
    "    current = current.next"
   ]
  },
  {
   "cell_type": "markdown",
   "id": "ebdd143a",
   "metadata": {},
   "source": [
    "**Question 7**\n",
    "- Given a Doubly Linked List, the task is to reverse the given Doubly Linked List.\n",
    "- Example:\n",
    "Original Linked list 10 8 4 2 Reversed Linked list 2 4 8 10"
   ]
  },
  {
   "cell_type": "code",
   "execution_count": 17,
   "id": "717d830f",
   "metadata": {},
   "outputs": [],
   "source": [
    "class Node:\n",
    "    def __init__(self, data=None):\n",
    "        self.data = data\n",
    "        self.prev = None\n",
    "        self.next = None\n",
    "\n",
    "def reverse_doubly_linked_list(head):\n",
    "    # Check if the list is empty or has only one node\n",
    "    if not head or not head.next:\n",
    "        return head\n",
    "\n",
    "    current = head\n",
    "\n",
    "    # Traverse the list and swap prev and next pointers\n",
    "    while current:\n",
    "        temp = current.prev\n",
    "        current.prev = current.next\n",
    "        current.next = temp\n",
    "        current = current.prev\n",
    "\n",
    "    # The last node will become the new head\n",
    "    head = temp.prev\n",
    "\n",
    "    return head"
   ]
  },
  {
   "cell_type": "code",
   "execution_count": 18,
   "id": "a91291c4",
   "metadata": {},
   "outputs": [
    {
     "name": "stdout",
     "output_type": "stream",
     "text": [
      "2 4 8 10 "
     ]
    }
   ],
   "source": [
    "# Example: 01\n",
    "# Creating the doubly linked list: 10->8->4->2\n",
    "head = Node(10)\n",
    "head.next = Node(8)\n",
    "head.next.prev = head\n",
    "head.next.next = Node(4)\n",
    "head.next.next.prev = head.next\n",
    "head.next.next.next = Node(2)\n",
    "head.next.next.next.prev = head.next.next\n",
    "\n",
    "reversed_list = reverse_doubly_linked_list(head)\n",
    "\n",
    "# Printing the reversed doubly linked list: 2->4->8->10\n",
    "current = reversed_list\n",
    "while current:\n",
    "    print(current.data, end=\" \")\n",
    "    current = current.next"
   ]
  },
  {
   "cell_type": "markdown",
   "id": "b30e86f8",
   "metadata": {},
   "source": [
    "**Question 8**\n",
    "- Given a doubly linked list and a position. The task is to delete a node from given position in a doubly linked list.\n",
    "- Example 1:\n",
    "Input: LinkedList = 1 <--> 3 <--> 4 x = 3 \n",
    "Output:1 3 \n",
    "- Explanation:After deleting the node at position 3 (position starts from 1), the linked list will be now as 1->3.\n",
    "- Example 2:\n",
    "Input: LinkedList = 1 <--> 5 <--> 2 <--> 9 x = 1\n",
    "Output:5 2 9"
   ]
  },
  {
   "cell_type": "code",
   "execution_count": 19,
   "id": "c600d7de",
   "metadata": {},
   "outputs": [],
   "source": [
    "class Node:\n",
    "    def __init__(self, data=None):\n",
    "        self.data = data\n",
    "        self.prev = None\n",
    "        self.next = None\n",
    "\n",
    "def delete_node_at_position(head, position):\n",
    "    # Check if the list is empty\n",
    "    if not head:\n",
    "        return head\n",
    "    \n",
    "    # Check if the position is valid\n",
    "    if position < 1:\n",
    "        return head\n",
    "    \n",
    "    # Case 1: Deleting the head node\n",
    "    if position == 1:\n",
    "        if head.next:\n",
    "            head.next.prev = None\n",
    "        head = head.next\n",
    "        return head\n",
    "    \n",
    "    # Traverse the list to find the node at the given position\n",
    "    current = head\n",
    "    count = 1\n",
    "    while current and count < position:\n",
    "        current = current.next\n",
    "        count += 1\n",
    "    \n",
    "    # Case 2: Deleting a node in the middle or at the end\n",
    "    if current:\n",
    "        current.prev.next = current.next\n",
    "        if current.next:\n",
    "            current.next.prev = current.prev\n",
    "    \n",
    "    return head"
   ]
  },
  {
   "cell_type": "code",
   "execution_count": 20,
   "id": "86a88502",
   "metadata": {},
   "outputs": [
    {
     "name": "stdout",
     "output_type": "stream",
     "text": [
      "1 3 "
     ]
    }
   ],
   "source": [
    "# Example: 01\n",
    "# Creating the doubly linked list: 1<->3<->4\n",
    "head = Node(1)\n",
    "head.next = Node(3)\n",
    "head.next.prev = head\n",
    "head.next.next = Node(4)\n",
    "head.next.next.prev = head.next\n",
    "\n",
    "position = 3\n",
    "\n",
    "updated_list = delete_node_at_position(head, position)\n",
    "\n",
    "# Printing the updated doubly linked list: 1<->3\n",
    "current = updated_list\n",
    "while current:\n",
    "    print(current.data, end=\" \")\n",
    "    current = current.next"
   ]
  },
  {
   "cell_type": "code",
   "execution_count": 21,
   "id": "567ee59a",
   "metadata": {},
   "outputs": [
    {
     "name": "stdout",
     "output_type": "stream",
     "text": [
      "5 2 9 "
     ]
    }
   ],
   "source": [
    "# Example: 02\n",
    "# Creating the doubly linked list: 1<->5<->2<->9\n",
    "head = Node(1)\n",
    "head.next = Node(5)\n",
    "head.next.prev = head\n",
    "head.next.next = Node(2)\n",
    "head.next.next.prev = head.next\n",
    "head.next.next.next = Node(9)\n",
    "head.next.next.next.prev = head.next.next\n",
    "\n",
    "position = 1\n",
    "\n",
    "updated_list = delete_node_at_position(head, position)\n",
    "\n",
    "# Printing the updated doubly linked list: 5<->2<->9\n",
    "current = updated_list\n",
    "while current:\n",
    "    print(current.data, end=\" \")\n",
    "    current = current.next"
   ]
  },
  {
   "cell_type": "code",
   "execution_count": null,
   "id": "e06b2672",
   "metadata": {},
   "outputs": [],
   "source": []
  }
 ],
 "metadata": {
  "kernelspec": {
   "display_name": "Python 3 (ipykernel)",
   "language": "python",
   "name": "python3"
  },
  "language_info": {
   "codemirror_mode": {
    "name": "ipython",
    "version": 3
   },
   "file_extension": ".py",
   "mimetype": "text/x-python",
   "name": "python",
   "nbconvert_exporter": "python",
   "pygments_lexer": "ipython3",
   "version": "3.9.12"
  },
  "latex_envs": {
   "LaTeX_envs_menu_present": true,
   "autoclose": false,
   "autocomplete": true,
   "bibliofile": "biblio.bib",
   "cite_by": "apalike",
   "current_citInitial": 1,
   "eqLabelWithNumbers": true,
   "eqNumInitial": 1,
   "hotkeys": {
    "equation": "Ctrl-E",
    "itemize": "Ctrl-I"
   },
   "labels_anchors": false,
   "latex_user_defs": false,
   "report_style_numbering": false,
   "user_envs_cfg": false
  },
  "nbTranslate": {
   "displayLangs": [
    "*"
   ],
   "hotkey": "alt-t",
   "langInMainMenu": true,
   "sourceLang": "en",
   "targetLang": "fr",
   "useGoogleTranslate": true
  },
  "toc": {
   "base_numbering": 1,
   "nav_menu": {},
   "number_sections": true,
   "sideBar": true,
   "skip_h1_title": false,
   "title_cell": "Table of Contents",
   "title_sidebar": "Contents",
   "toc_cell": false,
   "toc_position": {},
   "toc_section_display": true,
   "toc_window_display": false
  },
  "varInspector": {
   "cols": {
    "lenName": 16,
    "lenType": 16,
    "lenVar": 40
   },
   "kernels_config": {
    "python": {
     "delete_cmd_postfix": "",
     "delete_cmd_prefix": "del ",
     "library": "var_list.py",
     "varRefreshCmd": "print(var_dic_list())"
    },
    "r": {
     "delete_cmd_postfix": ") ",
     "delete_cmd_prefix": "rm(",
     "library": "var_list.r",
     "varRefreshCmd": "cat(var_dic_list()) "
    }
   },
   "types_to_exclude": [
    "module",
    "function",
    "builtin_function_or_method",
    "instance",
    "_Feature"
   ],
   "window_display": false
  }
 },
 "nbformat": 4,
 "nbformat_minor": 5
}
