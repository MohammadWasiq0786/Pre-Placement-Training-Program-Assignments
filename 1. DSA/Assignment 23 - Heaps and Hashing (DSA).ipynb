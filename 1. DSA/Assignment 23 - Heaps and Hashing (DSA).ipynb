{
 "cells": [
  {
   "cell_type": "markdown",
   "id": "3ba2fbf8",
   "metadata": {},
   "source": [
    "![image](https://user-images.githubusercontent.com/57321948/196933065-4b16c235-f3b9-4391-9cfe-4affcec87c35.png)\n",
    "\n",
    "# Submitted by: Mohammad Wasiq\n",
    "\n",
    "## Email: `gl0427@myamu.ac.in`\n",
    "\n",
    "# DSA (Data Structures and Algorithms) Assignment 23 - Heaps and Hashing"
   ]
  },
  {
   "cell_type": "markdown",
   "id": "701d2373",
   "metadata": {},
   "source": [
    "**Q1.** Given preorder of a binary tree, calculate its **[depth(or height)](https://www.geeksforgeeks.org/write-a-c-program-to-find-the-maximum-depth-or-height-of-a-tree/)** [starting from depth 0]. The preorder is given as a string with two possible characters.\n",
    "\n",
    "1. ‘l’ denotes the leaf\n",
    "2. ‘n’ denotes internal node\n",
    "\n",
    "The given tree can be seen as a full binary tree where every node has 0 or two children. The two children of a node can ‘n’ or ‘l’ or mix of both.\n",
    "\n",
    "**Examples :**\n",
    "\n",
    "Input  : nlnll\n",
    "Output : 2\n",
    "Explanation :\n",
    "\n",
    "![](https://media.geeksforgeeks.org/wp-content/uploads/btree1.png)\n",
    "\n",
    "Input  : nlnnlll\n",
    "Output : 3\n",
    "\n",
    "![](https://media.geeksforgeeks.org/wp-content/uploads/dia2.png)\n",
    "\n",
    "**Ans :**"
   ]
  },
  {
   "cell_type": "code",
   "execution_count": 4,
   "id": "dec4b57d",
   "metadata": {
    "ExecuteTime": {
     "end_time": "2023-07-01T07:22:27.485462Z",
     "start_time": "2023-07-01T07:22:27.463523Z"
    }
   },
   "outputs": [
    {
     "name": "stdout",
     "output_type": "stream",
     "text": [
      "2\n"
     ]
    }
   ],
   "source": [
    "def calculateDepth(preorder):\n",
    "    stack = []\n",
    "    depth = 0\n",
    "    maxDepth = 0\n",
    "\n",
    "    for char in preorder:\n",
    "        if char == 'n':\n",
    "            stack.append(char)\n",
    "            depth += 1\n",
    "            maxDepth = max(maxDepth, depth)\n",
    "        elif char == 'l':\n",
    "            while stack and stack[-1] == 'l':\n",
    "                stack.pop()\n",
    "                depth -= 1\n",
    "            if stack:\n",
    "                stack.pop()\n",
    "            stack.append(char)\n",
    "\n",
    "    return maxDepth - 1\n",
    "\n",
    "\n",
    "preorder2 = 'nlnnlll'\n",
    "print(calculateDepth(preorder2))"
   ]
  },
  {
   "cell_type": "markdown",
   "id": "122eb1fb",
   "metadata": {},
   "source": [
    "**Q2.** Given a Binary tree, the task is to print the **left view** of the Binary Tree. The left view of a Binary Tree is a set of leftmost nodes for every level.\n",
    "\n",
    "**Examples:**\n",
    "\n",
    "**Input:**\n",
    "```\n",
    "            4\n",
    "\n",
    "          /   \\\n",
    "\n",
    "        5     2\n",
    "\n",
    "             /   \\\n",
    "\n",
    "            3     1\n",
    "\n",
    "           /  \\\n",
    "\n",
    "          6    7\n",
    "\n",
    "```\n",
    "**Output :** 4 5 3 6*\n",
    "\n",
    "**Explanation:**\n",
    "\n",
    "![](https://media.geeksforgeeks.org/wp-content/cdn-uploads/left-view.png)\n",
    "\n",
    "**Input :**\n",
    "```\n",
    "                    1\n",
    "\n",
    "                  /   \\\n",
    "\n",
    "                2       3\n",
    "\n",
    "                 \\\n",
    "\n",
    "                   4\n",
    "\n",
    "                     \\\n",
    "\n",
    "                        5\n",
    "\n",
    "                           \\\n",
    "\n",
    "                             6\n",
    "\n",
    "```\n",
    "**Output :** 1 2 4 5 6\n",
    "\n",
    "**Ans :**"
   ]
  },
  {
   "cell_type": "code",
   "execution_count": 5,
   "id": "5de3d64e",
   "metadata": {
    "ExecuteTime": {
     "end_time": "2023-07-01T07:23:56.283333Z",
     "start_time": "2023-07-01T07:23:56.262390Z"
    }
   },
   "outputs": [
    {
     "name": "stdout",
     "output_type": "stream",
     "text": [
      "Left View: 4 5 3 6 \n"
     ]
    }
   ],
   "source": [
    "from collections import deque\n",
    "\n",
    "class Node:\n",
    "    def __init__(self, value):\n",
    "        self.value = value\n",
    "        self.left = None\n",
    "        self.right = None\n",
    "\n",
    "def printLeftView(root):\n",
    "    if root is None:\n",
    "        return\n",
    "\n",
    "    queue = deque()\n",
    "    queue.append(root)\n",
    "    level = 0\n",
    "\n",
    "    while queue:\n",
    "        nodeCount = len(queue)\n",
    "        isLeftmost = True\n",
    "\n",
    "        for i in range(nodeCount):\n",
    "            node = queue.popleft()\n",
    "\n",
    "            if isLeftmost:\n",
    "                print(node.value, end=\" \")\n",
    "                isLeftmost = False\n",
    "\n",
    "            if node.left:\n",
    "                queue.append(node.left)\n",
    "            if node.right:\n",
    "                queue.append(node.right)\n",
    "\n",
    "        level += 1\n",
    "\n",
    "    print()  # Print a new line after printing left view\n",
    "\n",
    "# Create the binary tree\n",
    "root = Node(4)\n",
    "root.left = Node(5)\n",
    "root.right = Node(2)\n",
    "root.right.left = Node(3)\n",
    "root.right.right = Node(1)\n",
    "root.right.left.left = Node(6)\n",
    "root.right.left.right = Node(7)\n",
    "\n",
    "# Print the left view of the binary tree\n",
    "print(\"Left View: \", end=\"\")\n",
    "printLeftView(root)"
   ]
  },
  {
   "cell_type": "markdown",
   "id": "ed03b21f",
   "metadata": {},
   "source": [
    "**Q3. Given a Binary Tree, print the Right view of it.**\n",
    "\n",
    "The right view of a Binary Tree is a set of nodes visible when the tree is visited from the Right side.\n",
    "\n",
    "**Examples:**\n",
    "\n",
    "**Input:**\n",
    "\n",
    "```\n",
    "         1\n",
    "\n",
    "      /     \\\n",
    "\n",
    "   2         3\n",
    "\n",
    "/   \\       /  \\\n",
    "\n",
    "4     5   6    7\n",
    "\n",
    "             \\\n",
    "\n",
    "               8\n",
    "\n",
    "```\n",
    "**Output**: \n",
    "\n",
    "Right view of the tree is 1 3 7 8\n",
    "\n",
    "**Input:**\n",
    "```\n",
    "\n",
    "         1\n",
    "\n",
    "       /\n",
    "\n",
    "    8\n",
    "\n",
    "  /\n",
    "\n",
    "7\n",
    "```\n",
    "**Output**: \n",
    "\n",
    "Right view of the tree is 1 8 7\n",
    "\n",
    "**Ans :**"
   ]
  },
  {
   "cell_type": "code",
   "execution_count": 6,
   "id": "ec4940e5",
   "metadata": {
    "ExecuteTime": {
     "end_time": "2023-07-01T07:25:05.727744Z",
     "start_time": "2023-07-01T07:25:05.700817Z"
    }
   },
   "outputs": [
    {
     "name": "stdout",
     "output_type": "stream",
     "text": [
      "Right View: 1 3 7 8 \n"
     ]
    }
   ],
   "source": [
    "from collections import deque\n",
    "\n",
    "class Node:\n",
    "    def __init__(self, value):\n",
    "        self.value = value\n",
    "        self.left = None\n",
    "        self.right = None\n",
    "\n",
    "def printRightView(root):\n",
    "    if root is None:\n",
    "        return\n",
    "\n",
    "    queue = deque()\n",
    "    queue.append(root)\n",
    "    level = 0\n",
    "\n",
    "    while queue:\n",
    "        nodeCount = len(queue)\n",
    "\n",
    "        for i in range(nodeCount):\n",
    "            node = queue.popleft()\n",
    "\n",
    "            if i == nodeCount - 1:\n",
    "                print(node.value, end=\" \")\n",
    "\n",
    "            if node.left:\n",
    "                queue.append(node.left)\n",
    "            if node.right:\n",
    "                queue.append(node.right)\n",
    "\n",
    "        level += 1\n",
    "\n",
    "    print()  # Print a new line after printing right view\n",
    "\n",
    "# Create the binary tree\n",
    "root = Node(1)\n",
    "root.left = Node(2)\n",
    "root.right = Node(3)\n",
    "root.left.left = Node(4)\n",
    "root.left.right = Node(5)\n",
    "root.right.left = Node(6)\n",
    "root.right.right = Node(7)\n",
    "root.right.right.right = Node(8)\n",
    "\n",
    "# Print the right view of the binary tree\n",
    "print(\"Right View: \", end=\"\")\n",
    "printRightView(root)"
   ]
  },
  {
   "cell_type": "markdown",
   "id": "1405ac6c",
   "metadata": {},
   "source": [
    "**Q4.** Given a Binary Tree, The task is to print the **bottom view** from left to right. A node **x** is there in output if x is the bottommost node at its horizontal distance. The horizontal distance of the left child of a node x is equal to a horizontal distance of x minus 1, and that of a right child is the horizontal distance of x plus 1.\n",
    "\n",
    "**Examples:**\n",
    "\n",
    "**Input:**\n",
    "```\n",
    "\n",
    "             20\n",
    "\n",
    "           /     \\\n",
    "\n",
    "        8         22\n",
    "\n",
    "    /      \\         \\\n",
    "\n",
    "5         3        25\n",
    "\n",
    "        /    \\\n",
    "\n",
    "   10       14\n",
    "\n",
    "```\n",
    "**Output:** 5, 10, 3, 14, 25.\n",
    "\n",
    "**Input:**\n",
    "```\n",
    "\n",
    "             20\n",
    "\n",
    "           /     \\\n",
    "\n",
    "        8         22\n",
    "\n",
    "    /      \\      /   \\\n",
    "\n",
    " 5         3    4     25\n",
    "\n",
    "         /    \\\n",
    "\n",
    "     10       14\n",
    "\n",
    "```\n",
    "**Output:**\n",
    "\n",
    "5 10 4 14 25.\n",
    "\n",
    "**Explanation:**\n",
    "\n",
    "If there are multiple bottom-most nodes for a horizontal distance from the root, then print the later one in the level traversal.\n",
    "\n",
    "**3 and 4** are both the bottom-most nodes at a horizontal distance of 0, we need to print 4.\n",
    "\n",
    "**Ans :**"
   ]
  },
  {
   "cell_type": "code",
   "execution_count": 7,
   "id": "07fc5ed8",
   "metadata": {
    "ExecuteTime": {
     "end_time": "2023-07-01T07:26:20.379593Z",
     "start_time": "2023-07-01T07:26:20.361642Z"
    }
   },
   "outputs": [
    {
     "name": "stdout",
     "output_type": "stream",
     "text": [
      "Bottom View: 5 10 3 14 25 "
     ]
    }
   ],
   "source": [
    "from collections import deque\n",
    "\n",
    "class Node:\n",
    "    def __init__(self, value):\n",
    "        self.value = value\n",
    "        self.left = None\n",
    "        self.right = None\n",
    "\n",
    "def printBottomView(root):\n",
    "    if root is None:\n",
    "        return\n",
    "\n",
    "    queue = deque()\n",
    "    queue.append((root, 0))\n",
    "    bottomViewDict = {}\n",
    "\n",
    "    while queue:\n",
    "        node, hd = queue.popleft()\n",
    "        bottomViewDict[hd] = node.value\n",
    "\n",
    "        if node.left:\n",
    "            queue.append((node.left, hd - 1))\n",
    "        if node.right:\n",
    "            queue.append((node.right, hd + 1))\n",
    "\n",
    "    for value in sorted(bottomViewDict.keys()):\n",
    "        print(bottomViewDict[value], end=\" \")\n",
    "\n",
    "# Create the binary tree\n",
    "root = Node(20)\n",
    "root.left = Node(8)\n",
    "root.right = Node(22)\n",
    "root.left.left = Node(5)\n",
    "root.left.right = Node(3)\n",
    "root.right.right = Node(25)\n",
    "root.left.right.left = Node(10)\n",
    "root.left.right.right = Node(14)\n",
    "\n",
    "# Print the bottom view of the binary tree\n",
    "print(\"Bottom View: \", end=\"\")\n",
    "printBottomView(root)"
   ]
  }
 ],
 "metadata": {
  "kernelspec": {
   "display_name": "Python 3 (ipykernel)",
   "language": "python",
   "name": "python3"
  },
  "language_info": {
   "codemirror_mode": {
    "name": "ipython",
    "version": 3
   },
   "file_extension": ".py",
   "mimetype": "text/x-python",
   "name": "python",
   "nbconvert_exporter": "python",
   "pygments_lexer": "ipython3",
   "version": "3.9.12"
  },
  "latex_envs": {
   "LaTeX_envs_menu_present": true,
   "autoclose": false,
   "autocomplete": true,
   "bibliofile": "biblio.bib",
   "cite_by": "apalike",
   "current_citInitial": 1,
   "eqLabelWithNumbers": true,
   "eqNumInitial": 1,
   "hotkeys": {
    "equation": "Ctrl-E",
    "itemize": "Ctrl-I"
   },
   "labels_anchors": false,
   "latex_user_defs": false,
   "report_style_numbering": false,
   "user_envs_cfg": false
  },
  "nbTranslate": {
   "displayLangs": [
    "*"
   ],
   "hotkey": "alt-t",
   "langInMainMenu": true,
   "sourceLang": "en",
   "targetLang": "fr",
   "useGoogleTranslate": true
  },
  "toc": {
   "base_numbering": 1,
   "nav_menu": {},
   "number_sections": true,
   "sideBar": true,
   "skip_h1_title": false,
   "title_cell": "Table of Contents",
   "title_sidebar": "Contents",
   "toc_cell": false,
   "toc_position": {},
   "toc_section_display": true,
   "toc_window_display": false
  },
  "varInspector": {
   "cols": {
    "lenName": 16,
    "lenType": 16,
    "lenVar": 40
   },
   "kernels_config": {
    "python": {
     "delete_cmd_postfix": "",
     "delete_cmd_prefix": "del ",
     "library": "var_list.py",
     "varRefreshCmd": "print(var_dic_list())"
    },
    "r": {
     "delete_cmd_postfix": ") ",
     "delete_cmd_prefix": "rm(",
     "library": "var_list.r",
     "varRefreshCmd": "cat(var_dic_list()) "
    }
   },
   "types_to_exclude": [
    "module",
    "function",
    "builtin_function_or_method",
    "instance",
    "_Feature"
   ],
   "window_display": false
  }
 },
 "nbformat": 4,
 "nbformat_minor": 5
}
