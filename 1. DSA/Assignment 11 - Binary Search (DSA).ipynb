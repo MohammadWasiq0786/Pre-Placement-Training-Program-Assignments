{
 "cells": [
  {
   "cell_type": "markdown",
   "id": "c66d8a0f",
   "metadata": {},
   "source": [
    "![image](https://user-images.githubusercontent.com/57321948/196933065-4b16c235-f3b9-4391-9cfe-4affcec87c35.png)\n",
    "\n",
    "# Submitted by: Mohammad Wasiq\n",
    "\n",
    "## Email: `gl0427@myamu.ac.in`\n",
    "\n",
    "# DSA (Data Structures and Algorithms) Assignment 11 - Binary  Search"
   ]
  },
  {
   "attachments": {},
   "cell_type": "markdown",
   "id": "ec184f29",
   "metadata": {},
   "source": [
    "**Question 1**\n",
    "\n",
    "Given a non-negative integer `x`, return *the square root of* `x` *rounded down to the nearest integer*. The returned integer should be **non-negative** as well.\n",
    "\n",
    "You **must not use** any built-in exponent function or operator.\n",
    "\n",
    "- For example, do not use `pow(x, 0.5)` in c++ or `x ** 0.5` in python."
   ]
  },
  {
   "cell_type": "code",
   "execution_count": 7,
   "id": "853fad79",
   "metadata": {},
   "outputs": [
    {
     "data": {
      "text/plain": [
       "2.0"
      ]
     },
     "execution_count": 7,
     "metadata": {},
     "output_type": "execute_result"
    }
   ],
   "source": [
    "class Solution:\n",
    "    def squareRoot(self, n):\n",
    "        \n",
    "        if n<2:    # If n is 0 or 1\n",
    "            return n\n",
    "        \n",
    "        start = 1\n",
    "        end = n/2    # considering the middle as half value of an element \n",
    "        \n",
    "        while start <= end:    # Running the loop from 1 to mid of the element\n",
    "            mid = (start+end)//2    # Calculating the mid point of left range\n",
    "            if mid*mid>n:    # If left mid square is greater than input\n",
    "                end = mid-1    # reducing the end -> which will reduce the range\n",
    "            else:    # mid square is less than the input\n",
    "                start = mid+1    #  increasing the start to mid of left range -> which will increase the range\n",
    "        return end    # otherwise return half value\n",
    "                \n",
    "s = Solution()\n",
    "n = 8\n",
    "s.squareRoot(n)"
   ]
  },
  {
   "cell_type": "markdown",
   "id": "52837682",
   "metadata": {},
   "source": [
    "TC: O(log n)\n",
    "    \n",
    "SC: O(1)"
   ]
  },
  {
   "attachments": {},
   "cell_type": "markdown",
   "id": "ef3ffb3b",
   "metadata": {},
   "source": [
    "**Question 2**\n",
    "\n",
    "A peak element is an element that is strictly greater than its neighbors.\n",
    "\n",
    "Given a **0-indexed** integer array `nums`, find a peak element, and return its index. If the array contains multiple peaks, return the index to **any of the peaks**.\n",
    "\n",
    "You may imagine that `nums[-1] = nums[n] = -∞`. In other words, an element is always considered to be strictly greater than a neighbor that is outside the array.\n",
    "\n",
    "You must write an algorithm that runs in `O(log n)` time."
   ]
  },
  {
   "cell_type": "code",
   "execution_count": 4,
   "id": "3c871937",
   "metadata": {},
   "outputs": [
    {
     "data": {
      "text/plain": [
       "3"
      ]
     },
     "execution_count": 4,
     "metadata": {},
     "output_type": "execute_result"
    }
   ],
   "source": [
    "class Solution:\n",
    "    def findPickElement(self, nums):\n",
    "        l = 0    # start index\n",
    "        r = len(nums)-1    # end index\n",
    "        while l < r:\n",
    "            m = (l+r)//2    # mid index\n",
    "            if nums[m] > nums[m+1]:  # if mid index element is greater than the next element\n",
    "                r = m    # reducing end to m index\n",
    "            else:    # the mid index element is lower than the next element\n",
    "                l = m+1    # increasing starting to m+1 index\n",
    "        return l    # default return mid index\n",
    "    \n",
    "s = Solution()\n",
    "nums = [1,0,2,3,2,6,4]\n",
    "s.findPickElement(nums)"
   ]
  },
  {
   "cell_type": "markdown",
   "id": "26db74ea",
   "metadata": {},
   "source": [
    "TC: O(log n)\n",
    "    \n",
    "SC: O(1)"
   ]
  },
  {
   "attachments": {},
   "cell_type": "markdown",
   "id": "08c00406",
   "metadata": {},
   "source": [
    "**Question 3**\n",
    "\n",
    "Given an array `nums` containing `n` distinct numbers in the range `[0, n]`, return *the only number in the range that is missing from the array.*"
   ]
  },
  {
   "cell_type": "code",
   "execution_count": 16,
   "id": "999999b4",
   "metadata": {},
   "outputs": [
    {
     "name": "stdout",
     "output_type": "stream",
     "text": [
      "8\n"
     ]
    }
   ],
   "source": [
    "def missingNumber(arr):\n",
    "\n",
    "    # array's length\n",
    "    n = len(arr)\n",
    "\n",
    "    # finding the sum of total numbers\n",
    "    total = n * (n + 1) // 2\n",
    "\n",
    "    # missing number\n",
    "    return total - sum(arr)\n",
    "    \n",
    "if __name__ == '__main__':\n",
    "    arr = [9,6,4,2,3,5,7,0,1]\n",
    "    print(missingNumber(arr))"
   ]
  },
  {
   "cell_type": "markdown",
   "id": "0152af61",
   "metadata": {},
   "source": [
    "TC: O(n)\n",
    "    \n",
    "SC: O(1)"
   ]
  },
  {
   "attachments": {},
   "cell_type": "markdown",
   "id": "e2f32e71",
   "metadata": {},
   "source": [
    "**Question 4**\n",
    "\n",
    "Given an array of integers `nums` containing `n + 1` integers where each integer is in the range `[1, n]` inclusive.\n",
    "\n",
    "There is only **one repeated number** in `nums`, return *this repeated number*.\n",
    "\n",
    "You must solve the problem **without** modifying the array `nums` and uses only constant extra space."
   ]
  },
  {
   "cell_type": "code",
   "execution_count": 25,
   "id": "7c706148",
   "metadata": {},
   "outputs": [
    {
     "data": {
      "text/plain": [
       "3"
      ]
     },
     "execution_count": 25,
     "metadata": {},
     "output_type": "execute_result"
    }
   ],
   "source": [
    "def extraInteger(nums):\n",
    "    # soring array\n",
    "    nums.sort()\n",
    "    \n",
    "    for i in range(len(nums)):\n",
    "        # checking if current number is equal to next number\n",
    "        if nums[i] == nums[i+1]:\n",
    "            return nums[i]\n",
    "\n",
    "nums = [3,1,3,4,2]\n",
    "extraInteger(nums)"
   ]
  },
  {
   "cell_type": "code",
   "execution_count": 21,
   "id": "706818d3",
   "metadata": {},
   "outputs": [
    {
     "data": {
      "text/plain": [
       "3"
      ]
     },
     "execution_count": 21,
     "metadata": {},
     "output_type": "execute_result"
    }
   ],
   "source": [
    "def extraInteger(nums):\n",
    "    # sum including extra character\n",
    "    sum_extra_num = sum(nums)\n",
    "    total_sum = 0\n",
    "    \n",
    "    # length excluding extra number\n",
    "    n = len(nums)-1\n",
    "    \n",
    "    # sum excluding extra character\n",
    "    for i in range(n+1):\n",
    "        total_sum+=i\n",
    "        \n",
    "    # returning the extra number\n",
    "    return sum_extra_num - total_sum\n",
    "\n",
    "nums = [3,1,3,4,2]\n",
    "extraInteger(nums)"
   ]
  },
  {
   "cell_type": "markdown",
   "id": "5f3caf51",
   "metadata": {},
   "source": [
    "TC: O(n)\n",
    "    \n",
    "SC: O(1)"
   ]
  },
  {
   "attachments": {},
   "cell_type": "markdown",
   "id": "0e2fd2b6",
   "metadata": {},
   "source": [
    "**Question 5**\n",
    "\n",
    "Given two integer arrays `nums1` and `nums2`, return *an array of their intersection*. Each element in the result must be **unique** and you may return the result in **any order**."
   ]
  },
  {
   "cell_type": "code",
   "execution_count": 29,
   "id": "5f15556f",
   "metadata": {},
   "outputs": [
    {
     "data": {
      "text/plain": [
       "[2]"
      ]
     },
     "execution_count": 29,
     "metadata": {},
     "output_type": "execute_result"
    }
   ],
   "source": [
    "def array_intersection(arr1, arr2):\n",
    "    res = set()\n",
    "    for i in arr1:\n",
    "        if i in arr2:\n",
    "            res.add(i)\n",
    "    return list(res)\n",
    "\n",
    "nums1 = [1,2,2,1]\n",
    "nums2 = [2,2]\n",
    "array_intersection(nums1, nums2)"
   ]
  },
  {
   "cell_type": "markdown",
   "id": "3d7816d6",
   "metadata": {},
   "source": [
    "TC: O(n)\n",
    "\n",
    "SC: O(1)"
   ]
  },
  {
   "attachments": {},
   "cell_type": "markdown",
   "id": "ca871a3b",
   "metadata": {},
   "source": [
    "**Question 6**\n",
    "\n",
    "Suppose an array of length `n` sorted in ascending order is **rotated** between `1` and `n` times. For example, the array `nums = [0,1,2,4,5,6,7]` might become:\n",
    "\n",
    "- `[4,5,6,7,0,1,2]` if it was rotated `4` times.\n",
    "- `[0,1,2,4,5,6,7]` if it was rotated `7` times.\n",
    "\n",
    "Notice that **rotating** an array `[a[0], a[1], a[2], ..., a[n-1]]` 1 time results in the array `[a[n-1], a[0], a[1], a[2], ..., a[n-2]]`.\n",
    "\n",
    "Given the sorted rotated array `nums` of **unique** elements, return *the minimum element of this array*.\n",
    "\n",
    "You must write an algorithm that runs in `O(log n) time.`"
   ]
  },
  {
   "cell_type": "code",
   "execution_count": 32,
   "id": "648c560d",
   "metadata": {},
   "outputs": [
    {
     "data": {
      "text/plain": [
       "1"
      ]
     },
     "execution_count": 32,
     "metadata": {},
     "output_type": "execute_result"
    }
   ],
   "source": [
    "def minimummElement(nums):\n",
    "    if nums[0] <= nums[-1]:    # handling the corner case\n",
    "        return nums[0]\n",
    "    s = 0\n",
    "    e = len(nums)-1\n",
    "\n",
    "    while s < e:\n",
    "        m = (s+e)//2\n",
    "        if nums[0] <= nums[m]:\n",
    "            s = m+1\n",
    "        else:\n",
    "            e = m\n",
    "    return nums[s]\n",
    "\n",
    "nums= [3,4,5,1,2]\n",
    "minimummElement(nums)"
   ]
  },
  {
   "cell_type": "markdown",
   "id": "e75cbbff",
   "metadata": {},
   "source": [
    "TC: O(log n)\n",
    "    \n",
    "SC: O(1)"
   ]
  },
  {
   "attachments": {},
   "cell_type": "markdown",
   "id": "9e38d985",
   "metadata": {},
   "source": [
    "**Question 7**\n",
    "\n",
    "Given an array of integers `nums` sorted in non-decreasing order, find the starting and ending position of a given `target` value.\n",
    "\n",
    "If `target` is not found in the array, return `[-1, -1]`.\n",
    "\n",
    "You must write an algorithm with `O(log n)` runtime complexity."
   ]
  },
  {
   "cell_type": "code",
   "execution_count": 38,
   "id": "0e66b87c",
   "metadata": {},
   "outputs": [
    {
     "name": "stdout",
     "output_type": "stream",
     "text": [
      "[3, 4]\n",
      "[-1, -1]\n"
     ]
    }
   ],
   "source": [
    "def findFirstOccurrence(nums, target):\n",
    "    # Left snd right pointers\n",
    "    left, right = 0, len(nums) - 1\n",
    "    # Index of first occurrence\n",
    "    firstOccurrence = -1\n",
    "    # Loop until the two pointers meet\n",
    "    while left <= right:\n",
    "        # Middle index\n",
    "        middle = left + (right - left) // 2\n",
    "        # Check if we have found the value\n",
    "        if target == nums[middle]:\n",
    "            firstOccurrence = middle\n",
    "            right = middle - 1\n",
    "        # If the target is less than the element\n",
    "        # at the middle index\n",
    "        elif target < nums[middle]:\n",
    "            right = middle - 1\n",
    "        # If the target is greater than the element\n",
    "        # at the middle index\n",
    "        else:\n",
    "            left = middle + 1\n",
    "    return firstOccurrence\n",
    "\n",
    "\n",
    "def findLastOccurrence(nums, target):\n",
    "    # Left snd right pointers\n",
    "    left, right = 0, len(nums) - 1\n",
    "    # Index of first occurrence\n",
    "    lastOccurrence = -1\n",
    "    # Loop until the two pointers meet\n",
    "    while left <= right:\n",
    "        # Middle index\n",
    "        middle = left + (right - left) // 2\n",
    "        # Check if we have found the value\n",
    "        if target == nums[middle]:\n",
    "            lastOccurrence = middle\n",
    "            left = middle + 1\n",
    "        # If the target is less than the element\n",
    "        # at the middle index\n",
    "        elif target < nums[middle]:\n",
    "            right = middle - 1\n",
    "        # If the target is greater than the element\n",
    "        # at the middle index\n",
    "        else:\n",
    "            left = middle + 1\n",
    "    return lastOccurrence\n",
    "\n",
    "\n",
    "def searchRange(nums: List[int], target: int) -> List[int]:\n",
    "    return [findFirstOccurrence(nums, target), findLastOccurrence(nums, target)]\n",
    "\n",
    "\n",
    "nums = [5,7,7,8,8,10]\n",
    "target = 8\n",
    "print(searchRange(nums, target))\n",
    "\n",
    "nums = [5,7,7,8,8,10]\n",
    "target = 6\n",
    "print(searchRange(nums, target))"
   ]
  },
  {
   "cell_type": "markdown",
   "id": "5b46803c",
   "metadata": {},
   "source": [
    "TC: O(log n)\n",
    "\n",
    "SC: O(n)"
   ]
  },
  {
   "attachments": {},
   "cell_type": "markdown",
   "id": "dc815c76",
   "metadata": {},
   "source": [
    "**Question 8**\n",
    "\n",
    "Given two integer arrays `nums1` and `nums2`, return *an array of their intersection*. Each element in the result must appear as many times as it shows in both arrays and you may return the result in **any order**."
   ]
  },
  {
   "cell_type": "code",
   "execution_count": 41,
   "id": "78e89dcd",
   "metadata": {},
   "outputs": [
    {
     "data": {
      "text/plain": [
       "[2, 2]"
      ]
     },
     "execution_count": 41,
     "metadata": {},
     "output_type": "execute_result"
    }
   ],
   "source": [
    "def arrayIntersection(nums1, nums2):\n",
    "    res = []\n",
    "    for i in nums1:\n",
    "        if i in nums2:\n",
    "            res.append(i)\n",
    "    return res\n",
    "\n",
    "nums1 = [1,2,2,1]\n",
    "nums2 = [2,2]\n",
    "arrayIntersection(nums1, nums2)"
   ]
  },
  {
   "cell_type": "markdown",
   "id": "50eff399",
   "metadata": {},
   "source": [
    "TC: O(n)\n",
    "    \n",
    "SC: O(1)"
   ]
  }
 ],
 "metadata": {
  "kernelspec": {
   "display_name": "Python 3 (ipykernel)",
   "language": "python",
   "name": "python3"
  },
  "language_info": {
   "codemirror_mode": {
    "name": "ipython",
    "version": 3
   },
   "file_extension": ".py",
   "mimetype": "text/x-python",
   "name": "python",
   "nbconvert_exporter": "python",
   "pygments_lexer": "ipython3",
   "version": "3.9.12"
  },
  "latex_envs": {
   "LaTeX_envs_menu_present": true,
   "autoclose": false,
   "autocomplete": true,
   "bibliofile": "biblio.bib",
   "cite_by": "apalike",
   "current_citInitial": 1,
   "eqLabelWithNumbers": true,
   "eqNumInitial": 1,
   "hotkeys": {
    "equation": "Ctrl-E",
    "itemize": "Ctrl-I"
   },
   "labels_anchors": false,
   "latex_user_defs": false,
   "report_style_numbering": false,
   "user_envs_cfg": false
  },
  "nbTranslate": {
   "displayLangs": [
    "*"
   ],
   "hotkey": "alt-t",
   "langInMainMenu": true,
   "sourceLang": "en",
   "targetLang": "fr",
   "useGoogleTranslate": true
  },
  "toc": {
   "base_numbering": 1,
   "nav_menu": {},
   "number_sections": true,
   "sideBar": true,
   "skip_h1_title": false,
   "title_cell": "Table of Contents",
   "title_sidebar": "Contents",
   "toc_cell": false,
   "toc_position": {},
   "toc_section_display": true,
   "toc_window_display": false
  },
  "varInspector": {
   "cols": {
    "lenName": 16,
    "lenType": 16,
    "lenVar": 40
   },
   "kernels_config": {
    "python": {
     "delete_cmd_postfix": "",
     "delete_cmd_prefix": "del ",
     "library": "var_list.py",
     "varRefreshCmd": "print(var_dic_list())"
    },
    "r": {
     "delete_cmd_postfix": ") ",
     "delete_cmd_prefix": "rm(",
     "library": "var_list.r",
     "varRefreshCmd": "cat(var_dic_list()) "
    }
   },
   "types_to_exclude": [
    "module",
    "function",
    "builtin_function_or_method",
    "instance",
    "_Feature"
   ],
   "window_display": false
  }
 },
 "nbformat": 4,
 "nbformat_minor": 5
}
