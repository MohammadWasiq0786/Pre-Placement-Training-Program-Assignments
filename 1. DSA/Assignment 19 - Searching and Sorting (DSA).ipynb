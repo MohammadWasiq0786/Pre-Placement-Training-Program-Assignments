{
 "cells": [
  {
   "cell_type": "markdown",
   "id": "7a564633",
   "metadata": {},
   "source": [
    "![image](https://user-images.githubusercontent.com/57321948/196933065-4b16c235-f3b9-4391-9cfe-4affcec87c35.png)\n",
    "\n",
    "# Submitted by: Mohammad Wasiq\n",
    "\n",
    "## Email: `gl0427@myamu.ac.in`\n",
    "\n",
    "# DSA (Data Structures and Algorithms) Assignment 19 - Searching and Sorting"
   ]
  },
  {
   "cell_type": "markdown",
   "id": "5dd1c626",
   "metadata": {},
   "source": [
    "**Question 1**\n",
    "\n",
    "**Merge k Sorted Lists**\n",
    "\n",
    "You are given an array of `k` linked-lists `lists`, each linked-list is sorted in ascending order.\n",
    "\n",
    "*Merge all the linked-lists into one sorted linked-list and return it.*\n",
    "\n",
    "**Example 1:**\n",
    "\n",
    "```py\n",
    "Input: lists = [[1,4,5],[1,3,4],[2,6]]\n",
    "Output: [1,1,2,3,4,4,5,6]\n",
    "Explanation: The linked-lists are:\n",
    "[\n",
    "  1->4->5,\n",
    "  1->3->4,\n",
    "  2->6\n",
    "]\n",
    "merging them into one sorted list:\n",
    "1->1->2->3->4->4->5->6\n",
    "```\n",
    "\n",
    "**Example 2:**\n",
    "\n",
    "```py\n",
    "Input: lists = []\n",
    "Output: []\n",
    "```\n",
    "\n",
    "**Example 3:**\n",
    "\n",
    "```py\n",
    "Input: lists = [[]]\n",
    "Output: []\n",
    "```\n",
    "\n",
    "**Constraints:**\n",
    "\n",
    "- `k == lists.length`\n",
    "- `0 <= k <= 10000`\n",
    "- `0 <= lists[i].length <= 500`\n",
    "- `-10000 <= lists[i][j] <= 10000`\n",
    "- `lists[i]` is sorted in **ascending order**.\n",
    "- The sum of `lists[i].length` will not exceed `10000`."
   ]
  },
  {
   "cell_type": "code",
   "execution_count": 1,
   "id": "0403ffcd",
   "metadata": {
    "ExecuteTime": {
     "end_time": "2023-06-22T03:09:35.136153Z",
     "start_time": "2023-06-22T03:09:35.113214Z"
    }
   },
   "outputs": [],
   "source": [
    "from heapq import heappush, heappop\n",
    "\n",
    "\n",
    "class ListNode:\n",
    "    def __init__(self, val=0, next=None):\n",
    "        self.val = val\n",
    "        self.next = next\n",
    "\n",
    "\n",
    "def mergeKLists(lists):\n",
    "    # Initialize the min heap\n",
    "    min_heap = []\n",
    "    \n",
    "    # Push the first node of each list into the min heap\n",
    "    for i in range(len(lists)):\n",
    "        if lists[i]:\n",
    "            heappush(min_heap, (lists[i].val, i))\n",
    "            lists[i] = lists[i].next\n",
    "    \n",
    "    # Create a dummy node as the head of the merged list\n",
    "    dummy = ListNode()\n",
    "    curr = dummy\n",
    "    \n",
    "    # Continue until the min heap is empty\n",
    "    while min_heap:\n",
    "        val, i = heappop(min_heap)\n",
    "        \n",
    "        # Create a new node with the minimum value\n",
    "        node = ListNode(val)\n",
    "        curr.next = node\n",
    "        curr = curr.next\n",
    "        \n",
    "        # Push the next node of the list into the min heap\n",
    "        if lists[i]:\n",
    "            heappush(min_heap, (lists[i].val, i))\n",
    "            lists[i] = lists[i].next\n",
    "    \n",
    "    # Return the merged list\n",
    "    return dummy.next\n",
    "\n",
    "\n",
    "# Helper function to convert a list to a linked list\n",
    "def createLinkedList(lst):\n",
    "    dummy = ListNode()\n",
    "    curr = dummy\n",
    "    for val in lst:\n",
    "        curr.next = ListNode(val)\n",
    "        curr = curr.next\n",
    "    return dummy.next\n",
    "\n",
    "\n",
    "# Helper function to convert a linked list to a list\n",
    "def convertToList(head):\n",
    "    lst = []\n",
    "    curr = head\n",
    "    while curr:\n",
    "        lst.append(curr.val)\n",
    "        curr = curr.next\n",
    "    return lst"
   ]
  },
  {
   "cell_type": "code",
   "execution_count": 7,
   "id": "a2a7e495",
   "metadata": {
    "ExecuteTime": {
     "end_time": "2023-06-22T03:12:36.030498Z",
     "start_time": "2023-06-22T03:12:36.010551Z"
    }
   },
   "outputs": [
    {
     "name": "stdout",
     "output_type": "stream",
     "text": [
      "[1, 1, 2, 3, 4, 4, 5, 6]\n"
     ]
    }
   ],
   "source": [
    "lists = [createLinkedList([1, 4, 5]), createLinkedList([1, 3, 4]), createLinkedList([2, 6])]\n",
    "merged_list = mergeKLists(lists)\n",
    "print(convertToList(merged_list))"
   ]
  },
  {
   "cell_type": "code",
   "execution_count": 8,
   "id": "5b3f7674",
   "metadata": {
    "ExecuteTime": {
     "end_time": "2023-06-22T03:12:57.498857Z",
     "start_time": "2023-06-22T03:12:57.479908Z"
    }
   },
   "outputs": [
    {
     "name": "stdout",
     "output_type": "stream",
     "text": [
      "[]\n"
     ]
    }
   ],
   "source": [
    "lists = [createLinkedList([])]\n",
    "merged_list = mergeKLists(lists)\n",
    "print(convertToList(merged_list))\n"
   ]
  },
  {
   "cell_type": "code",
   "execution_count": 9,
   "id": "ac7fca4c",
   "metadata": {
    "ExecuteTime": {
     "end_time": "2023-06-22T03:13:06.828572Z",
     "start_time": "2023-06-22T03:13:06.807627Z"
    }
   },
   "outputs": [
    {
     "name": "stdout",
     "output_type": "stream",
     "text": [
      "[[]]\n"
     ]
    }
   ],
   "source": [
    "lists = [createLinkedList([[]])]\n",
    "merged_list = mergeKLists(lists)\n",
    "print(convertToList(merged_list))\n"
   ]
  },
  {
   "cell_type": "markdown",
   "id": "a6bf3ee7",
   "metadata": {},
   "source": [
    "**Question 2**\n",
    "\n",
    "**Count of Smaller Numbers After Self**\n",
    "\n",
    "Given an integer array `nums`, return *an integer array* `counts` *where* `counts[i]` *is the number of smaller elements to the right of* `nums[i]`.\n",
    "\n",
    "**Example 1:**\n",
    "\n",
    "```py\n",
    "Input: nums = [5,2,6,1]\n",
    "Output: [2,1,1,0]\n",
    "Explanation:\n",
    "To the right of 5 there are2 smaller elements (2 and 1).\n",
    "To the right of 2 there is only1 smaller element (1).\n",
    "To the right of 6 there is1 smaller element (1).\n",
    "To the right of 1 there is0 smaller element.\n",
    "```\n",
    "\n",
    "**Example 2:**\n",
    "\n",
    "```py\n",
    "Input: nums = [-1]\n",
    "Output: [0]\n",
    "```\n",
    "\n",
    "**Example 3:**\n",
    "\n",
    "```\n",
    "Input: nums = [-1,-1]\n",
    "Output: [0,0]\n",
    "```\n",
    "\n",
    "**Constraints:**\n",
    "\n",
    "- `1 <= nums.length <= 100000`\n",
    "- `-10000 <= nums[i] <= 10000`"
   ]
  },
  {
   "cell_type": "code",
   "execution_count": 10,
   "id": "01578a49",
   "metadata": {
    "ExecuteTime": {
     "end_time": "2023-06-22T03:14:48.000596Z",
     "start_time": "2023-06-22T03:14:47.988629Z"
    }
   },
   "outputs": [],
   "source": [
    "def countSmaller(nums):\n",
    "    counts = [0] * len(nums)\n",
    "    indices = list(range(len(nums)))  # Keep track of the original indices\n",
    "    \n",
    "    # Helper function to perform merge sort and count smaller elements\n",
    "    def mergeSort(start, end):\n",
    "        if start < end:\n",
    "            mid = (start + end) // 2\n",
    "            mergeSort(start, mid)\n",
    "            mergeSort(mid + 1, end)\n",
    "            merge(start, mid, end)\n",
    "    \n",
    "    # Helper function to merge two sorted subarrays and count smaller elements\n",
    "    def merge(start, mid, end):\n",
    "        left = start  # Pointer for the left subarray\n",
    "        right = mid + 1  # Pointer for the right subarray\n",
    "        merged = []  # Merged subarray\n",
    "        \n",
    "        # Count smaller elements while merging the subarrays\n",
    "        while left <= mid and right <= end:\n",
    "            if nums[indices[left]] <= nums[indices[right]]:\n",
    "                merged.append(indices[left])\n",
    "                counts[indices[left]] += right - mid - 1\n",
    "                left += 1\n",
    "            else:\n",
    "                merged.append(indices[right])\n",
    "                right += 1\n",
    "        \n",
    "        # Append remaining elements from the left subarray\n",
    "        while left <= mid:\n",
    "            merged.append(indices[left])\n",
    "            counts[indices[left]] += end - mid\n",
    "            left += 1\n",
    "        \n",
    "        # Append remaining elements from the right subarray\n",
    "        while right <= end:\n",
    "            merged.append(indices[right])\n",
    "            right += 1\n",
    "        \n",
    "        # Update the original indices with the merged subarray\n",
    "        indices[start:end+1] = merged\n",
    "    \n",
    "    # Perform merge sort and count smaller elements\n",
    "    mergeSort(0, len(nums) - 1)\n",
    "    \n",
    "    return counts"
   ]
  },
  {
   "cell_type": "code",
   "execution_count": 11,
   "id": "b3336d40",
   "metadata": {
    "ExecuteTime": {
     "end_time": "2023-06-22T03:14:51.304549Z",
     "start_time": "2023-06-22T03:14:51.285604Z"
    }
   },
   "outputs": [
    {
     "name": "stdout",
     "output_type": "stream",
     "text": [
      "[2, 1, 1, 0]\n"
     ]
    }
   ],
   "source": [
    "nums = [5, 2, 6, 1]\n",
    "result = countSmaller(nums)\n",
    "print(result)  "
   ]
  },
  {
   "cell_type": "code",
   "execution_count": 12,
   "id": "ca8e9b21",
   "metadata": {
    "ExecuteTime": {
     "end_time": "2023-06-22T03:15:12.359538Z",
     "start_time": "2023-06-22T03:15:12.342583Z"
    }
   },
   "outputs": [
    {
     "name": "stdout",
     "output_type": "stream",
     "text": [
      "[0]\n"
     ]
    }
   ],
   "source": [
    "nums = [-1]\n",
    "result = countSmaller(nums)\n",
    "print(result)  "
   ]
  },
  {
   "cell_type": "code",
   "execution_count": 14,
   "id": "0e7b5eba",
   "metadata": {
    "ExecuteTime": {
     "end_time": "2023-06-22T03:15:33.522419Z",
     "start_time": "2023-06-22T03:15:33.514444Z"
    }
   },
   "outputs": [
    {
     "name": "stdout",
     "output_type": "stream",
     "text": [
      "[0, 0]\n"
     ]
    }
   ],
   "source": [
    "nums = [-1,-1]\n",
    "result = countSmaller(nums)\n",
    "print(result)  "
   ]
  },
  {
   "cell_type": "markdown",
   "id": "edbbd988",
   "metadata": {},
   "source": [
    "**Question 3**\n",
    "\n",
    "**Sort an Array**\n",
    "\n",
    "Given an array of integers `nums`, sort the array in ascending order and return it.\n",
    "\n",
    "You must solve the problem **without using any built-in** functions in `O(nlog(n))` time complexity and with the smallest space complexity possible.\n",
    "\n",
    "**Example 1:**\n",
    "\n",
    "```py\n",
    "Input: nums = [5,2,3,1]\n",
    "Output: [1,2,3,5]\n",
    "Explanation: After sorting the array, the positions of some numbers are not changed (for example, 2 and 3), while the positions of other numbers are changed (for example, 1 and 5).\n",
    "```\n",
    "\n",
    "**Example 2:**\n",
    "\n",
    "```py\n",
    "Input: nums = [5,1,1,2,0,0]\n",
    "Output: [0,0,1,1,2,5]\n",
    "Explanation: Note that the values of nums are not necessairly unique.\n",
    "```\n",
    "\n",
    "**Constraints:**\n",
    "\n",
    "- `1 <= nums.length <= 5 * 10000`\n",
    "- `-5 * 104 <= nums[i] <= 5 * 10000`"
   ]
  },
  {
   "cell_type": "code",
   "execution_count": 15,
   "id": "37a2a3cf",
   "metadata": {
    "ExecuteTime": {
     "end_time": "2023-06-22T03:17:05.136042Z",
     "start_time": "2023-06-22T03:17:05.124074Z"
    }
   },
   "outputs": [],
   "source": [
    "def sortArray(nums):\n",
    "    # Helper function to perform merge sort\n",
    "    def mergeSort(nums):\n",
    "        if len(nums) <= 1:\n",
    "            return nums\n",
    "        \n",
    "        mid = len(nums) // 2\n",
    "        left = mergeSort(nums[:mid])\n",
    "        right = mergeSort(nums[mid:])\n",
    "        return merge(left, right)\n",
    "    \n",
    "    # Helper function to merge two sorted subarrays\n",
    "    def merge(left, right):\n",
    "        merged = []\n",
    "        i = j = 0\n",
    "        \n",
    "        while i < len(left) and j < len(right):\n",
    "            if left[i] <= right[j]:\n",
    "                merged.append(left[i])\n",
    "                i += 1\n",
    "            else:\n",
    "                merged.append(right[j])\n",
    "                j += 1\n",
    "        \n",
    "        merged.extend(left[i:])\n",
    "        merged.extend(right[j:])\n",
    "        return merged\n",
    "    \n",
    "    # Perform merge sort\n",
    "    return mergeSort(nums)"
   ]
  },
  {
   "cell_type": "code",
   "execution_count": 16,
   "id": "577957ac",
   "metadata": {
    "ExecuteTime": {
     "end_time": "2023-06-22T03:17:15.058615Z",
     "start_time": "2023-06-22T03:17:15.038668Z"
    }
   },
   "outputs": [
    {
     "name": "stdout",
     "output_type": "stream",
     "text": [
      "[1, 2, 3, 5]\n"
     ]
    }
   ],
   "source": [
    "nums1 = [5, 2, 3, 1]\n",
    "result1 = sortArray(nums1)\n",
    "print(result1)"
   ]
  },
  {
   "cell_type": "code",
   "execution_count": 17,
   "id": "a3aeb833",
   "metadata": {
    "ExecuteTime": {
     "end_time": "2023-06-22T03:17:17.563655Z",
     "start_time": "2023-06-22T03:17:17.553675Z"
    }
   },
   "outputs": [
    {
     "name": "stdout",
     "output_type": "stream",
     "text": [
      "[0, 0, 1, 1, 2, 5]\n"
     ]
    }
   ],
   "source": [
    "nums2 = [5, 1, 1, 2, 0, 0]\n",
    "result2 = sortArray(nums2)\n",
    "print(result2) "
   ]
  },
  {
   "cell_type": "markdown",
   "id": "d4f0d956",
   "metadata": {},
   "source": [
    "**Question 4**\n",
    "\n",
    "**Move all zeroes to end of array**\n",
    "\n",
    "Given an array of random numbers, Push all the zero’s of a given array to the end of the array. For example, if the given arrays is {1, 9, 8, 4, 0, 0, 2, 7, 0, 6, 0}, it should be changed to {1, 9, 8, 4, 2, 7, 6, 0, 0, 0, 0}. The order of all other elements should be same. Expected time complexity is O(n) and extra space is O(1).\n",
    "\n",
    "**Example:**\n",
    "\n",
    "```py\n",
    "Input :  arr[] = {1, 2, 0, 4, 3, 0, 5, 0};\n",
    "Output : arr[] = {1, 2, 4, 3, 5, 0, 0, 0};\n",
    "\n",
    "Input : arr[]  = {1, 2, 0, 0, 0, 3, 6};\n",
    "Output : arr[] = {1, 2, 3, 6, 0, 0, 0};\n",
    "```"
   ]
  },
  {
   "cell_type": "code",
   "execution_count": 18,
   "id": "73cd0893",
   "metadata": {
    "ExecuteTime": {
     "end_time": "2023-06-22T03:20:27.999390Z",
     "start_time": "2023-06-22T03:20:27.980441Z"
    }
   },
   "outputs": [],
   "source": [
    "def moveZeroes(arr):\n",
    "    n = len(arr)\n",
    "    nextNonZeroPos = 0  # Position to place the next non-zero element\n",
    "    \n",
    "    # Iterate through the array\n",
    "    for i in range(n):\n",
    "        if arr[i] != 0:\n",
    "            # Swap the current element with the next non-zero element\n",
    "            arr[i], arr[nextNonZeroPos] = arr[nextNonZeroPos], arr[i]\n",
    "            nextNonZeroPos += 1\n",
    "\n",
    "    return arr"
   ]
  },
  {
   "cell_type": "code",
   "execution_count": 19,
   "id": "01b21428",
   "metadata": {
    "ExecuteTime": {
     "end_time": "2023-06-22T03:20:32.932258Z",
     "start_time": "2023-06-22T03:20:32.912314Z"
    }
   },
   "outputs": [
    {
     "name": "stdout",
     "output_type": "stream",
     "text": [
      "[1, 2, 4, 3, 5, 0, 0, 0]\n"
     ]
    }
   ],
   "source": [
    "arr1 = [1, 2, 0, 4, 3, 0, 5, 0]\n",
    "result1 = moveZeroes(arr1)\n",
    "print(result1) "
   ]
  },
  {
   "cell_type": "code",
   "execution_count": 20,
   "id": "2ee11fc9",
   "metadata": {
    "ExecuteTime": {
     "end_time": "2023-06-22T03:20:46.827468Z",
     "start_time": "2023-06-22T03:20:46.809512Z"
    }
   },
   "outputs": [
    {
     "name": "stdout",
     "output_type": "stream",
     "text": [
      "[1, 2, 3, 6, 0, 0, 0]\n"
     ]
    }
   ],
   "source": [
    "arr2 = [1, 2, 0, 0, 0, 3, 6]\n",
    "result2 = moveZeroes(arr2)\n",
    "print(result2) "
   ]
  },
  {
   "cell_type": "markdown",
   "id": "508ae820",
   "metadata": {},
   "source": [
    "**Question 5**\n",
    "\n",
    "**Rearrange array in alternating positive & negative items with O(1) extra space**\n",
    "\n",
    "Given an **array of positive** and **negative numbers**, arrange them in an **alternate** fashion such that every positive number is followed by a negative and vice-versa maintaining the **order of appearance**. The number of positive and negative numbers need not be equal. If there are more positive numbers they appear at the end of the array. If there are more negative numbers, they too appear at the end of the array.\n",
    "\n",
    "**Examples:**\n",
    "```py\n",
    "Input:  arr[] = {1, 2, 3, -4, -1, 4}\n",
    "Output: arr[] = {-4, 1, -1, 2, 3, 4}\n",
    "\n",
    "Input:  arr[] = {-5, -2, 5, 2, 4, 7, 1, 8, 0, -8}\n",
    "Output: arr[] = {-5, 5, -2, 2, -8, 4, 7, 1, 8, 0}\n",
    "```"
   ]
  },
  {
   "cell_type": "code",
   "execution_count": 38,
   "id": "ff7ab567",
   "metadata": {
    "ExecuteTime": {
     "end_time": "2023-06-22T03:31:56.091521Z",
     "start_time": "2023-06-22T03:31:56.069582Z"
    }
   },
   "outputs": [],
   "source": [
    "def rightRotate(arr, n, outOfPlace, cur):\n",
    "    temp = arr[cur]\n",
    "    for i in range(cur, outOfPlace, -1):\n",
    "        arr[i] = arr[i - 1]\n",
    "    arr[outOfPlace] = temp\n",
    "    return arr\n",
    "\n",
    "\n",
    "def rearrange(arr, n):\n",
    "    outOfPlace = -1\n",
    "    for index in range(n):\n",
    "        if(outOfPlace >= 0):\n",
    "            if((arr[index] >= 0 and arr[outOfPlace] < 0) or\n",
    "            (arr[index] < 0 and arr[outOfPlace] >= 0)):\n",
    "                arr = rightRotate(arr, n, outOfPlace, index)\n",
    "                if(index-outOfPlace > 2):\n",
    "                    outOfPlace += 2\n",
    "                else:\n",
    "                    outOfPlace = - 1\n",
    "\n",
    "        if(outOfPlace == -1):\n",
    "\n",
    "            if((arr[index] >= 0 and index % 2 == 0) or\n",
    "            (arr[index] < 0 and index % 2 == 1)):\n",
    "                outOfPlace = index\n",
    "    return arr"
   ]
  },
  {
   "cell_type": "code",
   "execution_count": 39,
   "id": "d6333a8f",
   "metadata": {
    "ExecuteTime": {
     "end_time": "2023-06-22T03:31:59.560306Z",
     "start_time": "2023-06-22T03:31:59.539364Z"
    }
   },
   "outputs": [
    {
     "name": "stdout",
     "output_type": "stream",
     "text": [
      "[-4, 1, -1, 2, 3, 4]\n"
     ]
    }
   ],
   "source": [
    "arr = [1, 2, 3, -4, -1, 4]\n",
    "print(rearrange(arr, len(arr)))"
   ]
  },
  {
   "cell_type": "code",
   "execution_count": 42,
   "id": "25733135",
   "metadata": {
    "ExecuteTime": {
     "end_time": "2023-06-22T03:32:33.247895Z",
     "start_time": "2023-06-22T03:32:33.235926Z"
    }
   },
   "outputs": [
    {
     "name": "stdout",
     "output_type": "stream",
     "text": [
      "[-5, 5, -2, 2, -8, 4, 7, 1, 8, 0]\n"
     ]
    }
   ],
   "source": [
    "arr = [-5, -2, 5, 2, 4, 7, 1, 8, 0, -8]\n",
    "print(rearrange(arr, len(arr)))"
   ]
  },
  {
   "cell_type": "markdown",
   "id": "d6a79dbe",
   "metadata": {},
   "source": [
    "**Question 6**\n",
    "\n",
    "**Merge two sorted arrays**\n",
    "\n",
    "Given two sorted arrays, the task is to merge them in a sorted manner.\n",
    "\n",
    "**Examples:**\n",
    "```py\n",
    "Input: arr1[] = { 1, 3, 4, 5}, arr2[] = {2, 4, 6, 8} \n",
    "Output: arr3[] = {1, 2, 3, 4, 4, 5, 6, 8}\n",
    "\n",
    "Input: arr1[] = { 5, 8, 9}, arr2[] = {4, 7, 8}\n",
    "Output: arr3[] = {4, 5, 7, 8, 8, 9}\n",
    "```"
   ]
  },
  {
   "cell_type": "code",
   "execution_count": 44,
   "id": "77ee457a",
   "metadata": {
    "ExecuteTime": {
     "end_time": "2023-06-22T03:35:37.438113Z",
     "start_time": "2023-06-22T03:35:37.428140Z"
    }
   },
   "outputs": [],
   "source": [
    "def mergeArrays(arr1, arr2):\n",
    "    n1 = len(arr1)\n",
    "    n2 = len(arr2)\n",
    "    i = 0  # Pointer for arr1\n",
    "    j = 0  # Pointer for arr2\n",
    "    k = 0  # Pointer for merged array\n",
    "    arr3 = [0] * (n1 + n2)  # Initialize the merged array with appropriate size\n",
    "\n",
    "    while i < n1 and j < n2:\n",
    "        if arr1[i] <= arr2[j]:\n",
    "            arr3[k] = arr1[i]\n",
    "            i += 1\n",
    "        else:\n",
    "            arr3[k] = arr2[j]\n",
    "            j += 1\n",
    "        k += 1\n",
    "\n",
    "    # Copy the remaining elements from arr1, if any\n",
    "    while i < n1:\n",
    "        arr3[k] = arr1[i]\n",
    "        i += 1\n",
    "        k += 1\n",
    "\n",
    "    # Copy the remaining elements from arr2, if any\n",
    "    while j < n2:\n",
    "        arr3[k] = arr2[j]\n",
    "        j += 1\n",
    "        k += 1\n",
    "\n",
    "    return arr3"
   ]
  },
  {
   "cell_type": "code",
   "execution_count": 45,
   "id": "7ad5983d",
   "metadata": {
    "ExecuteTime": {
     "end_time": "2023-06-22T03:35:45.515128Z",
     "start_time": "2023-06-22T03:35:45.500165Z"
    }
   },
   "outputs": [
    {
     "name": "stdout",
     "output_type": "stream",
     "text": [
      "[1, 2, 3, 4, 4, 5, 6, 8]\n"
     ]
    }
   ],
   "source": [
    "arr1 = [1, 3, 4, 5]\n",
    "arr2 = [2, 4, 6, 8]\n",
    "result1 = mergeArrays(arr1, arr2)\n",
    "print(result1) "
   ]
  },
  {
   "cell_type": "code",
   "execution_count": 46,
   "id": "3a80ece2",
   "metadata": {
    "ExecuteTime": {
     "end_time": "2023-06-22T03:35:50.037234Z",
     "start_time": "2023-06-22T03:35:50.022275Z"
    }
   },
   "outputs": [
    {
     "name": "stdout",
     "output_type": "stream",
     "text": [
      "[4, 5, 7, 8, 8, 9]\n"
     ]
    }
   ],
   "source": [
    "arr3 = [5, 8, 9]\n",
    "arr4 = [4, 7, 8]\n",
    "result2 = mergeArrays(arr3, arr4)\n",
    "print(result2)"
   ]
  },
  {
   "cell_type": "markdown",
   "id": "545e51d7",
   "metadata": {},
   "source": [
    "**Question 7**\n",
    "\n",
    "**Intersection of Two Arrays**\n",
    "\n",
    "Given two integer arrays `nums1` and `nums2`, return *an array of their intersection*. Each element in the result must be **unique** and you may return the result in **any order**.\n",
    "\n",
    "**Example 1:**\n",
    "\n",
    "```py\n",
    "Input: nums1 = [1,2,2,1], nums2 = [2,2]\n",
    "Output: [2]\n",
    "```\n",
    "\n",
    "**Example 2:**\n",
    "\n",
    "```py\n",
    "Input: nums1 = [4,9,5], nums2 = [9,4,9,8,4]\n",
    "Output: [9,4]\n",
    "Explanation: [4,9] is also accepted.\n",
    "```\n",
    "\n",
    "**Constraints:**\n",
    "\n",
    "- `1 <= nums1.length, nums2.length <= 1000`\n",
    "- `0 <= nums1[i], nums2[i] <= 1000`"
   ]
  },
  {
   "cell_type": "code",
   "execution_count": 47,
   "id": "340da1b1",
   "metadata": {
    "ExecuteTime": {
     "end_time": "2023-06-22T03:37:39.201463Z",
     "start_time": "2023-06-22T03:37:39.192489Z"
    }
   },
   "outputs": [],
   "source": [
    "def intersection(nums1, nums2):\n",
    "    set1 = set(nums1)\n",
    "    set2 = set(nums2)\n",
    "    return list(set1.intersection(set2))"
   ]
  },
  {
   "cell_type": "code",
   "execution_count": 48,
   "id": "fa1600c3",
   "metadata": {
    "ExecuteTime": {
     "end_time": "2023-06-22T03:37:45.217568Z",
     "start_time": "2023-06-22T03:37:45.200610Z"
    }
   },
   "outputs": [
    {
     "name": "stdout",
     "output_type": "stream",
     "text": [
      "[2]\n"
     ]
    }
   ],
   "source": [
    "nums1 = [1, 2, 2, 1]\n",
    "nums2 = [2, 2]\n",
    "result1 = intersection(nums1, nums2)\n",
    "print(result1)  "
   ]
  },
  {
   "cell_type": "code",
   "execution_count": 49,
   "id": "227d8b79",
   "metadata": {
    "ExecuteTime": {
     "end_time": "2023-06-22T03:37:46.936536Z",
     "start_time": "2023-06-22T03:37:46.925572Z"
    }
   },
   "outputs": [
    {
     "name": "stdout",
     "output_type": "stream",
     "text": [
      "[9, 4]\n"
     ]
    }
   ],
   "source": [
    "nums3 = [4, 9, 5]\n",
    "nums4 = [9, 4, 9, 8, 4]\n",
    "result2 = intersection(nums3, nums4)\n",
    "print(result2) "
   ]
  },
  {
   "cell_type": "markdown",
   "id": "d0abd3d9",
   "metadata": {},
   "source": [
    "**Question 8**\n",
    "\n",
    "**Intersection of Two Arrays II**\n",
    "\n",
    "Given two integer arrays `nums1` and `nums2`, return *an array of their intersection*. Each element in the result must appear as many times as it shows in both arrays and you may return the result in **any order**.\n",
    "\n",
    "**Example 1:**\n",
    "\n",
    "```py\n",
    "Input: nums1 = [1,2,2,1], nums2 = [2,2]\n",
    "Output: [2,2]\n",
    "```\n",
    "\n",
    "**Example 2:**\n",
    "\n",
    "```py\n",
    "Input: nums1 = [4,9,5], nums2 = [9,4,9,8,4]\n",
    "Output: [4,9]\n",
    "Explanation: [9,4] is also accepted.\n",
    "```\n",
    "\n",
    "**Constraints:**\n",
    "\n",
    "- `1 <= nums1.length, nums2.length <= 1000`\n",
    "- `0 <= nums1[i], nums2[i] <= 1000`"
   ]
  },
  {
   "cell_type": "code",
   "execution_count": 51,
   "id": "efad9580",
   "metadata": {
    "ExecuteTime": {
     "end_time": "2023-06-22T03:39:07.939410Z",
     "start_time": "2023-06-22T03:39:07.931434Z"
    }
   },
   "outputs": [],
   "source": [
    "from collections import Counter\n",
    "\n",
    "def intersect(nums1, nums2):\n",
    "    counter1 = Counter(nums1)\n",
    "    counter2 = Counter(nums2)\n",
    "    result = []\n",
    "    for num in counter1:\n",
    "        if num in counter2:\n",
    "            result.extend([num] * min(counter1[num], counter2[num]))\n",
    "    return result"
   ]
  },
  {
   "cell_type": "code",
   "execution_count": 52,
   "id": "f7402908",
   "metadata": {
    "ExecuteTime": {
     "end_time": "2023-06-22T03:39:15.200767Z",
     "start_time": "2023-06-22T03:39:15.184808Z"
    }
   },
   "outputs": [
    {
     "name": "stdout",
     "output_type": "stream",
     "text": [
      "[2, 2]\n"
     ]
    }
   ],
   "source": [
    "nums1 = [1, 2, 2, 1]\n",
    "nums2 = [2, 2]\n",
    "result1 = intersect(nums1, nums2)\n",
    "print(result1)"
   ]
  },
  {
   "cell_type": "code",
   "execution_count": 53,
   "id": "491c7a95",
   "metadata": {
    "ExecuteTime": {
     "end_time": "2023-06-22T03:39:17.498101Z",
     "start_time": "2023-06-22T03:39:17.483140Z"
    }
   },
   "outputs": [
    {
     "name": "stdout",
     "output_type": "stream",
     "text": [
      "[4, 9]\n"
     ]
    }
   ],
   "source": [
    "nums3 = [4, 9, 5]\n",
    "nums4 = [9, 4, 9, 8, 4]\n",
    "result2 = intersect(nums3, nums4)\n",
    "print(result2) "
   ]
  }
 ],
 "metadata": {
  "kernelspec": {
   "display_name": "Python 3 (ipykernel)",
   "language": "python",
   "name": "python3"
  },
  "language_info": {
   "codemirror_mode": {
    "name": "ipython",
    "version": 3
   },
   "file_extension": ".py",
   "mimetype": "text/x-python",
   "name": "python",
   "nbconvert_exporter": "python",
   "pygments_lexer": "ipython3",
   "version": "3.9.12"
  },
  "latex_envs": {
   "LaTeX_envs_menu_present": true,
   "autoclose": false,
   "autocomplete": true,
   "bibliofile": "biblio.bib",
   "cite_by": "apalike",
   "current_citInitial": 1,
   "eqLabelWithNumbers": true,
   "eqNumInitial": 1,
   "hotkeys": {
    "equation": "Ctrl-E",
    "itemize": "Ctrl-I"
   },
   "labels_anchors": false,
   "latex_user_defs": false,
   "report_style_numbering": false,
   "user_envs_cfg": false
  },
  "nbTranslate": {
   "displayLangs": [
    "*"
   ],
   "hotkey": "alt-t",
   "langInMainMenu": true,
   "sourceLang": "en",
   "targetLang": "fr",
   "useGoogleTranslate": true
  },
  "toc": {
   "base_numbering": 1,
   "nav_menu": {},
   "number_sections": true,
   "sideBar": true,
   "skip_h1_title": false,
   "title_cell": "Table of Contents",
   "title_sidebar": "Contents",
   "toc_cell": false,
   "toc_position": {},
   "toc_section_display": true,
   "toc_window_display": false
  },
  "varInspector": {
   "cols": {
    "lenName": 16,
    "lenType": 16,
    "lenVar": 40
   },
   "kernels_config": {
    "python": {
     "delete_cmd_postfix": "",
     "delete_cmd_prefix": "del ",
     "library": "var_list.py",
     "varRefreshCmd": "print(var_dic_list())"
    },
    "r": {
     "delete_cmd_postfix": ") ",
     "delete_cmd_prefix": "rm(",
     "library": "var_list.r",
     "varRefreshCmd": "cat(var_dic_list()) "
    }
   },
   "types_to_exclude": [
    "module",
    "function",
    "builtin_function_or_method",
    "instance",
    "_Feature"
   ],
   "window_display": false
  }
 },
 "nbformat": 4,
 "nbformat_minor": 5
}
