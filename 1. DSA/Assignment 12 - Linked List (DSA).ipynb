{
 "cells": [
  {
   "cell_type": "markdown",
   "id": "3c23ec05",
   "metadata": {},
   "source": [
    "![image](https://user-images.githubusercontent.com/57321948/196933065-4b16c235-f3b9-4391-9cfe-4affcec87c35.png)\n",
    "\n",
    "# Submitted by: Mohammad Wasiq\n",
    "\n",
    "## Email: `gl0427@myamu.ac.in`\n",
    "\n",
    "# DSA (Data Structures and Algorithms) Assignment 12 - Linked List"
   ]
  },
  {
   "cell_type": "markdown",
   "id": "5d6fb39c",
   "metadata": {},
   "source": [
    "**Question 1**\n",
    "- Given a singly linked list, delete middle of the linked list. For\n",
    "example, if given linked list is 1->2->3->4->5 then linked list\n",
    "should be modiﬁed to 1->2->4->5.If there are even nodes,\n",
    "then there would be two middle nodes, we need to delete the\n",
    "second middle element. For example, if given linked list is\n",
    "1->2->3->4->5->6 then it should be modiﬁed to\n",
    "1->2->3->5->6.If the input linked list is NULL or has 1 node,\n",
    "then it should return NULL\n",
    "- Example 1:\n",
    "Input: LinkedList: 1->2->3->4->5 Output:1 2 4 5\n",
    "- Example 2:\n",
    "Input: LinkedList: 2->4->6->7->5->1 Output:2 4 6\n",
    "5 1"
   ]
  },
  {
   "cell_type": "code",
   "execution_count": 1,
   "id": "bd6a7639",
   "metadata": {},
   "outputs": [],
   "source": [
    "class list_node:\n",
    "    def __init__(self, val=0, next=None):\n",
    "        self.val = val\n",
    "        self.next = next\n",
    "\n",
    "\n",
    "def delete_middle_node(head):\n",
    "    if head is None or head.next is None:\n",
    "        return None\n",
    "\n",
    "    slow_ptr = head\n",
    "    fast_ptr = head\n",
    "    prev_ptr = None\n",
    "\n",
    "    while fast_ptr is not None and fast_ptr.next is not None:\n",
    "        fast_ptr = fast_ptr.next.next\n",
    "        prev_ptr = slow_ptr\n",
    "        slow_ptr = slow_ptr.next\n",
    "\n",
    "    prev_ptr.next = slow_ptr.next\n",
    "\n",
    "    return head"
   ]
  },
  {
   "cell_type": "code",
   "execution_count": 3,
   "id": "002fdccc",
   "metadata": {},
   "outputs": [
    {
     "name": "stdout",
     "output_type": "stream",
     "text": [
      "1 2 4 5 "
     ]
    }
   ],
   "source": [
    "# Example:01\n",
    "# Create the linked list: 1 -> 2 -> 3 -> 4 -> 5\n",
    "head = list_node(1)\n",
    "head.next = list_node(2)\n",
    "head.next.next = list_node(3)\n",
    "head.next.next.next = list_node(4)\n",
    "head.next.next.next.next = list_node(5)\n",
    "\n",
    "# Delete the middle node(s)\n",
    "new_head = delete_middle_node(head)\n",
    "\n",
    "# Print the modified linked list\n",
    "while new_head is not None:\n",
    "    print(new_head.val, end=' ')\n",
    "    new_head = new_head.next      # Output: 1 2 4 5"
   ]
  },
  {
   "cell_type": "code",
   "execution_count": 4,
   "id": "9cafba3a",
   "metadata": {},
   "outputs": [
    {
     "name": "stdout",
     "output_type": "stream",
     "text": [
      "2 4 6 5 1 "
     ]
    }
   ],
   "source": [
    "# Example:02\n",
    "# Create the linked list: 2 -> 4 -> 6 -> 7 -> 5 -> 1\n",
    "head = list_node(2)\n",
    "head.next = list_node(4)\n",
    "head.next.next = list_node(6)\n",
    "head.next.next.next = list_node(7)\n",
    "head.next.next.next.next = list_node(5)\n",
    "head.next.next.next.next.next = list_node(1)\n",
    "\n",
    "# Delete the middle node(s)\n",
    "new_head = delete_middle_node(head)\n",
    "\n",
    "# Print the modified linked list\n",
    "while new_head is not None:\n",
    "    print(new_head.val, end=' ')\n",
    "    new_head = new_head.next     # Output: 2 4 6 5 1"
   ]
  },
  {
   "cell_type": "markdown",
   "id": "c791bac9",
   "metadata": {},
   "source": [
    "**Question 2**\n",
    "- Given a linked list of N nodes. The task is to check if the linked\n",
    "list has a loop. Linked list can contain self loop.\n",
    "- Example 1:\n",
    "Input: N = 3 value[] = {1,3,4} x(position at whi\n",
    "ch tail is connected) = 2 Output:True Explanatio\n",
    "n:In above test case N = 3. The linked list with\n",
    "nodes N = 3 is given. Then value of x=2 is given\n",
    "which means last node is connected with xth node\n",
    "of linked list. Therefore, there exists a loop.\n",
    "- Example 2:\n",
    "Input: N = 4 value[] = {1,8,3,4} x = 0 Output:Fa\n",
    "lse Explanation:For N = 4 ,x = 0 means then last\n",
    "Node->next = NULL, then the Linked list does not\n",
    "contains any loop."
   ]
  },
  {
   "cell_type": "code",
   "execution_count": 5,
   "id": "eca3ce83",
   "metadata": {},
   "outputs": [],
   "source": [
    "class list_node:\n",
    "    def __init__(self, val=0, next=None):\n",
    "        self.val = val\n",
    "        self.next = next\n",
    "\n",
    "\n",
    "def has_loop(head):\n",
    "    if head is None or head.next is None:\n",
    "        return False\n",
    "\n",
    "    slow_ptr = head\n",
    "    fast_ptr = head\n",
    "\n",
    "    while fast_ptr is not None and fast_ptr.next is not None:\n",
    "        slow_ptr = slow_ptr.next\n",
    "        fast_ptr = fast_ptr.next.next\n",
    "\n",
    "        if slow_ptr == fast_ptr:\n",
    "            return True\n",
    "\n",
    "    return False"
   ]
  },
  {
   "cell_type": "code",
   "execution_count": 6,
   "id": "9fb91fb8",
   "metadata": {},
   "outputs": [
    {
     "name": "stdout",
     "output_type": "stream",
     "text": [
      "True\n"
     ]
    }
   ],
   "source": [
    "# Example:01\n",
    "# Create the linked list: 1 -> 3 -> 4 -> 3 (loop)\n",
    "head = list_node(1)\n",
    "head.next = list_node(3)\n",
    "head.next.next = list_node(4)\n",
    "head.next.next.next = head.next\n",
    "\n",
    "# Check if the linked list has a loop\n",
    "has_loop_result = has_loop(head)\n",
    "print(has_loop_result)  # Output: True"
   ]
  },
  {
   "cell_type": "code",
   "execution_count": 7,
   "id": "80cb6740",
   "metadata": {},
   "outputs": [
    {
     "name": "stdout",
     "output_type": "stream",
     "text": [
      "False\n"
     ]
    }
   ],
   "source": [
    "# Example:02\n",
    "# Create the linked list: 1 -> 8 -> 3 -> 4\n",
    "head = list_node(1)\n",
    "head.next = list_node(8)\n",
    "head.next.next = list_node(3)\n",
    "head.next.next.next = list_node(4)\n",
    "\n",
    "# Check if the linked list has a loop\n",
    "has_loop_result = has_loop(head)\n",
    "print(has_loop_result)   # Output: False"
   ]
  },
  {
   "cell_type": "markdown",
   "id": "fe14ee64",
   "metadata": {},
   "source": [
    "**Question 3**\n",
    "- Given a linked list consisting of L nodes and given a\n",
    "number N. The task is to ﬁnd the Nth node from the end of the\n",
    "linked list.\n",
    "- Example 1:\n",
    "Input: N = 2 LinkedList: 1->2->3->4->5->6->7->8->9 Output:8 Explanation:In the first example, there are 9 nodes in linked list and we need to find 2nd node from end. 2nd node from end is 8.\n",
    "- Example 2:\n",
    "Input: N = 5 LinkedList: 10->5->100->5 Output:-1\n",
    "Explanation:In the second example, there are 4 n\n",
    "odes in the linked list and we need to find 5th\n",
    "from the end. Since 'n' is more than the number\n",
    "of nodes in the linked list, the output is -1."
   ]
  },
  {
   "cell_type": "code",
   "execution_count": 8,
   "id": "2965835e",
   "metadata": {},
   "outputs": [],
   "source": [
    "class list_node:\n",
    "    def __init__(self, val=0, next=None):\n",
    "        self.val = val\n",
    "        self.next = next\n",
    "\n",
    "\n",
    "def nth_node_from_end(head, n):\n",
    "    if head is None:\n",
    "        return -1\n",
    "\n",
    "    first_ptr = head\n",
    "    second_ptr = head\n",
    "\n",
    "    # Move the first pointer N nodes ahead\n",
    "    count = 0\n",
    "    while count < n:\n",
    "        if first_ptr is None:\n",
    "            return -1\n",
    "        first_ptr = first_ptr.next\n",
    "        count += 1\n",
    "\n",
    "    # Move both pointers until the first pointer reaches the end\n",
    "    while first_ptr is not None:\n",
    "        first_ptr = first_ptr.next\n",
    "        second_ptr = second_ptr.next\n",
    "\n",
    "    # If the second pointer is not NULL, return the value of the Nth node\n",
    "    if second_ptr is not None:\n",
    "        return second_ptr.val\n",
    "\n",
    "    return -1"
   ]
  },
  {
   "cell_type": "code",
   "execution_count": 9,
   "id": "abd14b99",
   "metadata": {},
   "outputs": [
    {
     "name": "stdout",
     "output_type": "stream",
     "text": [
      "8\n"
     ]
    }
   ],
   "source": [
    "# Example: 01\n",
    "# Create the linked list: 1 -> 2 -> 3 -> 4 -> 5 -> 6 -> 7 -> 8 -> 9\n",
    "head = list_node(1)\n",
    "head.next = list_node(2)\n",
    "head.next.next = list_node(3)\n",
    "head.next.next.next = list_node(4)\n",
    "head.next.next.next.next = list_node(5)\n",
    "head.next.next.next.next.next = list_node(6)\n",
    "head.next.next.next.next.next.next = list_node(7)\n",
    "head.next.next.next.next.next.next.next = list_node(8)\n",
    "head.next.next.next.next.next.next.next.next = list_node(9)\n",
    "\n",
    "# Find the 2nd node from the end\n",
    "result = nth_node_from_end(head, 2)\n",
    "print(result)  # Output: 8"
   ]
  },
  {
   "cell_type": "code",
   "execution_count": 10,
   "id": "45629bd5",
   "metadata": {},
   "outputs": [
    {
     "name": "stdout",
     "output_type": "stream",
     "text": [
      "-1\n"
     ]
    }
   ],
   "source": [
    "# Example: 02\n",
    "# Create the linked list: 10 -> 5 -> 100 -> 5\n",
    "head = list_node(10)\n",
    "head.next = list_node(5)\n",
    "head.next.next = list_node(100)\n",
    "head.next.next.next = list_node(5)\n",
    "\n",
    "# Find the 5th node from the end\n",
    "result = nth_node_from_end(head, 5)\n",
    "print(result)  # Output: -1"
   ]
  },
  {
   "cell_type": "markdown",
   "id": "c3791e5a",
   "metadata": {},
   "source": [
    "**Question 4**\n",
    "- Given a singly linked list of characters, write a function that\n",
    "returns true if the given list is a palindrome, else false.\n",
    "- Examples:\n",
    "- Input: R->A->D->A->R->NULL\n",
    "Output: Yes\n",
    "- Input: C->O->D->E->NULL\n",
    "Output: No"
   ]
  },
  {
   "cell_type": "code",
   "execution_count": 12,
   "id": "7891cbcc",
   "metadata": {},
   "outputs": [],
   "source": [
    "class list_node:\n",
    "    def __init__(self, val=0, next=None):\n",
    "        self.val = val\n",
    "        self.next = next\n",
    "\n",
    "\n",
    "def is_palindrome(head):\n",
    "    # Store the characters in an auxiliary data structure\n",
    "    chars = []\n",
    "    current = head\n",
    "    while current is not None:\n",
    "        chars.append(current.val)\n",
    "        current = current.next\n",
    "\n",
    "    # Check if the auxiliary data structure is a palindrome\n",
    "    start = 0\n",
    "    end = len(chars) - 1\n",
    "    while start < end:\n",
    "        if chars[start] != chars[end]:\n",
    "            return False\n",
    "        start += 1\n",
    "        end -= 1\n",
    "\n",
    "    return True"
   ]
  },
  {
   "cell_type": "code",
   "execution_count": 13,
   "id": "d3c4a341",
   "metadata": {},
   "outputs": [
    {
     "name": "stdout",
     "output_type": "stream",
     "text": [
      "True\n"
     ]
    }
   ],
   "source": [
    "# Example: 01\n",
    "# Create the linked list: R -> A -> D -> A -> R\n",
    "head = list_node('R')\n",
    "head.next = list_node('A')\n",
    "head.next.next = list_node('D')\n",
    "head.next.next.next = list_node('A')\n",
    "head.next.next.next.next = list_node('R')\n",
    "\n",
    "# Check if the linked list is a palindrome\n",
    "result = is_palindrome(head)\n",
    "print(result)  # Output: True"
   ]
  },
  {
   "cell_type": "code",
   "execution_count": 14,
   "id": "71c83094",
   "metadata": {},
   "outputs": [
    {
     "name": "stdout",
     "output_type": "stream",
     "text": [
      "False\n"
     ]
    }
   ],
   "source": [
    "# Example: 02\n",
    "# Create the linked list: C -> O -> D -> E\n",
    "head = list_node('C')\n",
    "head.next = list_node('O')\n",
    "head.next.next = list_node('D')\n",
    "head.next.next.next = list_node('E')\n",
    "\n",
    "# Check if the linked list is a palindrome\n",
    "result = is_palindrome(head)\n",
    "print(result)  # Output: False"
   ]
  },
  {
   "cell_type": "markdown",
   "id": "5c3a6544",
   "metadata": {},
   "source": [
    "**Question 5**\n",
    "- Given a linked list of N nodes such that it may contain a loop.\n",
    "A loop here means that the last node of the link list is\n",
    "connected to the node at position X(1-based index). If the link\n",
    "list does not have any loop, X=0.\n",
    "Remove the loop from the linked list, if it is present, i.e. unlink\n",
    "the last node which is forming the loop.\n",
    "- Example 1:\n",
    "Input: N = 3 value[] = {1,3,4} X = 2 Output:1 \n",
    "- Explanation:The link list looks like 1 -> 3 -> 4 to 3. A loop is present. If you remove it successfully, the answer will be 1.\n",
    "- Example 2:\n",
    "Input: N = 4 value[] = {1,8,3,4} X = 0 Output:1\n",
    "- Explanation:The Linked list does not contains any loop.\n",
    "- Example 3:\n",
    "Input: N = 4 value[] = {1,2,3,4} X = 1 Output:1\n",
    "- Explanation:The link list looks like 1 -> 2 -> 3-> 4 to 1. A loop is present. If you remove it successfully, the answer will be 1."
   ]
  },
  {
   "cell_type": "code",
   "execution_count": 104,
   "id": "4da2e58c",
   "metadata": {},
   "outputs": [],
   "source": [
    "class Node:\n",
    "    def __init__(self, data):\n",
    "        self.data = data\n",
    "        self.next = None\n",
    "\n",
    "def remove_loop(head):\n",
    "    if head is None or head.next is None:\n",
    "        return 0\n",
    "\n",
    "    slow_ptr = head\n",
    "    fast_ptr = head\n",
    "\n",
    "    # Move the pointers until they meet or reach the end of the linked list\n",
    "    while fast_ptr and fast_ptr.next:\n",
    "        slow_ptr = slow_ptr.next\n",
    "        fast_ptr = fast_ptr.next.next\n",
    "\n",
    "        if slow_ptr == fast_ptr:\n",
    "            # Loop detected, break the loop by setting the next pointer of the meeting point to None\n",
    "            slow_ptr = head\n",
    "            while slow_ptr.next != fast_ptr.next:\n",
    "                slow_ptr = slow_ptr.next\n",
    "                fast_ptr = fast_ptr.next\n",
    "            fast_ptr.next = None\n",
    "            return 1\n",
    "\n",
    "    return 0"
   ]
  },
  {
   "cell_type": "code",
   "execution_count": 105,
   "id": "18875f4a",
   "metadata": {},
   "outputs": [
    {
     "name": "stdout",
     "output_type": "stream",
     "text": [
      "1\n"
     ]
    }
   ],
   "source": [
    "# Example: 01\n",
    "head1 = Node(1)\n",
    "head1.next = Node(3)\n",
    "head1.next.next = Node(4)\n",
    "head1.next.next.next = head1.next  # Creating a loop\n",
    "\n",
    "print(remove_loop(head1))  # Output: 1"
   ]
  },
  {
   "cell_type": "code",
   "execution_count": 106,
   "id": "f242299b",
   "metadata": {},
   "outputs": [
    {
     "name": "stdout",
     "output_type": "stream",
     "text": [
      "0\n"
     ]
    }
   ],
   "source": [
    "# Example: 02\n",
    "head2 = Node(1)\n",
    "head2.next = Node(8)\n",
    "head2.next.next = Node(3)\n",
    "head2.next.next.next = Node(4)\n",
    "\n",
    "print(remove_loop(head2))  # Output: 0"
   ]
  },
  {
   "cell_type": "code",
   "execution_count": 107,
   "id": "14603c0f",
   "metadata": {},
   "outputs": [
    {
     "name": "stdout",
     "output_type": "stream",
     "text": [
      "1\n"
     ]
    }
   ],
   "source": [
    "# Example: 03\n",
    "head3 = Node(1)\n",
    "head3.next = Node(2)\n",
    "head3.next.next = Node(3)\n",
    "head3.next.next.next = Node(4)\n",
    "head3.next.next.next.next = head3  # Creating a loop\n",
    "\n",
    "print(remove_loop(head3))  # Output: 1"
   ]
  },
  {
   "cell_type": "markdown",
   "id": "a8b91bd5",
   "metadata": {},
   "source": [
    "**Question 6**\n",
    "- Given a linked list and two integers M and N. Traverse the\n",
    "linked list such that you retain M nodes then delete next N\n",
    "nodes, continue the same till end of the linked list.\n",
    "Diﬃculty Level: Rookie\n",
    "- Examples:\n",
    "- Input: M = 2, N = 2 Linked List: 1->2->3->4->5->\n",
    "6->7->8 Output: Linked List: 1->2->5->6 \n",
    "- Input: M\n",
    "= 3, N = 2 Linked List: 1->2->3->4->5->6->7->8->\n",
    "9->10 Output: Linked List: 1->2->3->6->7->8 \n",
    "- Input: M = 1, N = 1 Linked List: 1->2->3->4->5->6->7\n",
    "->8->9->10 Output: Linked List: 1->3->5->7->9"
   ]
  },
  {
   "cell_type": "code",
   "execution_count": 47,
   "id": "454ace0e",
   "metadata": {},
   "outputs": [],
   "source": [
    "class list_node:\n",
    "    def __init__(self, val=0, next=None):\n",
    "        self.val = val\n",
    "        self.next = next\n",
    "\n",
    "\n",
    "def retain_and_delete(head, M, N):\n",
    "    if M == 0 or N == 0:\n",
    "        return None\n",
    "\n",
    "    current = head\n",
    "    previous = None\n",
    "\n",
    "    while current is not None:\n",
    "        # Retain M nodes\n",
    "        count = 0\n",
    "        while count < M and current is not None:\n",
    "            previous = current\n",
    "            current = current.next\n",
    "            count += 1\n",
    "\n",
    "        # Delete N nodes\n",
    "        count = 0\n",
    "        while count < N and current is not None:\n",
    "            current = current.next\n",
    "            count += 1\n",
    "\n",
    "        # Update previous pointer\n",
    "        previous.next = current\n",
    "\n",
    "    return head"
   ]
  },
  {
   "cell_type": "code",
   "execution_count": 21,
   "id": "a5fadc73",
   "metadata": {},
   "outputs": [
    {
     "name": "stdout",
     "output_type": "stream",
     "text": [
      "1 2 5 6 "
     ]
    }
   ],
   "source": [
    "# Example:01\n",
    "# Create the linked list: 1->2->3->4->5->6->7->8\n",
    "head = list_node(1)\n",
    "head.next = list_node(2)\n",
    "head.next.next = list_node(3)\n",
    "head.next.next.next = list_node(4)\n",
    "head.next.next.next.next = list_node(5)\n",
    "head.next.next.next.next.next = list_node(6)\n",
    "head.next.next.next.next.next.next = list_node(7)\n",
    "head.next.next.next.next.next.next.next = list_node(8)\n",
    "\n",
    "M = 2\n",
    "N = 2\n",
    "\n",
    "# Retain and delete nodes\n",
    "new_head = retain_and_delete(head, M, N)\n",
    "\n",
    "# Print the modified linked list\n",
    "while new_head is not None:\n",
    "    print(new_head.val, end=' ')\n",
    "    new_head = new_head.next  # Output: 1 2 5 6"
   ]
  },
  {
   "cell_type": "code",
   "execution_count": 25,
   "id": "d77e13b1",
   "metadata": {},
   "outputs": [
    {
     "name": "stdout",
     "output_type": "stream",
     "text": [
      "1 2 3 6 7 8 "
     ]
    }
   ],
   "source": [
    "# Example:02\n",
    "# Create the linked list: 1->2->3->4->5->6->7->8->9->10\n",
    "head = list_node(1)\n",
    "head.next = list_node(2)\n",
    "head.next.next = list_node(3)\n",
    "head.next.next.next = list_node(4)\n",
    "head.next.next.next.next = list_node(5)\n",
    "head.next.next.next.next.next = list_node(6)\n",
    "head.next.next.next.next.next.next = list_node(7)\n",
    "head.next.next.next.next.next.next.next = list_node(8)\n",
    "head.next.next.next.next.next.next.next.next = list_node(9)\n",
    "head.next.next.next.next.next.next.next.next.next = list_node(10)\n",
    "\n",
    "M = 3\n",
    "N = 2\n",
    "\n",
    "# Retain and delete nodes\n",
    "new_head = retain_and_delete(head, M, N)\n",
    "\n",
    "# Print the modified linked list\n",
    "while new_head is not None:\n",
    "    print(new_head.val, end=' ')\n",
    "    new_head = new_head.next  # Output: 1->2->3->6->7->8"
   ]
  },
  {
   "cell_type": "code",
   "execution_count": 26,
   "id": "5dd3d774",
   "metadata": {},
   "outputs": [
    {
     "name": "stdout",
     "output_type": "stream",
     "text": [
      "1 3 5 7 9 "
     ]
    }
   ],
   "source": [
    "# Example:03\n",
    "# Create the linked list: 1->2->3->4->5->6->7->8\n",
    "head = list_node(1)\n",
    "head.next = list_node(2)\n",
    "head.next.next = list_node(3)\n",
    "head.next.next.next = list_node(4)\n",
    "head.next.next.next.next = list_node(5)\n",
    "head.next.next.next.next.next = list_node(6)\n",
    "head.next.next.next.next.next.next = list_node(7)\n",
    "head.next.next.next.next.next.next.next = list_node(8)\n",
    "head.next.next.next.next.next.next.next.next = list_node(9)\n",
    "head.next.next.next.next.next.next.next.next.next = list_node(10)\n",
    "\n",
    "M = 1\n",
    "N = 1\n",
    "\n",
    "# Retain and delete nodes\n",
    "new_head = retain_and_delete(head, M, N)\n",
    "\n",
    "# Print the modified linked list\n",
    "while new_head is not None:\n",
    "    print(new_head.val, end=' ')\n",
    "    new_head = new_head.next  # Output: 1->3->5->7->9"
   ]
  },
  {
   "cell_type": "markdown",
   "id": "ebdd143a",
   "metadata": {},
   "source": [
    "**Question 7**\n",
    "- Given two linked lists, insert nodes of second list into ﬁrst list\n",
    "at alternate positions of ﬁrst list.\n",
    "- For example, if ﬁrst list is 5->7->17->13->11 and second is\n",
    "12->10->2->4->6, the ﬁrst list should become\n",
    "5->12->7->10->17->2->13->4->11->6 and second list should\n",
    "become empty. The nodes of second list should only be\n",
    "inserted when there are positions available. \n",
    "- For example, if the\n",
    "ﬁrst list is 1->2->3 and second list is 4->5->6->7->8, then ﬁrst\n",
    "list should become 1->4->2->5->3->6 and second list to 7->8.\n",
    "- Use of extra space is not allowed (Not allowed to create\n",
    "additional nodes), i.e., insertion must be done in-place.\n",
    "- Expected time complexity is O(n) where n is number of nodes\n",
    "in ﬁrst list."
   ]
  },
  {
   "cell_type": "code",
   "execution_count": 96,
   "id": "717d830f",
   "metadata": {},
   "outputs": [],
   "source": [
    "class Node:\n",
    "    def __init__(self, data):\n",
    "        self.data = data\n",
    "        self.next = None\n",
    "\n",
    "def insert_at_alternate_positions(first, second):\n",
    "    if not second:  # If the second list is empty, no insertion is needed\n",
    "        return first, None\n",
    "\n",
    "    if not first:  # If the first list is empty, return the second list\n",
    "        return None, second\n",
    "\n",
    "    firstPtr = first\n",
    "    secondPtr = second\n",
    "\n",
    "    while firstPtr and secondPtr:\n",
    "        nextFirst = firstPtr.next\n",
    "        nextSecond = secondPtr.next\n",
    "\n",
    "        firstPtr.next = secondPtr\n",
    "        secondPtr.next = nextFirst\n",
    "\n",
    "        firstPtr = nextFirst\n",
    "        secondPtr = nextSecond\n",
    "\n",
    "    return first, secondPtr"
   ]
  },
  {
   "cell_type": "code",
   "execution_count": 97,
   "id": "956f4d14",
   "metadata": {},
   "outputs": [],
   "source": [
    "# Given Use Case:\n",
    "# Create the first linked list: 1 -> 2 -> 3\n",
    "first = Node(1)\n",
    "first.next = Node(2)\n",
    "first.next.next = Node(3)\n",
    "\n",
    "# Create the second linked list: 4 -> 5 -> 6 -> 7 -> 8\n",
    "second = Node(4)\n",
    "second.next = Node(5)\n",
    "second.next.next = Node(6)\n",
    "second.next.next.next = Node(7)\n",
    "second.next.next.next.next = Node(8)\n",
    "\n",
    "# Insert nodes of the second list into the first list at alternate positions\n",
    "result_first, result_second = insert_at_alternate_positions(first, second)"
   ]
  },
  {
   "cell_type": "code",
   "execution_count": 98,
   "id": "8db3a9bf",
   "metadata": {},
   "outputs": [
    {
     "name": "stdout",
     "output_type": "stream",
     "text": [
      "1 4 2 5 3 6 "
     ]
    }
   ],
   "source": [
    "# Print the modified first list\n",
    "current = result_first\n",
    "while current:\n",
    "    print(current.data, end=\" \")\n",
    "    current = current.next\n",
    "# Output: 1 4 2 5 3 6"
   ]
  },
  {
   "cell_type": "code",
   "execution_count": 99,
   "id": "cb52a2eb",
   "metadata": {},
   "outputs": [
    {
     "name": "stdout",
     "output_type": "stream",
     "text": [
      "7 8 "
     ]
    }
   ],
   "source": [
    "# Print the remaining nodes of the second list\n",
    "current = result_second\n",
    "while current:\n",
    "    print(current.data, end=\" \")\n",
    "    current = current.next\n",
    "# Output: 7 8"
   ]
  },
  {
   "cell_type": "markdown",
   "id": "b30e86f8",
   "metadata": {},
   "source": [
    "**Question 8**\n",
    "- Given a singly linked list, ﬁnd if the linked list is circular or not.A linked list is called circular if it is not NULL-terminated and all nodes are connected in the form of a cycle. \n",
    "- Below is an example of a circular linked list.\n",
    "- 10 > 12 > 14 > 16 > 10"
   ]
  },
  {
   "cell_type": "code",
   "execution_count": 62,
   "id": "c600d7de",
   "metadata": {},
   "outputs": [],
   "source": [
    "class Node:\n",
    "    def __init__(self, data):\n",
    "        self.data = data\n",
    "        self.next = None\n",
    "\n",
    "def is_circular(head):\n",
    "    if not head or not head.next:\n",
    "        return False\n",
    "\n",
    "    slow = head\n",
    "    fast = head.next\n",
    "\n",
    "    while fast and fast.next:\n",
    "        if fast == slow:\n",
    "            return True\n",
    "        slow = slow.next\n",
    "        fast = fast.next.next\n",
    "\n",
    "    return False"
   ]
  },
  {
   "cell_type": "code",
   "execution_count": 63,
   "id": "e9a69bec",
   "metadata": {},
   "outputs": [
    {
     "name": "stdout",
     "output_type": "stream",
     "text": [
      "True\n"
     ]
    }
   ],
   "source": [
    "# Create the circular linked list: 10->12->14->16->10\n",
    "head = Node(10)\n",
    "head.next = Node(12)\n",
    "head.next.next = Node(14)\n",
    "head.next.next.next = Node(16)\n",
    "head.next.next.next.next = head  # Make it circular\n",
    "\n",
    "# Check if the linked list is circular\n",
    "circular = is_circular(head)\n",
    "print(circular)  # Output: True"
   ]
  },
  {
   "cell_type": "code",
   "execution_count": null,
   "id": "547c30e2",
   "metadata": {},
   "outputs": [],
   "source": []
  }
 ],
 "metadata": {
  "kernelspec": {
   "display_name": "Python 3 (ipykernel)",
   "language": "python",
   "name": "python3"
  },
  "language_info": {
   "codemirror_mode": {
    "name": "ipython",
    "version": 3
   },
   "file_extension": ".py",
   "mimetype": "text/x-python",
   "name": "python",
   "nbconvert_exporter": "python",
   "pygments_lexer": "ipython3",
   "version": "3.9.12"
  },
  "latex_envs": {
   "LaTeX_envs_menu_present": true,
   "autoclose": false,
   "autocomplete": true,
   "bibliofile": "biblio.bib",
   "cite_by": "apalike",
   "current_citInitial": 1,
   "eqLabelWithNumbers": true,
   "eqNumInitial": 1,
   "hotkeys": {
    "equation": "Ctrl-E",
    "itemize": "Ctrl-I"
   },
   "labels_anchors": false,
   "latex_user_defs": false,
   "report_style_numbering": false,
   "user_envs_cfg": false
  },
  "nbTranslate": {
   "displayLangs": [
    "*"
   ],
   "hotkey": "alt-t",
   "langInMainMenu": true,
   "sourceLang": "en",
   "targetLang": "fr",
   "useGoogleTranslate": true
  },
  "toc": {
   "base_numbering": 1,
   "nav_menu": {},
   "number_sections": true,
   "sideBar": true,
   "skip_h1_title": false,
   "title_cell": "Table of Contents",
   "title_sidebar": "Contents",
   "toc_cell": false,
   "toc_position": {},
   "toc_section_display": true,
   "toc_window_display": false
  },
  "varInspector": {
   "cols": {
    "lenName": 16,
    "lenType": 16,
    "lenVar": 40
   },
   "kernels_config": {
    "python": {
     "delete_cmd_postfix": "",
     "delete_cmd_prefix": "del ",
     "library": "var_list.py",
     "varRefreshCmd": "print(var_dic_list())"
    },
    "r": {
     "delete_cmd_postfix": ") ",
     "delete_cmd_prefix": "rm(",
     "library": "var_list.r",
     "varRefreshCmd": "cat(var_dic_list()) "
    }
   },
   "types_to_exclude": [
    "module",
    "function",
    "builtin_function_or_method",
    "instance",
    "_Feature"
   ],
   "window_display": false
  }
 },
 "nbformat": 4,
 "nbformat_minor": 5
}
