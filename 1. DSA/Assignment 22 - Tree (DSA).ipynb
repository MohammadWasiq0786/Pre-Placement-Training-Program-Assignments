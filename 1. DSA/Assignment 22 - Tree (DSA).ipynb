{
 "cells": [
  {
   "cell_type": "markdown",
   "id": "52498939",
   "metadata": {},
   "source": [
    "![image](https://user-images.githubusercontent.com/57321948/196933065-4b16c235-f3b9-4391-9cfe-4affcec87c35.png)\n",
    "\n",
    "# Submitted by: Mohammad Wasiq\n",
    "\n",
    "## Email: `gl0427@myamu.ac.in`\n",
    "\n",
    "# DSA (Data Structures and Algorithms) Assignment 22 - Tree"
   ]
  },
  {
   "cell_type": "markdown",
   "id": "9bd21152",
   "metadata": {},
   "source": [
    "**Q1. Given a Binary Tree (Bt), convert it to a Doubly Linked List(DLL). The left and right pointers in nodes are to be used as previous and next pointers respectively in converted DLL. The order of nodes in DLL must be the same as in Inorder for the given Binary Tree. The first node of Inorder traversal (leftmost node in BT) must be the head node of the DLL.**\n",
    "\n",
    "Example: \n",
    "\n",
    "\n",
    "![img](https://s3-us-west-2.amazonaws.com/secure.notion-static.com/f9dda6ae-60b9-427b-990f-dc5b3117a5e3/Untitled.png)\n",
    "\n",
    "**Ans :**"
   ]
  },
  {
   "cell_type": "code",
   "execution_count": 1,
   "id": "b9277147",
   "metadata": {
    "ExecuteTime": {
     "end_time": "2023-07-01T07:11:27.348068Z",
     "start_time": "2023-07-01T07:11:27.322138Z"
    }
   },
   "outputs": [
    {
     "name": "stdout",
     "output_type": "stream",
     "text": [
      "5 10 15 20 30 \n"
     ]
    }
   ],
   "source": [
    "class TreeNode:\n",
    "    def __init__(self, val=0, left=None, right=None):\n",
    "        self.val = val\n",
    "        self.left = left\n",
    "        self.right = right\n",
    "\n",
    "def convertToDoublyLinkedList(root):\n",
    "    def convertUtil(node):\n",
    "        nonlocal prev, head\n",
    "\n",
    "        if node is None:\n",
    "            return\n",
    "\n",
    "        convertUtil(node.left)\n",
    "\n",
    "        if prev is None:\n",
    "            head = node\n",
    "        else:\n",
    "            prev.right = node\n",
    "            node.left = prev\n",
    "\n",
    "        prev = node\n",
    "\n",
    "        convertUtil(node.right)\n",
    "\n",
    "    head = None\n",
    "    prev = None\n",
    "    convertUtil(root)\n",
    "\n",
    "    return head\n",
    "\n",
    "# Helper function to print the doubly linked list\n",
    "def printDoublyLinkedList(head):\n",
    "    current = head\n",
    "    while current:\n",
    "        print(current.val, end=\" \")\n",
    "        current = current.right\n",
    "    print()\n",
    "\n",
    "# Example\n",
    "root = TreeNode(10)\n",
    "root.left = TreeNode(5)\n",
    "root.right = TreeNode(20)\n",
    "root.right.left = TreeNode(15)\n",
    "root.right.right = TreeNode(30)\n",
    "\n",
    "doubly_linked_list_head = convertToDoublyLinkedList(root)\n",
    "\n",
    "print(DoublyLinkedList(doubly_linked_list_head))"
   ]
  },
  {
   "cell_type": "markdown",
   "id": "bb8d81da",
   "metadata": {},
   "source": [
    "**Q2. A Given a binary tree, the task is to flip the binary tree towards the right direction that is clockwise. See the below examples to see the transformation.**\n",
    "\n",
    "In the flip operation, the leftmost node becomes the root of the flipped tree and its parent becomes its right child and the right sibling becomes its left child and the same should be done for all left most nodes recursively.\n",
    "\n",
    "Example1:\n",
    "\n",
    "![im](https://s3-us-west-2.amazonaws.com/secure.notion-static.com/a5f5bbbe-8607-4f17-9ab4-b31327ffa2d0/Untitled.png)\n",
    "\n",
    "Example2:\n",
    "\n",
    "![mg](https://s3-us-west-2.amazonaws.com/secure.notion-static.com/063636b4-9f35-4524-b6d9-c97e30cac510/Untitled.png)\n",
    "\n",
    "**Ans :**"
   ]
  },
  {
   "cell_type": "code",
   "execution_count": 2,
   "id": "1efbe51d",
   "metadata": {
    "ExecuteTime": {
     "end_time": "2023-07-01T07:12:58.822842Z",
     "start_time": "2023-07-01T07:12:58.790927Z"
    }
   },
   "outputs": [
    {
     "name": "stdout",
     "output_type": "stream",
     "text": [
      "4 5 2 3 1 4 5 2 3 6 7 1 "
     ]
    }
   ],
   "source": [
    "class TreeNode:\n",
    "    def __init__(self, val=0, left=None, right=None):\n",
    "        self.val = val\n",
    "        self.left = left\n",
    "        self.right = right\n",
    "\n",
    "def flipBinaryTree(root):\n",
    "    if root is None:\n",
    "        return root\n",
    "\n",
    "    if root.left is None and root.right is None:\n",
    "        return root\n",
    "\n",
    "    flipped_root = flipBinaryTree(root.left)\n",
    "\n",
    "    root.left.left = root.right\n",
    "    root.left.right = root\n",
    "\n",
    "    root.left = None\n",
    "    root.right = None\n",
    "\n",
    "    return flipped_root\n",
    "\n",
    "# Helper function to print the binary tree\n",
    "def printBinaryTree(root):\n",
    "    if root is None:\n",
    "        return\n",
    "\n",
    "    print(root.val, end=\" \")\n",
    "\n",
    "    printBinaryTree(root.left)\n",
    "    printBinaryTree(root.right)\n",
    "\n",
    "# Example 1\n",
    "root1 = TreeNode(1)\n",
    "root1.left = TreeNode(2)\n",
    "root1.right = TreeNode(3)\n",
    "root1.left.left = TreeNode(4)\n",
    "root1.left.right = TreeNode(5)\n",
    "\n",
    "flipped_root1 = flipBinaryTree(root1)\n",
    "\n",
    "printBinaryTree(flipped_root1)\n",
    "# Output: 4 2 5 1 3\n",
    "\n",
    "# Example 2\n",
    "root2 = TreeNode(1)\n",
    "root2.left = TreeNode(2)\n",
    "root2.right = TreeNode(3)\n",
    "root2.left.left = TreeNode(4)\n",
    "root2.left.right = TreeNode(5)\n",
    "root2.right.left = TreeNode(6)\n",
    "root2.right.right = TreeNode(7)\n",
    "\n",
    "flipped_root2 = flipBinaryTree(root2)\n",
    "\n",
    "printBinaryTree(flipped_root2)"
   ]
  },
  {
   "cell_type": "markdown",
   "id": "52a81dca",
   "metadata": {},
   "source": [
    "**Q3. Given a binary tree, print all its root-to-leaf paths without using recursion. For example, consider the following Binary Tree.**\n",
    "\n",
    "Input:\n",
    "```\n",
    "\n",
    "        6\n",
    "     /    \\\n",
    "    3      5\n",
    "  /   \\     \\\n",
    " 2     5     4\n",
    "     /   \\\n",
    "    7     4\n",
    "```\n",
    "Output:\n",
    "\n",
    "There are 4 leaves, hence 4 root to leaf paths -\n",
    "```\n",
    "  6->3->2\n",
    "  6->3->5->7\n",
    "  6->3->5->4\n",
    "  6->5>4\n",
    "```\n",
    "\n",
    "**Ans :**"
   ]
  },
  {
   "cell_type": "code",
   "execution_count": 3,
   "id": "3d45c3b3",
   "metadata": {
    "ExecuteTime": {
     "end_time": "2023-07-01T07:14:15.057668Z",
     "start_time": "2023-07-01T07:14:15.028760Z"
    }
   },
   "outputs": [
    {
     "name": "stdout",
     "output_type": "stream",
     "text": [
      "6->3->2\n",
      "6->3->5->7\n",
      "6->3->5->4\n",
      "6->5->4\n"
     ]
    }
   ],
   "source": [
    "class TreeNode:\n",
    "    def __init__(self, val=0, left=None, right=None):\n",
    "        self.val = val\n",
    "        self.left = left\n",
    "        self.right = right\n",
    "\n",
    "def printRootToLeafPaths(root):\n",
    "    if root is None:\n",
    "        return\n",
    "\n",
    "    stack = [(root, str(root.val))]\n",
    "\n",
    "    while stack:\n",
    "        node, path = stack.pop()\n",
    "\n",
    "        if node.left is None and node.right is None:\n",
    "            print(path)\n",
    "        \n",
    "        if node.right:\n",
    "            stack.append((node.right, path + \"->\" + str(node.right.val)))\n",
    "        if node.left:\n",
    "            stack.append((node.left, path + \"->\" + str(node.left.val)))\n",
    "\n",
    "# Example\n",
    "root = TreeNode(6)\n",
    "root.left = TreeNode(3)\n",
    "root.right = TreeNode(5)\n",
    "root.left.left = TreeNode(2)\n",
    "root.left.right = TreeNode(5)\n",
    "root.right.right = TreeNode(4)\n",
    "root.left.right.left = TreeNode(7)\n",
    "root.left.right.right = TreeNode(4)\n",
    "\n",
    "print(RootToLeafPaths(root))"
   ]
  },
  {
   "cell_type": "markdown",
   "id": "9dae61e4",
   "metadata": {},
   "source": [
    "**Q4. Given Preorder, Inorder and Postorder traversals of some tree. Write a program to check if they all are of the same tree.**\n",
    "\n",
    "**Examples:**\n",
    "\n",
    "Input : \n",
    "```\n",
    "\n",
    "        Inorder -> 4 2 5 1 3\n",
    "        Preorder -> 1 2 4 5 3\n",
    "        Postorder -> 4 5 2 3 1\n",
    "```\n",
    "Output : \n",
    "\n",
    "Yes\n",
    "\n",
    "Explanation : \n",
    "\n",
    "All of the above three traversals are of the same tree\n",
    "```\n",
    "\n",
    "                           1\n",
    "                         /   \\\n",
    "                        2     3\n",
    "                      /   \\\n",
    "                     4     5\n",
    "\n",
    "```\n",
    "Input : \n",
    "```\n",
    "        Inorder -> 4 2 5 1 3\n",
    "        Preorder -> 1 5 4 2 3\n",
    "        Postorder -> 4 1 2 3 5\n",
    "```\n",
    "Output : \n",
    "\n",
    "No\n",
    "\n",
    "**Ans :**"
   ]
  },
  {
   "cell_type": "code",
   "execution_count": 5,
   "id": "18df70cf",
   "metadata": {
    "ExecuteTime": {
     "end_time": "2023-07-01T07:16:00.239214Z",
     "start_time": "2023-07-01T07:16:00.215294Z"
    }
   },
   "outputs": [
    {
     "name": "stdout",
     "output_type": "stream",
     "text": [
      "False\n"
     ]
    }
   ],
   "source": [
    "def checkTraversal(inorder, preorder, postorder):\n",
    "    if len(inorder) != len(preorder) or len(inorder) != len(postorder):\n",
    "        return False\n",
    "\n",
    "    if len(inorder) == 0:\n",
    "        return True\n",
    "\n",
    "    if len(inorder) == 1 and inorder[0] == preorder[0] == postorder[0]:\n",
    "        return True\n",
    "\n",
    "    if preorder[0] != postorder[-1]:\n",
    "        return False\n",
    "\n",
    "    root = preorder[0]\n",
    "    idx = inorder.index(root)\n",
    "\n",
    "    if inorder[:idx] != postorder[:idx]:\n",
    "        return False\n",
    "\n",
    "    return checkTraversal(inorder[idx+1:], preorder[idx+1:], postorder[idx:-1]) and \\\n",
    "           checkTraversal(inorder[:idx], preorder[1:idx+1], postorder[:idx])\n",
    "\n",
    "\n",
    "inorder2 = [4, 2, 5, 1, 3]\n",
    "preorder2 = [1, 5, 4, 2, 3]\n",
    "postorder2 = [4, 1, 2, 3, 5]\n",
    "print(checkTraversal(inorder2, preorder2, postorder2))"
   ]
  }
 ],
 "metadata": {
  "kernelspec": {
   "display_name": "Python 3 (ipykernel)",
   "language": "python",
   "name": "python3"
  },
  "language_info": {
   "codemirror_mode": {
    "name": "ipython",
    "version": 3
   },
   "file_extension": ".py",
   "mimetype": "text/x-python",
   "name": "python",
   "nbconvert_exporter": "python",
   "pygments_lexer": "ipython3",
   "version": "3.9.12"
  },
  "latex_envs": {
   "LaTeX_envs_menu_present": true,
   "autoclose": false,
   "autocomplete": true,
   "bibliofile": "biblio.bib",
   "cite_by": "apalike",
   "current_citInitial": 1,
   "eqLabelWithNumbers": true,
   "eqNumInitial": 1,
   "hotkeys": {
    "equation": "Ctrl-E",
    "itemize": "Ctrl-I"
   },
   "labels_anchors": false,
   "latex_user_defs": false,
   "report_style_numbering": false,
   "user_envs_cfg": false
  },
  "nbTranslate": {
   "displayLangs": [
    "*"
   ],
   "hotkey": "alt-t",
   "langInMainMenu": true,
   "sourceLang": "en",
   "targetLang": "fr",
   "useGoogleTranslate": true
  },
  "toc": {
   "base_numbering": 1,
   "nav_menu": {},
   "number_sections": true,
   "sideBar": true,
   "skip_h1_title": false,
   "title_cell": "Table of Contents",
   "title_sidebar": "Contents",
   "toc_cell": false,
   "toc_position": {},
   "toc_section_display": true,
   "toc_window_display": false
  },
  "varInspector": {
   "cols": {
    "lenName": 16,
    "lenType": 16,
    "lenVar": 40
   },
   "kernels_config": {
    "python": {
     "delete_cmd_postfix": "",
     "delete_cmd_prefix": "del ",
     "library": "var_list.py",
     "varRefreshCmd": "print(var_dic_list())"
    },
    "r": {
     "delete_cmd_postfix": ") ",
     "delete_cmd_prefix": "rm(",
     "library": "var_list.r",
     "varRefreshCmd": "cat(var_dic_list()) "
    }
   },
   "types_to_exclude": [
    "module",
    "function",
    "builtin_function_or_method",
    "instance",
    "_Feature"
   ],
   "window_display": false
  }
 },
 "nbformat": 4,
 "nbformat_minor": 5
}
