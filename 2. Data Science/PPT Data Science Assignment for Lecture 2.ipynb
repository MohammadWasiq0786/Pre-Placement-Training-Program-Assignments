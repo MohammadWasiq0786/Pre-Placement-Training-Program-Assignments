{
 "cells": [
  {
   "cell_type": "markdown",
   "id": "d23700c3",
   "metadata": {},
   "source": [
    "![image](https://user-images.githubusercontent.com/57321948/196933065-4b16c235-f3b9-4391-9cfe-4affcec87c35.png)\n",
    "\n",
    "# Submitted by: Mohammad Wasiq\n",
    "\n",
    "## Email: `gl0427@myamu.ac.in`\n",
    "\n",
    "# Pre-Placement Training Assignment - `Data Science` "
   ]
  },
  {
   "cell_type": "markdown",
   "id": "ac39ceda",
   "metadata": {},
   "source": [
    "**Q1. Write a Python program to reverse a string without using any built-in string reversal functions.**"
   ]
  },
  {
   "cell_type": "code",
   "execution_count": 1,
   "id": "916004f7",
   "metadata": {
    "ExecuteTime": {
     "end_time": "2023-07-01T08:10:23.737586Z",
     "start_time": "2023-07-01T08:10:23.715645Z"
    }
   },
   "outputs": [
    {
     "name": "stdout",
     "output_type": "stream",
     "text": [
      "!dlroW ,olleH\n"
     ]
    }
   ],
   "source": [
    "def reverse_string(string):\n",
    "    string = list(string)  # Convert string to list of characters\n",
    "    left = 0\n",
    "    right = len(string) - 1\n",
    "\n",
    "    while left < right:\n",
    "        string[left], string[right] = string[right], string[left]\n",
    "        left += 1\n",
    "        right -= 1\n",
    "\n",
    "    return ''.join(string)  # Convert list of characters back to string\n",
    "\n",
    "print(reverse_string(\"Hello, World!\")) "
   ]
  },
  {
   "cell_type": "markdown",
   "id": "d0bda51b",
   "metadata": {},
   "source": [
    "**Q2. Implement a function to check if a given string is a palindrome.**"
   ]
  },
  {
   "cell_type": "code",
   "execution_count": 2,
   "id": "0d96a20d",
   "metadata": {
    "ExecuteTime": {
     "end_time": "2023-07-01T08:11:38.144829Z",
     "start_time": "2023-07-01T08:11:38.128872Z"
    }
   },
   "outputs": [
    {
     "name": "stdout",
     "output_type": "stream",
     "text": [
      "True\n",
      "False\n",
      "True\n",
      "True\n"
     ]
    }
   ],
   "source": [
    "def is_palindrome(string):\n",
    "    left = 0\n",
    "    right = len(string) - 1\n",
    "\n",
    "    while left < right:\n",
    "        if string[left] != string[right]:\n",
    "            return False\n",
    "        left += 1\n",
    "        right -= 1\n",
    "\n",
    "    return True\n",
    "\n",
    "print(is_palindrome(\"radar\"))  \n",
    "print(is_palindrome(\"hello\")) \n",
    "print(is_palindrome(\"level\"))  \n",
    "print(is_palindrome(\"noon\"))   "
   ]
  },
  {
   "cell_type": "markdown",
   "id": "6af90134",
   "metadata": {},
   "source": [
    "**Q3. Write a program to find the largest element in a given list.**"
   ]
  },
  {
   "cell_type": "code",
   "execution_count": 3,
   "id": "5d8f8aca",
   "metadata": {
    "ExecuteTime": {
     "end_time": "2023-07-01T08:12:22.441377Z",
     "start_time": "2023-07-01T08:12:22.424423Z"
    }
   },
   "outputs": [
    {
     "name": "stdout",
     "output_type": "stream",
     "text": [
      "The largest element is: 10\n"
     ]
    }
   ],
   "source": [
    "def find_largest_element(lst):\n",
    "    if not lst:\n",
    "        return None\n",
    "\n",
    "    largest = lst[0]\n",
    "    for num in lst:\n",
    "        if num > largest:\n",
    "            largest = num\n",
    "\n",
    "    return largest\n",
    "\n",
    "numbers = [5, 10, 2, 8, 3]\n",
    "largest_num = find_largest_element(numbers)\n",
    "print(\"The largest element is:\", largest_num)"
   ]
  },
  {
   "cell_type": "markdown",
   "id": "6792a5a2",
   "metadata": {},
   "source": [
    "**Q4. Implement a function to count the occurrence of each element in a list.**"
   ]
  },
  {
   "cell_type": "code",
   "execution_count": 5,
   "id": "19d2d300",
   "metadata": {
    "ExecuteTime": {
     "end_time": "2023-07-01T08:13:03.852009Z",
     "start_time": "2023-07-01T08:13:03.845026Z"
    }
   },
   "outputs": [
    {
     "name": "stdout",
     "output_type": "stream",
     "text": [
      "Element occurrences: {1: 2, 2: 2, 3: 2, 4: 3, 5: 1}\n"
     ]
    }
   ],
   "source": [
    "def count_occurrences(lst):\n",
    "    counts = {}\n",
    "    for item in lst:\n",
    "        if item in counts:\n",
    "            counts[item] += 1\n",
    "        else:\n",
    "            counts[item] = 1\n",
    "    return counts\n",
    "\n",
    "numbers = [1, 2, 3, 2, 1, 3, 4, 5, 4, 4]\n",
    "occurrences = count_occurrences(numbers)\n",
    "print(\"Element occurrences:\", occurrences)"
   ]
  },
  {
   "cell_type": "markdown",
   "id": "38e71304",
   "metadata": {},
   "source": [
    "**Q5. Write a Python program to find the second largest number in a list.**"
   ]
  },
  {
   "cell_type": "code",
   "execution_count": 6,
   "id": "3f2ce772",
   "metadata": {
    "ExecuteTime": {
     "end_time": "2023-07-01T08:13:44.056662Z",
     "start_time": "2023-07-01T08:13:44.045686Z"
    }
   },
   "outputs": [
    {
     "name": "stdout",
     "output_type": "stream",
     "text": [
      "Second largest number : 8\n"
     ]
    }
   ],
   "source": [
    "def find_second_largest(lst):\n",
    "    if len(lst) < 2:\n",
    "        return None\n",
    "\n",
    "    largest = float('-inf')\n",
    "    second_largest = float('-inf')\n",
    "\n",
    "    for num in lst:\n",
    "        if num > largest:\n",
    "            second_largest = largest\n",
    "            largest = num\n",
    "        elif num > second_largest and num != largest:\n",
    "            second_largest = num\n",
    "\n",
    "    if second_largest == float('-inf'):\n",
    "        return None\n",
    "    else:\n",
    "        return second_largest\n",
    "\n",
    "numbers = [5, 2, 7, 9, 1, 6, 3, 8]\n",
    "second_largest = find_second_largest(numbers)\n",
    "print(\"Second largest number :\", second_largest)"
   ]
  },
  {
   "cell_type": "markdown",
   "id": "4d47cb36",
   "metadata": {},
   "source": [
    "**Q6. Implement a function to remove duplicate elements from a list.**"
   ]
  },
  {
   "cell_type": "code",
   "execution_count": 7,
   "id": "adac0155",
   "metadata": {
    "ExecuteTime": {
     "end_time": "2023-07-01T08:14:16.960106Z",
     "start_time": "2023-07-01T08:14:16.938167Z"
    }
   },
   "outputs": [
    {
     "name": "stdout",
     "output_type": "stream",
     "text": [
      "Unique numbers: [1, 2, 3, 4, 5, 6]\n"
     ]
    }
   ],
   "source": [
    "def remove_duplicates(lst):\n",
    "    return list(set(lst))\n",
    "\n",
    "numbers = [1, 2, 3, 2, 4, 1, 5, 6, 5]\n",
    "unique_numbers = remove_duplicates(numbers)\n",
    "print(\"Unique numbers:\", unique_numbers)"
   ]
  },
  {
   "cell_type": "markdown",
   "id": "0e97963c",
   "metadata": {},
   "source": [
    "**Q7. Write a program to calculate the factorial of a given number.**"
   ]
  },
  {
   "cell_type": "code",
   "execution_count": 8,
   "id": "71abc724",
   "metadata": {
    "ExecuteTime": {
     "end_time": "2023-07-01T08:15:57.347533Z",
     "start_time": "2023-07-01T08:15:57.328582Z"
    }
   },
   "outputs": [
    {
     "name": "stdout",
     "output_type": "stream",
     "text": [
      "Factorial of 5 is 120\n"
     ]
    }
   ],
   "source": [
    "def factorial(n):\n",
    "    if n == 0:\n",
    "        return 1\n",
    "    else:\n",
    "        return n * factorial(n - 1)\n",
    "\n",
    "number = 5\n",
    "result = factorial(number)\n",
    "print(\"Factorial of\", number, \"is\", result)"
   ]
  },
  {
   "cell_type": "markdown",
   "id": "c6c73451",
   "metadata": {},
   "source": [
    "**Q8. Implement a function to check if a given number is prime.**"
   ]
  },
  {
   "cell_type": "code",
   "execution_count": 9,
   "id": "dd8e029d",
   "metadata": {
    "ExecuteTime": {
     "end_time": "2023-07-01T08:16:39.273323Z",
     "start_time": "2023-07-01T08:16:39.254373Z"
    }
   },
   "outputs": [
    {
     "name": "stdout",
     "output_type": "stream",
     "text": [
      "17 is prime: True\n",
      "20 is prime: False\n"
     ]
    }
   ],
   "source": [
    "def is_prime(n):\n",
    "    if n <= 1:\n",
    "        return False\n",
    "    elif n == 2:\n",
    "        return True\n",
    "    else:\n",
    "        for i in range(2, int(n**0.5) + 1):\n",
    "            if n % i == 0:\n",
    "                return False\n",
    "        return True\n",
    "\n",
    "number1 = 17\n",
    "print(number1, \"is prime:\", is_prime(number1))\n",
    "\n",
    "number2 = 20\n",
    "print(number2, \"is prime:\", is_prime(number2))"
   ]
  },
  {
   "cell_type": "markdown",
   "id": "e88e357f",
   "metadata": {},
   "source": [
    "**Q9. Write a Python program to sort a list of integers in ascending order.** "
   ]
  },
  {
   "cell_type": "code",
   "execution_count": 10,
   "id": "ee2279f9",
   "metadata": {
    "ExecuteTime": {
     "end_time": "2023-07-01T08:17:30.574469Z",
     "start_time": "2023-07-01T08:17:30.567488Z"
    }
   },
   "outputs": [
    {
     "name": "stdout",
     "output_type": "stream",
     "text": [
      "[1, 2, 3, 5, 8, 9]\n"
     ]
    }
   ],
   "source": [
    "def sort_list_ascending(nums):\n",
    "    nums.sort()\n",
    "    return nums\n",
    "\n",
    "numbers = [5, 2, 8, 1, 9, 3]\n",
    "sorted_numbers = sort_list_ascending(numbers)\n",
    "print(sorted_numbers)"
   ]
  },
  {
   "cell_type": "markdown",
   "id": "73e5b310",
   "metadata": {},
   "source": [
    "**Q10. Implement a function to find the sum of all numbers in a list.**"
   ]
  },
  {
   "cell_type": "code",
   "execution_count": 11,
   "id": "dd4b51cf",
   "metadata": {
    "ExecuteTime": {
     "end_time": "2023-07-01T08:18:01.181713Z",
     "start_time": "2023-07-01T08:18:01.162765Z"
    }
   },
   "outputs": [
    {
     "name": "stdout",
     "output_type": "stream",
     "text": [
      "15\n"
     ]
    }
   ],
   "source": [
    "def sum_of_list(numbers):\n",
    "    total = 0\n",
    "    for num in numbers:\n",
    "        total += num\n",
    "    return total\n",
    "\n",
    "my_list = [1, 2, 3, 4, 5]\n",
    "result = sum_of_list(my_list)\n",
    "print(result)"
   ]
  },
  {
   "cell_type": "markdown",
   "id": "b0959947",
   "metadata": {},
   "source": [
    "**Q11. Write a program to find the common elements between two lists.**"
   ]
  },
  {
   "cell_type": "code",
   "execution_count": 12,
   "id": "536d95f6",
   "metadata": {
    "ExecuteTime": {
     "end_time": "2023-07-01T08:18:44.308087Z",
     "start_time": "2023-07-01T08:18:44.289136Z"
    }
   },
   "outputs": [
    {
     "name": "stdout",
     "output_type": "stream",
     "text": [
      "[4, 5]\n"
     ]
    }
   ],
   "source": [
    "def find_common_elements(list1, list2):\n",
    "    common_elements = []\n",
    "    for item in list1:\n",
    "        if item in list2 and item not in common_elements:\n",
    "            common_elements.append(item)\n",
    "    return common_elements\n",
    "\n",
    "list1 = [1, 2, 3, 4, 5]\n",
    "list2 = [4, 5, 6, 7, 8]\n",
    "common_elements = find_common_elements(list1, list2)\n",
    "print(common_elements)"
   ]
  },
  {
   "cell_type": "markdown",
   "id": "ee085dab",
   "metadata": {},
   "source": [
    "**Q12. Implement a function to check if a given string is an anagram of another string.**"
   ]
  },
  {
   "cell_type": "code",
   "execution_count": 13,
   "id": "c5c99d15",
   "metadata": {
    "ExecuteTime": {
     "end_time": "2023-07-01T08:19:28.658395Z",
     "start_time": "2023-07-01T08:19:28.639445Z"
    }
   },
   "outputs": [
    {
     "name": "stdout",
     "output_type": "stream",
     "text": [
      "listen and silent are anagrams.\n"
     ]
    }
   ],
   "source": [
    "def is_anagram(str1, str2):\n",
    "    # Convert both strings to lowercase and remove spaces\n",
    "    str1 = str1.lower().replace(\" \", \"\")\n",
    "    str2 = str2.lower().replace(\" \", \"\")\n",
    "\n",
    "    # Check if the lengths of the strings are equal\n",
    "    if len(str1) != len(str2):\n",
    "        return False\n",
    "\n",
    "    # Create character frequency dictionaries for both strings\n",
    "    freq1 = {}\n",
    "    freq2 = {}\n",
    "    for char in str1:\n",
    "        freq1[char] = freq1.get(char, 0) + 1\n",
    "    for char in str2:\n",
    "        freq2[char] = freq2.get(char, 0) + 1\n",
    "\n",
    "    # Compare the character frequencies\n",
    "    if freq1 == freq2:\n",
    "        return True\n",
    "    else:\n",
    "        return False\n",
    "\n",
    "string1 = \"listen\"\n",
    "string2 = \"silent\"\n",
    "if is_anagram(string1, string2):\n",
    "    print(f\"{string1} and {string2} are anagrams.\")\n",
    "else:\n",
    "    print(f\"{string1} and {string2} are not anagrams.\")"
   ]
  },
  {
   "cell_type": "markdown",
   "id": "52ec9edf",
   "metadata": {},
   "source": [
    "**Q13. Write a Python program to generate all permutations of a given string.**"
   ]
  },
  {
   "cell_type": "code",
   "execution_count": 14,
   "id": "7be35487",
   "metadata": {
    "ExecuteTime": {
     "end_time": "2023-07-01T08:20:05.470424Z",
     "start_time": "2023-07-01T08:20:05.448481Z"
    }
   },
   "outputs": [
    {
     "name": "stdout",
     "output_type": "stream",
     "text": [
      "abc\n",
      "acb\n",
      "bac\n",
      "bca\n",
      "cab\n",
      "cba\n"
     ]
    }
   ],
   "source": [
    "def generate_permutations(string):\n",
    "    # Base case: If the string has only one character, return it as a single-element list\n",
    "    if len(string) == 1:\n",
    "        return [string]\n",
    "\n",
    "    # Recursive case: Generate permutations by inserting the first character at all possible positions\n",
    "    permutations = []\n",
    "    for i in range(len(string)):\n",
    "        # Take the first character\n",
    "        char = string[i]\n",
    "\n",
    "        # Generate permutations of the remaining characters\n",
    "        remaining_chars = string[:i] + string[i+1:]\n",
    "        sub_permutations = generate_permutations(remaining_chars)\n",
    "\n",
    "        # Append the first character to each permutation of the remaining characters\n",
    "        for sub_permutation in sub_permutations:\n",
    "            permutations.append(char + sub_permutation)\n",
    "\n",
    "    return permutations\n",
    "\n",
    "input_string = \"abc\"\n",
    "permutations = generate_permutations(input_string)\n",
    "for permutation in permutations:\n",
    "    print(permutation)"
   ]
  },
  {
   "cell_type": "markdown",
   "id": "d5aa1377",
   "metadata": {},
   "source": [
    "**Q14. Implement a function to calculate the Fibonacci sequence up to a given number of terms.**"
   ]
  },
  {
   "cell_type": "code",
   "execution_count": 15,
   "id": "adcce8a3",
   "metadata": {
    "ExecuteTime": {
     "end_time": "2023-07-01T08:20:50.804846Z",
     "start_time": "2023-07-01T08:20:50.794872Z"
    }
   },
   "outputs": [
    {
     "name": "stdout",
     "output_type": "stream",
     "text": [
      "[0, 1, 1, 2, 3, 5, 8, 13, 21, 34]\n"
     ]
    }
   ],
   "source": [
    "def fibonacci(n):\n",
    "    # Check if the number of terms is less than or equal to 0\n",
    "    if n <= 0:\n",
    "        return []\n",
    "\n",
    "    # Initialize the first two terms of the sequence\n",
    "    sequence = [0, 1]\n",
    "\n",
    "    # Generate the Fibonacci sequence\n",
    "    while len(sequence) < n:\n",
    "        # Calculate the next term by adding the previous two terms\n",
    "        next_term = sequence[-1] + sequence[-2]\n",
    "        sequence.append(next_term)\n",
    "\n",
    "    return sequence\n",
    "\n",
    "num_terms = 10\n",
    "fib_sequence = fibonacci(num_terms)\n",
    "print(fib_sequence)"
   ]
  },
  {
   "cell_type": "markdown",
   "id": "b58edf15",
   "metadata": {},
   "source": [
    "**Q15. Write a program to find the median of a list of numbers.**"
   ]
  },
  {
   "cell_type": "code",
   "execution_count": 16,
   "id": "57cfaba1",
   "metadata": {
    "ExecuteTime": {
     "end_time": "2023-07-01T08:21:28.939861Z",
     "start_time": "2023-07-01T08:21:28.918923Z"
    }
   },
   "outputs": [
    {
     "name": "stdout",
     "output_type": "stream",
     "text": [
      "Median : 4.5\n"
     ]
    }
   ],
   "source": [
    "def find_median(numbers):\n",
    "    # Sort the list in ascending order\n",
    "    sorted_numbers = sorted(numbers)\n",
    "\n",
    "    # Check if the list has an odd number of elements\n",
    "    if len(sorted_numbers) % 2 == 1:\n",
    "        # Return the middle element\n",
    "        median = sorted_numbers[len(sorted_numbers) // 2]\n",
    "    else:\n",
    "        # Calculate the average of the two middle elements\n",
    "        mid1 = sorted_numbers[len(sorted_numbers) // 2 - 1]\n",
    "        mid2 = sorted_numbers[len(sorted_numbers) // 2]\n",
    "        median = (mid1 + mid2) / 2\n",
    "\n",
    "    return median\n",
    "\n",
    "num_list = [7, 2, 5, 1, 8, 4, 3, 6]\n",
    "median_value = find_median(num_list)\n",
    "print(\"Median :\", median_value)"
   ]
  },
  {
   "cell_type": "markdown",
   "id": "a3dd1e61",
   "metadata": {},
   "source": [
    "**Q16. Implement a function to check if a given list is sorted in non-decreasing order.**"
   ]
  },
  {
   "cell_type": "code",
   "execution_count": 17,
   "id": "c336b971",
   "metadata": {
    "ExecuteTime": {
     "end_time": "2023-07-01T08:52:48.110705Z",
     "start_time": "2023-07-01T08:52:48.094746Z"
    }
   },
   "outputs": [
    {
     "name": "stdout",
     "output_type": "stream",
     "text": [
      "True\n",
      "False\n",
      "True\n"
     ]
    }
   ],
   "source": [
    "def is_sorted_non_decreasing(nums):\n",
    "    for i in range(1, len(nums)):\n",
    "        if nums[i] < nums[i - 1]:\n",
    "            return False\n",
    "    return True\n",
    "\n",
    "print(is_sorted_non_decreasing([1, 2, 3, 4, 5])) \n",
    "print(is_sorted_non_decreasing([1, 2, 3, 5, 4])) \n",
    "print(is_sorted_non_decreasing([2, 2, 3, 3, 4]))"
   ]
  },
  {
   "cell_type": "markdown",
   "id": "62c573f8",
   "metadata": {},
   "source": [
    "**Q17. Write a Python program to find the intersection of two lists.**"
   ]
  },
  {
   "cell_type": "code",
   "execution_count": 18,
   "id": "5e04a051",
   "metadata": {
    "ExecuteTime": {
     "end_time": "2023-07-01T08:53:25.109173Z",
     "start_time": "2023-07-01T08:53:25.094213Z"
    }
   },
   "outputs": [
    {
     "name": "stdout",
     "output_type": "stream",
     "text": [
      "[4, 5]\n"
     ]
    }
   ],
   "source": [
    "def find_intersection(list1, list2):\n",
    "    intersection = []\n",
    "    for item in list1:\n",
    "        if item in list2:\n",
    "            intersection.append(item)\n",
    "    return intersection\n",
    "\n",
    "list1 = [1, 2, 3, 4, 5]\n",
    "list2 = [4, 5, 6, 7, 8]\n",
    "print(find_intersection(list1, list2)) "
   ]
  },
  {
   "cell_type": "markdown",
   "id": "9244ab41",
   "metadata": {},
   "source": [
    "**Q18. Implement a function to find the maximum subarray sum in a given list.**"
   ]
  },
  {
   "cell_type": "code",
   "execution_count": 19,
   "id": "357cd53f",
   "metadata": {
    "ExecuteTime": {
     "end_time": "2023-07-01T08:54:02.463490Z",
     "start_time": "2023-07-01T08:54:02.449528Z"
    }
   },
   "outputs": [
    {
     "name": "stdout",
     "output_type": "stream",
     "text": [
      "6\n"
     ]
    }
   ],
   "source": [
    "def max_subarray_sum(nums):\n",
    "    max_sum = float('-inf')  # Initialize the maximum sum to negative infinity\n",
    "    curr_sum = 0  # Initialize the current sum to 0\n",
    "\n",
    "    for num in nums:\n",
    "        curr_sum = max(num, curr_sum + num)  # Choose the maximum between the current number and adding it to the current sum\n",
    "        max_sum = max(max_sum, curr_sum)  # Update the maximum sum if the current sum is greater\n",
    "\n",
    "    return max_sum\n",
    "\n",
    "nums = [-2, 1, -3, 4, -1, 2, 1, -5, 4]\n",
    "print(max_subarray_sum(nums))"
   ]
  },
  {
   "cell_type": "markdown",
   "id": "b23686fd",
   "metadata": {},
   "source": [
    "**Q19. Write a program to remove all vowels from a given string.**"
   ]
  },
  {
   "cell_type": "code",
   "execution_count": 20,
   "id": "4492c80a",
   "metadata": {
    "ExecuteTime": {
     "end_time": "2023-07-01T08:54:49.020318Z",
     "start_time": "2023-07-01T08:54:49.009345Z"
    }
   },
   "outputs": [
    {
     "name": "stdout",
     "output_type": "stream",
     "text": [
      "Hll, Wrld!\n"
     ]
    }
   ],
   "source": [
    "def remove_vowels(string):\n",
    "    vowels = 'aeiouAEIOU'\n",
    "    return ''.join(char for char in string if char not in vowels)\n",
    "\n",
    "string = \"Hello, World!\"\n",
    "result = remove_vowels(string)\n",
    "print(result) "
   ]
  },
  {
   "cell_type": "markdown",
   "id": "e3ee2821",
   "metadata": {},
   "source": [
    "**Q20. Implement a function to reverse the order of words in a given sentence.**"
   ]
  },
  {
   "cell_type": "code",
   "execution_count": 21,
   "id": "553138f4",
   "metadata": {
    "ExecuteTime": {
     "end_time": "2023-07-01T08:55:22.222782Z",
     "start_time": "2023-07-01T08:55:22.211812Z"
    }
   },
   "outputs": [
    {
     "name": "stdout",
     "output_type": "stream",
     "text": [
      "you? are how Hello,\n"
     ]
    }
   ],
   "source": [
    "def reverse_sentence(sentence):\n",
    "    words = sentence.split()  # Split the sentence into a list of words\n",
    "    reversed_words = words[::-1]  # Reverse the order of words\n",
    "    reversed_sentence = ' '.join(reversed_words)  # Join the reversed words back into a sentence\n",
    "\n",
    "sentence = \"Hello, how are you?\"\n",
    "reversed_sentence = reverse_sentence(sentence)\n",
    "print(reversed_sentence) "
   ]
  },
  {
   "cell_type": "markdown",
   "id": "c1424095",
   "metadata": {},
   "source": [
    "**Q21. Write a Python program to check if two strings are anagrams of each other.**"
   ]
  },
  {
   "cell_type": "code",
   "execution_count": 22,
   "id": "07221ea0",
   "metadata": {
    "ExecuteTime": {
     "end_time": "2023-07-01T08:56:12.301530Z",
     "start_time": "2023-07-01T08:56:12.273605Z"
    }
   },
   "outputs": [
    {
     "name": "stdout",
     "output_type": "stream",
     "text": [
      "True\n",
      "False\n"
     ]
    }
   ],
   "source": [
    "def are_anagrams(str1, str2):\n",
    "    # Convert strings to lowercase and remove spaces\n",
    "    str1 = str1.lower().replace(\" \", \"\")\n",
    "    str2 = str2.lower().replace(\" \", \"\")\n",
    "\n",
    "    # Check if the lengths of the strings are different\n",
    "    if len(str1) != len(str2):\n",
    "        return False\n",
    "\n",
    "    # Count the frequency of each character in both strings\n",
    "    char_count = {}\n",
    "    for char in str1:\n",
    "        if char in char_count:\n",
    "            char_count[char] += 1\n",
    "        else:\n",
    "            char_count[char] = 1\n",
    "\n",
    "    # Decrement the frequency for each character in the second string\n",
    "    for char in str2:\n",
    "        if char in char_count:\n",
    "            char_count[char] -= 1\n",
    "        else:\n",
    "            return False\n",
    "\n",
    "    # Check if all character frequencies are zero\n",
    "    for count in char_count.values():\n",
    "        if count != 0:\n",
    "            return False\n",
    "\n",
    "    return True\n",
    "\n",
    "str1 = \"listen\"\n",
    "str2 = \"silent\"\n",
    "print(are_anagrams(str1, str2))\n",
    "\n",
    "str3 = \"hello\"\n",
    "str4 = \"world\"\n",
    "print(are_anagrams(str3, str4))"
   ]
  },
  {
   "cell_type": "markdown",
   "id": "1496f8b1",
   "metadata": {},
   "source": [
    "**Q22. Implement a function to find the first non-repeating character in a string.**"
   ]
  },
  {
   "cell_type": "code",
   "execution_count": 23,
   "id": "0978cc18",
   "metadata": {
    "ExecuteTime": {
     "end_time": "2023-07-01T08:57:08.371145Z",
     "start_time": "2023-07-01T08:57:08.360172Z"
    }
   },
   "outputs": [
    {
     "name": "stdout",
     "output_type": "stream",
     "text": [
      "b\n"
     ]
    }
   ],
   "source": [
    "def first_non_repeating_char(string):\n",
    "    char_count = {}\n",
    "\n",
    "    # Count the frequency of each character\n",
    "    for char in string:\n",
    "        if char in char_count:\n",
    "            char_count[char] += 1\n",
    "        else:\n",
    "            char_count[char] = 1\n",
    "\n",
    "    # Find the first non-repeating character\n",
    "    for char in string:\n",
    "        if char_count[char] == 1:\n",
    "            return char\n",
    "\n",
    "    # If no non-repeating character is found, return None\n",
    "    return None\n",
    "\n",
    "string = \"aabccdeff\"\n",
    "result = first_non_repeating_char(string)\n",
    "print(result) "
   ]
  },
  {
   "cell_type": "markdown",
   "id": "f59aafbf",
   "metadata": {},
   "source": [
    "**Q23. Write a program to find the prime factors of a given number.**"
   ]
  },
  {
   "cell_type": "code",
   "execution_count": 24,
   "id": "e8792871",
   "metadata": {
    "ExecuteTime": {
     "end_time": "2023-07-01T08:58:15.706343Z",
     "start_time": "2023-07-01T08:58:15.693378Z"
    }
   },
   "outputs": [
    {
     "name": "stdout",
     "output_type": "stream",
     "text": [
      "[2, 2, 3, 7]\n"
     ]
    }
   ],
   "source": [
    "def prime_factors(n):\n",
    "    factors = []\n",
    "    divisor = 2\n",
    "\n",
    "    while divisor <= n:\n",
    "        if n % divisor == 0:\n",
    "            factors.append(divisor)\n",
    "            n = n / divisor\n",
    "        else:\n",
    "            divisor += 1\n",
    "\n",
    "    return factors\n",
    "\n",
    "number = 84\n",
    "result = prime_factors(number)\n",
    "print(result) "
   ]
  },
  {
   "cell_type": "markdown",
   "id": "25d2a767",
   "metadata": {},
   "source": [
    "**Q24. Implement a function to check if a given number is a power of two.**"
   ]
  },
  {
   "cell_type": "code",
   "execution_count": 25,
   "id": "8878685f",
   "metadata": {
    "ExecuteTime": {
     "end_time": "2023-07-01T09:01:05.511355Z",
     "start_time": "2023-07-01T09:01:05.489415Z"
    }
   },
   "outputs": [
    {
     "name": "stdout",
     "output_type": "stream",
     "text": [
      "True\n",
      "False\n",
      "True\n",
      "False\n"
     ]
    }
   ],
   "source": [
    "def is_power_of_two(n):\n",
    "    if n <= 0:\n",
    "        return False\n",
    "    return n & (n - 1) == 0\n",
    "\n",
    "print(is_power_of_two(8))  \n",
    "print(is_power_of_two(10))\n",
    "print(is_power_of_two(16)) \n",
    "print(is_power_of_two(0)) "
   ]
  },
  {
   "cell_type": "markdown",
   "id": "d08d6568",
   "metadata": {},
   "source": [
    "**Q25. Write a Python program to merge two sorted lists into a single sorted list.**"
   ]
  },
  {
   "cell_type": "code",
   "execution_count": 26,
   "id": "425cbd8b",
   "metadata": {
    "ExecuteTime": {
     "end_time": "2023-07-01T09:01:58.463384Z",
     "start_time": "2023-07-01T09:01:58.440444Z"
    }
   },
   "outputs": [
    {
     "name": "stdout",
     "output_type": "stream",
     "text": [
      "[1, 2, 3, 4, 5, 6, 7, 8, 9, 10]\n"
     ]
    }
   ],
   "source": [
    "def merge_sorted_lists(lst1, lst2):\n",
    "    merged_list = []\n",
    "    i = j = 0\n",
    "\n",
    "    while i < len(lst1) and j < len(lst2):\n",
    "        if lst1[i] <= lst2[j]:\n",
    "            merged_list.append(lst1[i])\n",
    "            i += 1\n",
    "        else:\n",
    "            merged_list.append(lst2[j])\n",
    "            j += 1\n",
    "\n",
    "    # Append the remaining elements from lst1, if any\n",
    "    while i < len(lst1):\n",
    "        merged_list.append(lst1[i])\n",
    "        i += 1\n",
    "\n",
    "    # Append the remaining elements from lst2, if any\n",
    "    while j < len(lst2):\n",
    "        merged_list.append(lst2[j])\n",
    "        j += 1\n",
    "\n",
    "    return merged_list\n",
    "\n",
    "\n",
    "list1 = [1, 3, 5, 7, 9]\n",
    "list2 = [2, 4, 6, 8, 10]\n",
    "\n",
    "merged = merge_sorted_lists(list1, list2)\n",
    "print(merged)"
   ]
  },
  {
   "cell_type": "markdown",
   "id": "334c5759",
   "metadata": {},
   "source": [
    "**Q26. Implement a function to find the mode of a list of numbers.**"
   ]
  },
  {
   "cell_type": "code",
   "execution_count": 27,
   "id": "0c74eb13",
   "metadata": {
    "ExecuteTime": {
     "end_time": "2023-07-01T09:02:36.927751Z",
     "start_time": "2023-07-01T09:02:36.906813Z"
    }
   },
   "outputs": [
    {
     "name": "stdout",
     "output_type": "stream",
     "text": [
      "[2]\n"
     ]
    }
   ],
   "source": [
    "def find_mode(nums):\n",
    "    frequency = {}\n",
    "    mode = []\n",
    "    max_freq = 0\n",
    "\n",
    "    # Count the frequency of each number\n",
    "    for num in nums:\n",
    "        if num in frequency:\n",
    "            frequency[num] += 1\n",
    "        else:\n",
    "            frequency[num] = 1\n",
    "\n",
    "        # Update max_freq if necessary\n",
    "        if frequency[num] > max_freq:\n",
    "            max_freq = frequency[num]\n",
    "\n",
    "    # Find numbers with maximum frequency (mode)\n",
    "    for num in frequency:\n",
    "        if frequency[num] == max_freq:\n",
    "            mode.append(num)\n",
    "\n",
    "    return mode\n",
    "\n",
    "numbers = [1, 2, 3, 2, 4, 3, 5, 2, 6, 2, 4, 7, 2]\n",
    "mode = find_mode(numbers)\n",
    "print(mode)"
   ]
  },
  {
   "cell_type": "markdown",
   "id": "1d0e045d",
   "metadata": {},
   "source": [
    "**Q27. Write a program to find the greatest common divisor (GCD) of two numbers.**"
   ]
  },
  {
   "cell_type": "code",
   "execution_count": 28,
   "id": "62b3aa1e",
   "metadata": {
    "ExecuteTime": {
     "end_time": "2023-07-01T09:03:13.083496Z",
     "start_time": "2023-07-01T09:03:13.064549Z"
    }
   },
   "outputs": [
    {
     "name": "stdout",
     "output_type": "stream",
     "text": [
      "12\n"
     ]
    }
   ],
   "source": [
    "def gcd(a, b):\n",
    "    while b != 0:\n",
    "        a, b = b, a % b\n",
    "    return a\n",
    "\n",
    "num1 = 24\n",
    "num2 = 36\n",
    "result = gcd(num1, num2)\n",
    "print(result) "
   ]
  },
  {
   "cell_type": "markdown",
   "id": "f06e3650",
   "metadata": {},
   "source": [
    "**Q28. Implement a function to calculate the square root of a given number.**"
   ]
  },
  {
   "cell_type": "code",
   "execution_count": 32,
   "id": "e0e14593",
   "metadata": {
    "ExecuteTime": {
     "end_time": "2023-07-01T09:04:51.651513Z",
     "start_time": "2023-07-01T09:04:51.639545Z"
    }
   },
   "outputs": [
    {
     "name": "stdout",
     "output_type": "stream",
     "text": [
      "4.000000000000051\n"
     ]
    }
   ],
   "source": [
    "def square_root(n):\n",
    "    if n < 0:\n",
    "        raise ValueError(\"Square root is not defined for negative numbers\")\n",
    "    \n",
    "    if n == 0:\n",
    "        return 0\n",
    "    \n",
    "    x = n  # Initial guess for square root\n",
    "    \n",
    "    while True:\n",
    "        y = (x + n / x) / 2\n",
    "        if abs(y - x) < 1e-10:\n",
    "            break\n",
    "        x = y\n",
    "    \n",
    "    return x\n",
    "\n",
    "number = 16\n",
    "result = square_root(number)\n",
    "print(result)"
   ]
  },
  {
   "cell_type": "markdown",
   "id": "430fabeb",
   "metadata": {},
   "source": [
    "**Q29. Write a Python program to check if a given string is a valid palindrome ignoring non-alphanumeric characters.**"
   ]
  },
  {
   "cell_type": "code",
   "execution_count": 33,
   "id": "94c2f05d",
   "metadata": {
    "ExecuteTime": {
     "end_time": "2023-07-01T09:05:31.724993Z",
     "start_time": "2023-07-01T09:05:31.714022Z"
    }
   },
   "outputs": [
    {
     "name": "stdout",
     "output_type": "stream",
     "text": [
      "True\n"
     ]
    }
   ],
   "source": [
    "import re\n",
    "\n",
    "def is_valid_palindrome(s):\n",
    "    # Remove non-alphanumeric characters and convert to lowercase\n",
    "    s = re.sub(r'[^a-zA-Z0-9]', '', s).lower()\n",
    "\n",
    "    # Check if the string is equal to its reverse\n",
    "    return s == s[::-1]\n",
    "\n",
    "string = \"A man, a plan, a canal: Panama.\"\n",
    "result = is_valid_palindrome(string)\n",
    "print(result) "
   ]
  },
  {
   "cell_type": "markdown",
   "id": "b5afe15c",
   "metadata": {},
   "source": [
    "**Q30. Implement a function to find the minimum element in a rotated sorted list.**"
   ]
  },
  {
   "cell_type": "code",
   "execution_count": 34,
   "id": "1b46509c",
   "metadata": {
    "ExecuteTime": {
     "end_time": "2023-07-01T09:06:06.670286Z",
     "start_time": "2023-07-01T09:06:06.649341Z"
    }
   },
   "outputs": [
    {
     "name": "stdout",
     "output_type": "stream",
     "text": [
      "0\n"
     ]
    }
   ],
   "source": [
    "def find_minimum(nums):\n",
    "    left = 0\n",
    "    right = len(nums) - 1\n",
    "\n",
    "    while left < right:\n",
    "        mid = left + (right - left) // 2\n",
    "\n",
    "        if nums[mid] > nums[right]:\n",
    "            left = mid + 1\n",
    "        else:\n",
    "            right = mid\n",
    "\n",
    "    return nums[left]\n",
    "\n",
    "nums = [4, 5, 6, 7, 0, 1, 2]\n",
    "result = find_minimum(nums)\n",
    "print(result) "
   ]
  },
  {
   "cell_type": "markdown",
   "id": "159d46d0",
   "metadata": {},
   "source": [
    "**Q31. Write a program to find the sum of all even numbers in a list.**"
   ]
  },
  {
   "cell_type": "code",
   "execution_count": 35,
   "id": "f64f58f6",
   "metadata": {
    "ExecuteTime": {
     "end_time": "2023-07-01T09:06:45.895182Z",
     "start_time": "2023-07-01T09:06:45.886207Z"
    }
   },
   "outputs": [
    {
     "name": "stdout",
     "output_type": "stream",
     "text": [
      "30\n"
     ]
    }
   ],
   "source": [
    "def sum_even_numbers(nums):\n",
    "    total = 0\n",
    "\n",
    "    for num in nums:\n",
    "        if num % 2 == 0:\n",
    "            total += num\n",
    "\n",
    "    return total\n",
    "\n",
    "numbers = [1, 2, 3, 4, 5, 6, 7, 8, 9, 10]\n",
    "result = sum_even_numbers(numbers)\n",
    "print(result) "
   ]
  },
  {
   "cell_type": "markdown",
   "id": "a8284d57",
   "metadata": {},
   "source": [
    "**Q32. Implement a function to calculate the power of a number using recursion.**"
   ]
  },
  {
   "cell_type": "code",
   "execution_count": 36,
   "id": "af4ca5ea",
   "metadata": {
    "ExecuteTime": {
     "end_time": "2023-07-01T09:07:35.505685Z",
     "start_time": "2023-07-01T09:07:35.486741Z"
    }
   },
   "outputs": [
    {
     "name": "stdout",
     "output_type": "stream",
     "text": [
      "8\n"
     ]
    }
   ],
   "source": [
    "def power(base, exponent):\n",
    "    if exponent == 0:\n",
    "        return 1\n",
    "    elif exponent < 0:\n",
    "        return 1 / power(base, -exponent)\n",
    "    else:\n",
    "        return base * power(base, exponent - 1)\n",
    "\n",
    "result = power(2, 3)\n",
    "print(result) "
   ]
  },
  {
   "cell_type": "markdown",
   "id": "4016b18e",
   "metadata": {},
   "source": [
    "**Q33. Write a Python program to remove duplicates from a list while preserving the order.**"
   ]
  },
  {
   "cell_type": "code",
   "execution_count": 37,
   "id": "f45fe01c",
   "metadata": {
    "ExecuteTime": {
     "end_time": "2023-07-01T09:08:08.410229Z",
     "start_time": "2023-07-01T09:08:08.394273Z"
    }
   },
   "outputs": [
    {
     "name": "stdout",
     "output_type": "stream",
     "text": [
      "[1, 2, 3, 4, 5]\n"
     ]
    }
   ],
   "source": [
    "def remove_duplicates(lst):\n",
    "    seen = set()\n",
    "    return [x for x in lst if not (x in seen or seen.add(x))]\n",
    "\n",
    "lst = [1, 2, 3, 2, 4, 1, 5, 4]\n",
    "result = remove_duplicates(lst)\n",
    "print(result)"
   ]
  },
  {
   "cell_type": "markdown",
   "id": "798c748a",
   "metadata": {},
   "source": [
    "**Q34. Implement a function to find the longest common prefix among a list of strings.**"
   ]
  },
  {
   "cell_type": "code",
   "execution_count": 38,
   "id": "805d7386",
   "metadata": {
    "ExecuteTime": {
     "end_time": "2023-07-01T09:08:42.593290Z",
     "start_time": "2023-07-01T09:08:42.569356Z"
    }
   },
   "outputs": [
    {
     "name": "stdout",
     "output_type": "stream",
     "text": [
      "fl\n"
     ]
    }
   ],
   "source": [
    "def longest_common_prefix(strs):\n",
    "    if not strs:\n",
    "        return \"\"  # If the input list is empty, return an empty string\n",
    "\n",
    "    prefix = strs[0]  # Initialize the prefix with the first string in the list\n",
    "\n",
    "    for string in strs[1:]:\n",
    "        # Compare characters at each position until a mismatch is found or the prefix becomes empty\n",
    "        while not string.startswith(prefix):\n",
    "            prefix = prefix[:-1]  # Remove the last character from the prefix\n",
    "\n",
    "            if not prefix:\n",
    "                return \"\"  # If the prefix becomes empty, return an empty string\n",
    "\n",
    "    return prefix\n",
    "\n",
    "strings = [\"flower\", \"flow\", \"flight\"]\n",
    "result = longest_common_prefix(strings)\n",
    "print(result)"
   ]
  },
  {
   "cell_type": "markdown",
   "id": "97a60471",
   "metadata": {},
   "source": [
    "**Q35. Write a program to check if a given number is a perfect square.**"
   ]
  },
  {
   "cell_type": "code",
   "execution_count": 39,
   "id": "8c58aeda",
   "metadata": {
    "ExecuteTime": {
     "end_time": "2023-07-01T09:10:04.705771Z",
     "start_time": "2023-07-01T09:10:04.694801Z"
    }
   },
   "outputs": [
    {
     "name": "stdout",
     "output_type": "stream",
     "text": [
      "True\n"
     ]
    }
   ],
   "source": [
    "def is_perfect_square(num):\n",
    "    if num < 0:\n",
    "        return False  # Negative numbers are not perfect squares\n",
    "    if num == 0:\n",
    "        return True  # Zero is a perfect square\n",
    "\n",
    "    # Use binary search to find the square root of the number\n",
    "    left = 1\n",
    "    right = num\n",
    "\n",
    "    while left <= right:\n",
    "        mid = left + (right - left) // 2\n",
    "        square = mid * mid\n",
    "\n",
    "        if square == num:\n",
    "            return True\n",
    "        elif square < num:\n",
    "            left = mid + 1\n",
    "        else:\n",
    "            right = mid - 1\n",
    "\n",
    "    return False\n",
    "\n",
    "number = 16\n",
    "result = is_perfect_square(number)\n",
    "print(result)"
   ]
  },
  {
   "cell_type": "markdown",
   "id": "f550607c",
   "metadata": {},
   "source": [
    "**Q36. Implement a function to calculate the product of all elements in a list.**"
   ]
  },
  {
   "cell_type": "code",
   "execution_count": 40,
   "id": "92bf0f72",
   "metadata": {
    "ExecuteTime": {
     "end_time": "2023-07-01T09:10:58.502694Z",
     "start_time": "2023-07-01T09:10:58.493717Z"
    }
   },
   "outputs": [
    {
     "name": "stdout",
     "output_type": "stream",
     "text": [
      "120\n"
     ]
    }
   ],
   "source": [
    "def product_of_list(lst):\n",
    "    if len(lst) == 0:\n",
    "        return 1  # Empty list has a product of 1\n",
    "\n",
    "    product = 1\n",
    "    for num in lst:\n",
    "        product *= num\n",
    "\n",
    "    return product\n",
    "\n",
    "numbers = [2, 3, 4, 5]\n",
    "result = product_of_list(numbers)\n",
    "print(result) "
   ]
  },
  {
   "cell_type": "markdown",
   "id": "216b93dc",
   "metadata": {},
   "source": [
    "**Q37. Write a Python program to reverse the order of words in a sentence while preserving the word order.**"
   ]
  },
  {
   "cell_type": "code",
   "execution_count": 41,
   "id": "488c3669",
   "metadata": {
    "ExecuteTime": {
     "end_time": "2023-07-01T09:11:39.960783Z",
     "start_time": "2023-07-01T09:11:39.948826Z"
    }
   },
   "outputs": [
    {
     "name": "stdout",
     "output_type": "stream",
     "text": [
      "you? are how world, Hello\n"
     ]
    }
   ],
   "source": [
    "def reverse_words(sentence):\n",
    "    # Split the sentence into individual words\n",
    "    words = sentence.split()\n",
    "\n",
    "    # Reverse the order of words\n",
    "    reversed_words = words[::-1]\n",
    "\n",
    "    # Join the reversed words back into a sentence\n",
    "    reversed_sentence = ' '.join(reversed_words)\n",
    "\n",
    "    return reversed_sentence\n",
    "\n",
    "sentence = \"Hello world, how are you?\"\n",
    "reversed_sentence = reverse_words(sentence)\n",
    "print(reversed_sentence) "
   ]
  },
  {
   "cell_type": "markdown",
   "id": "28e06267",
   "metadata": {},
   "source": [
    "**Q38. Implement a function to find the missing number in a given list of consecutive numbers.**"
   ]
  },
  {
   "cell_type": "code",
   "execution_count": 42,
   "id": "efa76eb5",
   "metadata": {
    "ExecuteTime": {
     "end_time": "2023-07-01T09:12:22.231742Z",
     "start_time": "2023-07-01T09:12:22.221769Z"
    }
   },
   "outputs": [
    {
     "name": "stdout",
     "output_type": "stream",
     "text": [
      "3\n"
     ]
    }
   ],
   "source": [
    "def find_missing_number(nums):\n",
    "    n = len(nums) + 1  # Total number of elements, including the missing one\n",
    "    expected_sum = n * (n + 1) // 2  # Expected sum of the consecutive numbers\n",
    "\n",
    "    actual_sum = sum(nums)  # Sum of the given list of numbers\n",
    "\n",
    "    missing_number = expected_sum - actual_sum  # Calculate the missing number\n",
    "\n",
    "    return missing_number\n",
    "\n",
    "nums = [1, 2, 4, 5, 6]\n",
    "missing_number = find_missing_number(nums)\n",
    "print(missing_number)"
   ]
  },
  {
   "cell_type": "markdown",
   "id": "f21b5caf",
   "metadata": {},
   "source": [
    "**Q39. Write a program to find the sum of digits of a given number.**"
   ]
  },
  {
   "cell_type": "code",
   "execution_count": 43,
   "id": "3c352852",
   "metadata": {
    "ExecuteTime": {
     "end_time": "2023-07-01T09:13:10.433458Z",
     "start_time": "2023-07-01T09:13:10.425480Z"
    }
   },
   "outputs": [
    {
     "name": "stdout",
     "output_type": "stream",
     "text": [
      "15\n"
     ]
    }
   ],
   "source": [
    "def sum_of_digits(number):\n",
    "    # Convert the number to a string\n",
    "    number_str = str(number)\n",
    "    \n",
    "    # Initialize the sum\n",
    "    digit_sum = 0\n",
    "    \n",
    "    # Iterate over each character in the string\n",
    "    for digit_char in number_str:\n",
    "        # Convert the character back to an integer\n",
    "        digit = int(digit_char)\n",
    "        \n",
    "        # Add the digit to the sum\n",
    "        digit_sum += digit\n",
    "    \n",
    "    # Return the sum of digits\n",
    "    return digit_sum\n",
    "\n",
    "\n",
    "number = 12345\n",
    "digit_sum = sum_of_digits(number)\n",
    "print(digit_sum) "
   ]
  },
  {
   "cell_type": "markdown",
   "id": "b81623c7",
   "metadata": {},
   "source": [
    "**Q40. Implement a function to check if a given string is a valid palindrome considering case sensitivity.**"
   ]
  },
  {
   "cell_type": "code",
   "execution_count": 44,
   "id": "f7d15536",
   "metadata": {
    "ExecuteTime": {
     "end_time": "2023-07-01T09:14:16.483949Z",
     "start_time": "2023-07-01T09:14:16.461011Z"
    }
   },
   "outputs": [
    {
     "name": "stdout",
     "output_type": "stream",
     "text": [
      "True\n",
      "True\n",
      "False\n"
     ]
    }
   ],
   "source": [
    "def is_valid_palindrome(string):\n",
    "    # Remove any non-alphanumeric characters and convert to lowercase\n",
    "    alphanumeric_string = ''.join(c.lower() for c in string if c.isalnum())\n",
    "    \n",
    "    # Check if the alphanumeric string is a palindrome\n",
    "    return alphanumeric_string == alphanumeric_string[::-1]\n",
    "\n",
    "string1 = \"A man, a plan, a canal: Panama\"\n",
    "string2 = \"racecar\"\n",
    "string3 = \"hello\"\n",
    "\n",
    "print(is_valid_palindrome(string1))  \n",
    "print(is_valid_palindrome(string2))  \n",
    "print(is_valid_palindrome(string3))  "
   ]
  },
  {
   "cell_type": "markdown",
   "id": "374fb51f",
   "metadata": {},
   "source": [
    "**Q41. Write a Python program to find the smallest missing positive integer in a list.**"
   ]
  },
  {
   "cell_type": "code",
   "execution_count": 45,
   "id": "ce2bb056",
   "metadata": {
    "ExecuteTime": {
     "end_time": "2023-07-01T09:15:01.478883Z",
     "start_time": "2023-07-01T09:15:01.459937Z"
    }
   },
   "outputs": [
    {
     "name": "stdout",
     "output_type": "stream",
     "text": [
      "2\n",
      "3\n",
      "1\n"
     ]
    }
   ],
   "source": [
    "def find_smallest_missing_positive(nums):\n",
    "    # Step 1: Move all positive integers to the left side of the list\n",
    "    n = len(nums)\n",
    "    left = 0\n",
    "    for i in range(n):\n",
    "        if nums[i] > 0:\n",
    "            nums[left], nums[i] = nums[i], nums[left]\n",
    "            left += 1\n",
    "\n",
    "    # Step 2: Mark the presence of each positive integer\n",
    "    for i in range(left):\n",
    "        num = abs(nums[i])\n",
    "        if num <= left:\n",
    "            nums[num - 1] = -abs(nums[num - 1])\n",
    "\n",
    "    # Step 3: Find the first missing positive integer\n",
    "    for i in range(left):\n",
    "        if nums[i] > 0:\n",
    "            return i + 1\n",
    "\n",
    "    # Step 4: If all positive integers from 1 to left are present, return left + 1\n",
    "    return left + 1\n",
    "\n",
    "nums = [3, 4, -1, 1]\n",
    "print(find_smallest_missing_positive(nums))\n",
    "\n",
    "nums = [1, 2, 0]\n",
    "print(find_smallest_missing_positive(nums))\n",
    "\n",
    "nums = [7, 8, 9, 11, 12]\n",
    "print(find_smallest_missing_positive(nums))  "
   ]
  },
  {
   "cell_type": "markdown",
   "id": "3001d75f",
   "metadata": {},
   "source": [
    "**Q42. Implement a function to find the longest palindrome substring in a given string.**"
   ]
  },
  {
   "cell_type": "code",
   "execution_count": 46,
   "id": "5c08bb1e",
   "metadata": {
    "ExecuteTime": {
     "end_time": "2023-07-01T09:15:53.278234Z",
     "start_time": "2023-07-01T09:15:53.250310Z"
    }
   },
   "outputs": [
    {
     "name": "stdout",
     "output_type": "stream",
     "text": [
      "bab\n",
      "bb\n",
      "a\n"
     ]
    }
   ],
   "source": [
    "def longest_palindrome(s):\n",
    "    if not s:\n",
    "        return \"\"\n",
    "\n",
    "    n = len(s)\n",
    "    start, end = 0, 0\n",
    "\n",
    "    def expand_around_center(left, right):\n",
    "        while left >= 0 and right < n and s[left] == s[right]:\n",
    "            left -= 1\n",
    "            right += 1\n",
    "        return left + 1, right - 1\n",
    "\n",
    "    for i in range(n):\n",
    "        left1, right1 = expand_around_center(i, i)  # Odd length palindrome\n",
    "        left2, right2 = expand_around_center(i, i + 1)  # Even length palindrome\n",
    "\n",
    "        if right1 - left1 > end - start:\n",
    "            start, end = left1, right1\n",
    "        if right2 - left2 > end - start:\n",
    "            start, end = left2, right2\n",
    "\n",
    "    return s[start : end + 1]\n",
    "\n",
    "s = \"babad\"\n",
    "print(longest_palindrome(s)) \n",
    "\n",
    "s = \"cbbd\"\n",
    "print(longest_palindrome(s))  \n",
    "\n",
    "s = \"a\"\n",
    "print(longest_palindrome(s)) "
   ]
  },
  {
   "cell_type": "markdown",
   "id": "f39bd05c",
   "metadata": {},
   "source": [
    "**Q43. Write a program to find the number of occurrences of a given element in a list.**"
   ]
  },
  {
   "cell_type": "code",
   "execution_count": 47,
   "id": "b6895e79",
   "metadata": {
    "ExecuteTime": {
     "end_time": "2023-07-01T09:16:38.338278Z",
     "start_time": "2023-07-01T09:16:38.327308Z"
    }
   },
   "outputs": [
    {
     "name": "stdout",
     "output_type": "stream",
     "text": [
      "3\n",
      "0\n"
     ]
    }
   ],
   "source": [
    "def count_occurrences(lst, element):\n",
    "    count = 0\n",
    "    for item in lst:\n",
    "        if item == element:\n",
    "            count += 1\n",
    "    return count\n",
    "\n",
    "\n",
    "lst = [1, 2, 3, 2, 4, 2, 5]\n",
    "element = 2\n",
    "print(count_occurrences(lst, element))\n",
    "\n",
    "lst = [1, 2, 3, 2, 4, 2, 5]\n",
    "element = 6\n",
    "print(count_occurrences(lst, element))  "
   ]
  },
  {
   "cell_type": "markdown",
   "id": "b269f1b0",
   "metadata": {},
   "source": [
    "**Q44. Implement a function to check if a given number is a perfect number.**"
   ]
  },
  {
   "cell_type": "code",
   "execution_count": 48,
   "id": "2a69b0b2",
   "metadata": {
    "ExecuteTime": {
     "end_time": "2023-07-01T09:17:30.584473Z",
     "start_time": "2023-07-01T09:17:30.565512Z"
    }
   },
   "outputs": [
    {
     "name": "stdout",
     "output_type": "stream",
     "text": [
      "True\n",
      "True\n",
      "False\n"
     ]
    }
   ],
   "source": [
    "def is_perfect_number(num):\n",
    "    if num <= 0:\n",
    "        return False\n",
    "\n",
    "    divisor_sum = 0\n",
    "    for i in range(1, num):\n",
    "        if num % i == 0:\n",
    "            divisor_sum += i\n",
    "\n",
    "    return divisor_sum == num\n",
    "\n",
    "print(is_perfect_number(6))  \n",
    "print(is_perfect_number(28)) \n",
    "print(is_perfect_number(12)) "
   ]
  },
  {
   "cell_type": "markdown",
   "id": "c467afc3",
   "metadata": {},
   "source": [
    "**Q45. Write a Python program to remove all duplicates from a string.**"
   ]
  },
  {
   "cell_type": "code",
   "execution_count": 49,
   "id": "c978d210",
   "metadata": {
    "ExecuteTime": {
     "end_time": "2023-07-01T09:18:17.779005Z",
     "start_time": "2023-07-01T09:18:17.757065Z"
    }
   },
   "outputs": [
    {
     "name": "stdout",
     "output_type": "stream",
     "text": [
      "Helo\n",
      "Progamin\n",
      "Python\n"
     ]
    }
   ],
   "source": [
    "def remove_duplicates(string):\n",
    "    unique_chars = []\n",
    "    result = \"\"\n",
    "\n",
    "    for char in string:\n",
    "        if char not in unique_chars:\n",
    "            unique_chars.append(char)\n",
    "            result += char\n",
    "\n",
    "    return result\n",
    "\n",
    "print(remove_duplicates(\"Hello\")) \n",
    "print(remove_duplicates(\"Programming\"))  \n",
    "print(remove_duplicates(\"Python\"))  "
   ]
  },
  {
   "cell_type": "markdown",
   "id": "d58dd4d4",
   "metadata": {},
   "source": [
    "**Q46. Implement a function to find the first missing positive**"
   ]
  },
  {
   "cell_type": "code",
   "execution_count": 50,
   "id": "0793b131",
   "metadata": {
    "ExecuteTime": {
     "end_time": "2023-07-01T09:19:04.664939Z",
     "start_time": "2023-07-01T09:19:04.643996Z"
    }
   },
   "outputs": [
    {
     "name": "stdout",
     "output_type": "stream",
     "text": [
      "2\n",
      "3\n",
      "1\n"
     ]
    }
   ],
   "source": [
    "def first_missing_positive(nums):\n",
    "    # Move all positive integers to the front\n",
    "    i = 0\n",
    "    while i < len(nums):\n",
    "        if nums[i] > 0 and nums[i] <= len(nums) and nums[nums[i] - 1] != nums[i]:\n",
    "            # Swap the number to its correct position\n",
    "            nums[nums[i] - 1], nums[i] = nums[i], nums[nums[i] - 1]\n",
    "        else:\n",
    "            i += 1\n",
    "\n",
    "    # Find the first missing positive integer\n",
    "    for i in range(len(nums)):\n",
    "        if nums[i] != i + 1:\n",
    "            return i + 1\n",
    "\n",
    "    return len(nums) + 1\n",
    "\n",
    "print(first_missing_positive([3, 4, -1, 1]))  \n",
    "print(first_missing_positive([1, 2, 0]))  \n",
    "print(first_missing_positive([7, 8, 9, 11, 12])) "
   ]
  }
 ],
 "metadata": {
  "kernelspec": {
   "display_name": "Python 3 (ipykernel)",
   "language": "python",
   "name": "python3"
  },
  "language_info": {
   "codemirror_mode": {
    "name": "ipython",
    "version": 3
   },
   "file_extension": ".py",
   "mimetype": "text/x-python",
   "name": "python",
   "nbconvert_exporter": "python",
   "pygments_lexer": "ipython3",
   "version": "3.9.12"
  },
  "latex_envs": {
   "LaTeX_envs_menu_present": true,
   "autoclose": false,
   "autocomplete": true,
   "bibliofile": "biblio.bib",
   "cite_by": "apalike",
   "current_citInitial": 1,
   "eqLabelWithNumbers": true,
   "eqNumInitial": 1,
   "hotkeys": {
    "equation": "Ctrl-E",
    "itemize": "Ctrl-I"
   },
   "labels_anchors": false,
   "latex_user_defs": false,
   "report_style_numbering": false,
   "user_envs_cfg": false
  },
  "nbTranslate": {
   "displayLangs": [
    "*"
   ],
   "hotkey": "alt-t",
   "langInMainMenu": true,
   "sourceLang": "en",
   "targetLang": "fr",
   "useGoogleTranslate": true
  },
  "toc": {
   "base_numbering": 1,
   "nav_menu": {},
   "number_sections": true,
   "sideBar": true,
   "skip_h1_title": false,
   "title_cell": "Table of Contents",
   "title_sidebar": "Contents",
   "toc_cell": false,
   "toc_position": {},
   "toc_section_display": true,
   "toc_window_display": false
  },
  "varInspector": {
   "cols": {
    "lenName": 16,
    "lenType": 16,
    "lenVar": 40
   },
   "kernels_config": {
    "python": {
     "delete_cmd_postfix": "",
     "delete_cmd_prefix": "del ",
     "library": "var_list.py",
     "varRefreshCmd": "print(var_dic_list())"
    },
    "r": {
     "delete_cmd_postfix": ") ",
     "delete_cmd_prefix": "rm(",
     "library": "var_list.r",
     "varRefreshCmd": "cat(var_dic_list()) "
    }
   },
   "types_to_exclude": [
    "module",
    "function",
    "builtin_function_or_method",
    "instance",
    "_Feature"
   ],
   "window_display": false
  }
 },
 "nbformat": 4,
 "nbformat_minor": 5
}
